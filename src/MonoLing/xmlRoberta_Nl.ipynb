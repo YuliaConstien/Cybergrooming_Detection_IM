{
  "cells": [
    {
      "cell_type": "code",
      "execution_count": null,
      "metadata": {
        "id": "Ye8ghrnBMlJr"
      },
      "outputs": [],
      "source": [
        "!pip install transformers\n",
        "# !pip install transformers==4.28.0"
      ]
    },
    {
      "cell_type": "code",
      "execution_count": null,
      "metadata": {
        "id": "nxVg07LLMx7i"
      },
      "outputs": [],
      "source": [
        "#install hugging face evaluate \n",
        "!pip install evaluate"
      ]
    },
    {
      "cell_type": "code",
      "source": [
        "#!pip uninstall -y transformers accelerate\n",
        "#!pip install transformers accelerate"
      ],
      "metadata": {
        "id": "MHaxZt839J7e"
      },
      "execution_count": null,
      "outputs": []
    },
    {
      "cell_type": "code",
      "execution_count": 2,
      "metadata": {
        "id": "onEKulDDMx_L"
      },
      "outputs": [],
      "source": [
        "# imports \n",
        "import pandas as pd\n",
        "import seaborn as sns\n",
        "import matplotlib.pyplot as plt\n",
        "import numpy as np \n",
        "\n",
        "import torch\n",
        "\n",
        "from transformers import AutoTokenizer, AutoModelForSequenceClassification\n",
        "\n",
        "from transformers import pipeline\n",
        "\n",
        "from transformers import TrainingArguments, Trainer\n",
        "from huggingface_hub import notebook_login\n",
        "from textwrap import wrap\n",
        "\n",
        "import evaluate\n",
        "\n",
        "from sklearn.metrics import confusion_matrix, classification_report  \n"
      ]
    },
    {
      "cell_type": "code",
      "execution_count": null,
      "metadata": {
        "id": "5StjMTPRMyBv"
      },
      "outputs": [],
      "source": [
        "#mount google drive\n",
        "from google.colab import drive\n",
        "drive.mount('/content/drive')\n",
        "     "
      ]
    },
    {
      "cell_type": "code",
      "execution_count": 5,
      "metadata": {
        "id": "WHdjLuOFMyFZ"
      },
      "outputs": [],
      "source": [
        "# Data\n",
        "# Dutch trainset/valset \n",
        "\n",
        "nl_trainset= pd.read_csv(\"/content/drive/MyDrive/IM/VTPAN_PAN12_Translated /train_dutch.csv\") \n",
        "nl_valset= pd.read_csv(\"/content/drive/MyDrive/IM/VTPAN_PAN12_Translated /val_dutch.csv\") "
      ]
    },
    {
      "cell_type": "code",
      "execution_count": 6,
      "metadata": {
        "colab": {
          "base_uri": "https://localhost:8080/",
          "height": 424
        },
        "id": "zFHzjE4jZQtJ",
        "outputId": "f5388fca-8bbe-48e2-f3e6-453ddaf06b29"
      },
      "outputs": [
        {
          "output_type": "execute_result",
          "data": {
            "text/plain": [
              "                                         messages_dutch  label\n",
              "0     ['Hey, hoe gaat het?', 'Hey.', 'Wat?', 'Niet v...      1\n",
              "1     ['asl.', 'Ik ben een man van 18 jaar, op zoek ...      0\n",
              "2     ['Hallo.', 'Hi owo', 'Ik moet poppen.', ':D', ...      0\n",
              "3     ['Hallo.', \"Ik krijg dit: release\\\\myclass.o(....      0\n",
              "4     ['Hallo.', 'Hey daar.', 'ASL?', 'U man?', 'im ...      0\n",
              "...                                                 ...    ...\n",
              "5265  ['Hallo.', 'heb een tool nodig om unix/samba-a...      0\n",
              "5266  ['Wat doe je liefje?', 'We zoeken dingen op.',...      1\n",
              "5267  ['Haï', 'asl.', 'Hey :D', 'haha omg.. quicky.'...      0\n",
              "5268  ['hiii asl?', 'Hallo.', 'm', 'Im 15 f.', 'Im 1...      0\n",
              "5269  ['Hallo.', 'Asl?', 'm/28/Nederland', 'hhhhhhhh...      0\n",
              "\n",
              "[5270 rows x 2 columns]"
            ],
            "text/html": [
              "\n",
              "  <div id=\"df-5969988d-22f3-4400-8710-629a30f7f2cf\">\n",
              "    <div class=\"colab-df-container\">\n",
              "      <div>\n",
              "<style scoped>\n",
              "    .dataframe tbody tr th:only-of-type {\n",
              "        vertical-align: middle;\n",
              "    }\n",
              "\n",
              "    .dataframe tbody tr th {\n",
              "        vertical-align: top;\n",
              "    }\n",
              "\n",
              "    .dataframe thead th {\n",
              "        text-align: right;\n",
              "    }\n",
              "</style>\n",
              "<table border=\"1\" class=\"dataframe\">\n",
              "  <thead>\n",
              "    <tr style=\"text-align: right;\">\n",
              "      <th></th>\n",
              "      <th>messages_dutch</th>\n",
              "      <th>label</th>\n",
              "    </tr>\n",
              "  </thead>\n",
              "  <tbody>\n",
              "    <tr>\n",
              "      <th>0</th>\n",
              "      <td>['Hey, hoe gaat het?', 'Hey.', 'Wat?', 'Niet v...</td>\n",
              "      <td>1</td>\n",
              "    </tr>\n",
              "    <tr>\n",
              "      <th>1</th>\n",
              "      <td>['asl.', 'Ik ben een man van 18 jaar, op zoek ...</td>\n",
              "      <td>0</td>\n",
              "    </tr>\n",
              "    <tr>\n",
              "      <th>2</th>\n",
              "      <td>['Hallo.', 'Hi owo', 'Ik moet poppen.', ':D', ...</td>\n",
              "      <td>0</td>\n",
              "    </tr>\n",
              "    <tr>\n",
              "      <th>3</th>\n",
              "      <td>['Hallo.', \"Ik krijg dit: release\\\\myclass.o(....</td>\n",
              "      <td>0</td>\n",
              "    </tr>\n",
              "    <tr>\n",
              "      <th>4</th>\n",
              "      <td>['Hallo.', 'Hey daar.', 'ASL?', 'U man?', 'im ...</td>\n",
              "      <td>0</td>\n",
              "    </tr>\n",
              "    <tr>\n",
              "      <th>...</th>\n",
              "      <td>...</td>\n",
              "      <td>...</td>\n",
              "    </tr>\n",
              "    <tr>\n",
              "      <th>5265</th>\n",
              "      <td>['Hallo.', 'heb een tool nodig om unix/samba-a...</td>\n",
              "      <td>0</td>\n",
              "    </tr>\n",
              "    <tr>\n",
              "      <th>5266</th>\n",
              "      <td>['Wat doe je liefje?', 'We zoeken dingen op.',...</td>\n",
              "      <td>1</td>\n",
              "    </tr>\n",
              "    <tr>\n",
              "      <th>5267</th>\n",
              "      <td>['Haï', 'asl.', 'Hey :D', 'haha omg.. quicky.'...</td>\n",
              "      <td>0</td>\n",
              "    </tr>\n",
              "    <tr>\n",
              "      <th>5268</th>\n",
              "      <td>['hiii asl?', 'Hallo.', 'm', 'Im 15 f.', 'Im 1...</td>\n",
              "      <td>0</td>\n",
              "    </tr>\n",
              "    <tr>\n",
              "      <th>5269</th>\n",
              "      <td>['Hallo.', 'Asl?', 'm/28/Nederland', 'hhhhhhhh...</td>\n",
              "      <td>0</td>\n",
              "    </tr>\n",
              "  </tbody>\n",
              "</table>\n",
              "<p>5270 rows × 2 columns</p>\n",
              "</div>\n",
              "      <button class=\"colab-df-convert\" onclick=\"convertToInteractive('df-5969988d-22f3-4400-8710-629a30f7f2cf')\"\n",
              "              title=\"Convert this dataframe to an interactive table.\"\n",
              "              style=\"display:none;\">\n",
              "        \n",
              "  <svg xmlns=\"http://www.w3.org/2000/svg\" height=\"24px\"viewBox=\"0 0 24 24\"\n",
              "       width=\"24px\">\n",
              "    <path d=\"M0 0h24v24H0V0z\" fill=\"none\"/>\n",
              "    <path d=\"M18.56 5.44l.94 2.06.94-2.06 2.06-.94-2.06-.94-.94-2.06-.94 2.06-2.06.94zm-11 1L8.5 8.5l.94-2.06 2.06-.94-2.06-.94L8.5 2.5l-.94 2.06-2.06.94zm10 10l.94 2.06.94-2.06 2.06-.94-2.06-.94-.94-2.06-.94 2.06-2.06.94z\"/><path d=\"M17.41 7.96l-1.37-1.37c-.4-.4-.92-.59-1.43-.59-.52 0-1.04.2-1.43.59L10.3 9.45l-7.72 7.72c-.78.78-.78 2.05 0 2.83L4 21.41c.39.39.9.59 1.41.59.51 0 1.02-.2 1.41-.59l7.78-7.78 2.81-2.81c.8-.78.8-2.07 0-2.86zM5.41 20L4 18.59l7.72-7.72 1.47 1.35L5.41 20z\"/>\n",
              "  </svg>\n",
              "      </button>\n",
              "      \n",
              "  <style>\n",
              "    .colab-df-container {\n",
              "      display:flex;\n",
              "      flex-wrap:wrap;\n",
              "      gap: 12px;\n",
              "    }\n",
              "\n",
              "    .colab-df-convert {\n",
              "      background-color: #E8F0FE;\n",
              "      border: none;\n",
              "      border-radius: 50%;\n",
              "      cursor: pointer;\n",
              "      display: none;\n",
              "      fill: #1967D2;\n",
              "      height: 32px;\n",
              "      padding: 0 0 0 0;\n",
              "      width: 32px;\n",
              "    }\n",
              "\n",
              "    .colab-df-convert:hover {\n",
              "      background-color: #E2EBFA;\n",
              "      box-shadow: 0px 1px 2px rgba(60, 64, 67, 0.3), 0px 1px 3px 1px rgba(60, 64, 67, 0.15);\n",
              "      fill: #174EA6;\n",
              "    }\n",
              "\n",
              "    [theme=dark] .colab-df-convert {\n",
              "      background-color: #3B4455;\n",
              "      fill: #D2E3FC;\n",
              "    }\n",
              "\n",
              "    [theme=dark] .colab-df-convert:hover {\n",
              "      background-color: #434B5C;\n",
              "      box-shadow: 0px 1px 3px 1px rgba(0, 0, 0, 0.15);\n",
              "      filter: drop-shadow(0px 1px 2px rgba(0, 0, 0, 0.3));\n",
              "      fill: #FFFFFF;\n",
              "    }\n",
              "  </style>\n",
              "\n",
              "      <script>\n",
              "        const buttonEl =\n",
              "          document.querySelector('#df-5969988d-22f3-4400-8710-629a30f7f2cf button.colab-df-convert');\n",
              "        buttonEl.style.display =\n",
              "          google.colab.kernel.accessAllowed ? 'block' : 'none';\n",
              "\n",
              "        async function convertToInteractive(key) {\n",
              "          const element = document.querySelector('#df-5969988d-22f3-4400-8710-629a30f7f2cf');\n",
              "          const dataTable =\n",
              "            await google.colab.kernel.invokeFunction('convertToInteractive',\n",
              "                                                     [key], {});\n",
              "          if (!dataTable) return;\n",
              "\n",
              "          const docLinkHtml = 'Like what you see? Visit the ' +\n",
              "            '<a target=\"_blank\" href=https://colab.research.google.com/notebooks/data_table.ipynb>data table notebook</a>'\n",
              "            + ' to learn more about interactive tables.';\n",
              "          element.innerHTML = '';\n",
              "          dataTable['output_type'] = 'display_data';\n",
              "          await google.colab.output.renderOutput(dataTable, element);\n",
              "          const docLink = document.createElement('div');\n",
              "          docLink.innerHTML = docLinkHtml;\n",
              "          element.appendChild(docLink);\n",
              "        }\n",
              "      </script>\n",
              "    </div>\n",
              "  </div>\n",
              "  "
            ]
          },
          "metadata": {},
          "execution_count": 6
        }
      ],
      "source": [
        "nl_trainset\n"
      ]
    },
    {
      "cell_type": "code",
      "execution_count": 7,
      "metadata": {
        "id": "Qw7bTcueSf0O"
      },
      "outputs": [],
      "source": [
        "#Dutch test set \n",
        "nl_testset=pd.read_csv('/content/drive/MyDrive/IM/VTPAN_PAN12_Translated /test_dutch.csv')"
      ]
    },
    {
      "cell_type": "code",
      "execution_count": null,
      "metadata": {
        "colab": {
          "base_uri": "https://localhost:8080/",
          "height": 887
        },
        "id": "tZ3Frwijchku",
        "outputId": "c92f38ec-399a-4fe8-aa75-950fc2996b26"
      },
      "outputs": [
        {
          "output_type": "execute_result",
          "data": {
            "text/plain": [
              "                                     id  isCybergrooming  \\\n",
              "0      de15188e9fd515ed817a0b34546be902             True   \n",
              "1      17784c5a093477c1706b1a68cea7c802            False   \n",
              "2      15a38614944f5aa8bbb59d4153ecc12a            False   \n",
              "3      ee0aba2365c16a30cb36d1057a390b16            False   \n",
              "4      ca1b963746e368a4cec38ab4be3fdcf7            False   \n",
              "...                                 ...              ...   \n",
              "15324  85e044706ceca109b1adf6c744a4126c            False   \n",
              "15325  ec391a65097a955029afaedc23d5fa81             True   \n",
              "15326  82add2c9da3c267a98b3981375b6c238             True   \n",
              "15327  e2bc24141a2855dd6825d8b3132bfa11            False   \n",
              "15328  8deed7c66340728e6863f3d931d4cca7            False   \n",
              "\n",
              "                                                 authors  \\\n",
              "0      [{'id': 'b6fe182274453b707870b16e5d2ad562', 'i...   \n",
              "1      [{'id': 'fcfda042c76436b97eca32b6c0490d1d', 'i...   \n",
              "2      [{'id': '454addae11c0b90c0f36a98b77aa07a6', 'i...   \n",
              "3      [{'id': '471970f323f46dc39b5f07c6aa344686', 'i...   \n",
              "4      [{'id': 'ed6658e6f22583ed66fb5e5e735b9e63', 'i...   \n",
              "...                                                  ...   \n",
              "15324  [{'id': 'f8eb7d3ae7f27896e571109636a043e0', 'i...   \n",
              "15325  [{'id': '2e0d170f2addfb0048f9424a2daa5a73', 'i...   \n",
              "15326  [{'id': 'c5502c7c9bb5e28508a3e19ec869f6d2', 'i...   \n",
              "15327  [{'id': 'e46825dc4ec1ff89f6bb078ce5589357', 'i...   \n",
              "15328  [{'id': 'c3771abaa4e03712cd05a81c58bed44c', 'i...   \n",
              "\n",
              "                                                messages  \\\n",
              "0      [{'author': 'b6fe182274453b707870b16e5d2ad562'...   \n",
              "1      [{'author': '713349f3afa2dbe352d2abe4d3f01a12'...   \n",
              "2      [{'author': 'ee792e8acb278ddd16cc46020c694b0b'...   \n",
              "3      [{'author': 'bb2a120ae4ec93ef7c15f284b9b46544'...   \n",
              "4      [{'author': 'ed6658e6f22583ed66fb5e5e735b9e63'...   \n",
              "...                                                  ...   \n",
              "15324  [{'author': 'f8eb7d3ae7f27896e571109636a043e0'...   \n",
              "15325  [{'author': '2e0d170f2addfb0048f9424a2daa5a73'...   \n",
              "15326  [{'author': 'c5502c7c9bb5e28508a3e19ec869f6d2'...   \n",
              "15327  [{'author': 'bced152c52f046adc88110ad1e8b3e83'...   \n",
              "15328  [{'author': '48a4fba2c4916bbc8aae694a3877dca3'...   \n",
              "\n",
              "                                             messages_de  label  \n",
              "0      ['achterin.', 'Oké baby.', 'Wat is er gebeurd,...      1  \n",
              "1      ['Hallo.', 'Jongens zijn shit.', 'dat ze zijn....      0  \n",
              "2      ['Hallo.', '19 m hoog, u?', '2+2*2', '2+2*2?',...      0  \n",
              "3      ['f/m?', 'Hallo.', 'Dat is het antwoord op de ...      0  \n",
              "4      ['Sorry, ik ben nu terug.', 'Als ik groot ben,...      0  \n",
              "...                                                  ...    ...  \n",
              "15324  ['Hallo.', 'Hallo.', 'Hey...', 'Dit is ongemak...      0  \n",
              "15325  ['Hallo.', 'Asl?', 'Heya wat is er aan de hand...      1  \n",
              "15326  ['Goedemorgen, hoe is het?', 'Hey :)', 'Is het...      1  \n",
              "15327  ['Hallo.', 'm of f', 'Hallo.', 'f.', 'U.', ':)...      0  \n",
              "15328  ['Een paard een paard.', 'Well Ober', 'null.h'...      0  \n",
              "\n",
              "[15329 rows x 6 columns]"
            ],
            "text/html": [
              "\n",
              "  <div id=\"df-5fe12050-f2ec-4c8f-af1e-da5a2b631b05\">\n",
              "    <div class=\"colab-df-container\">\n",
              "      <div>\n",
              "<style scoped>\n",
              "    .dataframe tbody tr th:only-of-type {\n",
              "        vertical-align: middle;\n",
              "    }\n",
              "\n",
              "    .dataframe tbody tr th {\n",
              "        vertical-align: top;\n",
              "    }\n",
              "\n",
              "    .dataframe thead th {\n",
              "        text-align: right;\n",
              "    }\n",
              "</style>\n",
              "<table border=\"1\" class=\"dataframe\">\n",
              "  <thead>\n",
              "    <tr style=\"text-align: right;\">\n",
              "      <th></th>\n",
              "      <th>id</th>\n",
              "      <th>isCybergrooming</th>\n",
              "      <th>authors</th>\n",
              "      <th>messages</th>\n",
              "      <th>messages_de</th>\n",
              "      <th>label</th>\n",
              "    </tr>\n",
              "  </thead>\n",
              "  <tbody>\n",
              "    <tr>\n",
              "      <th>0</th>\n",
              "      <td>de15188e9fd515ed817a0b34546be902</td>\n",
              "      <td>True</td>\n",
              "      <td>[{'id': 'b6fe182274453b707870b16e5d2ad562', 'i...</td>\n",
              "      <td>[{'author': 'b6fe182274453b707870b16e5d2ad562'...</td>\n",
              "      <td>['achterin.', 'Oké baby.', 'Wat is er gebeurd,...</td>\n",
              "      <td>1</td>\n",
              "    </tr>\n",
              "    <tr>\n",
              "      <th>1</th>\n",
              "      <td>17784c5a093477c1706b1a68cea7c802</td>\n",
              "      <td>False</td>\n",
              "      <td>[{'id': 'fcfda042c76436b97eca32b6c0490d1d', 'i...</td>\n",
              "      <td>[{'author': '713349f3afa2dbe352d2abe4d3f01a12'...</td>\n",
              "      <td>['Hallo.', 'Jongens zijn shit.', 'dat ze zijn....</td>\n",
              "      <td>0</td>\n",
              "    </tr>\n",
              "    <tr>\n",
              "      <th>2</th>\n",
              "      <td>15a38614944f5aa8bbb59d4153ecc12a</td>\n",
              "      <td>False</td>\n",
              "      <td>[{'id': '454addae11c0b90c0f36a98b77aa07a6', 'i...</td>\n",
              "      <td>[{'author': 'ee792e8acb278ddd16cc46020c694b0b'...</td>\n",
              "      <td>['Hallo.', '19 m hoog, u?', '2+2*2', '2+2*2?',...</td>\n",
              "      <td>0</td>\n",
              "    </tr>\n",
              "    <tr>\n",
              "      <th>3</th>\n",
              "      <td>ee0aba2365c16a30cb36d1057a390b16</td>\n",
              "      <td>False</td>\n",
              "      <td>[{'id': '471970f323f46dc39b5f07c6aa344686', 'i...</td>\n",
              "      <td>[{'author': 'bb2a120ae4ec93ef7c15f284b9b46544'...</td>\n",
              "      <td>['f/m?', 'Hallo.', 'Dat is het antwoord op de ...</td>\n",
              "      <td>0</td>\n",
              "    </tr>\n",
              "    <tr>\n",
              "      <th>4</th>\n",
              "      <td>ca1b963746e368a4cec38ab4be3fdcf7</td>\n",
              "      <td>False</td>\n",
              "      <td>[{'id': 'ed6658e6f22583ed66fb5e5e735b9e63', 'i...</td>\n",
              "      <td>[{'author': 'ed6658e6f22583ed66fb5e5e735b9e63'...</td>\n",
              "      <td>['Sorry, ik ben nu terug.', 'Als ik groot ben,...</td>\n",
              "      <td>0</td>\n",
              "    </tr>\n",
              "    <tr>\n",
              "      <th>...</th>\n",
              "      <td>...</td>\n",
              "      <td>...</td>\n",
              "      <td>...</td>\n",
              "      <td>...</td>\n",
              "      <td>...</td>\n",
              "      <td>...</td>\n",
              "    </tr>\n",
              "    <tr>\n",
              "      <th>15324</th>\n",
              "      <td>85e044706ceca109b1adf6c744a4126c</td>\n",
              "      <td>False</td>\n",
              "      <td>[{'id': 'f8eb7d3ae7f27896e571109636a043e0', 'i...</td>\n",
              "      <td>[{'author': 'f8eb7d3ae7f27896e571109636a043e0'...</td>\n",
              "      <td>['Hallo.', 'Hallo.', 'Hey...', 'Dit is ongemak...</td>\n",
              "      <td>0</td>\n",
              "    </tr>\n",
              "    <tr>\n",
              "      <th>15325</th>\n",
              "      <td>ec391a65097a955029afaedc23d5fa81</td>\n",
              "      <td>True</td>\n",
              "      <td>[{'id': '2e0d170f2addfb0048f9424a2daa5a73', 'i...</td>\n",
              "      <td>[{'author': '2e0d170f2addfb0048f9424a2daa5a73'...</td>\n",
              "      <td>['Hallo.', 'Asl?', 'Heya wat is er aan de hand...</td>\n",
              "      <td>1</td>\n",
              "    </tr>\n",
              "    <tr>\n",
              "      <th>15326</th>\n",
              "      <td>82add2c9da3c267a98b3981375b6c238</td>\n",
              "      <td>True</td>\n",
              "      <td>[{'id': 'c5502c7c9bb5e28508a3e19ec869f6d2', 'i...</td>\n",
              "      <td>[{'author': 'c5502c7c9bb5e28508a3e19ec869f6d2'...</td>\n",
              "      <td>['Goedemorgen, hoe is het?', 'Hey :)', 'Is het...</td>\n",
              "      <td>1</td>\n",
              "    </tr>\n",
              "    <tr>\n",
              "      <th>15327</th>\n",
              "      <td>e2bc24141a2855dd6825d8b3132bfa11</td>\n",
              "      <td>False</td>\n",
              "      <td>[{'id': 'e46825dc4ec1ff89f6bb078ce5589357', 'i...</td>\n",
              "      <td>[{'author': 'bced152c52f046adc88110ad1e8b3e83'...</td>\n",
              "      <td>['Hallo.', 'm of f', 'Hallo.', 'f.', 'U.', ':)...</td>\n",
              "      <td>0</td>\n",
              "    </tr>\n",
              "    <tr>\n",
              "      <th>15328</th>\n",
              "      <td>8deed7c66340728e6863f3d931d4cca7</td>\n",
              "      <td>False</td>\n",
              "      <td>[{'id': 'c3771abaa4e03712cd05a81c58bed44c', 'i...</td>\n",
              "      <td>[{'author': '48a4fba2c4916bbc8aae694a3877dca3'...</td>\n",
              "      <td>['Een paard een paard.', 'Well Ober', 'null.h'...</td>\n",
              "      <td>0</td>\n",
              "    </tr>\n",
              "  </tbody>\n",
              "</table>\n",
              "<p>15329 rows × 6 columns</p>\n",
              "</div>\n",
              "      <button class=\"colab-df-convert\" onclick=\"convertToInteractive('df-5fe12050-f2ec-4c8f-af1e-da5a2b631b05')\"\n",
              "              title=\"Convert this dataframe to an interactive table.\"\n",
              "              style=\"display:none;\">\n",
              "        \n",
              "  <svg xmlns=\"http://www.w3.org/2000/svg\" height=\"24px\"viewBox=\"0 0 24 24\"\n",
              "       width=\"24px\">\n",
              "    <path d=\"M0 0h24v24H0V0z\" fill=\"none\"/>\n",
              "    <path d=\"M18.56 5.44l.94 2.06.94-2.06 2.06-.94-2.06-.94-.94-2.06-.94 2.06-2.06.94zm-11 1L8.5 8.5l.94-2.06 2.06-.94-2.06-.94L8.5 2.5l-.94 2.06-2.06.94zm10 10l.94 2.06.94-2.06 2.06-.94-2.06-.94-.94-2.06-.94 2.06-2.06.94z\"/><path d=\"M17.41 7.96l-1.37-1.37c-.4-.4-.92-.59-1.43-.59-.52 0-1.04.2-1.43.59L10.3 9.45l-7.72 7.72c-.78.78-.78 2.05 0 2.83L4 21.41c.39.39.9.59 1.41.59.51 0 1.02-.2 1.41-.59l7.78-7.78 2.81-2.81c.8-.78.8-2.07 0-2.86zM5.41 20L4 18.59l7.72-7.72 1.47 1.35L5.41 20z\"/>\n",
              "  </svg>\n",
              "      </button>\n",
              "      \n",
              "  <style>\n",
              "    .colab-df-container {\n",
              "      display:flex;\n",
              "      flex-wrap:wrap;\n",
              "      gap: 12px;\n",
              "    }\n",
              "\n",
              "    .colab-df-convert {\n",
              "      background-color: #E8F0FE;\n",
              "      border: none;\n",
              "      border-radius: 50%;\n",
              "      cursor: pointer;\n",
              "      display: none;\n",
              "      fill: #1967D2;\n",
              "      height: 32px;\n",
              "      padding: 0 0 0 0;\n",
              "      width: 32px;\n",
              "    }\n",
              "\n",
              "    .colab-df-convert:hover {\n",
              "      background-color: #E2EBFA;\n",
              "      box-shadow: 0px 1px 2px rgba(60, 64, 67, 0.3), 0px 1px 3px 1px rgba(60, 64, 67, 0.15);\n",
              "      fill: #174EA6;\n",
              "    }\n",
              "\n",
              "    [theme=dark] .colab-df-convert {\n",
              "      background-color: #3B4455;\n",
              "      fill: #D2E3FC;\n",
              "    }\n",
              "\n",
              "    [theme=dark] .colab-df-convert:hover {\n",
              "      background-color: #434B5C;\n",
              "      box-shadow: 0px 1px 3px 1px rgba(0, 0, 0, 0.15);\n",
              "      filter: drop-shadow(0px 1px 2px rgba(0, 0, 0, 0.3));\n",
              "      fill: #FFFFFF;\n",
              "    }\n",
              "  </style>\n",
              "\n",
              "      <script>\n",
              "        const buttonEl =\n",
              "          document.querySelector('#df-5fe12050-f2ec-4c8f-af1e-da5a2b631b05 button.colab-df-convert');\n",
              "        buttonEl.style.display =\n",
              "          google.colab.kernel.accessAllowed ? 'block' : 'none';\n",
              "\n",
              "        async function convertToInteractive(key) {\n",
              "          const element = document.querySelector('#df-5fe12050-f2ec-4c8f-af1e-da5a2b631b05');\n",
              "          const dataTable =\n",
              "            await google.colab.kernel.invokeFunction('convertToInteractive',\n",
              "                                                     [key], {});\n",
              "          if (!dataTable) return;\n",
              "\n",
              "          const docLinkHtml = 'Like what you see? Visit the ' +\n",
              "            '<a target=\"_blank\" href=https://colab.research.google.com/notebooks/data_table.ipynb>data table notebook</a>'\n",
              "            + ' to learn more about interactive tables.';\n",
              "          element.innerHTML = '';\n",
              "          dataTable['output_type'] = 'display_data';\n",
              "          await google.colab.output.renderOutput(dataTable, element);\n",
              "          const docLink = document.createElement('div');\n",
              "          docLink.innerHTML = docLinkHtml;\n",
              "          element.appendChild(docLink);\n",
              "        }\n",
              "      </script>\n",
              "    </div>\n",
              "  </div>\n",
              "  "
            ]
          },
          "metadata": {},
          "execution_count": 8
        }
      ],
      "source": [
        "nl_testset"
      ]
    },
    {
      "cell_type": "markdown",
      "metadata": {
        "id": "iYykcCKP41br"
      },
      "source": [
        "# **Model**"
      ]
    },
    {
      "cell_type": "code",
      "execution_count": null,
      "metadata": {
        "id": "X0h_eN0RMyMD"
      },
      "outputs": [],
      "source": [
        "#load model \n",
        "model= AutoModelForSequenceClassification.from_pretrained(\"xlm-roberta-base\")\n",
        "\n",
        "tokenizer = AutoTokenizer.from_pretrained('xlm-roberta-base')"
      ]
    },
    {
      "cell_type": "code",
      "execution_count": 9,
      "metadata": {
        "id": "Lwo100AVMyOx"
      },
      "outputs": [],
      "source": [
        "#data to list\n",
        "X_train = list(nl_trainset[\"messages_dutch\"])\n",
        "y_train = list(nl_trainset[\"label\"])\n",
        "X_val = list(nl_valset[\"messages_dutch\"])\n",
        "y_val = list(nl_valset[\"label\"])\n",
        "   "
      ]
    },
    {
      "cell_type": "code",
      "execution_count": 10,
      "metadata": {
        "id": "6X0fHYm4aemb"
      },
      "outputs": [],
      "source": [
        "#Dutch testset \n",
        "X_test_nl = list(nl_testset[\"messages_de\"])\n",
        "y_test_nl = list(nl_testset[\"label\"])"
      ]
    },
    {
      "cell_type": "code",
      "execution_count": 11,
      "metadata": {
        "id": "-9pzKwhBMySE"
      },
      "outputs": [],
      "source": [
        "#tokenize train/val data \n",
        "train_encodings = tokenizer(X_train, truncation=True, padding=True, max_length=512)\n",
        "val_encodings = tokenizer(X_val, truncation=True, padding=True, max_length=512)\n"
      ]
    },
    {
      "cell_type": "code",
      "execution_count": 12,
      "metadata": {
        "id": "47QLpHFfdSlq"
      },
      "outputs": [],
      "source": [
        "#tokenize test data\n",
        "\n",
        "test_encodings_nl = tokenizer(X_test_nl, truncation=True, padding=True, max_length=512)"
      ]
    },
    {
      "cell_type": "code",
      "execution_count": 13,
      "metadata": {
        "id": "Y2Y2JRdYMyVJ"
      },
      "outputs": [],
      "source": [
        "# Create torch dataset\n",
        "class Dataset(torch.utils.data.Dataset):\n",
        "    def __init__(self, encodings, labels=None):\n",
        "        self.encodings = encodings\n",
        "        self.labels = labels\n",
        "\n",
        "    def __getitem__(self, idx):\n",
        "        item = {key: torch.tensor(val[idx]) for key, val in self.encodings.items()}\n",
        "        if self.labels:\n",
        "            item[\"labels\"] = torch.tensor(self.labels[idx])\n",
        "        return item\n",
        "\n",
        "    def __len__(self):\n",
        "        return len(self.encodings[\"input_ids\"])\n",
        "     "
      ]
    },
    {
      "cell_type": "code",
      "execution_count": 14,
      "metadata": {
        "id": "3RqHED1VMyYT"
      },
      "outputs": [],
      "source": [
        "#load the 3 datase\n",
        "train_dataset = Dataset(train_encodings, y_train)\n",
        "val_dataset = Dataset(val_encodings, y_val)\n",
        "\n",
        "test_dataset_nl = Dataset(test_encodings_nl, y_test_nl)\n"
      ]
    },
    {
      "cell_type": "markdown",
      "metadata": {
        "id": "4w2P09oWkYdY"
      },
      "source": [
        "# **Model training on Dutch**"
      ]
    },
    {
      "cell_type": "code",
      "execution_count": 15,
      "metadata": {
        "id": "5I7ib-UkMyd2"
      },
      "outputs": [],
      "source": [
        "# Define Trainer\n",
        "args = TrainingArguments(\n",
        "    output_dir=\"xmlRoberta_Dutch\",\n",
        "    num_train_epochs=3,\n",
        "    per_device_train_batch_size=16\n",
        "\n",
        ")\n",
        "trainer = Trainer(\n",
        "    model=model,\n",
        "    args=args,\n",
        "    tokenizer=tokenizer,\n",
        "    train_dataset=train_dataset,\n",
        "    eval_dataset=val_dataset)"
      ]
    },
    {
      "cell_type": "code",
      "execution_count": 16,
      "metadata": {
        "colab": {
          "base_uri": "https://localhost:8080/",
          "height": 214
        },
        "id": "YQmI66erMye1",
        "outputId": "b7397688-273b-465e-8c3e-3a78843b02da"
      },
      "outputs": [
        {
          "output_type": "stream",
          "name": "stderr",
          "text": [
            "/usr/local/lib/python3.10/dist-packages/transformers/optimization.py:407: FutureWarning: This implementation of AdamW is deprecated and will be removed in a future version. Use the PyTorch implementation torch.optim.AdamW instead, or set `no_deprecation_warning=True` to disable this warning\n",
            "  warnings.warn(\n",
            "You're using a XLMRobertaTokenizerFast tokenizer. Please note that with a fast tokenizer, using the `__call__` method is faster than using a method to encode the text followed by a call to the `pad` method to get a padded encoding.\n"
          ]
        },
        {
          "output_type": "display_data",
          "data": {
            "text/plain": [
              "<IPython.core.display.HTML object>"
            ],
            "text/html": [
              "\n",
              "    <div>\n",
              "      \n",
              "      <progress value='990' max='990' style='width:300px; height:20px; vertical-align: middle;'></progress>\n",
              "      [990/990 26:12, Epoch 3/3]\n",
              "    </div>\n",
              "    <table border=\"1\" class=\"dataframe\">\n",
              "  <thead>\n",
              " <tr style=\"text-align: left;\">\n",
              "      <th>Step</th>\n",
              "      <th>Training Loss</th>\n",
              "    </tr>\n",
              "  </thead>\n",
              "  <tbody>\n",
              "    <tr>\n",
              "      <td>500</td>\n",
              "      <td>0.381200</td>\n",
              "    </tr>\n",
              "  </tbody>\n",
              "</table><p>"
            ]
          },
          "metadata": {}
        },
        {
          "output_type": "execute_result",
          "data": {
            "text/plain": [
              "TrainOutput(global_step=990, training_loss=0.3300801749181266, metrics={'train_runtime': 1577.7685, 'train_samples_per_second': 10.02, 'train_steps_per_second': 0.627, 'total_flos': 4159785785241600.0, 'train_loss': 0.3300801749181266, 'epoch': 3.0})"
            ]
          },
          "metadata": {},
          "execution_count": 16
        }
      ],
      "source": [
        "#train\n",
        "trainer.train()"
      ]
    },
    {
      "cell_type": "code",
      "execution_count": null,
      "metadata": {
        "colab": {
          "base_uri": "https://localhost:8080/",
          "height": 359
        },
        "id": "fMLWqVEpMykV",
        "outputId": "fd0cac07-14f1-48b7-c704-7ec9d04ffe7d"
      },
      "outputs": [
        {
          "name": "stdout",
          "output_type": "stream",
          "text": [
            "Token is valid.\n",
            "Your token has been saved in your configured git credential helpers (store).\n",
            "Your token has been saved to /root/.cache/huggingface/token\n",
            "Login successful\n"
          ]
        }
      ],
      "source": [
        "#notebook_login()\n"
      ]
    },
    {
      "cell_type": "code",
      "execution_count": null,
      "metadata": {
        "id": "D5gyxAKmMylL"
      },
      "outputs": [],
      "source": [
        "#push model to hub\n",
        "#trainer.push_to_hub()"
      ]
    },
    {
      "cell_type": "markdown",
      "metadata": {
        "id": "Rv3ZAdAbsDkL"
      },
      "source": [
        "# **Test XML-Roberta on Dutch test data**"
      ]
    },
    {
      "cell_type": "code",
      "execution_count": 17,
      "metadata": {
        "id": "P6sc54WeMyrl",
        "colab": {
          "base_uri": "https://localhost:8080/",
          "height": 17
        },
        "outputId": "d9c421c5-88a3-47c5-a025-377ddcbfa351"
      },
      "outputs": [
        {
          "output_type": "display_data",
          "data": {
            "text/plain": [
              "<IPython.core.display.HTML object>"
            ],
            "text/html": []
          },
          "metadata": {}
        }
      ],
      "source": [
        "#get prediction from French test data \n",
        "predictions = trainer.predict(test_dataset_nl)\n",
        "preds_nl = np.argmax(predictions.predictions, axis=-1)\n",
        "     "
      ]
    },
    {
      "cell_type": "code",
      "execution_count": 18,
      "metadata": {
        "colab": {
          "base_uri": "https://localhost:8080/",
          "height": 66,
          "referenced_widgets": [
            "1ed72bc709f445279405243f64141805",
            "cd6b93af367c41d885e045228c77d1ef",
            "2fc1101cccad40e8b402e730ebb64290",
            "825dfccb4134440687c8f0b9d20554a3",
            "e29bfc495aa34ff1af7b014f1c83edb7",
            "52870a1c947d482c834a5f4023eec211",
            "9001597b5607470295176a98f080e35a",
            "10f6e3c489b349308f1a77e277bb5e5a",
            "73b6c851b17a4565ac593b460907eab2",
            "a827ad9430ff403997a0f6a3da90ecf4",
            "62d1c5ffbfd545f3996c795c185ac0eb"
          ]
        },
        "id": "9B7iAPr5NlOy",
        "outputId": "f8234acc-d6ea-44e3-a642-ff61032daeec"
      },
      "outputs": [
        {
          "output_type": "display_data",
          "data": {
            "text/plain": [
              "Downloading builder script:   0%|          | 0.00/6.77k [00:00<?, ?B/s]"
            ],
            "application/vnd.jupyter.widget-view+json": {
              "version_major": 2,
              "version_minor": 0,
              "model_id": "1ed72bc709f445279405243f64141805"
            }
          },
          "metadata": {}
        },
        {
          "output_type": "execute_result",
          "data": {
            "text/plain": [
              "{'f1': 0.852643028589868}"
            ]
          },
          "metadata": {},
          "execution_count": 18
        }
      ],
      "source": [
        "# macro f1 on test French data \n",
        "metric = evaluate.load(\"f1\")\n",
        "metric.compute(predictions=preds_nl, references=y_test_nl,  average=\"macro\")\n",
        "     "
      ]
    },
    {
      "cell_type": "code",
      "execution_count": 19,
      "metadata": {
        "id": "dAbA3_pxNlSH"
      },
      "outputs": [],
      "source": [
        "class_names = [ 'non predator', 'predator']\n",
        "     "
      ]
    },
    {
      "cell_type": "code",
      "execution_count": 20,
      "metadata": {
        "colab": {
          "base_uri": "https://localhost:8080/"
        },
        "id": "G0eksuGhGnHj",
        "outputId": "f5a734a7-40ff-4d30-830a-71d72df0f8bd"
      },
      "outputs": [
        {
          "output_type": "stream",
          "name": "stdout",
          "text": [
            "              precision    recall  f1-score   support\n",
            "\n",
            "non predator       0.98      0.95      0.97     13863\n",
            "    predator       0.65      0.85      0.74      1466\n",
            "\n",
            "    accuracy                           0.94     15329\n",
            "   macro avg       0.82      0.90      0.85     15329\n",
            "weighted avg       0.95      0.94      0.95     15329\n",
            "\n"
          ]
        }
      ],
      "source": [
        "#classification report\n",
        "\n",
        "print(classification_report(y_test_nl, preds_nl, target_names=class_names))"
      ]
    },
    {
      "cell_type": "code",
      "execution_count": 21,
      "metadata": {
        "colab": {
          "base_uri": "https://localhost:8080/",
          "height": 493
        },
        "id": "PnXr3YMGGsO9",
        "outputId": "90964402-67df-4893-c13f-70f19b3594b4"
      },
      "outputs": [
        {
          "output_type": "display_data",
          "data": {
            "text/plain": [
              "<Figure size 640x480 with 2 Axes>"
            ],
            "image/png": "[encoded data removed]"
          },
          "metadata": {}
        }
      ],
      "source": [
        "#confusion matrix \n",
        "def show_confusion_matrix(confusion_matrix):\n",
        "  hmap = sns.heatmap(confusion_matrix, annot=True, fmt=\"d\", cmap=\"Blues\")\n",
        "  hmap.yaxis.set_ticklabels(hmap.yaxis.get_ticklabels(), rotation=0, ha='right')\n",
        "  hmap.xaxis.set_ticklabels(hmap.xaxis.get_ticklabels(), rotation=30, ha='right')\n",
        "  plt.ylabel('True label')\n",
        "  plt.xlabel('Predicted label');\n",
        "cm = confusion_matrix(y_test_nl, preds_nl)\n",
        "df_cm = pd.DataFrame(cm, index=class_names, columns=class_names)\n",
        "show_confusion_matrix(df_cm)\n",
        "     "
      ]
    },
    {
      "cell_type": "code",
      "execution_count": 22,
      "metadata": {
        "colab": {
          "base_uri": "https://localhost:8080/",
          "height": 465
        },
        "id": "a7nj9rFcGO_C",
        "outputId": "29245734-6777-4095-97e0-d7cb229a28e8"
      },
      "outputs": [
        {
          "output_type": "display_data",
          "data": {
            "text/plain": [
              "<Figure size 500x500 with 1 Axes>"
            ],
            "image/png": "[encoded data removed]"
          },
          "metadata": {}
        }
      ],
      "source": [
        "from sklearn.metrics import roc_curve, auc\n",
        "\n",
        "fpr, tpr, threshold = roc_curve(y_test_nl, preds_nl)\n",
        "auc = auc(fpr, tpr)\n",
        "\n",
        "\n",
        "\n",
        "plt.figure(figsize=(5, 5), dpi=100)\n",
        "plt.plot(fpr, tpr, marker='.', label='Model (auc = %0.3f)' % auc)\n",
        "\n",
        "plt.xlabel('False Positive Rate -->')\n",
        "plt.ylabel('True Positive Rate -->')\n",
        "\n",
        "plt.legend()\n",
        "\n",
        "plt.show()"
      ]
    },
    {
      "cell_type": "code",
      "execution_count": 24,
      "metadata": {
        "colab": {
          "base_uri": "https://localhost:8080/"
        },
        "id": "AfSHa6EKGUMW",
        "outputId": "454a316e-0568-42ad-8101-f32be920d8a1"
      },
      "outputs": [
        {
          "output_type": "stream",
          "name": "stdout",
          "text": [
            "(array([    1,    30,    36,    40,    41,    75,    85,    86,    89,\n",
            "         115,   133,   157,   162,   189,   204,   248,   255,   268,\n",
            "         275,   284,   310,   328,   358,   369,   404,   409,   428,\n",
            "         435,   438,   453,   464,   465,   498,   499,   537,   548,\n",
            "         604,   607,   614,   623,   637,   675,   676,   678,   687,\n",
            "         710,   712,   729,   756,   760,   780,   795,   858,   869,\n",
            "         870,   876,   886,   901,   917,   929,   946,   961,   983,\n",
            "         988,   990,  1012,  1031,  1042,  1051,  1052,  1081,  1084,\n",
            "        1087,  1104,  1203,  1204,  1207,  1208,  1216,  1259,  1285,\n",
            "        1287,  1314,  1343,  1344,  1352,  1354,  1362,  1374,  1402,\n",
            "        1410,  1436,  1442,  1493,  1494,  1501,  1518,  1532,  1535,\n",
            "        1571,  1576,  1591,  1602,  1632,  1662,  1664,  1687,  1701,\n",
            "        1719,  1723,  1737,  1781,  1795,  1799,  1822,  1827,  1841,\n",
            "        1853,  1868,  1910,  1936,  1939,  1943,  1958,  1969,  1987,\n",
            "        1993,  2003,  2005,  2015,  2029,  2044,  2048,  2065,  2087,\n",
            "        2106,  2146,  2153,  2179,  2185,  2198,  2209,  2260,  2265,\n",
            "        2302,  2307,  2311,  2335,  2342,  2347,  2358,  2401,  2406,\n",
            "        2446,  2460,  2483,  2501,  2503,  2504,  2507,  2518,  2551,\n",
            "        2559,  2619,  2632,  2648,  2663,  2665,  2679,  2702,  2739,\n",
            "        2751,  2753,  2770,  2783,  2793,  2799,  2814,  2826,  2833,\n",
            "        2835,  2861,  3028,  3030,  3055,  3136,  3158,  3172,  3185,\n",
            "        3195,  3215,  3222,  3223,  3235,  3267,  3270,  3278,  3329,\n",
            "        3341,  3364,  3380,  3434,  3466,  3485,  3493,  3548,  3550,\n",
            "        3562,  3621,  3653,  3669,  3684,  3692,  3722,  3779,  3780,\n",
            "        3781,  3783,  3806,  3810,  3861,  3874,  3934,  3947,  3965,\n",
            "        3993,  4004,  4037,  4063,  4098,  4111,  4127,  4134,  4143,\n",
            "        4149,  4196,  4225,  4253,  4257,  4263,  4316,  4341,  4349,\n",
            "        4403,  4421,  4429,  4432,  4450,  4483,  4493,  4515,  4524,\n",
            "        4535,  4538,  4554,  4556,  4604,  4617,  4635,  4646,  4651,\n",
            "        4656,  4660,  4676,  4692,  4733,  4757,  4777,  4791,  4798,\n",
            "        4818,  4849,  4858,  4884,  4898,  4963,  4971,  4999,  5007,\n",
            "        5043,  5079,  5080,  5084,  5137,  5144,  5168,  5169,  5201,\n",
            "        5229,  5230,  5231,  5246,  5259,  5262,  5295,  5335,  5341,\n",
            "        5352,  5359,  5371,  5373,  5380,  5385,  5391,  5392,  5400,\n",
            "        5434,  5475,  5487,  5489,  5525,  5531,  5534,  5633,  5665,\n",
            "        5666,  5673,  5725,  5736,  5748,  5762,  5791,  5796,  5835,\n",
            "        5840,  5859,  5876,  5892,  5895,  5902,  5909,  5910,  5915,\n",
            "        5928,  5939,  5941,  5947,  5956,  5982,  6022,  6036,  6049,\n",
            "        6054,  6058,  6174,  6182,  6200,  6216,  6228,  6233,  6236,\n",
            "        6289,  6327,  6333,  6406,  6418,  6419,  6444,  6459,  6488,\n",
            "        6502,  6561,  6562,  6574,  6599,  6627,  6629,  6686,  6701,\n",
            "        6705,  6729,  6738,  6744,  6749,  6755,  6789,  6794,  6850,\n",
            "        6888,  6899,  6931,  6938,  6954,  6972,  7006,  7016,  7025,\n",
            "        7050,  7074,  7080,  7098,  7099,  7137,  7169,  7175,  7240,\n",
            "        7268,  7285,  7318,  7408,  7434,  7440,  7441,  7458,  7460,\n",
            "        7462,  7481,  7482,  7504,  7507,  7516,  7521,  7549,  7570,\n",
            "        7572,  7576,  7581,  7583,  7600,  7621,  7622,  7629,  7630,\n",
            "        7633,  7668,  7680,  7682,  7706,  7717,  7718,  7722,  7739,\n",
            "        7750,  7754,  7760,  7775,  7786,  7789,  7850,  7877,  7881,\n",
            "        7889,  7891,  7914,  7917,  7926,  7929,  7932,  7945,  7994,\n",
            "        8015,  8025,  8037,  8094,  8112,  8134,  8144,  8160,  8169,\n",
            "        8186,  8218,  8235,  8252,  8273,  8323,  8331,  8382,  8393,\n",
            "        8394,  8415,  8433,  8442,  8447,  8461,  8478,  8480,  8490,\n",
            "        8517,  8531,  8539,  8552,  8567,  8577,  8599,  8604,  8614,\n",
            "        8619,  8621,  8634,  8647,  8675,  8704,  8717,  8750,  8764,\n",
            "        8775,  8787,  8789,  8797,  8799,  8871,  8880,  8887,  8927,\n",
            "        8958,  8960,  8977,  8994,  9012,  9029,  9053,  9072,  9080,\n",
            "        9085,  9096,  9105,  9109,  9146,  9167,  9170,  9183,  9186,\n",
            "        9198,  9201,  9218,  9223,  9229,  9248,  9255,  9256,  9300,\n",
            "        9341,  9347,  9348,  9380,  9407,  9421,  9432,  9437,  9451,\n",
            "        9460,  9477,  9494,  9496,  9514,  9519,  9531,  9551,  9578,\n",
            "        9590,  9598,  9604,  9616,  9632,  9663,  9681,  9684,  9707,\n",
            "        9710,  9734,  9740,  9756,  9769,  9812,  9818,  9830,  9834,\n",
            "        9853,  9875,  9896,  9902,  9922,  9945,  9990,  9997, 10015,\n",
            "       10035, 10076, 10078, 10095, 10096, 10113, 10124, 10130, 10187,\n",
            "       10196, 10199, 10212, 10225, 10246, 10283, 10284, 10303, 10320,\n",
            "       10334, 10339, 10355, 10358, 10359, 10380, 10409, 10433, 10438,\n",
            "       10442, 10443, 10447, 10452, 10481, 10509, 10520, 10547, 10567,\n",
            "       10587, 10649, 10660, 10662, 10664, 10703, 10719, 10758, 10793,\n",
            "       10797, 10811, 10819, 10824, 10869, 10889, 10897, 10911, 10915,\n",
            "       10932, 10936, 10945, 10947, 10953, 10956, 10967, 10989, 11028,\n",
            "       11051, 11077, 11078, 11095, 11106, 11108, 11118, 11124, 11145,\n",
            "       11146, 11160, 11179, 11180, 11193, 11205, 11215, 11254, 11298,\n",
            "       11357, 11362, 11382, 11404, 11416, 11445, 11451, 11494, 11586,\n",
            "       11602, 11608, 11620, 11634, 11637, 11641, 11715, 11716, 11721,\n",
            "       11762, 11765, 11780, 11824, 11840, 11905, 11909, 11949, 11959,\n",
            "       11972, 11973, 11977, 12007, 12023, 12024, 12027, 12088, 12094,\n",
            "       12098, 12112, 12131, 12134, 12141, 12179, 12192, 12221, 12230,\n",
            "       12231, 12254, 12274, 12281, 12316, 12318, 12342, 12346, 12362,\n",
            "       12382, 12391, 12417, 12426, 12471, 12496, 12497, 12516, 12531,\n",
            "       12558, 12591, 12607, 12616, 12619, 12622, 12682, 12702, 12725,\n",
            "       12731, 12737, 12742, 12782, 12784, 12793, 12794, 12797, 12818,\n",
            "       12823, 12832, 12930, 12952, 12968, 12975, 12986, 13008, 13018,\n",
            "       13051, 13088, 13091, 13108, 13124, 13137, 13139, 13143, 13147,\n",
            "       13161, 13165, 13186, 13193, 13204, 13237, 13243, 13249, 13270,\n",
            "       13286, 13294, 13302, 13311, 13373, 13375, 13404, 13416, 13451,\n",
            "       13459, 13470, 13493, 13522, 13523, 13540, 13543, 13571, 13572,\n",
            "       13574, 13575, 13581, 13628, 13629, 13630, 13634, 13681, 13693,\n",
            "       13758, 13759, 13860, 13863, 13883, 13921, 13931, 13933, 13972,\n",
            "       13977, 13987, 13988, 14000, 14010, 14023, 14029, 14051, 14075,\n",
            "       14089, 14099, 14109, 14113, 14115, 14124, 14133, 14178, 14187,\n",
            "       14190, 14206, 14238, 14241, 14272, 14274, 14308, 14362, 14367,\n",
            "       14374, 14396, 14398, 14426, 14430, 14432, 14437, 14444, 14452,\n",
            "       14463, 14469, 14488, 14490, 14507, 14513, 14518, 14521, 14527,\n",
            "       14533, 14571, 14608, 14622, 14669, 14673, 14685, 14693, 14721,\n",
            "       14727, 14730, 14758, 14760, 14777, 14782, 14785, 14786, 14791,\n",
            "       14835, 14854, 14910, 14919, 14950, 14991, 15007, 15051, 15054,\n",
            "       15074, 15082, 15124, 15141, 15153, 15160, 15172, 15183, 15211,\n",
            "       15228, 15235, 15242, 15295, 15325]),)\n"
          ]
        }
      ],
      "source": [
        "#missclassified examples \n",
        "misclassified = np.where(preds_nl != y_test_nl)\n",
        "print(misclassified)"
      ]
    },
    {
      "cell_type": "code",
      "execution_count": 25,
      "metadata": {
        "colab": {
          "base_uri": "https://localhost:8080/"
        },
        "id": "1b5KD6cxGei7",
        "outputId": "5a2b633a-fb58-43ce-c574-edb484c329ea"
      },
      "outputs": [
        {
          "output_type": "stream",
          "name": "stdout",
          "text": [
            "['asl.', '13 f Zuid-Portland u?', 'Hallo.', 'Zoals oudere kerels?',\n",
            "'Ja hoor.', '21m', 'koel.', 'pic?', 'op mijn pro.', 'Ik heb er 1.',\n",
            "'Heel schattig.', \"realy's\", 'Ja.', 'Dat is het antwoord op de\n",
            "vraag.', 'Je hebt een foto.', 'Ja', 'Maak contact met mij.', 'huh.',\n",
            "\"Kliek op de botton die foto's vertoont.\", 'aan de bovenkant.', 'Het\n",
            "zal niet werken.', 'Stuur het per e-mail.', 'Wat is je e-mail?', 'Het\n",
            "is de eerste keer dat we het hebben gehad.', 'k h/o', 'kk', 'werd\n",
            "verstuurd.', 'kk', 'Ik heb het vastgehouden.', 'omg ur schattig.',\n",
            "'thanx.', 'waar je woont.', 'in Scarborough.', 'Is dat dicht bij me?',\n",
            "'waar je woont.', 'Zuid-Portland', 'De volgende stad...', 'Ik ben hier\n",
            "net in november verhuisd.', 'Vanwaar?', 'Michael.', 'o koel', 'Wat doe\n",
            "je als 2 voor de lol?', 'We moeten uit de buurt komen.', 'U?',\n",
            "'feestje lol.', 'haha.', \"Als je nog meer foto's van je hebt...\", 'Ja,\n",
            "lol.', 'Kun je me wat sturen?', 'kk hang op.', 'Redigeer...', 'Er is\n",
            "niets.', 'Laat me het e-mailen.', 'Wat heb je meegemaakt?', 'Ik\n",
            "e-mailde net u.', 'Gewoon antwoorden.', 'kk', 'grrrrr ik heb 2 mijn\n",
            "andere e-mail gebruikt ik ken niets wat fout is. Wat is onze e-mailddy\n",
            "kan ik niet terug in mijn yahoo krijgen?', 'Mijn scherm naam\n",
            "@yahoo.com', 'Ik stuur u een paar ok.', 'k.', 'OK gestuurd', 'Je\n",
            "begrijpt het.', 'Ja.', 'Heel schattig.', 'Ik bedoel het.', 'Ja.',\n",
            "'heel heet.', 'Wauw thanx.', 'Ben je maagd?', 'Nee lol r u?', 'Nee.',\n",
            "'Hoe oud heb je hem verloren?', 'Dit was afgelopen zomer.', 'Ik deed\n",
            "het 3 keer.', 'koel.', 'Hoe oud was hij?', '17', \"Je geeft bj's?\",\n",
            "'Dat deed ik nooit.', 'Is het moeilijk?', 'Ik suik alleen maar een\n",
            "poot.', 'Ik voel me stom, ik heb niet veel afwijkende dingen.', 'Dat\n",
            "is oké.', 'Ik wou dat ik dat deed.', 'Ik kan u leren lol.', 'Echt\n",
            "waar?', 'Ja.', 'Toen u seks had, waar had hij geslacht?', 'op mijn\n",
            "buik.', 'koel.', 'Wat draag je aan?', 'schrijf nu?', 'Ja', 'Gewoon wat\n",
            "zweet en een tee.', 'Wat is je naam?', 'chris.', 'Imbrooke.', 'Wat doe\n",
            "je?', 'Ga je weg?', 'Nee.', 'u buzy.', 'Ya i gtg bbl', 'kk', 'Hey, als\n",
            "je de volgende keer aankomt, hit me op kk.']\n",
            "\n",
            "True label: predator\n",
            "\n",
            "Predicted label: 0\n"
          ]
        }
      ],
      "source": [
        "#example from the test data and its true and predicted labels\n",
        "idx = 1827\n",
        "review_text = nl_testset['messages_de'][idx]\n",
        "true_sentiment = y_test_nl[idx]\n",
        "pred_df = pd.DataFrame({\n",
        "  'class_names': class_names,\n",
        "  'values': preds_nl[idx]\n",
        "}) \n",
        "print(\"\\n\".join(wrap(review_text)))\n",
        "print()\n",
        "print(f'True label: {class_names[true_sentiment]}')\n",
        "print()\n",
        "print(f'Predicted label: {preds_nl[idx]}')\n"
      ]
    },
    {
      "cell_type": "code",
      "execution_count": null,
      "metadata": {
        "id": "b22HCJ20KALd"
      },
      "outputs": [],
      "source": [
        "#from transformers import AutoTokenizer, AutoModelForSequenceClassification\n",
        "\n",
        "#tokenizer_r = AutoTokenizer.from_pretrained(\"Constien/xmlRoberta_Dutch\")\n",
        "#model_r = AutoModelForSequenceClassification.from_pretrained(\"Constien/xmlRoberta_Dutch\")"
      ]
    }
  ],
  "metadata": {
    "accelerator": "GPU",
    "colab": {
      "machine_shape": "hm",
      "provenance": [],
      "authorship_tag": "ABX9TyMzCGxsDWfsRzxB9jLlbVkt"
    },
    "gpuClass": "standard",
    "kernelspec": {
      "display_name": "Python 3",
      "name": "python3"
    },
    "language_info": {
      "name": "python"
    },
    "widgets": {
      "application/vnd.jupyter.widget-state+json": {
        "1ed72bc709f445279405243f64141805": {
          "model_module": "@jupyter-widgets/controls",
          "model_name": "HBoxModel",
          "model_module_version": "1.5.0",
          "state": {
            "_dom_classes": [],
            "_model_module": "@jupyter-widgets/controls",
            "_model_module_version": "1.5.0",
            "_model_name": "HBoxModel",
            "_view_count": null,
            "_view_module": "@jupyter-widgets/controls",
            "_view_module_version": "1.5.0",
            "_view_name": "HBoxView",
            "box_style": "",
            "children": [
              "IPY_MODEL_cd6b93af367c41d885e045228c77d1ef",
              "IPY_MODEL_2fc1101cccad40e8b402e730ebb64290",
              "IPY_MODEL_825dfccb4134440687c8f0b9d20554a3"
            ],
            "layout": "IPY_MODEL_e29bfc495aa34ff1af7b014f1c83edb7"
          }
        },
        "cd6b93af367c41d885e045228c77d1ef": {
          "model_module": "@jupyter-widgets/controls",
          "model_name": "HTMLModel",
          "model_module_version": "1.5.0",
          "state": {
            "_dom_classes": [],
            "_model_module": "@jupyter-widgets/controls",
            "_model_module_version": "1.5.0",
            "_model_name": "HTMLModel",
            "_view_count": null,
            "_view_module": "@jupyter-widgets/controls",
            "_view_module_version": "1.5.0",
            "_view_name": "HTMLView",
            "description": "",
            "description_tooltip": null,
            "layout": "IPY_MODEL_52870a1c947d482c834a5f4023eec211",
            "placeholder": "​",
            "style": "IPY_MODEL_9001597b5607470295176a98f080e35a",
            "value": "Downloading builder script: 100%"
          }
        },
        "2fc1101cccad40e8b402e730ebb64290": {
          "model_module": "@jupyter-widgets/controls",
          "model_name": "FloatProgressModel",
          "model_module_version": "1.5.0",
          "state": {
            "_dom_classes": [],
            "_model_module": "@jupyter-widgets/controls",
            "_model_module_version": "1.5.0",
            "_model_name": "FloatProgressModel",
            "_view_count": null,
            "_view_module": "@jupyter-widgets/controls",
            "_view_module_version": "1.5.0",
            "_view_name": "ProgressView",
            "bar_style": "success",
            "description": "",
            "description_tooltip": null,
            "layout": "IPY_MODEL_10f6e3c489b349308f1a77e277bb5e5a",
            "max": 6771,
            "min": 0,
            "orientation": "horizontal",
            "style": "IPY_MODEL_73b6c851b17a4565ac593b460907eab2",
            "value": 6771
          }
        },
        "825dfccb4134440687c8f0b9d20554a3": {
          "model_module": "@jupyter-widgets/controls",
          "model_name": "HTMLModel",
          "model_module_version": "1.5.0",
          "state": {
            "_dom_classes": [],
            "_model_module": "@jupyter-widgets/controls",
            "_model_module_version": "1.5.0",
            "_model_name": "HTMLModel",
            "_view_count": null,
            "_view_module": "@jupyter-widgets/controls",
            "_view_module_version": "1.5.0",
            "_view_name": "HTMLView",
            "description": "",
            "description_tooltip": null,
            "layout": "IPY_MODEL_a827ad9430ff403997a0f6a3da90ecf4",
            "placeholder": "​",
            "style": "IPY_MODEL_62d1c5ffbfd545f3996c795c185ac0eb",
            "value": " 6.77k/6.77k [00:00&lt;00:00, 416kB/s]"
          }
        },
        "e29bfc495aa34ff1af7b014f1c83edb7": {
          "model_module": "@jupyter-widgets/base",
          "model_name": "LayoutModel",
          "model_module_version": "1.2.0",
          "state": {
            "_model_module": "@jupyter-widgets/base",
            "_model_module_version": "1.2.0",
            "_model_name": "LayoutModel",
            "_view_count": null,
            "_view_module": "@jupyter-widgets/base",
            "_view_module_version": "1.2.0",
            "_view_name": "LayoutView",
            "align_content": null,
            "align_items": null,
            "align_self": null,
            "border": null,
            "bottom": null,
            "display": null,
            "flex": null,
            "flex_flow": null,
            "grid_area": null,
            "grid_auto_columns": null,
            "grid_auto_flow": null,
            "grid_auto_rows": null,
            "grid_column": null,
            "grid_gap": null,
            "grid_row": null,
            "grid_template_areas": null,
            "grid_template_columns": null,
            "grid_template_rows": null,
            "height": null,
            "justify_content": null,
            "justify_items": null,
            "left": null,
            "margin": null,
            "max_height": null,
            "max_width": null,
            "min_height": null,
            "min_width": null,
            "object_fit": null,
            "object_position": null,
            "order": null,
            "overflow": null,
            "overflow_x": null,
            "overflow_y": null,
            "padding": null,
            "right": null,
            "top": null,
            "visibility": null,
            "width": null
          }
        },
        "52870a1c947d482c834a5f4023eec211": {
          "model_module": "@jupyter-widgets/base",
          "model_name": "LayoutModel",
          "model_module_version": "1.2.0",
          "state": {
            "_model_module": "@jupyter-widgets/base",
            "_model_module_version": "1.2.0",
            "_model_name": "LayoutModel",
            "_view_count": null,
            "_view_module": "@jupyter-widgets/base",
            "_view_module_version": "1.2.0",
            "_view_name": "LayoutView",
            "align_content": null,
            "align_items": null,
            "align_self": null,
            "border": null,
            "bottom": null,
            "display": null,
            "flex": null,
            "flex_flow": null,
            "grid_area": null,
            "grid_auto_columns": null,
            "grid_auto_flow": null,
            "grid_auto_rows": null,
            "grid_column": null,
            "grid_gap": null,
            "grid_row": null,
            "grid_template_areas": null,
            "grid_template_columns": null,
            "grid_template_rows": null,
            "height": null,
            "justify_content": null,
            "justify_items": null,
            "left": null,
            "margin": null,
            "max_height": null,
            "max_width": null,
            "min_height": null,
            "min_width": null,
            "object_fit": null,
            "object_position": null,
            "order": null,
            "overflow": null,
            "overflow_x": null,
            "overflow_y": null,
            "padding": null,
            "right": null,
            "top": null,
            "visibility": null,
            "width": null
          }
        },
        "9001597b5607470295176a98f080e35a": {
          "model_module": "@jupyter-widgets/controls",
          "model_name": "DescriptionStyleModel",
          "model_module_version": "1.5.0",
          "state": {
            "_model_module": "@jupyter-widgets/controls",
            "_model_module_version": "1.5.0",
            "_model_name": "DescriptionStyleModel",
            "_view_count": null,
            "_view_module": "@jupyter-widgets/base",
            "_view_module_version": "1.2.0",
            "_view_name": "StyleView",
            "description_width": ""
          }
        },
        "10f6e3c489b349308f1a77e277bb5e5a": {
          "model_module": "@jupyter-widgets/base",
          "model_name": "LayoutModel",
          "model_module_version": "1.2.0",
          "state": {
            "_model_module": "@jupyter-widgets/base",
            "_model_module_version": "1.2.0",
            "_model_name": "LayoutModel",
            "_view_count": null,
            "_view_module": "@jupyter-widgets/base",
            "_view_module_version": "1.2.0",
            "_view_name": "LayoutView",
            "align_content": null,
            "align_items": null,
            "align_self": null,
            "border": null,
            "bottom": null,
            "display": null,
            "flex": null,
            "flex_flow": null,
            "grid_area": null,
            "grid_auto_columns": null,
            "grid_auto_flow": null,
            "grid_auto_rows": null,
            "grid_column": null,
            "grid_gap": null,
            "grid_row": null,
            "grid_template_areas": null,
            "grid_template_columns": null,
            "grid_template_rows": null,
            "height": null,
            "justify_content": null,
            "justify_items": null,
            "left": null,
            "margin": null,
            "max_height": null,
            "max_width": null,
            "min_height": null,
            "min_width": null,
            "object_fit": null,
            "object_position": null,
            "order": null,
            "overflow": null,
            "overflow_x": null,
            "overflow_y": null,
            "padding": null,
            "right": null,
            "top": null,
            "visibility": null,
            "width": null
          }
        },
        "73b6c851b17a4565ac593b460907eab2": {
          "model_module": "@jupyter-widgets/controls",
          "model_name": "ProgressStyleModel",
          "model_module_version": "1.5.0",
          "state": {
            "_model_module": "@jupyter-widgets/controls",
            "_model_module_version": "1.5.0",
            "_model_name": "ProgressStyleModel",
            "_view_count": null,
            "_view_module": "@jupyter-widgets/base",
            "_view_module_version": "1.2.0",
            "_view_name": "StyleView",
            "bar_color": null,
            "description_width": ""
          }
        },
        "a827ad9430ff403997a0f6a3da90ecf4": {
          "model_module": "@jupyter-widgets/base",
          "model_name": "LayoutModel",
          "model_module_version": "1.2.0",
          "state": {
            "_model_module": "@jupyter-widgets/base",
            "_model_module_version": "1.2.0",
            "_model_name": "LayoutModel",
            "_view_count": null,
            "_view_module": "@jupyter-widgets/base",
            "_view_module_version": "1.2.0",
            "_view_name": "LayoutView",
            "align_content": null,
            "align_items": null,
            "align_self": null,
            "border": null,
            "bottom": null,
            "display": null,
            "flex": null,
            "flex_flow": null,
            "grid_area": null,
            "grid_auto_columns": null,
            "grid_auto_flow": null,
            "grid_auto_rows": null,
            "grid_column": null,
            "grid_gap": null,
            "grid_row": null,
            "grid_template_areas": null,
            "grid_template_columns": null,
            "grid_template_rows": null,
            "height": null,
            "justify_content": null,
            "justify_items": null,
            "left": null,
            "margin": null,
            "max_height": null,
            "max_width": null,
            "min_height": null,
            "min_width": null,
            "object_fit": null,
            "object_position": null,
            "order": null,
            "overflow": null,
            "overflow_x": null,
            "overflow_y": null,
            "padding": null,
            "right": null,
            "top": null,
            "visibility": null,
            "width": null
          }
        },
        "62d1c5ffbfd545f3996c795c185ac0eb": {
          "model_module": "@jupyter-widgets/controls",
          "model_name": "DescriptionStyleModel",
          "model_module_version": "1.5.0",
          "state": {
            "_model_module": "@jupyter-widgets/controls",
            "_model_module_version": "1.5.0",
            "_model_name": "DescriptionStyleModel",
            "_view_count": null,
            "_view_module": "@jupyter-widgets/base",
            "_view_module_version": "1.2.0",
            "_view_name": "StyleView",
            "description_width": ""
          }
        }
      }
    }
  },
  "nbformat": 4,
  "nbformat_minor": 0
}
