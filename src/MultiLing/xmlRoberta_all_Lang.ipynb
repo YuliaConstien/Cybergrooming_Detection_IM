{
  "nbformat": 4,
  "nbformat_minor": 0,
  "metadata": {
    "colab": {
      "provenance": [],
      "machine_shape": "hm",
      "authorship_tag": "ABX9TyMHr3gsfSLjpusynh4Xfdjd"
    },
    "kernelspec": {
      "name": "python3",
      "display_name": "Python 3"
    },
    "language_info": {
      "name": "python"
    },
    "accelerator": "GPU",
    "gpuClass": "standard",
    "widgets": {
      "application/vnd.jupyter.widget-state+json": {
        "c43d81bbea244ca99eccfffcdae5b1e1": {
          "model_module": "@jupyter-widgets/controls",
          "model_name": "HBoxModel",
          "model_module_version": "1.5.0",
          "state": {
            "_dom_classes": [],
            "_model_module": "@jupyter-widgets/controls",
            "_model_module_version": "1.5.0",
            "_model_name": "HBoxModel",
            "_view_count": null,
            "_view_module": "@jupyter-widgets/controls",
            "_view_module_version": "1.5.0",
            "_view_name": "HBoxView",
            "box_style": "",
            "children": [
              "IPY_MODEL_beac163a87f74199912ac6e21f25b518",
              "IPY_MODEL_b588b1adfee94a1aa2061142caf5f315",
              "IPY_MODEL_c8ff810031f9482d826092169363b8db"
            ],
            "layout": "IPY_MODEL_6811a474c311448f9d7f3d139aa90cc0"
          }
        },
        "beac163a87f74199912ac6e21f25b518": {
          "model_module": "@jupyter-widgets/controls",
          "model_name": "HTMLModel",
          "model_module_version": "1.5.0",
          "state": {
            "_dom_classes": [],
            "_model_module": "@jupyter-widgets/controls",
            "_model_module_version": "1.5.0",
            "_model_name": "HTMLModel",
            "_view_count": null,
            "_view_module": "@jupyter-widgets/controls",
            "_view_module_version": "1.5.0",
            "_view_name": "HTMLView",
            "description": "",
            "description_tooltip": null,
            "layout": "IPY_MODEL_c2bc6a52e5c1465e9349df26803fcab7",
            "placeholder": "​",
            "style": "IPY_MODEL_7a020717999c4101a37c1b8beb297f54",
            "value": "Downloading builder script: 100%"
          }
        },
        "b588b1adfee94a1aa2061142caf5f315": {
          "model_module": "@jupyter-widgets/controls",
          "model_name": "FloatProgressModel",
          "model_module_version": "1.5.0",
          "state": {
            "_dom_classes": [],
            "_model_module": "@jupyter-widgets/controls",
            "_model_module_version": "1.5.0",
            "_model_name": "FloatProgressModel",
            "_view_count": null,
            "_view_module": "@jupyter-widgets/controls",
            "_view_module_version": "1.5.0",
            "_view_name": "ProgressView",
            "bar_style": "success",
            "description": "",
            "description_tooltip": null,
            "layout": "IPY_MODEL_3636e612bafe46bda184d2d33182691b",
            "max": 6771,
            "min": 0,
            "orientation": "horizontal",
            "style": "IPY_MODEL_e372d299c8aa44539919ee2b64172b80",
            "value": 6771
          }
        },
        "c8ff810031f9482d826092169363b8db": {
          "model_module": "@jupyter-widgets/controls",
          "model_name": "HTMLModel",
          "model_module_version": "1.5.0",
          "state": {
            "_dom_classes": [],
            "_model_module": "@jupyter-widgets/controls",
            "_model_module_version": "1.5.0",
            "_model_name": "HTMLModel",
            "_view_count": null,
            "_view_module": "@jupyter-widgets/controls",
            "_view_module_version": "1.5.0",
            "_view_name": "HTMLView",
            "description": "",
            "description_tooltip": null,
            "layout": "IPY_MODEL_d08e451c16c848a6a09664591d828ee3",
            "placeholder": "​",
            "style": "IPY_MODEL_8f1cce07b27344bab50c51eb4e9d4578",
            "value": " 6.77k/6.77k [00:00&lt;00:00, 429kB/s]"
          }
        },
        "6811a474c311448f9d7f3d139aa90cc0": {
          "model_module": "@jupyter-widgets/base",
          "model_name": "LayoutModel",
          "model_module_version": "1.2.0",
          "state": {
            "_model_module": "@jupyter-widgets/base",
            "_model_module_version": "1.2.0",
            "_model_name": "LayoutModel",
            "_view_count": null,
            "_view_module": "@jupyter-widgets/base",
            "_view_module_version": "1.2.0",
            "_view_name": "LayoutView",
            "align_content": null,
            "align_items": null,
            "align_self": null,
            "border": null,
            "bottom": null,
            "display": null,
            "flex": null,
            "flex_flow": null,
            "grid_area": null,
            "grid_auto_columns": null,
            "grid_auto_flow": null,
            "grid_auto_rows": null,
            "grid_column": null,
            "grid_gap": null,
            "grid_row": null,
            "grid_template_areas": null,
            "grid_template_columns": null,
            "grid_template_rows": null,
            "height": null,
            "justify_content": null,
            "justify_items": null,
            "left": null,
            "margin": null,
            "max_height": null,
            "max_width": null,
            "min_height": null,
            "min_width": null,
            "object_fit": null,
            "object_position": null,
            "order": null,
            "overflow": null,
            "overflow_x": null,
            "overflow_y": null,
            "padding": null,
            "right": null,
            "top": null,
            "visibility": null,
            "width": null
          }
        },
        "c2bc6a52e5c1465e9349df26803fcab7": {
          "model_module": "@jupyter-widgets/base",
          "model_name": "LayoutModel",
          "model_module_version": "1.2.0",
          "state": {
            "_model_module": "@jupyter-widgets/base",
            "_model_module_version": "1.2.0",
            "_model_name": "LayoutModel",
            "_view_count": null,
            "_view_module": "@jupyter-widgets/base",
            "_view_module_version": "1.2.0",
            "_view_name": "LayoutView",
            "align_content": null,
            "align_items": null,
            "align_self": null,
            "border": null,
            "bottom": null,
            "display": null,
            "flex": null,
            "flex_flow": null,
            "grid_area": null,
            "grid_auto_columns": null,
            "grid_auto_flow": null,
            "grid_auto_rows": null,
            "grid_column": null,
            "grid_gap": null,
            "grid_row": null,
            "grid_template_areas": null,
            "grid_template_columns": null,
            "grid_template_rows": null,
            "height": null,
            "justify_content": null,
            "justify_items": null,
            "left": null,
            "margin": null,
            "max_height": null,
            "max_width": null,
            "min_height": null,
            "min_width": null,
            "object_fit": null,
            "object_position": null,
            "order": null,
            "overflow": null,
            "overflow_x": null,
            "overflow_y": null,
            "padding": null,
            "right": null,
            "top": null,
            "visibility": null,
            "width": null
          }
        },
        "7a020717999c4101a37c1b8beb297f54": {
          "model_module": "@jupyter-widgets/controls",
          "model_name": "DescriptionStyleModel",
          "model_module_version": "1.5.0",
          "state": {
            "_model_module": "@jupyter-widgets/controls",
            "_model_module_version": "1.5.0",
            "_model_name": "DescriptionStyleModel",
            "_view_count": null,
            "_view_module": "@jupyter-widgets/base",
            "_view_module_version": "1.2.0",
            "_view_name": "StyleView",
            "description_width": ""
          }
        },
        "3636e612bafe46bda184d2d33182691b": {
          "model_module": "@jupyter-widgets/base",
          "model_name": "LayoutModel",
          "model_module_version": "1.2.0",
          "state": {
            "_model_module": "@jupyter-widgets/base",
            "_model_module_version": "1.2.0",
            "_model_name": "LayoutModel",
            "_view_count": null,
            "_view_module": "@jupyter-widgets/base",
            "_view_module_version": "1.2.0",
            "_view_name": "LayoutView",
            "align_content": null,
            "align_items": null,
            "align_self": null,
            "border": null,
            "bottom": null,
            "display": null,
            "flex": null,
            "flex_flow": null,
            "grid_area": null,
            "grid_auto_columns": null,
            "grid_auto_flow": null,
            "grid_auto_rows": null,
            "grid_column": null,
            "grid_gap": null,
            "grid_row": null,
            "grid_template_areas": null,
            "grid_template_columns": null,
            "grid_template_rows": null,
            "height": null,
            "justify_content": null,
            "justify_items": null,
            "left": null,
            "margin": null,
            "max_height": null,
            "max_width": null,
            "min_height": null,
            "min_width": null,
            "object_fit": null,
            "object_position": null,
            "order": null,
            "overflow": null,
            "overflow_x": null,
            "overflow_y": null,
            "padding": null,
            "right": null,
            "top": null,
            "visibility": null,
            "width": null
          }
        },
        "e372d299c8aa44539919ee2b64172b80": {
          "model_module": "@jupyter-widgets/controls",
          "model_name": "ProgressStyleModel",
          "model_module_version": "1.5.0",
          "state": {
            "_model_module": "@jupyter-widgets/controls",
            "_model_module_version": "1.5.0",
            "_model_name": "ProgressStyleModel",
            "_view_count": null,
            "_view_module": "@jupyter-widgets/base",
            "_view_module_version": "1.2.0",
            "_view_name": "StyleView",
            "bar_color": null,
            "description_width": ""
          }
        },
        "d08e451c16c848a6a09664591d828ee3": {
          "model_module": "@jupyter-widgets/base",
          "model_name": "LayoutModel",
          "model_module_version": "1.2.0",
          "state": {
            "_model_module": "@jupyter-widgets/base",
            "_model_module_version": "1.2.0",
            "_model_name": "LayoutModel",
            "_view_count": null,
            "_view_module": "@jupyter-widgets/base",
            "_view_module_version": "1.2.0",
            "_view_name": "LayoutView",
            "align_content": null,
            "align_items": null,
            "align_self": null,
            "border": null,
            "bottom": null,
            "display": null,
            "flex": null,
            "flex_flow": null,
            "grid_area": null,
            "grid_auto_columns": null,
            "grid_auto_flow": null,
            "grid_auto_rows": null,
            "grid_column": null,
            "grid_gap": null,
            "grid_row": null,
            "grid_template_areas": null,
            "grid_template_columns": null,
            "grid_template_rows": null,
            "height": null,
            "justify_content": null,
            "justify_items": null,
            "left": null,
            "margin": null,
            "max_height": null,
            "max_width": null,
            "min_height": null,
            "min_width": null,
            "object_fit": null,
            "object_position": null,
            "order": null,
            "overflow": null,
            "overflow_x": null,
            "overflow_y": null,
            "padding": null,
            "right": null,
            "top": null,
            "visibility": null,
            "width": null
          }
        },
        "8f1cce07b27344bab50c51eb4e9d4578": {
          "model_module": "@jupyter-widgets/controls",
          "model_name": "DescriptionStyleModel",
          "model_module_version": "1.5.0",
          "state": {
            "_model_module": "@jupyter-widgets/controls",
            "_model_module_version": "1.5.0",
            "_model_name": "DescriptionStyleModel",
            "_view_count": null,
            "_view_module": "@jupyter-widgets/base",
            "_view_module_version": "1.2.0",
            "_view_name": "StyleView",
            "description_width": ""
          }
        },
        "889aba29f15a4e30b0570625638325a4": {
          "model_module": "@jupyter-widgets/controls",
          "model_name": "HBoxModel",
          "model_module_version": "1.5.0",
          "state": {
            "_dom_classes": [],
            "_model_module": "@jupyter-widgets/controls",
            "_model_module_version": "1.5.0",
            "_model_name": "HBoxModel",
            "_view_count": null,
            "_view_module": "@jupyter-widgets/controls",
            "_view_module_version": "1.5.0",
            "_view_name": "HBoxView",
            "box_style": "",
            "children": [
              "IPY_MODEL_8590bc8fd175401b94ed4d92471fc47c",
              "IPY_MODEL_5d185702010c43fc9f0743c9bb6b36ad",
              "IPY_MODEL_8c0571f70b4e402fb90478a08c2defa0"
            ],
            "layout": "IPY_MODEL_b1e877bbe17e444f876f75f6739a990b"
          }
        },
        "8590bc8fd175401b94ed4d92471fc47c": {
          "model_module": "@jupyter-widgets/controls",
          "model_name": "HTMLModel",
          "model_module_version": "1.5.0",
          "state": {
            "_dom_classes": [],
            "_model_module": "@jupyter-widgets/controls",
            "_model_module_version": "1.5.0",
            "_model_name": "HTMLModel",
            "_view_count": null,
            "_view_module": "@jupyter-widgets/controls",
            "_view_module_version": "1.5.0",
            "_view_name": "HTMLView",
            "description": "",
            "description_tooltip": null,
            "layout": "IPY_MODEL_089bdb97e67a4f8698137d823352b59c",
            "placeholder": "​",
            "style": "IPY_MODEL_0286b4ebedb545a6b338f3b78366e2a3",
            "value": "Downloading builder script: 100%"
          }
        },
        "5d185702010c43fc9f0743c9bb6b36ad": {
          "model_module": "@jupyter-widgets/controls",
          "model_name": "FloatProgressModel",
          "model_module_version": "1.5.0",
          "state": {
            "_dom_classes": [],
            "_model_module": "@jupyter-widgets/controls",
            "_model_module_version": "1.5.0",
            "_model_name": "FloatProgressModel",
            "_view_count": null,
            "_view_module": "@jupyter-widgets/controls",
            "_view_module_version": "1.5.0",
            "_view_name": "ProgressView",
            "bar_style": "success",
            "description": "",
            "description_tooltip": null,
            "layout": "IPY_MODEL_9d4ab6959369473cae1a0ea1589d6155",
            "max": 6771,
            "min": 0,
            "orientation": "horizontal",
            "style": "IPY_MODEL_3a5e133fdf8445d6b7ee4571434389ea",
            "value": 6771
          }
        },
        "8c0571f70b4e402fb90478a08c2defa0": {
          "model_module": "@jupyter-widgets/controls",
          "model_name": "HTMLModel",
          "model_module_version": "1.5.0",
          "state": {
            "_dom_classes": [],
            "_model_module": "@jupyter-widgets/controls",
            "_model_module_version": "1.5.0",
            "_model_name": "HTMLModel",
            "_view_count": null,
            "_view_module": "@jupyter-widgets/controls",
            "_view_module_version": "1.5.0",
            "_view_name": "HTMLView",
            "description": "",
            "description_tooltip": null,
            "layout": "IPY_MODEL_e293226776604311ae4338d587c881e6",
            "placeholder": "​",
            "style": "IPY_MODEL_283883539e314f2bae4ab8a771c5c32e",
            "value": " 6.77k/6.77k [00:00&lt;00:00, 541kB/s]"
          }
        },
        "b1e877bbe17e444f876f75f6739a990b": {
          "model_module": "@jupyter-widgets/base",
          "model_name": "LayoutModel",
          "model_module_version": "1.2.0",
          "state": {
            "_model_module": "@jupyter-widgets/base",
            "_model_module_version": "1.2.0",
            "_model_name": "LayoutModel",
            "_view_count": null,
            "_view_module": "@jupyter-widgets/base",
            "_view_module_version": "1.2.0",
            "_view_name": "LayoutView",
            "align_content": null,
            "align_items": null,
            "align_self": null,
            "border": null,
            "bottom": null,
            "display": null,
            "flex": null,
            "flex_flow": null,
            "grid_area": null,
            "grid_auto_columns": null,
            "grid_auto_flow": null,
            "grid_auto_rows": null,
            "grid_column": null,
            "grid_gap": null,
            "grid_row": null,
            "grid_template_areas": null,
            "grid_template_columns": null,
            "grid_template_rows": null,
            "height": null,
            "justify_content": null,
            "justify_items": null,
            "left": null,
            "margin": null,
            "max_height": null,
            "max_width": null,
            "min_height": null,
            "min_width": null,
            "object_fit": null,
            "object_position": null,
            "order": null,
            "overflow": null,
            "overflow_x": null,
            "overflow_y": null,
            "padding": null,
            "right": null,
            "top": null,
            "visibility": null,
            "width": null
          }
        },
        "089bdb97e67a4f8698137d823352b59c": {
          "model_module": "@jupyter-widgets/base",
          "model_name": "LayoutModel",
          "model_module_version": "1.2.0",
          "state": {
            "_model_module": "@jupyter-widgets/base",
            "_model_module_version": "1.2.0",
            "_model_name": "LayoutModel",
            "_view_count": null,
            "_view_module": "@jupyter-widgets/base",
            "_view_module_version": "1.2.0",
            "_view_name": "LayoutView",
            "align_content": null,
            "align_items": null,
            "align_self": null,
            "border": null,
            "bottom": null,
            "display": null,
            "flex": null,
            "flex_flow": null,
            "grid_area": null,
            "grid_auto_columns": null,
            "grid_auto_flow": null,
            "grid_auto_rows": null,
            "grid_column": null,
            "grid_gap": null,
            "grid_row": null,
            "grid_template_areas": null,
            "grid_template_columns": null,
            "grid_template_rows": null,
            "height": null,
            "justify_content": null,
            "justify_items": null,
            "left": null,
            "margin": null,
            "max_height": null,
            "max_width": null,
            "min_height": null,
            "min_width": null,
            "object_fit": null,
            "object_position": null,
            "order": null,
            "overflow": null,
            "overflow_x": null,
            "overflow_y": null,
            "padding": null,
            "right": null,
            "top": null,
            "visibility": null,
            "width": null
          }
        },
        "0286b4ebedb545a6b338f3b78366e2a3": {
          "model_module": "@jupyter-widgets/controls",
          "model_name": "DescriptionStyleModel",
          "model_module_version": "1.5.0",
          "state": {
            "_model_module": "@jupyter-widgets/controls",
            "_model_module_version": "1.5.0",
            "_model_name": "DescriptionStyleModel",
            "_view_count": null,
            "_view_module": "@jupyter-widgets/base",
            "_view_module_version": "1.2.0",
            "_view_name": "StyleView",
            "description_width": ""
          }
        },
        "9d4ab6959369473cae1a0ea1589d6155": {
          "model_module": "@jupyter-widgets/base",
          "model_name": "LayoutModel",
          "model_module_version": "1.2.0",
          "state": {
            "_model_module": "@jupyter-widgets/base",
            "_model_module_version": "1.2.0",
            "_model_name": "LayoutModel",
            "_view_count": null,
            "_view_module": "@jupyter-widgets/base",
            "_view_module_version": "1.2.0",
            "_view_name": "LayoutView",
            "align_content": null,
            "align_items": null,
            "align_self": null,
            "border": null,
            "bottom": null,
            "display": null,
            "flex": null,
            "flex_flow": null,
            "grid_area": null,
            "grid_auto_columns": null,
            "grid_auto_flow": null,
            "grid_auto_rows": null,
            "grid_column": null,
            "grid_gap": null,
            "grid_row": null,
            "grid_template_areas": null,
            "grid_template_columns": null,
            "grid_template_rows": null,
            "height": null,
            "justify_content": null,
            "justify_items": null,
            "left": null,
            "margin": null,
            "max_height": null,
            "max_width": null,
            "min_height": null,
            "min_width": null,
            "object_fit": null,
            "object_position": null,
            "order": null,
            "overflow": null,
            "overflow_x": null,
            "overflow_y": null,
            "padding": null,
            "right": null,
            "top": null,
            "visibility": null,
            "width": null
          }
        },
        "3a5e133fdf8445d6b7ee4571434389ea": {
          "model_module": "@jupyter-widgets/controls",
          "model_name": "ProgressStyleModel",
          "model_module_version": "1.5.0",
          "state": {
            "_model_module": "@jupyter-widgets/controls",
            "_model_module_version": "1.5.0",
            "_model_name": "ProgressStyleModel",
            "_view_count": null,
            "_view_module": "@jupyter-widgets/base",
            "_view_module_version": "1.2.0",
            "_view_name": "StyleView",
            "bar_color": null,
            "description_width": ""
          }
        },
        "e293226776604311ae4338d587c881e6": {
          "model_module": "@jupyter-widgets/base",
          "model_name": "LayoutModel",
          "model_module_version": "1.2.0",
          "state": {
            "_model_module": "@jupyter-widgets/base",
            "_model_module_version": "1.2.0",
            "_model_name": "LayoutModel",
            "_view_count": null,
            "_view_module": "@jupyter-widgets/base",
            "_view_module_version": "1.2.0",
            "_view_name": "LayoutView",
            "align_content": null,
            "align_items": null,
            "align_self": null,
            "border": null,
            "bottom": null,
            "display": null,
            "flex": null,
            "flex_flow": null,
            "grid_area": null,
            "grid_auto_columns": null,
            "grid_auto_flow": null,
            "grid_auto_rows": null,
            "grid_column": null,
            "grid_gap": null,
            "grid_row": null,
            "grid_template_areas": null,
            "grid_template_columns": null,
            "grid_template_rows": null,
            "height": null,
            "justify_content": null,
            "justify_items": null,
            "left": null,
            "margin": null,
            "max_height": null,
            "max_width": null,
            "min_height": null,
            "min_width": null,
            "object_fit": null,
            "object_position": null,
            "order": null,
            "overflow": null,
            "overflow_x": null,
            "overflow_y": null,
            "padding": null,
            "right": null,
            "top": null,
            "visibility": null,
            "width": null
          }
        },
        "283883539e314f2bae4ab8a771c5c32e": {
          "model_module": "@jupyter-widgets/controls",
          "model_name": "DescriptionStyleModel",
          "model_module_version": "1.5.0",
          "state": {
            "_model_module": "@jupyter-widgets/controls",
            "_model_module_version": "1.5.0",
            "_model_name": "DescriptionStyleModel",
            "_view_count": null,
            "_view_module": "@jupyter-widgets/base",
            "_view_module_version": "1.2.0",
            "_view_name": "StyleView",
            "description_width": ""
          }
        }
      }
    }
  },
  "cells": [
    {
      "cell_type": "code",
      "execution_count": null,
      "metadata": {
        "id": "Ye8ghrnBMlJr"
      },
      "outputs": [],
      "source": [
        "!pip install transformers\n"
      ]
    },
    {
      "cell_type": "code",
      "source": [
        "#install hugging face evaluate \n",
        "!pip install evaluate"
      ],
      "metadata": {
        "id": "nxVg07LLMx7i"
      },
      "execution_count": null,
      "outputs": []
    },
    {
      "cell_type": "code",
      "source": [
        "# imports \n",
        "import pandas as pd\n",
        "import seaborn as sns\n",
        "import matplotlib.pyplot as plt\n",
        "import numpy as np \n",
        "\n",
        "import torch\n",
        "\n",
        "from transformers import AutoTokenizer, AutoModelForSequenceClassification\n",
        "\n",
        "from transformers import pipeline\n",
        "\n",
        "#from datasets import load_dataset\n",
        "from transformers import TrainingArguments, Trainer\n",
        "from huggingface_hub import notebook_login\n",
        "from textwrap import wrap\n",
        "\n",
        "\n",
        "import evaluate\n",
        "\n",
        "from sklearn.metrics import roc_curve, auc\n",
        "from sklearn.utils import shuffle\n",
        "\n",
        "\n",
        "\n",
        "from sklearn.metrics import confusion_matrix, classification_report  \n"
      ],
      "metadata": {
        "id": "onEKulDDMx_L"
      },
      "execution_count": 3,
      "outputs": []
    },
    {
      "cell_type": "code",
      "source": [
        "#mount google drive\n",
        "from google.colab import drive\n",
        "drive.mount('/content/drive')\n",
        "     "
      ],
      "metadata": {
        "colab": {
          "base_uri": "https://localhost:8080/"
        },
        "id": "5StjMTPRMyBv",
        "outputId": "35d325d2-2373-4e54-fe53-f522b82dead8"
      },
      "execution_count": 4,
      "outputs": [
        {
          "output_type": "stream",
          "name": "stdout",
          "text": [
            "Mounted at /content/drive\n"
          ]
        }
      ]
    },
    {
      "cell_type": "code",
      "source": [
        "# Read Data\n",
        "\n",
        "# English trainset/valset \n",
        "eng_trainset= pd.read_csv(\"/content/drive/MyDrive/IM/VTPAN_csv/train_seg.csv\") \n",
        "eng_valset= pd.read_csv(\"/content/drive/MyDrive/IM/VTPAN_csv/val_seg.csv\") \n",
        "\n",
        "# German trainset/valset \n",
        "ger_trainset= pd.read_csv(\"/content/drive/MyDrive/IM/VTPAN_PAN12_Translated /ger_trainset.csv\") \n",
        "ger_valset= pd.read_csv(\"/content/drive/MyDrive/IM/VTPAN_PAN12_Translated /ger_valset.csv\") \n",
        "\n",
        "# French trainset/valset \n",
        "fr_trainset= pd.read_csv(\"/content/drive/MyDrive/IM/VTPAN_PAN12_Translated /train_french.csv\") \n",
        "fr_valset= pd.read_csv(\"/content/drive/MyDrive/IM/VTPAN_PAN12_Translated /val_french.csv\") \n",
        "\n",
        "# Dutch trainset/valset \n",
        "\n",
        "nl_trainset= pd.read_csv(\"/content/drive/MyDrive/IM/VTPAN_PAN12_Translated /train_dutch.csv\") \n",
        "nl_valset= pd.read_csv(\"/content/drive/MyDrive/IM/VTPAN_PAN12_Translated /val_dutch.csv\") "
      ],
      "metadata": {
        "id": "WHdjLuOFMyFZ"
      },
      "execution_count": 5,
      "outputs": []
    },
    {
      "cell_type": "code",
      "source": [
        "ger_valset"
      ],
      "metadata": {
        "colab": {
          "base_uri": "https://localhost:8080/",
          "height": 424
        },
        "id": "zFHzjE4jZQtJ",
        "outputId": "5d2f2b5c-c2f1-4dd7-ac32-18b1f745ebfb"
      },
      "execution_count": null,
      "outputs": [
        {
          "output_type": "execute_result",
          "data": {
            "text/plain": [
              "                                            messages_de  label\n",
              "0     ['Ich habe gerade gesagt: \"eine riesige Versäu...      0\n",
              "1     ['Hallo', '15 m', '13 f', 'Hey', 'hey', 'Wie g...      0\n",
              "2     ['smartbhai: Niemand kann helfen.. wenn wir ni...      0\n",
              "3     ['hei', 'hey', 'Asl?', '15 f Fin :)', 'u?', '1...      0\n",
              "4     ['hey hast du mein Emial bekommen', 'nicht gep...      1\n",
              "...                                                 ...    ...\n",
              "1313  ['Heya', 'Bonersauraus Rex', 'Hallo', 'mein ti...      0\n",
              "1314  ['Hallo', 'Hallo.', 'wie sind Sie fremd?', 'Ic...      0\n",
              "1315  ['Hey!', 'Hallo!', 'f/m', 'f', 'Du?', 'ok', 'm...      0\n",
              "1316  ['weiblich? ich hoffe, dass niemand spricht', ...      0\n",
              "1317  ['Wo sonst wirst du mich treffen?', 'Hey asl',...      0\n",
              "\n",
              "[1318 rows x 2 columns]"
            ],
            "text/html": [
              "\n",
              "  <div id=\"df-a6b8fb0b-9759-45f0-9574-20a8847149f6\">\n",
              "    <div class=\"colab-df-container\">\n",
              "      <div>\n",
              "<style scoped>\n",
              "    .dataframe tbody tr th:only-of-type {\n",
              "        vertical-align: middle;\n",
              "    }\n",
              "\n",
              "    .dataframe tbody tr th {\n",
              "        vertical-align: top;\n",
              "    }\n",
              "\n",
              "    .dataframe thead th {\n",
              "        text-align: right;\n",
              "    }\n",
              "</style>\n",
              "<table border=\"1\" class=\"dataframe\">\n",
              "  <thead>\n",
              "    <tr style=\"text-align: right;\">\n",
              "      <th></th>\n",
              "      <th>messages_de</th>\n",
              "      <th>label</th>\n",
              "    </tr>\n",
              "  </thead>\n",
              "  <tbody>\n",
              "    <tr>\n",
              "      <th>0</th>\n",
              "      <td>['Ich habe gerade gesagt: \"eine riesige Versäu...</td>\n",
              "      <td>0</td>\n",
              "    </tr>\n",
              "    <tr>\n",
              "      <th>1</th>\n",
              "      <td>['Hallo', '15 m', '13 f', 'Hey', 'hey', 'Wie g...</td>\n",
              "      <td>0</td>\n",
              "    </tr>\n",
              "    <tr>\n",
              "      <th>2</th>\n",
              "      <td>['smartbhai: Niemand kann helfen.. wenn wir ni...</td>\n",
              "      <td>0</td>\n",
              "    </tr>\n",
              "    <tr>\n",
              "      <th>3</th>\n",
              "      <td>['hei', 'hey', 'Asl?', '15 f Fin :)', 'u?', '1...</td>\n",
              "      <td>0</td>\n",
              "    </tr>\n",
              "    <tr>\n",
              "      <th>4</th>\n",
              "      <td>['hey hast du mein Emial bekommen', 'nicht gep...</td>\n",
              "      <td>1</td>\n",
              "    </tr>\n",
              "    <tr>\n",
              "      <th>...</th>\n",
              "      <td>...</td>\n",
              "      <td>...</td>\n",
              "    </tr>\n",
              "    <tr>\n",
              "      <th>1313</th>\n",
              "      <td>['Heya', 'Bonersauraus Rex', 'Hallo', 'mein ti...</td>\n",
              "      <td>0</td>\n",
              "    </tr>\n",
              "    <tr>\n",
              "      <th>1314</th>\n",
              "      <td>['Hallo', 'Hallo.', 'wie sind Sie fremd?', 'Ic...</td>\n",
              "      <td>0</td>\n",
              "    </tr>\n",
              "    <tr>\n",
              "      <th>1315</th>\n",
              "      <td>['Hey!', 'Hallo!', 'f/m', 'f', 'Du?', 'ok', 'm...</td>\n",
              "      <td>0</td>\n",
              "    </tr>\n",
              "    <tr>\n",
              "      <th>1316</th>\n",
              "      <td>['weiblich? ich hoffe, dass niemand spricht', ...</td>\n",
              "      <td>0</td>\n",
              "    </tr>\n",
              "    <tr>\n",
              "      <th>1317</th>\n",
              "      <td>['Wo sonst wirst du mich treffen?', 'Hey asl',...</td>\n",
              "      <td>0</td>\n",
              "    </tr>\n",
              "  </tbody>\n",
              "</table>\n",
              "<p>1318 rows × 2 columns</p>\n",
              "</div>\n",
              "      <button class=\"colab-df-convert\" onclick=\"convertToInteractive('df-a6b8fb0b-9759-45f0-9574-20a8847149f6')\"\n",
              "              title=\"Convert this dataframe to an interactive table.\"\n",
              "              style=\"display:none;\">\n",
              "        \n",
              "  <svg xmlns=\"http://www.w3.org/2000/svg\" height=\"24px\"viewBox=\"0 0 24 24\"\n",
              "       width=\"24px\">\n",
              "    <path d=\"M0 0h24v24H0V0z\" fill=\"none\"/>\n",
              "    <path d=\"M18.56 5.44l.94 2.06.94-2.06 2.06-.94-2.06-.94-.94-2.06-.94 2.06-2.06.94zm-11 1L8.5 8.5l.94-2.06 2.06-.94-2.06-.94L8.5 2.5l-.94 2.06-2.06.94zm10 10l.94 2.06.94-2.06 2.06-.94-2.06-.94-.94-2.06-.94 2.06-2.06.94z\"/><path d=\"M17.41 7.96l-1.37-1.37c-.4-.4-.92-.59-1.43-.59-.52 0-1.04.2-1.43.59L10.3 9.45l-7.72 7.72c-.78.78-.78 2.05 0 2.83L4 21.41c.39.39.9.59 1.41.59.51 0 1.02-.2 1.41-.59l7.78-7.78 2.81-2.81c.8-.78.8-2.07 0-2.86zM5.41 20L4 18.59l7.72-7.72 1.47 1.35L5.41 20z\"/>\n",
              "  </svg>\n",
              "      </button>\n",
              "      \n",
              "  <style>\n",
              "    .colab-df-container {\n",
              "      display:flex;\n",
              "      flex-wrap:wrap;\n",
              "      gap: 12px;\n",
              "    }\n",
              "\n",
              "    .colab-df-convert {\n",
              "      background-color: #E8F0FE;\n",
              "      border: none;\n",
              "      border-radius: 50%;\n",
              "      cursor: pointer;\n",
              "      display: none;\n",
              "      fill: #1967D2;\n",
              "      height: 32px;\n",
              "      padding: 0 0 0 0;\n",
              "      width: 32px;\n",
              "    }\n",
              "\n",
              "    .colab-df-convert:hover {\n",
              "      background-color: #E2EBFA;\n",
              "      box-shadow: 0px 1px 2px rgba(60, 64, 67, 0.3), 0px 1px 3px 1px rgba(60, 64, 67, 0.15);\n",
              "      fill: #174EA6;\n",
              "    }\n",
              "\n",
              "    [theme=dark] .colab-df-convert {\n",
              "      background-color: #3B4455;\n",
              "      fill: #D2E3FC;\n",
              "    }\n",
              "\n",
              "    [theme=dark] .colab-df-convert:hover {\n",
              "      background-color: #434B5C;\n",
              "      box-shadow: 0px 1px 3px 1px rgba(0, 0, 0, 0.15);\n",
              "      filter: drop-shadow(0px 1px 2px rgba(0, 0, 0, 0.3));\n",
              "      fill: #FFFFFF;\n",
              "    }\n",
              "  </style>\n",
              "\n",
              "      <script>\n",
              "        const buttonEl =\n",
              "          document.querySelector('#df-a6b8fb0b-9759-45f0-9574-20a8847149f6 button.colab-df-convert');\n",
              "        buttonEl.style.display =\n",
              "          google.colab.kernel.accessAllowed ? 'block' : 'none';\n",
              "\n",
              "        async function convertToInteractive(key) {\n",
              "          const element = document.querySelector('#df-a6b8fb0b-9759-45f0-9574-20a8847149f6');\n",
              "          const dataTable =\n",
              "            await google.colab.kernel.invokeFunction('convertToInteractive',\n",
              "                                                     [key], {});\n",
              "          if (!dataTable) return;\n",
              "\n",
              "          const docLinkHtml = 'Like what you see? Visit the ' +\n",
              "            '<a target=\"_blank\" href=https://colab.research.google.com/notebooks/data_table.ipynb>data table notebook</a>'\n",
              "            + ' to learn more about interactive tables.';\n",
              "          element.innerHTML = '';\n",
              "          dataTable['output_type'] = 'display_data';\n",
              "          await google.colab.output.renderOutput(dataTable, element);\n",
              "          const docLink = document.createElement('div');\n",
              "          docLink.innerHTML = docLinkHtml;\n",
              "          element.appendChild(docLink);\n",
              "        }\n",
              "      </script>\n",
              "    </div>\n",
              "  </div>\n",
              "  "
            ]
          },
          "metadata": {},
          "execution_count": 30
        }
      ]
    },
    {
      "cell_type": "code",
      "source": [
        "#English test set \n",
        "eng_testset=pd.read_csv('/content/drive/MyDrive/IM/VTPAN_csv/VTPAN-test.csv')\n",
        "\n",
        "#German test set \n",
        "ger_testset=pd.read_csv('/content/drive/MyDrive/IM/VTPAN_PAN12_Translated /ger_testset.csv')\n",
        "\n",
        "#French test set \n",
        "fr_testset= pd.read_csv('/content/drive/MyDrive/IM/VTPAN_PAN12_Translated /test_french.csv')\n",
        "\n",
        "#Dutch test set \n",
        "nl_testset=pd.read_csv('/content/drive/MyDrive/IM/VTPAN_PAN12_Translated /test_dutch.csv')"
      ],
      "metadata": {
        "id": "Qw7bTcueSf0O"
      },
      "execution_count": 38,
      "outputs": []
    },
    {
      "cell_type": "code",
      "source": [
        "ger_testset"
      ],
      "metadata": {
        "colab": {
          "base_uri": "https://localhost:8080/",
          "height": 1000
        },
        "id": "tZ3Frwijchku",
        "outputId": "14ce9858-b68e-41ef-cd46-8c6fa3148111"
      },
      "execution_count": null,
      "outputs": [
        {
          "output_type": "execute_result",
          "data": {
            "text/plain": [
              "                                     id  isCybergrooming  \\\n",
              "0      de15188e9fd515ed817a0b34546be902             True   \n",
              "1      17784c5a093477c1706b1a68cea7c802            False   \n",
              "2      15a38614944f5aa8bbb59d4153ecc12a            False   \n",
              "3      ee0aba2365c16a30cb36d1057a390b16            False   \n",
              "4      ca1b963746e368a4cec38ab4be3fdcf7            False   \n",
              "...                                 ...              ...   \n",
              "15324  85e044706ceca109b1adf6c744a4126c            False   \n",
              "15325  ec391a65097a955029afaedc23d5fa81             True   \n",
              "15326  82add2c9da3c267a98b3981375b6c238             True   \n",
              "15327  e2bc24141a2855dd6825d8b3132bfa11            False   \n",
              "15328  8deed7c66340728e6863f3d931d4cca7            False   \n",
              "\n",
              "                                                 authors  \\\n",
              "0      [{'id': 'b6fe182274453b707870b16e5d2ad562', 'i...   \n",
              "1      [{'id': 'fcfda042c76436b97eca32b6c0490d1d', 'i...   \n",
              "2      [{'id': '454addae11c0b90c0f36a98b77aa07a6', 'i...   \n",
              "3      [{'id': '471970f323f46dc39b5f07c6aa344686', 'i...   \n",
              "4      [{'id': 'ed6658e6f22583ed66fb5e5e735b9e63', 'i...   \n",
              "...                                                  ...   \n",
              "15324  [{'id': 'f8eb7d3ae7f27896e571109636a043e0', 'i...   \n",
              "15325  [{'id': '2e0d170f2addfb0048f9424a2daa5a73', 'i...   \n",
              "15326  [{'id': 'c5502c7c9bb5e28508a3e19ec869f6d2', 'i...   \n",
              "15327  [{'id': 'e46825dc4ec1ff89f6bb078ce5589357', 'i...   \n",
              "15328  [{'id': 'c3771abaa4e03712cd05a81c58bed44c', 'i...   \n",
              "\n",
              "                                                messages  \\\n",
              "0      [{'author': 'b6fe182274453b707870b16e5d2ad562'...   \n",
              "1      [{'author': '713349f3afa2dbe352d2abe4d3f01a12'...   \n",
              "2      [{'author': 'ee792e8acb278ddd16cc46020c694b0b'...   \n",
              "3      [{'author': 'bb2a120ae4ec93ef7c15f284b9b46544'...   \n",
              "4      [{'author': 'ed6658e6f22583ed66fb5e5e735b9e63'...   \n",
              "...                                                  ...   \n",
              "15324  [{'author': 'f8eb7d3ae7f27896e571109636a043e0'...   \n",
              "15325  [{'author': '2e0d170f2addfb0048f9424a2daa5a73'...   \n",
              "15326  [{'author': 'c5502c7c9bb5e28508a3e19ec869f6d2'...   \n",
              "15327  [{'author': 'bced152c52f046adc88110ad1e8b3e83'...   \n",
              "15328  [{'author': '48a4fba2c4916bbc8aae694a3877dca3'...   \n",
              "\n",
              "                                             messages_de  label  \n",
              "0      ['Rückseite', 'ok baby', 'was passiert Baby', ...      1  \n",
              "1      ['Hallo', 'Jungs sind Scheiß', 'dass sie', 'Ha...      0  \n",
              "2      ['Hallo', '19 m USA horny, u?', '2+2*2', '2+2*...      0  \n",
              "3      ['f/m?', 'Hallo', 'da', 'f', 'u?', 'Hallo', 'm...      0  \n",
              "4      ['tut mir leid, ich bin jetzt wieder.', 'und f...      0  \n",
              "...                                                  ...    ...  \n",
              "15324  ['Hallo', 'Hallo', 'Hey...', 'gut, das ist sel...      0  \n",
              "15325  ['Hallo', 'Asl?', 'heya was ist?', '13/f/socal...      1  \n",
              "15326  ['Guten Morgen, wie R U?', 'hey :)', 'Ich bin ...      1  \n",
              "15327  ['Hallo', 'm oder f', 'Hallo', 'f', '& u', ':)...      0  \n",
              "15328  ['ein Pferd ein Pferd', 'Brunnen Ober', 'null....      0  \n",
              "\n",
              "[15329 rows x 6 columns]"
            ],
            "text/html": [
              "\n",
              "  <div id=\"df-1bdf5b6f-24ca-42bf-9de6-9bf5bc3f1ac2\">\n",
              "    <div class=\"colab-df-container\">\n",
              "      <div>\n",
              "<style scoped>\n",
              "    .dataframe tbody tr th:only-of-type {\n",
              "        vertical-align: middle;\n",
              "    }\n",
              "\n",
              "    .dataframe tbody tr th {\n",
              "        vertical-align: top;\n",
              "    }\n",
              "\n",
              "    .dataframe thead th {\n",
              "        text-align: right;\n",
              "    }\n",
              "</style>\n",
              "<table border=\"1\" class=\"dataframe\">\n",
              "  <thead>\n",
              "    <tr style=\"text-align: right;\">\n",
              "      <th></th>\n",
              "      <th>id</th>\n",
              "      <th>isCybergrooming</th>\n",
              "      <th>authors</th>\n",
              "      <th>messages</th>\n",
              "      <th>messages_de</th>\n",
              "      <th>label</th>\n",
              "    </tr>\n",
              "  </thead>\n",
              "  <tbody>\n",
              "    <tr>\n",
              "      <th>0</th>\n",
              "      <td>de15188e9fd515ed817a0b34546be902</td>\n",
              "      <td>True</td>\n",
              "      <td>[{'id': 'b6fe182274453b707870b16e5d2ad562', 'i...</td>\n",
              "      <td>[{'author': 'b6fe182274453b707870b16e5d2ad562'...</td>\n",
              "      <td>['Rückseite', 'ok baby', 'was passiert Baby', ...</td>\n",
              "      <td>1</td>\n",
              "    </tr>\n",
              "    <tr>\n",
              "      <th>1</th>\n",
              "      <td>17784c5a093477c1706b1a68cea7c802</td>\n",
              "      <td>False</td>\n",
              "      <td>[{'id': 'fcfda042c76436b97eca32b6c0490d1d', 'i...</td>\n",
              "      <td>[{'author': '713349f3afa2dbe352d2abe4d3f01a12'...</td>\n",
              "      <td>['Hallo', 'Jungs sind Scheiß', 'dass sie', 'Ha...</td>\n",
              "      <td>0</td>\n",
              "    </tr>\n",
              "    <tr>\n",
              "      <th>2</th>\n",
              "      <td>15a38614944f5aa8bbb59d4153ecc12a</td>\n",
              "      <td>False</td>\n",
              "      <td>[{'id': '454addae11c0b90c0f36a98b77aa07a6', 'i...</td>\n",
              "      <td>[{'author': 'ee792e8acb278ddd16cc46020c694b0b'...</td>\n",
              "      <td>['Hallo', '19 m USA horny, u?', '2+2*2', '2+2*...</td>\n",
              "      <td>0</td>\n",
              "    </tr>\n",
              "    <tr>\n",
              "      <th>3</th>\n",
              "      <td>ee0aba2365c16a30cb36d1057a390b16</td>\n",
              "      <td>False</td>\n",
              "      <td>[{'id': '471970f323f46dc39b5f07c6aa344686', 'i...</td>\n",
              "      <td>[{'author': 'bb2a120ae4ec93ef7c15f284b9b46544'...</td>\n",
              "      <td>['f/m?', 'Hallo', 'da', 'f', 'u?', 'Hallo', 'm...</td>\n",
              "      <td>0</td>\n",
              "    </tr>\n",
              "    <tr>\n",
              "      <th>4</th>\n",
              "      <td>ca1b963746e368a4cec38ab4be3fdcf7</td>\n",
              "      <td>False</td>\n",
              "      <td>[{'id': 'ed6658e6f22583ed66fb5e5e735b9e63', 'i...</td>\n",
              "      <td>[{'author': 'ed6658e6f22583ed66fb5e5e735b9e63'...</td>\n",
              "      <td>['tut mir leid, ich bin jetzt wieder.', 'und f...</td>\n",
              "      <td>0</td>\n",
              "    </tr>\n",
              "    <tr>\n",
              "      <th>...</th>\n",
              "      <td>...</td>\n",
              "      <td>...</td>\n",
              "      <td>...</td>\n",
              "      <td>...</td>\n",
              "      <td>...</td>\n",
              "      <td>...</td>\n",
              "    </tr>\n",
              "    <tr>\n",
              "      <th>15324</th>\n",
              "      <td>85e044706ceca109b1adf6c744a4126c</td>\n",
              "      <td>False</td>\n",
              "      <td>[{'id': 'f8eb7d3ae7f27896e571109636a043e0', 'i...</td>\n",
              "      <td>[{'author': 'f8eb7d3ae7f27896e571109636a043e0'...</td>\n",
              "      <td>['Hallo', 'Hallo', 'Hey...', 'gut, das ist sel...</td>\n",
              "      <td>0</td>\n",
              "    </tr>\n",
              "    <tr>\n",
              "      <th>15325</th>\n",
              "      <td>ec391a65097a955029afaedc23d5fa81</td>\n",
              "      <td>True</td>\n",
              "      <td>[{'id': '2e0d170f2addfb0048f9424a2daa5a73', 'i...</td>\n",
              "      <td>[{'author': '2e0d170f2addfb0048f9424a2daa5a73'...</td>\n",
              "      <td>['Hallo', 'Asl?', 'heya was ist?', '13/f/socal...</td>\n",
              "      <td>1</td>\n",
              "    </tr>\n",
              "    <tr>\n",
              "      <th>15326</th>\n",
              "      <td>82add2c9da3c267a98b3981375b6c238</td>\n",
              "      <td>True</td>\n",
              "      <td>[{'id': 'c5502c7c9bb5e28508a3e19ec869f6d2', 'i...</td>\n",
              "      <td>[{'author': 'c5502c7c9bb5e28508a3e19ec869f6d2'...</td>\n",
              "      <td>['Guten Morgen, wie R U?', 'hey :)', 'Ich bin ...</td>\n",
              "      <td>1</td>\n",
              "    </tr>\n",
              "    <tr>\n",
              "      <th>15327</th>\n",
              "      <td>e2bc24141a2855dd6825d8b3132bfa11</td>\n",
              "      <td>False</td>\n",
              "      <td>[{'id': 'e46825dc4ec1ff89f6bb078ce5589357', 'i...</td>\n",
              "      <td>[{'author': 'bced152c52f046adc88110ad1e8b3e83'...</td>\n",
              "      <td>['Hallo', 'm oder f', 'Hallo', 'f', '&amp; u', ':)...</td>\n",
              "      <td>0</td>\n",
              "    </tr>\n",
              "    <tr>\n",
              "      <th>15328</th>\n",
              "      <td>8deed7c66340728e6863f3d931d4cca7</td>\n",
              "      <td>False</td>\n",
              "      <td>[{'id': 'c3771abaa4e03712cd05a81c58bed44c', 'i...</td>\n",
              "      <td>[{'author': '48a4fba2c4916bbc8aae694a3877dca3'...</td>\n",
              "      <td>['ein Pferd ein Pferd', 'Brunnen Ober', 'null....</td>\n",
              "      <td>0</td>\n",
              "    </tr>\n",
              "  </tbody>\n",
              "</table>\n",
              "<p>15329 rows × 6 columns</p>\n",
              "</div>\n",
              "      <button class=\"colab-df-convert\" onclick=\"convertToInteractive('df-1bdf5b6f-24ca-42bf-9de6-9bf5bc3f1ac2')\"\n",
              "              title=\"Convert this dataframe to an interactive table.\"\n",
              "              style=\"display:none;\">\n",
              "        \n",
              "  <svg xmlns=\"http://www.w3.org/2000/svg\" height=\"24px\"viewBox=\"0 0 24 24\"\n",
              "       width=\"24px\">\n",
              "    <path d=\"M0 0h24v24H0V0z\" fill=\"none\"/>\n",
              "    <path d=\"M18.56 5.44l.94 2.06.94-2.06 2.06-.94-2.06-.94-.94-2.06-.94 2.06-2.06.94zm-11 1L8.5 8.5l.94-2.06 2.06-.94-2.06-.94L8.5 2.5l-.94 2.06-2.06.94zm10 10l.94 2.06.94-2.06 2.06-.94-2.06-.94-.94-2.06-.94 2.06-2.06.94z\"/><path d=\"M17.41 7.96l-1.37-1.37c-.4-.4-.92-.59-1.43-.59-.52 0-1.04.2-1.43.59L10.3 9.45l-7.72 7.72c-.78.78-.78 2.05 0 2.83L4 21.41c.39.39.9.59 1.41.59.51 0 1.02-.2 1.41-.59l7.78-7.78 2.81-2.81c.8-.78.8-2.07 0-2.86zM5.41 20L4 18.59l7.72-7.72 1.47 1.35L5.41 20z\"/>\n",
              "  </svg>\n",
              "      </button>\n",
              "      \n",
              "  <style>\n",
              "    .colab-df-container {\n",
              "      display:flex;\n",
              "      flex-wrap:wrap;\n",
              "      gap: 12px;\n",
              "    }\n",
              "\n",
              "    .colab-df-convert {\n",
              "      background-color: #E8F0FE;\n",
              "      border: none;\n",
              "      border-radius: 50%;\n",
              "      cursor: pointer;\n",
              "      display: none;\n",
              "      fill: #1967D2;\n",
              "      height: 32px;\n",
              "      padding: 0 0 0 0;\n",
              "      width: 32px;\n",
              "    }\n",
              "\n",
              "    .colab-df-convert:hover {\n",
              "      background-color: #E2EBFA;\n",
              "      box-shadow: 0px 1px 2px rgba(60, 64, 67, 0.3), 0px 1px 3px 1px rgba(60, 64, 67, 0.15);\n",
              "      fill: #174EA6;\n",
              "    }\n",
              "\n",
              "    [theme=dark] .colab-df-convert {\n",
              "      background-color: #3B4455;\n",
              "      fill: #D2E3FC;\n",
              "    }\n",
              "\n",
              "    [theme=dark] .colab-df-convert:hover {\n",
              "      background-color: #434B5C;\n",
              "      box-shadow: 0px 1px 3px 1px rgba(0, 0, 0, 0.15);\n",
              "      filter: drop-shadow(0px 1px 2px rgba(0, 0, 0, 0.3));\n",
              "      fill: #FFFFFF;\n",
              "    }\n",
              "  </style>\n",
              "\n",
              "      <script>\n",
              "        const buttonEl =\n",
              "          document.querySelector('#df-1bdf5b6f-24ca-42bf-9de6-9bf5bc3f1ac2 button.colab-df-convert');\n",
              "        buttonEl.style.display =\n",
              "          google.colab.kernel.accessAllowed ? 'block' : 'none';\n",
              "\n",
              "        async function convertToInteractive(key) {\n",
              "          const element = document.querySelector('#df-1bdf5b6f-24ca-42bf-9de6-9bf5bc3f1ac2');\n",
              "          const dataTable =\n",
              "            await google.colab.kernel.invokeFunction('convertToInteractive',\n",
              "                                                     [key], {});\n",
              "          if (!dataTable) return;\n",
              "\n",
              "          const docLinkHtml = 'Like what you see? Visit the ' +\n",
              "            '<a target=\"_blank\" href=https://colab.research.google.com/notebooks/data_table.ipynb>data table notebook</a>'\n",
              "            + ' to learn more about interactive tables.';\n",
              "          element.innerHTML = '';\n",
              "          dataTable['output_type'] = 'display_data';\n",
              "          await google.colab.output.renderOutput(dataTable, element);\n",
              "          const docLink = document.createElement('div');\n",
              "          docLink.innerHTML = docLinkHtml;\n",
              "          element.appendChild(docLink);\n",
              "        }\n",
              "      </script>\n",
              "    </div>\n",
              "  </div>\n",
              "  "
            ]
          },
          "metadata": {},
          "execution_count": 38
        }
      ]
    },
    {
      "cell_type": "markdown",
      "source": [
        "# **Prepare Data**"
      ],
      "metadata": {
        "id": "fmYS9YiZ4v-e"
      }
    },
    {
      "cell_type": "code",
      "source": [
        "#rename cols in training data \n",
        "eng_trainset.rename(columns = {'segment':'messages'}, inplace = True)\n",
        "ger_trainset.rename(columns = {'messages_de':'messages'}, inplace = True)\n",
        "fr_trainset.rename(columns = {'messages_fr':'messages'}, inplace = True)\n",
        "nl_trainset.rename(columns = {'messages_dutch':'messages'}, inplace = True)\n",
        "\n",
        "#rename cols in val data  \n",
        "\n",
        "eng_valset.rename(columns = {'segment':'messages'}, inplace = True)\n",
        "ger_valset.rename(columns =  {'messages_de':'messages'}, inplace = True)\n",
        "fr_valset.rename(columns = {'messages_fr':'messages'}, inplace = True)\n",
        "nl_valset.rename(columns = {'messages_dutch':'messages'}, inplace = True)"
      ],
      "metadata": {
        "id": "nu1FZJRwadqs"
      },
      "execution_count": 8,
      "outputs": []
    },
    {
      "cell_type": "code",
      "source": [
        "eng_valset"
      ],
      "metadata": {
        "colab": {
          "base_uri": "https://localhost:8080/",
          "height": 424
        },
        "id": "VN7h56dXa8VB",
        "outputId": "722e6625-83a5-4279-9188-b2975b0c9bc0"
      },
      "execution_count": null,
      "outputs": [
        {
          "output_type": "execute_result",
          "data": {
            "text/plain": [
              "                                               messages  label\n",
              "0     mornin :) hello just opened my eyes n u were u...      1\n",
              "1     hi asl? :/ :\\ :/ :\\ im eating ? younger then 1...      0\n",
              "2     hi m/f? hi f male here. age? 17 ok im 20. wher...      0\n",
              "3     befddef7b56a6caf71fa21f2235a8111: pong hi i no...      0\n",
              "4     ever been dumped? hii awww yea i have haha did...      0\n",
              "...                                                 ...    ...\n",
              "1972  ey :p hi Do you know Jesus Christ as your savi...      0\n",
              "1973  because you're sounding a little like m e haha...      0\n",
              "1974  hey hello :) how's it going? pretty good and y...      0\n",
              "1975  hi hi how are you? asl? fine 14 female u? you?...      0\n",
              "1976  hiii hi there. :D asl? geez... cant wait to fi...      0\n",
              "\n",
              "[1977 rows x 2 columns]"
            ],
            "text/html": [
              "\n",
              "  <div id=\"df-271ccc3e-7346-40db-8eb2-b6fc55df6d8e\">\n",
              "    <div class=\"colab-df-container\">\n",
              "      <div>\n",
              "<style scoped>\n",
              "    .dataframe tbody tr th:only-of-type {\n",
              "        vertical-align: middle;\n",
              "    }\n",
              "\n",
              "    .dataframe tbody tr th {\n",
              "        vertical-align: top;\n",
              "    }\n",
              "\n",
              "    .dataframe thead th {\n",
              "        text-align: right;\n",
              "    }\n",
              "</style>\n",
              "<table border=\"1\" class=\"dataframe\">\n",
              "  <thead>\n",
              "    <tr style=\"text-align: right;\">\n",
              "      <th></th>\n",
              "      <th>messages</th>\n",
              "      <th>label</th>\n",
              "    </tr>\n",
              "  </thead>\n",
              "  <tbody>\n",
              "    <tr>\n",
              "      <th>0</th>\n",
              "      <td>mornin :) hello just opened my eyes n u were u...</td>\n",
              "      <td>1</td>\n",
              "    </tr>\n",
              "    <tr>\n",
              "      <th>1</th>\n",
              "      <td>hi asl? :/ :\\ :/ :\\ im eating ? younger then 1...</td>\n",
              "      <td>0</td>\n",
              "    </tr>\n",
              "    <tr>\n",
              "      <th>2</th>\n",
              "      <td>hi m/f? hi f male here. age? 17 ok im 20. wher...</td>\n",
              "      <td>0</td>\n",
              "    </tr>\n",
              "    <tr>\n",
              "      <th>3</th>\n",
              "      <td>befddef7b56a6caf71fa21f2235a8111: pong hi i no...</td>\n",
              "      <td>0</td>\n",
              "    </tr>\n",
              "    <tr>\n",
              "      <th>4</th>\n",
              "      <td>ever been dumped? hii awww yea i have haha did...</td>\n",
              "      <td>0</td>\n",
              "    </tr>\n",
              "    <tr>\n",
              "      <th>...</th>\n",
              "      <td>...</td>\n",
              "      <td>...</td>\n",
              "    </tr>\n",
              "    <tr>\n",
              "      <th>1972</th>\n",
              "      <td>ey :p hi Do you know Jesus Christ as your savi...</td>\n",
              "      <td>0</td>\n",
              "    </tr>\n",
              "    <tr>\n",
              "      <th>1973</th>\n",
              "      <td>because you're sounding a little like m e haha...</td>\n",
              "      <td>0</td>\n",
              "    </tr>\n",
              "    <tr>\n",
              "      <th>1974</th>\n",
              "      <td>hey hello :) how's it going? pretty good and y...</td>\n",
              "      <td>0</td>\n",
              "    </tr>\n",
              "    <tr>\n",
              "      <th>1975</th>\n",
              "      <td>hi hi how are you? asl? fine 14 female u? you?...</td>\n",
              "      <td>0</td>\n",
              "    </tr>\n",
              "    <tr>\n",
              "      <th>1976</th>\n",
              "      <td>hiii hi there. :D asl? geez... cant wait to fi...</td>\n",
              "      <td>0</td>\n",
              "    </tr>\n",
              "  </tbody>\n",
              "</table>\n",
              "<p>1977 rows × 2 columns</p>\n",
              "</div>\n",
              "      <button class=\"colab-df-convert\" onclick=\"convertToInteractive('df-271ccc3e-7346-40db-8eb2-b6fc55df6d8e')\"\n",
              "              title=\"Convert this dataframe to an interactive table.\"\n",
              "              style=\"display:none;\">\n",
              "        \n",
              "  <svg xmlns=\"http://www.w3.org/2000/svg\" height=\"24px\"viewBox=\"0 0 24 24\"\n",
              "       width=\"24px\">\n",
              "    <path d=\"M0 0h24v24H0V0z\" fill=\"none\"/>\n",
              "    <path d=\"M18.56 5.44l.94 2.06.94-2.06 2.06-.94-2.06-.94-.94-2.06-.94 2.06-2.06.94zm-11 1L8.5 8.5l.94-2.06 2.06-.94-2.06-.94L8.5 2.5l-.94 2.06-2.06.94zm10 10l.94 2.06.94-2.06 2.06-.94-2.06-.94-.94-2.06-.94 2.06-2.06.94z\"/><path d=\"M17.41 7.96l-1.37-1.37c-.4-.4-.92-.59-1.43-.59-.52 0-1.04.2-1.43.59L10.3 9.45l-7.72 7.72c-.78.78-.78 2.05 0 2.83L4 21.41c.39.39.9.59 1.41.59.51 0 1.02-.2 1.41-.59l7.78-7.78 2.81-2.81c.8-.78.8-2.07 0-2.86zM5.41 20L4 18.59l7.72-7.72 1.47 1.35L5.41 20z\"/>\n",
              "  </svg>\n",
              "      </button>\n",
              "      \n",
              "  <style>\n",
              "    .colab-df-container {\n",
              "      display:flex;\n",
              "      flex-wrap:wrap;\n",
              "      gap: 12px;\n",
              "    }\n",
              "\n",
              "    .colab-df-convert {\n",
              "      background-color: #E8F0FE;\n",
              "      border: none;\n",
              "      border-radius: 50%;\n",
              "      cursor: pointer;\n",
              "      display: none;\n",
              "      fill: #1967D2;\n",
              "      height: 32px;\n",
              "      padding: 0 0 0 0;\n",
              "      width: 32px;\n",
              "    }\n",
              "\n",
              "    .colab-df-convert:hover {\n",
              "      background-color: #E2EBFA;\n",
              "      box-shadow: 0px 1px 2px rgba(60, 64, 67, 0.3), 0px 1px 3px 1px rgba(60, 64, 67, 0.15);\n",
              "      fill: #174EA6;\n",
              "    }\n",
              "\n",
              "    [theme=dark] .colab-df-convert {\n",
              "      background-color: #3B4455;\n",
              "      fill: #D2E3FC;\n",
              "    }\n",
              "\n",
              "    [theme=dark] .colab-df-convert:hover {\n",
              "      background-color: #434B5C;\n",
              "      box-shadow: 0px 1px 3px 1px rgba(0, 0, 0, 0.15);\n",
              "      filter: drop-shadow(0px 1px 2px rgba(0, 0, 0, 0.3));\n",
              "      fill: #FFFFFF;\n",
              "    }\n",
              "  </style>\n",
              "\n",
              "      <script>\n",
              "        const buttonEl =\n",
              "          document.querySelector('#df-271ccc3e-7346-40db-8eb2-b6fc55df6d8e button.colab-df-convert');\n",
              "        buttonEl.style.display =\n",
              "          google.colab.kernel.accessAllowed ? 'block' : 'none';\n",
              "\n",
              "        async function convertToInteractive(key) {\n",
              "          const element = document.querySelector('#df-271ccc3e-7346-40db-8eb2-b6fc55df6d8e');\n",
              "          const dataTable =\n",
              "            await google.colab.kernel.invokeFunction('convertToInteractive',\n",
              "                                                     [key], {});\n",
              "          if (!dataTable) return;\n",
              "\n",
              "          const docLinkHtml = 'Like what you see? Visit the ' +\n",
              "            '<a target=\"_blank\" href=https://colab.research.google.com/notebooks/data_table.ipynb>data table notebook</a>'\n",
              "            + ' to learn more about interactive tables.';\n",
              "          element.innerHTML = '';\n",
              "          dataTable['output_type'] = 'display_data';\n",
              "          await google.colab.output.renderOutput(dataTable, element);\n",
              "          const docLink = document.createElement('div');\n",
              "          docLink.innerHTML = docLinkHtml;\n",
              "          element.appendChild(docLink);\n",
              "        }\n",
              "      </script>\n",
              "    </div>\n",
              "  </div>\n",
              "  "
            ]
          },
          "metadata": {},
          "execution_count": 18
        }
      ]
    },
    {
      "cell_type": "code",
      "source": [
        "#concatenate all train\n",
        "dfs_t = [eng_trainset, ger_trainset, fr_trainset, nl_trainset]\n",
        "\n",
        "all_lang_train = pd.concat(dfs_t)"
      ],
      "metadata": {
        "id": "7V7RJnk9UBMP"
      },
      "execution_count": 9,
      "outputs": []
    },
    {
      "cell_type": "code",
      "source": [
        "#concatenate all val datsets \n",
        "\n",
        "dfs_v = [eng_valset, ger_valset, fr_valset, nl_valset]\n",
        "\n",
        "all_lang_val = pd.concat(dfs_v)"
      ],
      "metadata": {
        "id": "XzONPfNwVzOP"
      },
      "execution_count": 10,
      "outputs": []
    },
    {
      "cell_type": "code",
      "source": [
        "all_lang_val"
      ],
      "metadata": {
        "colab": {
          "base_uri": "https://localhost:8080/",
          "height": 423
        },
        "id": "ay6MIw9pcfJO",
        "outputId": "338f5a48-6838-48f6-b467-c007e68ca774"
      },
      "execution_count": 11,
      "outputs": [
        {
          "output_type": "execute_result",
          "data": {
            "text/plain": [
              "                                               messages  label\n",
              "0     mornin :) hello just opened my eyes n u were u...      1\n",
              "1     hi asl? :/ :\\ :/ :\\ im eating ? younger then 1...      0\n",
              "2     hi m/f? hi f male here. age? 17 ok im 20. wher...      0\n",
              "3     befddef7b56a6caf71fa21f2235a8111: pong hi i no...      0\n",
              "4     ever been dumped? hii awww yea i have haha did...      0\n",
              "...                                                 ...    ...\n",
              "1313  ['Heya.', 'bonersauraus Rex', 'Hallo.', 'Mijn ...      0\n",
              "1314  ['Hallo.', 'Hallo.', 'Hoe ben je vreemd?', 'Ik...      0\n",
              "1315  ['Hey!', 'Hallo!', 'f/m', 'f.', 'Jij?', 'Oké.'...      0\n",
              "1316  ['Vrouw? Ik hoop dat niemand praat.', 'Hallo.'...      0\n",
              "1317  ['Waar ga je me nog meer ontmoeten?', 'Hey asl...      0\n",
              "\n",
              "[9883 rows x 2 columns]"
            ],
            "text/html": [
              "\n",
              "  <div id=\"df-a1f99fa3-57da-4db5-81f1-51b46b53cda8\">\n",
              "    <div class=\"colab-df-container\">\n",
              "      <div>\n",
              "<style scoped>\n",
              "    .dataframe tbody tr th:only-of-type {\n",
              "        vertical-align: middle;\n",
              "    }\n",
              "\n",
              "    .dataframe tbody tr th {\n",
              "        vertical-align: top;\n",
              "    }\n",
              "\n",
              "    .dataframe thead th {\n",
              "        text-align: right;\n",
              "    }\n",
              "</style>\n",
              "<table border=\"1\" class=\"dataframe\">\n",
              "  <thead>\n",
              "    <tr style=\"text-align: right;\">\n",
              "      <th></th>\n",
              "      <th>messages</th>\n",
              "      <th>label</th>\n",
              "    </tr>\n",
              "  </thead>\n",
              "  <tbody>\n",
              "    <tr>\n",
              "      <th>0</th>\n",
              "      <td>mornin :) hello just opened my eyes n u were u...</td>\n",
              "      <td>1</td>\n",
              "    </tr>\n",
              "    <tr>\n",
              "      <th>1</th>\n",
              "      <td>hi asl? :/ :\\ :/ :\\ im eating ? younger then 1...</td>\n",
              "      <td>0</td>\n",
              "    </tr>\n",
              "    <tr>\n",
              "      <th>2</th>\n",
              "      <td>hi m/f? hi f male here. age? 17 ok im 20. wher...</td>\n",
              "      <td>0</td>\n",
              "    </tr>\n",
              "    <tr>\n",
              "      <th>3</th>\n",
              "      <td>befddef7b56a6caf71fa21f2235a8111: pong hi i no...</td>\n",
              "      <td>0</td>\n",
              "    </tr>\n",
              "    <tr>\n",
              "      <th>4</th>\n",
              "      <td>ever been dumped? hii awww yea i have haha did...</td>\n",
              "      <td>0</td>\n",
              "    </tr>\n",
              "    <tr>\n",
              "      <th>...</th>\n",
              "      <td>...</td>\n",
              "      <td>...</td>\n",
              "    </tr>\n",
              "    <tr>\n",
              "      <th>1313</th>\n",
              "      <td>['Heya.', 'bonersauraus Rex', 'Hallo.', 'Mijn ...</td>\n",
              "      <td>0</td>\n",
              "    </tr>\n",
              "    <tr>\n",
              "      <th>1314</th>\n",
              "      <td>['Hallo.', 'Hallo.', 'Hoe ben je vreemd?', 'Ik...</td>\n",
              "      <td>0</td>\n",
              "    </tr>\n",
              "    <tr>\n",
              "      <th>1315</th>\n",
              "      <td>['Hey!', 'Hallo!', 'f/m', 'f.', 'Jij?', 'Oké.'...</td>\n",
              "      <td>0</td>\n",
              "    </tr>\n",
              "    <tr>\n",
              "      <th>1316</th>\n",
              "      <td>['Vrouw? Ik hoop dat niemand praat.', 'Hallo.'...</td>\n",
              "      <td>0</td>\n",
              "    </tr>\n",
              "    <tr>\n",
              "      <th>1317</th>\n",
              "      <td>['Waar ga je me nog meer ontmoeten?', 'Hey asl...</td>\n",
              "      <td>0</td>\n",
              "    </tr>\n",
              "  </tbody>\n",
              "</table>\n",
              "<p>9883 rows × 2 columns</p>\n",
              "</div>\n",
              "      <button class=\"colab-df-convert\" onclick=\"convertToInteractive('df-a1f99fa3-57da-4db5-81f1-51b46b53cda8')\"\n",
              "              title=\"Convert this dataframe to an interactive table.\"\n",
              "              style=\"display:none;\">\n",
              "        \n",
              "  <svg xmlns=\"http://www.w3.org/2000/svg\" height=\"24px\"viewBox=\"0 0 24 24\"\n",
              "       width=\"24px\">\n",
              "    <path d=\"M0 0h24v24H0V0z\" fill=\"none\"/>\n",
              "    <path d=\"M18.56 5.44l.94 2.06.94-2.06 2.06-.94-2.06-.94-.94-2.06-.94 2.06-2.06.94zm-11 1L8.5 8.5l.94-2.06 2.06-.94-2.06-.94L8.5 2.5l-.94 2.06-2.06.94zm10 10l.94 2.06.94-2.06 2.06-.94-2.06-.94-.94-2.06-.94 2.06-2.06.94z\"/><path d=\"M17.41 7.96l-1.37-1.37c-.4-.4-.92-.59-1.43-.59-.52 0-1.04.2-1.43.59L10.3 9.45l-7.72 7.72c-.78.78-.78 2.05 0 2.83L4 21.41c.39.39.9.59 1.41.59.51 0 1.02-.2 1.41-.59l7.78-7.78 2.81-2.81c.8-.78.8-2.07 0-2.86zM5.41 20L4 18.59l7.72-7.72 1.47 1.35L5.41 20z\"/>\n",
              "  </svg>\n",
              "      </button>\n",
              "      \n",
              "  <style>\n",
              "    .colab-df-container {\n",
              "      display:flex;\n",
              "      flex-wrap:wrap;\n",
              "      gap: 12px;\n",
              "    }\n",
              "\n",
              "    .colab-df-convert {\n",
              "      background-color: #E8F0FE;\n",
              "      border: none;\n",
              "      border-radius: 50%;\n",
              "      cursor: pointer;\n",
              "      display: none;\n",
              "      fill: #1967D2;\n",
              "      height: 32px;\n",
              "      padding: 0 0 0 0;\n",
              "      width: 32px;\n",
              "    }\n",
              "\n",
              "    .colab-df-convert:hover {\n",
              "      background-color: #E2EBFA;\n",
              "      box-shadow: 0px 1px 2px rgba(60, 64, 67, 0.3), 0px 1px 3px 1px rgba(60, 64, 67, 0.15);\n",
              "      fill: #174EA6;\n",
              "    }\n",
              "\n",
              "    [theme=dark] .colab-df-convert {\n",
              "      background-color: #3B4455;\n",
              "      fill: #D2E3FC;\n",
              "    }\n",
              "\n",
              "    [theme=dark] .colab-df-convert:hover {\n",
              "      background-color: #434B5C;\n",
              "      box-shadow: 0px 1px 3px 1px rgba(0, 0, 0, 0.15);\n",
              "      filter: drop-shadow(0px 1px 2px rgba(0, 0, 0, 0.3));\n",
              "      fill: #FFFFFF;\n",
              "    }\n",
              "  </style>\n",
              "\n",
              "      <script>\n",
              "        const buttonEl =\n",
              "          document.querySelector('#df-a1f99fa3-57da-4db5-81f1-51b46b53cda8 button.colab-df-convert');\n",
              "        buttonEl.style.display =\n",
              "          google.colab.kernel.accessAllowed ? 'block' : 'none';\n",
              "\n",
              "        async function convertToInteractive(key) {\n",
              "          const element = document.querySelector('#df-a1f99fa3-57da-4db5-81f1-51b46b53cda8');\n",
              "          const dataTable =\n",
              "            await google.colab.kernel.invokeFunction('convertToInteractive',\n",
              "                                                     [key], {});\n",
              "          if (!dataTable) return;\n",
              "\n",
              "          const docLinkHtml = 'Like what you see? Visit the ' +\n",
              "            '<a target=\"_blank\" href=https://colab.research.google.com/notebooks/data_table.ipynb>data table notebook</a>'\n",
              "            + ' to learn more about interactive tables.';\n",
              "          element.innerHTML = '';\n",
              "          dataTable['output_type'] = 'display_data';\n",
              "          await google.colab.output.renderOutput(dataTable, element);\n",
              "          const docLink = document.createElement('div');\n",
              "          docLink.innerHTML = docLinkHtml;\n",
              "          element.appendChild(docLink);\n",
              "        }\n",
              "      </script>\n",
              "    </div>\n",
              "  </div>\n",
              "  "
            ]
          },
          "metadata": {},
          "execution_count": 11
        }
      ]
    },
    {
      "cell_type": "code",
      "source": [
        "#save concat datasets \n",
        "all_lang_train.to_csv('trainset_all', index=False)\n",
        "all_lang_val.to_csv('valset_all', index=False)\n"
      ],
      "metadata": {
        "id": "jK-05o8lWd3_"
      },
      "execution_count": null,
      "outputs": []
    },
    {
      "cell_type": "code",
      "source": [
        "trainset= pd.read_csv('/content/drive/MyDrive/IM/VTPAN_PAN12_Translated /trainset_all') \n",
        "valset= pd.read_csv(\"/content/drive/MyDrive/IM/VTPAN_PAN12_Translated /valset_all\") "
      ],
      "metadata": {
        "id": "f4niiXRuZmxk"
      },
      "execution_count": 8,
      "outputs": []
    },
    {
      "cell_type": "code",
      "source": [
        "trainset"
      ],
      "metadata": {
        "colab": {
          "base_uri": "https://localhost:8080/",
          "height": 423
        },
        "id": "xEdJ52h5DJl7",
        "outputId": "4e9f7cd1-dbfb-4d2c-e71f-cbac2adc8cd5"
      },
      "execution_count": 40,
      "outputs": [
        {
          "output_type": "execute_result",
          "data": {
            "text/plain": [
              "                                                messages  label\n",
              "0      [http://twitter.com/Seoworkers] Google recomme...      0\n",
              "1      heeeyyyyyyy heyy asl? ahhhhhh your just gonna ...      0\n",
              "2      Would you like to become one with mother Russi...      0\n",
              "3      hey Aimee hi how r u tonight? alright I guess ...      1\n",
              "4      Hi:) i am a genie and i will grant you one wis...      0\n",
              "...                                                  ...    ...\n",
              "20416  ['Hallo.', 'heb een tool nodig om unix/samba-a...      0\n",
              "20417  ['Wat doe je liefje?', 'We zoeken dingen op.',...      1\n",
              "20418  ['Haï', 'asl.', 'Hey :D', 'haha omg.. quicky.'...      0\n",
              "20419  ['hiii asl?', 'Hallo.', 'm', 'Im 15 f.', 'Im 1...      0\n",
              "20420  ['Hallo.', 'Asl?', 'm/28/Nederland', 'hhhhhhhh...      0\n",
              "\n",
              "[20421 rows x 2 columns]"
            ],
            "text/html": [
              "\n",
              "  <div id=\"df-87cb4744-6256-43d6-a7ad-606f2852ce00\">\n",
              "    <div class=\"colab-df-container\">\n",
              "      <div>\n",
              "<style scoped>\n",
              "    .dataframe tbody tr th:only-of-type {\n",
              "        vertical-align: middle;\n",
              "    }\n",
              "\n",
              "    .dataframe tbody tr th {\n",
              "        vertical-align: top;\n",
              "    }\n",
              "\n",
              "    .dataframe thead th {\n",
              "        text-align: right;\n",
              "    }\n",
              "</style>\n",
              "<table border=\"1\" class=\"dataframe\">\n",
              "  <thead>\n",
              "    <tr style=\"text-align: right;\">\n",
              "      <th></th>\n",
              "      <th>messages</th>\n",
              "      <th>label</th>\n",
              "    </tr>\n",
              "  </thead>\n",
              "  <tbody>\n",
              "    <tr>\n",
              "      <th>0</th>\n",
              "      <td>[http://twitter.com/Seoworkers] Google recomme...</td>\n",
              "      <td>0</td>\n",
              "    </tr>\n",
              "    <tr>\n",
              "      <th>1</th>\n",
              "      <td>heeeyyyyyyy heyy asl? ahhhhhh your just gonna ...</td>\n",
              "      <td>0</td>\n",
              "    </tr>\n",
              "    <tr>\n",
              "      <th>2</th>\n",
              "      <td>Would you like to become one with mother Russi...</td>\n",
              "      <td>0</td>\n",
              "    </tr>\n",
              "    <tr>\n",
              "      <th>3</th>\n",
              "      <td>hey Aimee hi how r u tonight? alright I guess ...</td>\n",
              "      <td>1</td>\n",
              "    </tr>\n",
              "    <tr>\n",
              "      <th>4</th>\n",
              "      <td>Hi:) i am a genie and i will grant you one wis...</td>\n",
              "      <td>0</td>\n",
              "    </tr>\n",
              "    <tr>\n",
              "      <th>...</th>\n",
              "      <td>...</td>\n",
              "      <td>...</td>\n",
              "    </tr>\n",
              "    <tr>\n",
              "      <th>20416</th>\n",
              "      <td>['Hallo.', 'heb een tool nodig om unix/samba-a...</td>\n",
              "      <td>0</td>\n",
              "    </tr>\n",
              "    <tr>\n",
              "      <th>20417</th>\n",
              "      <td>['Wat doe je liefje?', 'We zoeken dingen op.',...</td>\n",
              "      <td>1</td>\n",
              "    </tr>\n",
              "    <tr>\n",
              "      <th>20418</th>\n",
              "      <td>['Haï', 'asl.', 'Hey :D', 'haha omg.. quicky.'...</td>\n",
              "      <td>0</td>\n",
              "    </tr>\n",
              "    <tr>\n",
              "      <th>20419</th>\n",
              "      <td>['hiii asl?', 'Hallo.', 'm', 'Im 15 f.', 'Im 1...</td>\n",
              "      <td>0</td>\n",
              "    </tr>\n",
              "    <tr>\n",
              "      <th>20420</th>\n",
              "      <td>['Hallo.', 'Asl?', 'm/28/Nederland', 'hhhhhhhh...</td>\n",
              "      <td>0</td>\n",
              "    </tr>\n",
              "  </tbody>\n",
              "</table>\n",
              "<p>20421 rows × 2 columns</p>\n",
              "</div>\n",
              "      <button class=\"colab-df-convert\" onclick=\"convertToInteractive('df-87cb4744-6256-43d6-a7ad-606f2852ce00')\"\n",
              "              title=\"Convert this dataframe to an interactive table.\"\n",
              "              style=\"display:none;\">\n",
              "        \n",
              "  <svg xmlns=\"http://www.w3.org/2000/svg\" height=\"24px\"viewBox=\"0 0 24 24\"\n",
              "       width=\"24px\">\n",
              "    <path d=\"M0 0h24v24H0V0z\" fill=\"none\"/>\n",
              "    <path d=\"M18.56 5.44l.94 2.06.94-2.06 2.06-.94-2.06-.94-.94-2.06-.94 2.06-2.06.94zm-11 1L8.5 8.5l.94-2.06 2.06-.94-2.06-.94L8.5 2.5l-.94 2.06-2.06.94zm10 10l.94 2.06.94-2.06 2.06-.94-2.06-.94-.94-2.06-.94 2.06-2.06.94z\"/><path d=\"M17.41 7.96l-1.37-1.37c-.4-.4-.92-.59-1.43-.59-.52 0-1.04.2-1.43.59L10.3 9.45l-7.72 7.72c-.78.78-.78 2.05 0 2.83L4 21.41c.39.39.9.59 1.41.59.51 0 1.02-.2 1.41-.59l7.78-7.78 2.81-2.81c.8-.78.8-2.07 0-2.86zM5.41 20L4 18.59l7.72-7.72 1.47 1.35L5.41 20z\"/>\n",
              "  </svg>\n",
              "      </button>\n",
              "      \n",
              "  <style>\n",
              "    .colab-df-container {\n",
              "      display:flex;\n",
              "      flex-wrap:wrap;\n",
              "      gap: 12px;\n",
              "    }\n",
              "\n",
              "    .colab-df-convert {\n",
              "      background-color: #E8F0FE;\n",
              "      border: none;\n",
              "      border-radius: 50%;\n",
              "      cursor: pointer;\n",
              "      display: none;\n",
              "      fill: #1967D2;\n",
              "      height: 32px;\n",
              "      padding: 0 0 0 0;\n",
              "      width: 32px;\n",
              "    }\n",
              "\n",
              "    .colab-df-convert:hover {\n",
              "      background-color: #E2EBFA;\n",
              "      box-shadow: 0px 1px 2px rgba(60, 64, 67, 0.3), 0px 1px 3px 1px rgba(60, 64, 67, 0.15);\n",
              "      fill: #174EA6;\n",
              "    }\n",
              "\n",
              "    [theme=dark] .colab-df-convert {\n",
              "      background-color: #3B4455;\n",
              "      fill: #D2E3FC;\n",
              "    }\n",
              "\n",
              "    [theme=dark] .colab-df-convert:hover {\n",
              "      background-color: #434B5C;\n",
              "      box-shadow: 0px 1px 3px 1px rgba(0, 0, 0, 0.15);\n",
              "      filter: drop-shadow(0px 1px 2px rgba(0, 0, 0, 0.3));\n",
              "      fill: #FFFFFF;\n",
              "    }\n",
              "  </style>\n",
              "\n",
              "      <script>\n",
              "        const buttonEl =\n",
              "          document.querySelector('#df-87cb4744-6256-43d6-a7ad-606f2852ce00 button.colab-df-convert');\n",
              "        buttonEl.style.display =\n",
              "          google.colab.kernel.accessAllowed ? 'block' : 'none';\n",
              "\n",
              "        async function convertToInteractive(key) {\n",
              "          const element = document.querySelector('#df-87cb4744-6256-43d6-a7ad-606f2852ce00');\n",
              "          const dataTable =\n",
              "            await google.colab.kernel.invokeFunction('convertToInteractive',\n",
              "                                                     [key], {});\n",
              "          if (!dataTable) return;\n",
              "\n",
              "          const docLinkHtml = 'Like what you see? Visit the ' +\n",
              "            '<a target=\"_blank\" href=https://colab.research.google.com/notebooks/data_table.ipynb>data table notebook</a>'\n",
              "            + ' to learn more about interactive tables.';\n",
              "          element.innerHTML = '';\n",
              "          dataTable['output_type'] = 'display_data';\n",
              "          await google.colab.output.renderOutput(dataTable, element);\n",
              "          const docLink = document.createElement('div');\n",
              "          docLink.innerHTML = docLinkHtml;\n",
              "          element.appendChild(docLink);\n",
              "        }\n",
              "      </script>\n",
              "    </div>\n",
              "  </div>\n",
              "  "
            ]
          },
          "metadata": {},
          "execution_count": 40
        }
      ]
    },
    {
      "cell_type": "code",
      "source": [
        "#Shuffle datasets \n",
        "trainset = shuffle(trainset)\n",
        "valset = shuffle(valset)"
      ],
      "metadata": {
        "id": "PHGpIBiw2Owz"
      },
      "execution_count": 9,
      "outputs": []
    },
    {
      "cell_type": "code",
      "source": [
        "trainset"
      ],
      "metadata": {
        "colab": {
          "base_uri": "https://localhost:8080/",
          "height": 423
        },
        "id": "SaDEJgiSC71u",
        "outputId": "815300c2-2058-4437-9b16-d97b939a904b"
      },
      "execution_count": 10,
      "outputs": [
        {
          "output_type": "execute_result",
          "data": {
            "text/plain": [
              "                                                messages  label\n",
              "8334   ['heyy asl', 'Auf der Suche nach einer horny l...      0\n",
              "9271   ['Hallo', 'Hallo', 'Asl?', 'ich bin koreanisch...      0\n",
              "3675   I think DOM Core should define Events (just th...      0\n",
              "13366  ['Asl', 'f 22 pac', 'n u /', '22 m uk', 'n’ave...      0\n",
              "17861  ['Hallo.', ':)', ': )', 'Leuk om u te ontmoete...      0\n",
              "...                                                  ...    ...\n",
              "2407   hello Aimee >:D< :-* hello Aimee come on chat ...      1\n",
              "4091   horney lesbian You're now chatting with a hot ...      0\n",
              "10458  ['m?', 'ou f?', \"oui... qu'est-ce que vous tap...      0\n",
              "16614  ['Hallo.', \"'snijden'.\", 'U een man?', 'Dus wa...      0\n",
              "10793  ['Ahoy là-bas', 'Ello mate', 'Aussie huh', 'No...      0\n",
              "\n",
              "[20421 rows x 2 columns]"
            ],
            "text/html": [
              "\n",
              "  <div id=\"df-c4a25c4d-d5ef-4f00-975e-8d5db16a6693\">\n",
              "    <div class=\"colab-df-container\">\n",
              "      <div>\n",
              "<style scoped>\n",
              "    .dataframe tbody tr th:only-of-type {\n",
              "        vertical-align: middle;\n",
              "    }\n",
              "\n",
              "    .dataframe tbody tr th {\n",
              "        vertical-align: top;\n",
              "    }\n",
              "\n",
              "    .dataframe thead th {\n",
              "        text-align: right;\n",
              "    }\n",
              "</style>\n",
              "<table border=\"1\" class=\"dataframe\">\n",
              "  <thead>\n",
              "    <tr style=\"text-align: right;\">\n",
              "      <th></th>\n",
              "      <th>messages</th>\n",
              "      <th>label</th>\n",
              "    </tr>\n",
              "  </thead>\n",
              "  <tbody>\n",
              "    <tr>\n",
              "      <th>8334</th>\n",
              "      <td>['heyy asl', 'Auf der Suche nach einer horny l...</td>\n",
              "      <td>0</td>\n",
              "    </tr>\n",
              "    <tr>\n",
              "      <th>9271</th>\n",
              "      <td>['Hallo', 'Hallo', 'Asl?', 'ich bin koreanisch...</td>\n",
              "      <td>0</td>\n",
              "    </tr>\n",
              "    <tr>\n",
              "      <th>3675</th>\n",
              "      <td>I think DOM Core should define Events (just th...</td>\n",
              "      <td>0</td>\n",
              "    </tr>\n",
              "    <tr>\n",
              "      <th>13366</th>\n",
              "      <td>['Asl', 'f 22 pac', 'n u /', '22 m uk', 'n’ave...</td>\n",
              "      <td>0</td>\n",
              "    </tr>\n",
              "    <tr>\n",
              "      <th>17861</th>\n",
              "      <td>['Hallo.', ':)', ': )', 'Leuk om u te ontmoete...</td>\n",
              "      <td>0</td>\n",
              "    </tr>\n",
              "    <tr>\n",
              "      <th>...</th>\n",
              "      <td>...</td>\n",
              "      <td>...</td>\n",
              "    </tr>\n",
              "    <tr>\n",
              "      <th>2407</th>\n",
              "      <td>hello Aimee &gt;:D&lt; :-* hello Aimee come on chat ...</td>\n",
              "      <td>1</td>\n",
              "    </tr>\n",
              "    <tr>\n",
              "      <th>4091</th>\n",
              "      <td>horney lesbian You're now chatting with a hot ...</td>\n",
              "      <td>0</td>\n",
              "    </tr>\n",
              "    <tr>\n",
              "      <th>10458</th>\n",
              "      <td>['m?', 'ou f?', \"oui... qu'est-ce que vous tap...</td>\n",
              "      <td>0</td>\n",
              "    </tr>\n",
              "    <tr>\n",
              "      <th>16614</th>\n",
              "      <td>['Hallo.', \"'snijden'.\", 'U een man?', 'Dus wa...</td>\n",
              "      <td>0</td>\n",
              "    </tr>\n",
              "    <tr>\n",
              "      <th>10793</th>\n",
              "      <td>['Ahoy là-bas', 'Ello mate', 'Aussie huh', 'No...</td>\n",
              "      <td>0</td>\n",
              "    </tr>\n",
              "  </tbody>\n",
              "</table>\n",
              "<p>20421 rows × 2 columns</p>\n",
              "</div>\n",
              "      <button class=\"colab-df-convert\" onclick=\"convertToInteractive('df-c4a25c4d-d5ef-4f00-975e-8d5db16a6693')\"\n",
              "              title=\"Convert this dataframe to an interactive table.\"\n",
              "              style=\"display:none;\">\n",
              "        \n",
              "  <svg xmlns=\"http://www.w3.org/2000/svg\" height=\"24px\"viewBox=\"0 0 24 24\"\n",
              "       width=\"24px\">\n",
              "    <path d=\"M0 0h24v24H0V0z\" fill=\"none\"/>\n",
              "    <path d=\"M18.56 5.44l.94 2.06.94-2.06 2.06-.94-2.06-.94-.94-2.06-.94 2.06-2.06.94zm-11 1L8.5 8.5l.94-2.06 2.06-.94-2.06-.94L8.5 2.5l-.94 2.06-2.06.94zm10 10l.94 2.06.94-2.06 2.06-.94-2.06-.94-.94-2.06-.94 2.06-2.06.94z\"/><path d=\"M17.41 7.96l-1.37-1.37c-.4-.4-.92-.59-1.43-.59-.52 0-1.04.2-1.43.59L10.3 9.45l-7.72 7.72c-.78.78-.78 2.05 0 2.83L4 21.41c.39.39.9.59 1.41.59.51 0 1.02-.2 1.41-.59l7.78-7.78 2.81-2.81c.8-.78.8-2.07 0-2.86zM5.41 20L4 18.59l7.72-7.72 1.47 1.35L5.41 20z\"/>\n",
              "  </svg>\n",
              "      </button>\n",
              "      \n",
              "  <style>\n",
              "    .colab-df-container {\n",
              "      display:flex;\n",
              "      flex-wrap:wrap;\n",
              "      gap: 12px;\n",
              "    }\n",
              "\n",
              "    .colab-df-convert {\n",
              "      background-color: #E8F0FE;\n",
              "      border: none;\n",
              "      border-radius: 50%;\n",
              "      cursor: pointer;\n",
              "      display: none;\n",
              "      fill: #1967D2;\n",
              "      height: 32px;\n",
              "      padding: 0 0 0 0;\n",
              "      width: 32px;\n",
              "    }\n",
              "\n",
              "    .colab-df-convert:hover {\n",
              "      background-color: #E2EBFA;\n",
              "      box-shadow: 0px 1px 2px rgba(60, 64, 67, 0.3), 0px 1px 3px 1px rgba(60, 64, 67, 0.15);\n",
              "      fill: #174EA6;\n",
              "    }\n",
              "\n",
              "    [theme=dark] .colab-df-convert {\n",
              "      background-color: #3B4455;\n",
              "      fill: #D2E3FC;\n",
              "    }\n",
              "\n",
              "    [theme=dark] .colab-df-convert:hover {\n",
              "      background-color: #434B5C;\n",
              "      box-shadow: 0px 1px 3px 1px rgba(0, 0, 0, 0.15);\n",
              "      filter: drop-shadow(0px 1px 2px rgba(0, 0, 0, 0.3));\n",
              "      fill: #FFFFFF;\n",
              "    }\n",
              "  </style>\n",
              "\n",
              "      <script>\n",
              "        const buttonEl =\n",
              "          document.querySelector('#df-c4a25c4d-d5ef-4f00-975e-8d5db16a6693 button.colab-df-convert');\n",
              "        buttonEl.style.display =\n",
              "          google.colab.kernel.accessAllowed ? 'block' : 'none';\n",
              "\n",
              "        async function convertToInteractive(key) {\n",
              "          const element = document.querySelector('#df-c4a25c4d-d5ef-4f00-975e-8d5db16a6693');\n",
              "          const dataTable =\n",
              "            await google.colab.kernel.invokeFunction('convertToInteractive',\n",
              "                                                     [key], {});\n",
              "          if (!dataTable) return;\n",
              "\n",
              "          const docLinkHtml = 'Like what you see? Visit the ' +\n",
              "            '<a target=\"_blank\" href=https://colab.research.google.com/notebooks/data_table.ipynb>data table notebook</a>'\n",
              "            + ' to learn more about interactive tables.';\n",
              "          element.innerHTML = '';\n",
              "          dataTable['output_type'] = 'display_data';\n",
              "          await google.colab.output.renderOutput(dataTable, element);\n",
              "          const docLink = document.createElement('div');\n",
              "          docLink.innerHTML = docLinkHtml;\n",
              "          element.appendChild(docLink);\n",
              "        }\n",
              "      </script>\n",
              "    </div>\n",
              "  </div>\n",
              "  "
            ]
          },
          "metadata": {},
          "execution_count": 10
        }
      ]
    },
    {
      "cell_type": "code",
      "source": [
        "class_names = [ 'non predator', 'predator']\n",
        "     "
      ],
      "metadata": {
        "id": "dAbA3_pxNlSH"
      },
      "execution_count": 11,
      "outputs": []
    },
    {
      "cell_type": "code",
      "source": [
        "#one-hot encoding the labels \n",
        "def to_sentiment(label):\n",
        "  if label == 'predator':\n",
        "    return 1\n",
        "  elif label == 'non-predator':\n",
        "    return 0\n",
        "\n",
        "eng_testset['label'] = eng_testset['label'].apply(to_sentiment)"
      ],
      "metadata": {
        "id": "9Ql5_GFkMyIp"
      },
      "execution_count": 12,
      "outputs": []
    },
    {
      "cell_type": "code",
      "source": [
        "eng_testset"
      ],
      "metadata": {
        "colab": {
          "base_uri": "https://localhost:8080/",
          "height": 423
        },
        "id": "IZFNrZf33ViP",
        "outputId": "e507279d-0e2d-4d75-b9ed-ed10a2089646"
      },
      "execution_count": 12,
      "outputs": [
        {
          "output_type": "execute_result",
          "data": {
            "text/plain": [
              "       label                          chatName  \\\n",
              "0          1  de15188e9fd515ed817a0b34546be902   \n",
              "1          0  17784c5a093477c1706b1a68cea7c802   \n",
              "2          0  15a38614944f5aa8bbb59d4153ecc12a   \n",
              "3          0  ee0aba2365c16a30cb36d1057a390b16   \n",
              "4          0  ca1b963746e368a4cec38ab4be3fdcf7   \n",
              "...      ...                               ...   \n",
              "15324      0  85e044706ceca109b1adf6c744a4126c   \n",
              "15325      1  ec391a65097a955029afaedc23d5fa81   \n",
              "15326      1  82add2c9da3c267a98b3981375b6c238   \n",
              "15327      0  e2bc24141a2855dd6825d8b3132bfa11   \n",
              "15328      0  8deed7c66340728e6863f3d931d4cca7   \n",
              "\n",
              "                                                 segment  \n",
              "0      back ok babe what happend babe dog wanted out ...  \n",
              "1      hello boys are shit that they are hi sorry i w...  \n",
              "2      hi 19 m usa horny, u? 2+2*2 2+2*2? 6? yay now ...  \n",
              "3      f/m ? hi there f u? hi m 18 nice ireland u ? u...  \n",
              "4      sorry, I'm back now. and for the record I want...  \n",
              "...                                                  ...  \n",
              "15324  Hello hello Hey... well this is awkward Really...  \n",
              "15325  hi asl? heya whats up? 13/f/socal whats ur asl...  \n",
              "15326  good morning , how r u? hey :) im good u? am o...  \n",
              "15327  hi m or f hi f & u :) M :) frm? You ok ya im f...  \n",
              "15328  a horse a horse well Ober null.h but it doesnt...  \n",
              "\n",
              "[15329 rows x 3 columns]"
            ],
            "text/html": [
              "\n",
              "  <div id=\"df-85b88190-1e24-4615-9af0-497cb8aca128\">\n",
              "    <div class=\"colab-df-container\">\n",
              "      <div>\n",
              "<style scoped>\n",
              "    .dataframe tbody tr th:only-of-type {\n",
              "        vertical-align: middle;\n",
              "    }\n",
              "\n",
              "    .dataframe tbody tr th {\n",
              "        vertical-align: top;\n",
              "    }\n",
              "\n",
              "    .dataframe thead th {\n",
              "        text-align: right;\n",
              "    }\n",
              "</style>\n",
              "<table border=\"1\" class=\"dataframe\">\n",
              "  <thead>\n",
              "    <tr style=\"text-align: right;\">\n",
              "      <th></th>\n",
              "      <th>label</th>\n",
              "      <th>chatName</th>\n",
              "      <th>segment</th>\n",
              "    </tr>\n",
              "  </thead>\n",
              "  <tbody>\n",
              "    <tr>\n",
              "      <th>0</th>\n",
              "      <td>1</td>\n",
              "      <td>de15188e9fd515ed817a0b34546be902</td>\n",
              "      <td>back ok babe what happend babe dog wanted out ...</td>\n",
              "    </tr>\n",
              "    <tr>\n",
              "      <th>1</th>\n",
              "      <td>0</td>\n",
              "      <td>17784c5a093477c1706b1a68cea7c802</td>\n",
              "      <td>hello boys are shit that they are hi sorry i w...</td>\n",
              "    </tr>\n",
              "    <tr>\n",
              "      <th>2</th>\n",
              "      <td>0</td>\n",
              "      <td>15a38614944f5aa8bbb59d4153ecc12a</td>\n",
              "      <td>hi 19 m usa horny, u? 2+2*2 2+2*2? 6? yay now ...</td>\n",
              "    </tr>\n",
              "    <tr>\n",
              "      <th>3</th>\n",
              "      <td>0</td>\n",
              "      <td>ee0aba2365c16a30cb36d1057a390b16</td>\n",
              "      <td>f/m ? hi there f u? hi m 18 nice ireland u ? u...</td>\n",
              "    </tr>\n",
              "    <tr>\n",
              "      <th>4</th>\n",
              "      <td>0</td>\n",
              "      <td>ca1b963746e368a4cec38ab4be3fdcf7</td>\n",
              "      <td>sorry, I'm back now. and for the record I want...</td>\n",
              "    </tr>\n",
              "    <tr>\n",
              "      <th>...</th>\n",
              "      <td>...</td>\n",
              "      <td>...</td>\n",
              "      <td>...</td>\n",
              "    </tr>\n",
              "    <tr>\n",
              "      <th>15324</th>\n",
              "      <td>0</td>\n",
              "      <td>85e044706ceca109b1adf6c744a4126c</td>\n",
              "      <td>Hello hello Hey... well this is awkward Really...</td>\n",
              "    </tr>\n",
              "    <tr>\n",
              "      <th>15325</th>\n",
              "      <td>1</td>\n",
              "      <td>ec391a65097a955029afaedc23d5fa81</td>\n",
              "      <td>hi asl? heya whats up? 13/f/socal whats ur asl...</td>\n",
              "    </tr>\n",
              "    <tr>\n",
              "      <th>15326</th>\n",
              "      <td>1</td>\n",
              "      <td>82add2c9da3c267a98b3981375b6c238</td>\n",
              "      <td>good morning , how r u? hey :) im good u? am o...</td>\n",
              "    </tr>\n",
              "    <tr>\n",
              "      <th>15327</th>\n",
              "      <td>0</td>\n",
              "      <td>e2bc24141a2855dd6825d8b3132bfa11</td>\n",
              "      <td>hi m or f hi f &amp; u :) M :) frm? You ok ya im f...</td>\n",
              "    </tr>\n",
              "    <tr>\n",
              "      <th>15328</th>\n",
              "      <td>0</td>\n",
              "      <td>8deed7c66340728e6863f3d931d4cca7</td>\n",
              "      <td>a horse a horse well Ober null.h but it doesnt...</td>\n",
              "    </tr>\n",
              "  </tbody>\n",
              "</table>\n",
              "<p>15329 rows × 3 columns</p>\n",
              "</div>\n",
              "      <button class=\"colab-df-convert\" onclick=\"convertToInteractive('df-85b88190-1e24-4615-9af0-497cb8aca128')\"\n",
              "              title=\"Convert this dataframe to an interactive table.\"\n",
              "              style=\"display:none;\">\n",
              "        \n",
              "  <svg xmlns=\"http://www.w3.org/2000/svg\" height=\"24px\"viewBox=\"0 0 24 24\"\n",
              "       width=\"24px\">\n",
              "    <path d=\"M0 0h24v24H0V0z\" fill=\"none\"/>\n",
              "    <path d=\"M18.56 5.44l.94 2.06.94-2.06 2.06-.94-2.06-.94-.94-2.06-.94 2.06-2.06.94zm-11 1L8.5 8.5l.94-2.06 2.06-.94-2.06-.94L8.5 2.5l-.94 2.06-2.06.94zm10 10l.94 2.06.94-2.06 2.06-.94-2.06-.94-.94-2.06-.94 2.06-2.06.94z\"/><path d=\"M17.41 7.96l-1.37-1.37c-.4-.4-.92-.59-1.43-.59-.52 0-1.04.2-1.43.59L10.3 9.45l-7.72 7.72c-.78.78-.78 2.05 0 2.83L4 21.41c.39.39.9.59 1.41.59.51 0 1.02-.2 1.41-.59l7.78-7.78 2.81-2.81c.8-.78.8-2.07 0-2.86zM5.41 20L4 18.59l7.72-7.72 1.47 1.35L5.41 20z\"/>\n",
              "  </svg>\n",
              "      </button>\n",
              "      \n",
              "  <style>\n",
              "    .colab-df-container {\n",
              "      display:flex;\n",
              "      flex-wrap:wrap;\n",
              "      gap: 12px;\n",
              "    }\n",
              "\n",
              "    .colab-df-convert {\n",
              "      background-color: #E8F0FE;\n",
              "      border: none;\n",
              "      border-radius: 50%;\n",
              "      cursor: pointer;\n",
              "      display: none;\n",
              "      fill: #1967D2;\n",
              "      height: 32px;\n",
              "      padding: 0 0 0 0;\n",
              "      width: 32px;\n",
              "    }\n",
              "\n",
              "    .colab-df-convert:hover {\n",
              "      background-color: #E2EBFA;\n",
              "      box-shadow: 0px 1px 2px rgba(60, 64, 67, 0.3), 0px 1px 3px 1px rgba(60, 64, 67, 0.15);\n",
              "      fill: #174EA6;\n",
              "    }\n",
              "\n",
              "    [theme=dark] .colab-df-convert {\n",
              "      background-color: #3B4455;\n",
              "      fill: #D2E3FC;\n",
              "    }\n",
              "\n",
              "    [theme=dark] .colab-df-convert:hover {\n",
              "      background-color: #434B5C;\n",
              "      box-shadow: 0px 1px 3px 1px rgba(0, 0, 0, 0.15);\n",
              "      filter: drop-shadow(0px 1px 2px rgba(0, 0, 0, 0.3));\n",
              "      fill: #FFFFFF;\n",
              "    }\n",
              "  </style>\n",
              "\n",
              "      <script>\n",
              "        const buttonEl =\n",
              "          document.querySelector('#df-85b88190-1e24-4615-9af0-497cb8aca128 button.colab-df-convert');\n",
              "        buttonEl.style.display =\n",
              "          google.colab.kernel.accessAllowed ? 'block' : 'none';\n",
              "\n",
              "        async function convertToInteractive(key) {\n",
              "          const element = document.querySelector('#df-85b88190-1e24-4615-9af0-497cb8aca128');\n",
              "          const dataTable =\n",
              "            await google.colab.kernel.invokeFunction('convertToInteractive',\n",
              "                                                     [key], {});\n",
              "          if (!dataTable) return;\n",
              "\n",
              "          const docLinkHtml = 'Like what you see? Visit the ' +\n",
              "            '<a target=\"_blank\" href=https://colab.research.google.com/notebooks/data_table.ipynb>data table notebook</a>'\n",
              "            + ' to learn more about interactive tables.';\n",
              "          element.innerHTML = '';\n",
              "          dataTable['output_type'] = 'display_data';\n",
              "          await google.colab.output.renderOutput(dataTable, element);\n",
              "          const docLink = document.createElement('div');\n",
              "          docLink.innerHTML = docLinkHtml;\n",
              "          element.appendChild(docLink);\n",
              "        }\n",
              "      </script>\n",
              "    </div>\n",
              "  </div>\n",
              "  "
            ]
          },
          "metadata": {},
          "execution_count": 12
        }
      ]
    },
    {
      "cell_type": "markdown",
      "source": [
        "# **Model**"
      ],
      "metadata": {
        "id": "iYykcCKP41br"
      }
    },
    {
      "cell_type": "code",
      "source": [
        "#load model \n",
        "model= AutoModelForSequenceClassification.from_pretrained(\"xlm-roberta-base\")\n",
        "\n",
        "tokenizer = AutoTokenizer.from_pretrained('xlm-roberta-base')"
      ],
      "metadata": {
        "id": "X0h_eN0RMyMD"
      },
      "execution_count": null,
      "outputs": []
    },
    {
      "cell_type": "code",
      "source": [
        "#all languages dataset to list\n",
        "X_train = list(trainset[\"messages\"])\n",
        "y_train = list(trainset[\"label\"])\n",
        "X_val = list(valset[\"messages\"])\n",
        "y_val = list(valset[\"label\"])\n",
        "   "
      ],
      "metadata": {
        "id": "Lwo100AVMyOx"
      },
      "execution_count": 14,
      "outputs": []
    },
    {
      "cell_type": "code",
      "source": [
        "#English testset\n",
        "X_test_eng = list(eng_testset[\"segment\"])\n",
        "y_test_eng = list(eng_testset[\"label\"])\n",
        "\n",
        "#German testset\n",
        "X_test_ger = list(ger_testset[\"messages_de\"])\n",
        " y_test_ger = list(ger_testset[\"label\"])\n",
        "\n",
        "#French testset\n",
        "X_test_fr = list(fr_testset[\"messages_de\"])\n",
        "y_test_fr = list(fr_testset[\"label\"])\n",
        "\n",
        "#Dutch tesset \n",
        "X_test_nl = list(nl_testset[\"messages_de\"])\n",
        "y_test_nl = list(nl_testset[\"label\"])"
      ],
      "metadata": {
        "id": "6X0fHYm4aemb"
      },
      "execution_count": 39,
      "outputs": []
    },
    {
      "cell_type": "code",
      "source": [
        "#tokenize train/val data \n",
        "train_encodings = tokenizer(X_train, truncation=True, padding=True, max_length=512)\n",
        "val_encodings = tokenizer(X_val, truncation=True, padding=True, max_length=512)\n"
      ],
      "metadata": {
        "id": "-9pzKwhBMySE"
      },
      "execution_count": 16,
      "outputs": []
    },
    {
      "cell_type": "code",
      "source": [
        "#tokenize test data for 4 languages \n",
        "\n",
        "test_encodings_eng = tokenizer(X_test_eng, truncation=True, padding=True, max_length=512)\n",
        "test_encodings_ger = tokenizer(X_test_ger, truncation=True, padding=True, max_length=512)\n",
        "test_encodings_fr = tokenizer(X_test_fr, truncation=True, padding=True, max_length=512)\n",
        "test_encodings_nl = tokenizer(X_test_nl, truncation=True, padding=True, max_length=512)"
      ],
      "metadata": {
        "id": "47QLpHFfdSlq"
      },
      "execution_count": 40,
      "outputs": []
    },
    {
      "cell_type": "code",
      "source": [
        "# Create torch dataset\n",
        "class Dataset(torch.utils.data.Dataset):\n",
        "    def __init__(self, encodings, labels=None):\n",
        "        self.encodings = encodings\n",
        "        self.labels = labels\n",
        "\n",
        "    def __getitem__(self, idx):\n",
        "        item = {key: torch.tensor(val[idx]) for key, val in self.encodings.items()}\n",
        "        if self.labels:\n",
        "            item[\"labels\"] = torch.tensor(self.labels[idx])\n",
        "        return item\n",
        "\n",
        "    def __len__(self):\n",
        "        return len(self.encodings[\"input_ids\"])\n",
        "     "
      ],
      "metadata": {
        "id": "Y2Y2JRdYMyVJ"
      },
      "execution_count": 18,
      "outputs": []
    },
    {
      "cell_type": "code",
      "source": [
        "#load the train/val datase\n",
        "train_dataset = Dataset(train_encodings, y_train)\n",
        "val_dataset = Dataset(val_encodings, y_val)"
      ],
      "metadata": {
        "id": "3RqHED1VMyYT"
      },
      "execution_count": 20,
      "outputs": []
    },
    {
      "cell_type": "code",
      "source": [
        "#load english/german testsets \n",
        "test_dataset_eng = Dataset(test_encodings_eng, y_test_eng)\n",
        "test_dataset_ger = Dataset(test_encodings_ger, y_test_ger)\n",
        "\n",
        "test_dataset_fr = Dataset(test_encodings_fr, y_test_fr)\n",
        "test_dataset_nl = Dataset(test_encodings_nl, y_test_nl)"
      ],
      "metadata": {
        "id": "Ipe0-t1Ep2qe"
      },
      "execution_count": 41,
      "outputs": []
    },
    {
      "cell_type": "markdown",
      "source": [
        "# **Model training on all languages**"
      ],
      "metadata": {
        "id": "4w2P09oWkYdY"
      }
    },
    {
      "cell_type": "code",
      "source": [
        "# Define Trainer\n",
        "args = TrainingArguments(\n",
        "    output_dir=\"xmlRoberta_all_lang\",\n",
        "    num_train_epochs=3,\n",
        "    per_device_train_batch_size=16\n",
        "\n",
        ")\n",
        "trainer = Trainer(\n",
        "    model=model,\n",
        "    args=args,\n",
        "    tokenizer=tokenizer,\n",
        "    train_dataset=train_dataset,\n",
        "    eval_dataset=val_dataset)"
      ],
      "metadata": {
        "id": "5I7ib-UkMyd2"
      },
      "execution_count": 22,
      "outputs": []
    },
    {
      "cell_type": "code",
      "source": [
        "#train\n",
        "trainer.train()"
      ],
      "metadata": {
        "colab": {
          "base_uri": "https://localhost:8080/",
          "height": 401
        },
        "id": "YQmI66erMye1",
        "outputId": "c4d2f3ff-d3bc-4d65-e538-cec6cfdd1405"
      },
      "execution_count": 23,
      "outputs": [
        {
          "output_type": "stream",
          "name": "stderr",
          "text": [
            "/usr/local/lib/python3.9/dist-packages/transformers/optimization.py:391: FutureWarning: This implementation of AdamW is deprecated and will be removed in a future version. Use the PyTorch implementation torch.optim.AdamW instead, or set `no_deprecation_warning=True` to disable this warning\n",
            "  warnings.warn(\n",
            "You're using a XLMRobertaTokenizerFast tokenizer. Please note that with a fast tokenizer, using the `__call__` method is faster than using a method to encode the text followed by a call to the `pad` method to get a padded encoding.\n"
          ]
        },
        {
          "output_type": "display_data",
          "data": {
            "text/plain": [
              "<IPython.core.display.HTML object>"
            ],
            "text/html": [
              "\n",
              "    <div>\n",
              "      \n",
              "      <progress value='3831' max='3831' style='width:300px; height:20px; vertical-align: middle;'></progress>\n",
              "      [3831/3831 1:41:38, Epoch 3/3]\n",
              "    </div>\n",
              "    <table border=\"1\" class=\"dataframe\">\n",
              "  <thead>\n",
              " <tr style=\"text-align: left;\">\n",
              "      <th>Step</th>\n",
              "      <th>Training Loss</th>\n",
              "    </tr>\n",
              "  </thead>\n",
              "  <tbody>\n",
              "    <tr>\n",
              "      <td>500</td>\n",
              "      <td>0.248100</td>\n",
              "    </tr>\n",
              "    <tr>\n",
              "      <td>1000</td>\n",
              "      <td>0.109400</td>\n",
              "    </tr>\n",
              "    <tr>\n",
              "      <td>1500</td>\n",
              "      <td>0.074200</td>\n",
              "    </tr>\n",
              "    <tr>\n",
              "      <td>2000</td>\n",
              "      <td>0.050200</td>\n",
              "    </tr>\n",
              "    <tr>\n",
              "      <td>2500</td>\n",
              "      <td>0.043100</td>\n",
              "    </tr>\n",
              "    <tr>\n",
              "      <td>3000</td>\n",
              "      <td>0.026500</td>\n",
              "    </tr>\n",
              "    <tr>\n",
              "      <td>3500</td>\n",
              "      <td>0.026300</td>\n",
              "    </tr>\n",
              "  </tbody>\n",
              "</table><p>"
            ]
          },
          "metadata": {}
        },
        {
          "output_type": "execute_result",
          "data": {
            "text/plain": [
              "TrainOutput(global_step=3831, training_loss=0.07728604603236912, metrics={'train_runtime': 6103.8802, 'train_samples_per_second': 10.037, 'train_steps_per_second': 0.628, 'total_flos': 1.611897258451968e+16, 'train_loss': 0.07728604603236912, 'epoch': 3.0})"
            ]
          },
          "metadata": {},
          "execution_count": 23
        }
      ]
    },
    {
      "cell_type": "code",
      "source": [
        "notebook_login()\n"
      ],
      "metadata": {
        "id": "fMLWqVEpMykV"
      },
      "execution_count": null,
      "outputs": []
    },
    {
      "cell_type": "code",
      "source": [
        "#push model to hub\n",
        "trainer.push_to_hub()"
      ],
      "metadata": {
        "id": "D5gyxAKmMylL"
      },
      "execution_count": null,
      "outputs": []
    },
    {
      "cell_type": "markdown",
      "source": [
        "# **Testing XML-Roberta on each language seperately**"
      ],
      "metadata": {
        "id": "Rv3ZAdAbsDkL"
      }
    },
    {
      "cell_type": "markdown",
      "source": [
        "**Testing on German**"
      ],
      "metadata": {
        "id": "3znaPiqZqkdv"
      }
    },
    {
      "cell_type": "code",
      "source": [
        "#get prediction from German test data \n",
        "predictions = trainer.predict(test_dataset_ger)\n",
        "preds_ger = np.argmax(predictions.predictions, axis=-1)\n",
        "     "
      ],
      "metadata": {
        "id": "P6sc54WeMyrl",
        "colab": {
          "base_uri": "https://localhost:8080/",
          "height": 17
        },
        "outputId": "f21ce1ad-5a32-4874-8bf3-6a1faa1bc306"
      },
      "execution_count": 24,
      "outputs": [
        {
          "output_type": "display_data",
          "data": {
            "text/plain": [
              "<IPython.core.display.HTML object>"
            ],
            "text/html": []
          },
          "metadata": {}
        }
      ]
    },
    {
      "cell_type": "code",
      "source": [
        "# macro f1 on test German data \n",
        "metric = evaluate.load(\"f1\")\n",
        "metric.compute(predictions=preds_ger, references=y_test_ger,  average=\"macro\")\n",
        "     "
      ],
      "metadata": {
        "id": "9B7iAPr5NlOy",
        "colab": {
          "base_uri": "https://localhost:8080/",
          "height": 66,
          "referenced_widgets": [
            "c43d81bbea244ca99eccfffcdae5b1e1",
            "beac163a87f74199912ac6e21f25b518",
            "b588b1adfee94a1aa2061142caf5f315",
            "c8ff810031f9482d826092169363b8db",
            "6811a474c311448f9d7f3d139aa90cc0",
            "c2bc6a52e5c1465e9349df26803fcab7",
            "7a020717999c4101a37c1b8beb297f54",
            "3636e612bafe46bda184d2d33182691b",
            "e372d299c8aa44539919ee2b64172b80",
            "d08e451c16c848a6a09664591d828ee3",
            "8f1cce07b27344bab50c51eb4e9d4578"
          ]
        },
        "outputId": "26dfdd51-a4b9-47d4-acdf-b24e16cd99fb"
      },
      "execution_count": 25,
      "outputs": [
        {
          "output_type": "display_data",
          "data": {
            "text/plain": [
              "Downloading builder script:   0%|          | 0.00/6.77k [00:00<?, ?B/s]"
            ],
            "application/vnd.jupyter.widget-view+json": {
              "version_major": 2,
              "version_minor": 0,
              "model_id": "c43d81bbea244ca99eccfffcdae5b1e1"
            }
          },
          "metadata": {}
        },
        {
          "output_type": "execute_result",
          "data": {
            "text/plain": [
              "{'f1': 0.9311532087003854}"
            ]
          },
          "metadata": {},
          "execution_count": 25
        }
      ]
    },
    {
      "cell_type": "code",
      "source": [
        "#classification report\n",
        "\n",
        "print(classification_report(y_test_ger, preds_ger, target_names=class_names))"
      ],
      "metadata": {
        "colab": {
          "base_uri": "https://localhost:8080/"
        },
        "id": "MFktxRooFmLP",
        "outputId": "db8706c8-5a54-4670-d4c5-de126fda6b38"
      },
      "execution_count": 26,
      "outputs": [
        {
          "output_type": "stream",
          "name": "stdout",
          "text": [
            "              precision    recall  f1-score   support\n",
            "\n",
            "non predator       0.99      0.99      0.99     13863\n",
            "    predator       0.87      0.88      0.88      1466\n",
            "\n",
            "    accuracy                           0.98     15329\n",
            "   macro avg       0.93      0.93      0.93     15329\n",
            "weighted avg       0.98      0.98      0.98     15329\n",
            "\n"
          ]
        }
      ]
    },
    {
      "cell_type": "code",
      "source": [
        "#confusion matrix \n",
        "def show_confusion_matrix(confusion_matrix):\n",
        "  hmap = sns.heatmap(confusion_matrix, annot=True, fmt=\"d\", cmap=\"Blues\")\n",
        "  hmap.yaxis.set_ticklabels(hmap.yaxis.get_ticklabels(), rotation=0, ha='right')\n",
        "  hmap.xaxis.set_ticklabels(hmap.xaxis.get_ticklabels(), rotation=30, ha='right')\n",
        "  plt.ylabel('True label')\n",
        "  plt.xlabel('Predicted label');\n",
        "cm = confusion_matrix(y_test_ger, preds_ger)\n",
        "df_cm = pd.DataFrame(cm, index=class_names, columns=class_names)\n",
        "show_confusion_matrix(df_cm)"
      ],
      "metadata": {
        "colab": {
          "base_uri": "https://localhost:8080/",
          "height": 493
        },
        "id": "qGUOno5lrMph",
        "outputId": "fbb0f534-37cf-4b0b-cdf8-610c5e12c86c"
      },
      "execution_count": 27,
      "outputs": [
        {
          "output_type": "display_data",
          "data": {
            "text/plain": [
              "<Figure size 640x480 with 2 Axes>"
            ],
            "image/png": "[encoded data removed]"
          },
          "metadata": {}
        }
      ]
    },
    {
      "cell_type": "code",
      "source": [
        "fpr, tpr, threshold = roc_curve(y_test_ger, preds_ger)\n",
        "auc = auc(fpr, tpr)\n",
        "\n",
        "plt.figure(figsize=(5, 5), dpi=100)\n",
        "plt.plot(fpr, tpr, marker='.', label='Model (auc = %0.3f)' % auc)\n",
        "\n",
        "plt.xlabel('False Positive Rate -->')\n",
        "plt.ylabel('True Positive Rate -->')\n",
        "\n",
        "plt.legend()\n",
        "\n",
        "plt.show()"
      ],
      "metadata": {
        "colab": {
          "base_uri": "https://localhost:8080/",
          "height": 465
        },
        "id": "KiESus_3rQfc",
        "outputId": "7401cd86-28b5-4b69-beaa-4fb77d2d9e59"
      },
      "execution_count": 28,
      "outputs": [
        {
          "output_type": "display_data",
          "data": {
            "text/plain": [
              "<Figure size 500x500 with 1 Axes>"
            ],
            "image/png": "[encoded data removed]"
          },
          "metadata": {}
        }
      ]
    },
    {
      "cell_type": "code",
      "source": [
        "#missclassified examples \n",
        "misclassified = np.where(preds_ger != y_test_ger)\n",
        "print(misclassified)"
      ],
      "metadata": {
        "colab": {
          "base_uri": "https://localhost:8080/"
        },
        "id": "1Td_FjTBre0j",
        "outputId": "b177bb99-029e-4d8c-8fb0-e1d73e503af7"
      },
      "execution_count": 29,
      "outputs": [
        {
          "output_type": "stream",
          "name": "stdout",
          "text": [
            "(array([   30,    86,    89,   108,   157,   204,   246,   358,   414,\n",
            "         428,   548,   586,   710,   712,   723,   734,   780,   781,\n",
            "         858,   863,   917,   962,   983,  1051,  1074,  1087,  1099,\n",
            "        1115,  1180,  1229,  1259,  1514,  1521,  1532,  1538,  1600,\n",
            "        1602,  1609,  1664,  1723,  1770,  1827,  1958,  1969,  2003,\n",
            "        2005,  2041,  2065,  2087,  2100,  2221,  2312,  2389,  2424,\n",
            "        2446,  2454,  2456,  2465,  2501,  2531,  2550,  2551,  2567,\n",
            "        2576,  2678,  2702,  2791,  2797,  2835,  2856,  2858,  2866,\n",
            "        2873,  2943,  3030,  3064,  3207,  3222,  3224,  3428,  3493,\n",
            "        3548,  3616,  3659,  3754,  3809,  3861,  3866,  3874,  4037,\n",
            "        4063,  4077,  4079,  4111,  4127,  4149,  4402,  4426,  4429,\n",
            "        4440,  4479,  4483,  4535,  4550,  4554,  4556,  4604,  4656,\n",
            "        4660,  4692,  4701,  4798,  4818,  4884,  4908,  4962,  4971,\n",
            "        5079,  5151,  5201,  5223,  5262,  5291,  5331,  5352,  5371,\n",
            "        5378,  5434,  5475,  5487,  5535,  5568,  5583,  5607,  5630,\n",
            "        5633,  5658,  5666,  5736,  5767,  5791,  5902,  5910,  5928,\n",
            "        5956,  6020,  6027,  6058,  6173,  6182,  6289,  6372,  6418,\n",
            "        6423,  6459,  6519,  6582,  6599,  6697,  6755,  6850,  6870,\n",
            "        6938,  6952,  6972,  7003,  7016,  7030,  7080,  7106,  7118,\n",
            "        7240,  7244,  7314,  7462,  7481,  7504,  7507,  7540,  7541,\n",
            "        7600,  7614,  7621,  7622,  7645,  7653,  7680,  7687,  7769,\n",
            "        7850,  7877,  7881,  7917,  7929,  8081,  8108,  8121,  8134,\n",
            "        8149,  8160,  8197,  8247,  8370,  8414,  8452,  8478,  8577,\n",
            "        8634,  8704,  8741,  8941,  8958,  8960,  8978,  9012,  9059,\n",
            "        9072,  9223,  9300,  9353,  9417,  9421,  9437,  9460,  9506,\n",
            "        9519,  9598,  9604,  9684,  9706,  9756,  9768,  9812,  9818,\n",
            "        9819, 10024, 10095, 10244, 10245, 10250, 10265, 10320, 10355,\n",
            "       10381, 10409, 10438, 10447, 10609, 10626, 10649, 10659, 10719,\n",
            "       10891, 10911, 10932, 10935, 10945, 10956, 11051, 11077, 11108,\n",
            "       11118, 11166, 11191, 11413, 11446, 11462, 11556, 11602, 11637,\n",
            "       11714, 11753, 11762, 11800, 11930, 11972, 12006, 12023, 12034,\n",
            "       12060, 12078, 12088, 12127, 12182, 12254, 12308, 12362, 12427,\n",
            "       12462, 12497, 12509, 12531, 12581, 12587, 12607, 12620, 12622,\n",
            "       12636, 12690, 12697, 12725, 12736, 12860, 12933, 12952, 13018,\n",
            "       13025, 13137, 13165, 13185, 13193, 13275, 13311, 13322, 13382,\n",
            "       13418, 13465, 13539, 13562, 13605, 13618, 13628, 13634, 13693,\n",
            "       13728, 13767, 13836, 13904, 13916, 13921, 13931, 13933, 13969,\n",
            "       13974, 13987, 14029, 14048, 14060, 14113, 14153, 14158, 14187,\n",
            "       14192, 14241, 14245, 14487, 14571, 14673, 14704, 14717, 14730,\n",
            "       14833, 14835, 14863, 14885, 14942, 15049, 15074, 15105, 15125,\n",
            "       15168, 15172, 15208, 15228, 15235, 15242, 15251, 15325]),)\n"
          ]
        }
      ]
    },
    {
      "cell_type": "code",
      "source": [
        "#example from the test data and its true and predicted labels\n",
        "idx = 1827\n",
        "review_text = ger_testset['messages_de'][idx]\n",
        "true_sentiment = y_test_ger[idx]\n",
        "pred_df = pd.DataFrame({\n",
        "  'class_names': class_names,\n",
        "  'values': preds_ger[idx]\n",
        "}) \n",
        "print(\"\\n\".join(wrap(review_text)))\n",
        "print()\n",
        "print(f'True label: {class_names[true_sentiment]}')\n",
        "print()\n",
        "print(f'Predicted label: {preds_ger[idx]}')\n"
      ],
      "metadata": {
        "colab": {
          "base_uri": "https://localhost:8080/"
        },
        "id": "T7CcpWv_rfe8",
        "outputId": "49adfa5e-44d3-436c-a6b0-543e68ddd53a"
      },
      "execution_count": 34,
      "outputs": [
        {
          "output_type": "stream",
          "name": "stdout",
          "text": [
            "['Asl', '13 f Süd-Portland u?', 'Hallo', 'wie ältere Jungs?', 'hell\n",
            "yea', '21m', 'kühle', 'Bild?', 'auf meinem Profi', 'ich habe 1', 'sehr\n",
            "niedlich', 'Reale', 'ja', 'zugleich', 'du hast ein Bild', 'Ja', 'mit\n",
            "mir verbinden', 'huh', 'Klicken Sie auf den Botton, der Fotos abgibt',\n",
            "'an der Spitze', 'es wird nicht funktionieren', 'E-Mail es', 'was ist\n",
            "Ihre E-Mail', 'Das ist nicht alles, was ich tun kann.', 'k h/o', 'kk',\n",
            "'Gesandt', 'kk', 'habe es gehängt', 'omg ur niedlich', 'alsx', 'wo du\n",
            "lebst', 'Scarborough', 'ist das nahe mir?', 'wo du lebst', 'Süd-\n",
            "Portland', 'nächste Stadt', 'ich habe mich gerade hier im November\n",
            "verlegt', 'von wo', 'Michigan', 'o kühle', 'wha u wie 2 tun für Spaß',\n",
            "'Verweilen', 'u?', 'Party lol', 'haha', 'weitere Bilder von Ihnen',\n",
            "'ja lol', 'Können Sie mir einige senden', 'kk hängen auf',\n",
            "'Bearbeiten', 'nichts da', 'kk lassen Sie mich es per E-Mail', 'wha ur\n",
            "ibiil', 'ich habe dir gerade emailed', 'einfach darauf antworten',\n",
            "'kk', \"grrrrr ich hav 2 verwenden meine andere E-Mail ich don 't, was\n",
            "falsch ist. Was ist ur E-Mail addy ich kann nicht zurück in meine\n",
            "yahoo\", 'mein Bildschirmname @yahoo.com', 'kk ich schicke dir ein paar\n",
            "ok', 'k', 'ok gesendet', 'Sie bekommen es', 'Ja', 'sehr niedlich', 'du\n",
            "meinst es', 'ja', 'sehr heiß', 'wow thanx', 'bist du eine Jungfrau?',\n",
            "'Nein lol r u?', 'Nope', 'wie alt du sie verloren hast', 'im\n",
            "vergangenen Sommer', 'ich habe es 3 mal getan', 'kühle', 'wie alt war\n",
            "er', '17', \"du gibst bj's?\", 'ich habe das nie getan', 'ist es\n",
            "schwer?', 'nur saugen Schwanz', 'ich fühle mich dumm ich habe nicht\n",
            "viel widersprüchliche Sachen', 'das ist ok', 'ich wünschte ich tat',\n",
            "'ich kann helfen, u zu lehren lol', 'du ernst?', 'ja', 'als u hatte\n",
            "sex wo hat er cum', 'auf meinem Bauch', 'kühle', 'was r u trägt',\n",
            "'jetzt schreiben?', 'Ja', 'nur einige schwitzen ein a tee', 'wha ur\n",
            "Name?', 'Chrom', 'im brooke', 'wha u doin', 'Sie verlassen?', 'Nein',\n",
            "'u buzy', 'Ya i gtg bbl', 'kk', 'hey, wenn du das nächste Mal ankommen\n",
            "schlage mich auf kk']\n",
            "\n",
            "True label: predator\n",
            "\n",
            "Predicted label: 0\n"
          ]
        }
      ]
    },
    {
      "cell_type": "markdown",
      "source": [
        "**Testing on English**"
      ],
      "metadata": {
        "id": "Dr9kUNGXqoS4"
      }
    },
    {
      "cell_type": "code",
      "source": [
        "#get prediction from English test data \n",
        "predictions = trainer.predict(test_dataset_eng)\n",
        "preds_eng = np.argmax(predictions.predictions, axis=-1)"
      ],
      "metadata": {
        "id": "KgADhfa8krYe",
        "colab": {
          "base_uri": "https://localhost:8080/",
          "height": 17
        },
        "outputId": "3bba41f1-5f53-45c1-8bbd-3287166884d1"
      },
      "execution_count": 24,
      "outputs": [
        {
          "output_type": "display_data",
          "data": {
            "text/plain": [
              "<IPython.core.display.HTML object>"
            ],
            "text/html": []
          },
          "metadata": {}
        }
      ]
    },
    {
      "cell_type": "code",
      "source": [
        "# macro f1 on test English data \n",
        "metric = evaluate.load(\"f1\")\n",
        "metric.compute(predictions=preds_eng, references=y_test_eng,  average=\"macro\")"
      ],
      "metadata": {
        "id": "1aRkCbyulAEa",
        "colab": {
          "base_uri": "https://localhost:8080/"
        },
        "outputId": "efea53c1-c5a3-417d-a162-72b95fc3a430"
      },
      "execution_count": 31,
      "outputs": [
        {
          "output_type": "execute_result",
          "data": {
            "text/plain": [
              "{'f1': 0.9505753475989392}"
            ]
          },
          "metadata": {},
          "execution_count": 31
        }
      ]
    },
    {
      "cell_type": "code",
      "source": [
        "#classification report\n",
        "\n",
        "print(classification_report(y_test_eng, preds_eng, target_names=class_names))"
      ],
      "metadata": {
        "colab": {
          "base_uri": "https://localhost:8080/"
        },
        "id": "G0eksuGhGnHj",
        "outputId": "6ba57cc3-b810-4b3f-8632-69814143f7c7"
      },
      "execution_count": 32,
      "outputs": [
        {
          "output_type": "stream",
          "name": "stdout",
          "text": [
            "              precision    recall  f1-score   support\n",
            "\n",
            "non predator       1.00      0.99      0.99     13863\n",
            "    predator       0.87      0.95      0.91      1466\n",
            "\n",
            "    accuracy                           0.98     15329\n",
            "   macro avg       0.93      0.97      0.95     15329\n",
            "weighted avg       0.98      0.98      0.98     15329\n",
            "\n"
          ]
        }
      ]
    },
    {
      "cell_type": "code",
      "source": [
        "#confusion matrix \n",
        "def show_confusion_matrix(confusion_matrix):\n",
        "  hmap = sns.heatmap(confusion_matrix, annot=True, fmt=\"d\", cmap=\"Blues\")\n",
        "  hmap.yaxis.set_ticklabels(hmap.yaxis.get_ticklabels(), rotation=0, ha='right')\n",
        "  hmap.xaxis.set_ticklabels(hmap.xaxis.get_ticklabels(), rotation=30, ha='right')\n",
        "  plt.ylabel('True label')\n",
        "  plt.xlabel('Predicted label');\n",
        "cm = confusion_matrix(y_test_eng, preds_eng)\n",
        "df_cm = pd.DataFrame(cm, index=class_names, columns=class_names)\n",
        "show_confusion_matrix(df_cm)\n",
        "     "
      ],
      "metadata": {
        "colab": {
          "base_uri": "https://localhost:8080/",
          "height": 493
        },
        "id": "PnXr3YMGGsO9",
        "outputId": "3047ecd7-59b8-4240-b3db-c6f6a5ebf5b4"
      },
      "execution_count": 33,
      "outputs": [
        {
          "output_type": "display_data",
          "data": {
            "text/plain": [
              "<Figure size 640x480 with 2 Axes>"
            ],
            "image/png": "[encoded data removed]"
          },
          "metadata": {}
        }
      ]
    },
    {
      "cell_type": "code",
      "source": [
        "#AUC\n",
        "fpr, tpr, threshold = roc_curve(y_test_eng, preds_eng)\n",
        "auc = auc(fpr, tpr)\n",
        "\n",
        "plt.figure(figsize=(5, 5), dpi=100)\n",
        "plt.plot(fpr, tpr, marker='.', label='Model (auc = %0.3f)' % auc)\n",
        "\n",
        "plt.xlabel('False Positive Rate -->')\n",
        "plt.ylabel('True Positive Rate -->')\n",
        "\n",
        "plt.legend()\n",
        "\n",
        "plt.show()\n"
      ],
      "metadata": {
        "colab": {
          "base_uri": "https://localhost:8080/",
          "height": 465
        },
        "id": "a7nj9rFcGO_C",
        "outputId": "d44f742e-5ba3-4e24-e107-ae05ef9e4043"
      },
      "execution_count": 28,
      "outputs": [
        {
          "output_type": "display_data",
          "data": {
            "text/plain": [
              "<Figure size 500x500 with 1 Axes>"
            ],
            "image/png": "[encoded data removed]"
          },
          "metadata": {}
        }
      ]
    },
    {
      "cell_type": "code",
      "source": [
        "#missclassified examples \n",
        "misclassified = np.where(preds_ger != y_test_ger)\n",
        "print(misclassified)"
      ],
      "metadata": {
        "colab": {
          "base_uri": "https://localhost:8080/"
        },
        "id": "AfSHa6EKGUMW",
        "outputId": "035b633a-f262-40e5-ec92-ca83a0465bab"
      },
      "execution_count": 35,
      "outputs": [
        {
          "output_type": "stream",
          "name": "stdout",
          "text": [
            "(array([   30,    86,    89,   108,   157,   204,   246,   358,   414,\n",
            "         428,   548,   586,   710,   712,   723,   734,   780,   781,\n",
            "         858,   863,   917,   962,   983,  1051,  1074,  1087,  1099,\n",
            "        1115,  1180,  1229,  1259,  1514,  1521,  1532,  1538,  1600,\n",
            "        1602,  1609,  1664,  1723,  1770,  1827,  1958,  1969,  2003,\n",
            "        2005,  2041,  2065,  2087,  2100,  2221,  2312,  2389,  2424,\n",
            "        2446,  2454,  2456,  2465,  2501,  2531,  2550,  2551,  2567,\n",
            "        2576,  2678,  2702,  2791,  2797,  2835,  2856,  2858,  2866,\n",
            "        2873,  2943,  3030,  3064,  3207,  3222,  3224,  3428,  3493,\n",
            "        3548,  3616,  3659,  3754,  3809,  3861,  3866,  3874,  4037,\n",
            "        4063,  4077,  4079,  4111,  4127,  4149,  4402,  4426,  4429,\n",
            "        4440,  4479,  4483,  4535,  4550,  4554,  4556,  4604,  4656,\n",
            "        4660,  4692,  4701,  4798,  4818,  4884,  4908,  4962,  4971,\n",
            "        5079,  5151,  5201,  5223,  5262,  5291,  5331,  5352,  5371,\n",
            "        5378,  5434,  5475,  5487,  5535,  5568,  5583,  5607,  5630,\n",
            "        5633,  5658,  5666,  5736,  5767,  5791,  5902,  5910,  5928,\n",
            "        5956,  6020,  6027,  6058,  6173,  6182,  6289,  6372,  6418,\n",
            "        6423,  6459,  6519,  6582,  6599,  6697,  6755,  6850,  6870,\n",
            "        6938,  6952,  6972,  7003,  7016,  7030,  7080,  7106,  7118,\n",
            "        7240,  7244,  7314,  7462,  7481,  7504,  7507,  7540,  7541,\n",
            "        7600,  7614,  7621,  7622,  7645,  7653,  7680,  7687,  7769,\n",
            "        7850,  7877,  7881,  7917,  7929,  8081,  8108,  8121,  8134,\n",
            "        8149,  8160,  8197,  8247,  8370,  8414,  8452,  8478,  8577,\n",
            "        8634,  8704,  8741,  8941,  8958,  8960,  8978,  9012,  9059,\n",
            "        9072,  9223,  9300,  9353,  9417,  9421,  9437,  9460,  9506,\n",
            "        9519,  9598,  9604,  9684,  9706,  9756,  9768,  9812,  9818,\n",
            "        9819, 10024, 10095, 10244, 10245, 10250, 10265, 10320, 10355,\n",
            "       10381, 10409, 10438, 10447, 10609, 10626, 10649, 10659, 10719,\n",
            "       10891, 10911, 10932, 10935, 10945, 10956, 11051, 11077, 11108,\n",
            "       11118, 11166, 11191, 11413, 11446, 11462, 11556, 11602, 11637,\n",
            "       11714, 11753, 11762, 11800, 11930, 11972, 12006, 12023, 12034,\n",
            "       12060, 12078, 12088, 12127, 12182, 12254, 12308, 12362, 12427,\n",
            "       12462, 12497, 12509, 12531, 12581, 12587, 12607, 12620, 12622,\n",
            "       12636, 12690, 12697, 12725, 12736, 12860, 12933, 12952, 13018,\n",
            "       13025, 13137, 13165, 13185, 13193, 13275, 13311, 13322, 13382,\n",
            "       13418, 13465, 13539, 13562, 13605, 13618, 13628, 13634, 13693,\n",
            "       13728, 13767, 13836, 13904, 13916, 13921, 13931, 13933, 13969,\n",
            "       13974, 13987, 14029, 14048, 14060, 14113, 14153, 14158, 14187,\n",
            "       14192, 14241, 14245, 14487, 14571, 14673, 14704, 14717, 14730,\n",
            "       14833, 14835, 14863, 14885, 14942, 15049, 15074, 15105, 15125,\n",
            "       15168, 15172, 15208, 15228, 15235, 15242, 15251, 15325]),)\n"
          ]
        }
      ]
    },
    {
      "cell_type": "code",
      "source": [
        "#example from the test data and its true and predicted labels\n",
        "idx = 1827\n",
        "review_text = ger_testset['messages_de'][idx]\n",
        "true_sentiment = y_test_ger[idx]\n",
        "pred_df = pd.DataFrame({\n",
        "  'class_names': class_names,\n",
        "  'values': preds_ger[idx]\n",
        "}) \n",
        "print(\"\\n\".join(wrap(review_text)))\n",
        "print()\n",
        "print(f'True label: {class_names[true_sentiment]}')\n",
        "print()\n",
        "print(f'Predicted label: {preds_ger[idx]}')\n"
      ],
      "metadata": {
        "colab": {
          "base_uri": "https://localhost:8080/"
        },
        "id": "1b5KD6cxGei7",
        "outputId": "cdaec336-48f5-4de8-9a67-907c1fb5bea6"
      },
      "execution_count": 70,
      "outputs": [
        {
          "output_type": "stream",
          "name": "stdout",
          "text": [
            "['Asl', '13 f Süd-Portland u?', 'Hallo', 'wie ältere Jungs?', 'hell\n",
            "yea', '21m', 'kühle', 'Bild?', 'auf meinem Profi', 'ich habe 1', 'sehr\n",
            "niedlich', 'Reale', 'ja', 'zugleich', 'du hast ein Bild', 'Ja', 'mit\n",
            "mir verbinden', 'huh', 'Klicken Sie auf den Botton, der Fotos abgibt',\n",
            "'an der Spitze', 'es wird nicht funktionieren', 'E-Mail es', 'was ist\n",
            "Ihre E-Mail', 'Das ist nicht alles, was ich tun kann.', 'k h/o', 'kk',\n",
            "'Gesandt', 'kk', 'habe es gehängt', 'omg ur niedlich', 'alsx', 'wo du\n",
            "lebst', 'Scarborough', 'ist das nahe mir?', 'wo du lebst', 'Süd-\n",
            "Portland', 'nächste Stadt', 'ich habe mich gerade hier im November\n",
            "verlegt', 'von wo', 'Michigan', 'o kühle', 'wha u wie 2 tun für Spaß',\n",
            "'Verweilen', 'u?', 'Party lol', 'haha', 'weitere Bilder von Ihnen',\n",
            "'ja lol', 'Können Sie mir einige senden', 'kk hängen auf',\n",
            "'Bearbeiten', 'nichts da', 'kk lassen Sie mich es per E-Mail', 'wha ur\n",
            "ibiil', 'ich habe dir gerade emailed', 'einfach darauf antworten',\n",
            "'kk', \"grrrrr ich hav 2 verwenden meine andere E-Mail ich don 't, was\n",
            "falsch ist. Was ist ur E-Mail addy ich kann nicht zurück in meine\n",
            "yahoo\", 'mein Bildschirmname @yahoo.com', 'kk ich schicke dir ein paar\n",
            "ok', 'k', 'ok gesendet', 'Sie bekommen es', 'Ja', 'sehr niedlich', 'du\n",
            "meinst es', 'ja', 'sehr heiß', 'wow thanx', 'bist du eine Jungfrau?',\n",
            "'Nein lol r u?', 'Nope', 'wie alt du sie verloren hast', 'im\n",
            "vergangenen Sommer', 'ich habe es 3 mal getan', 'kühle', 'wie alt war\n",
            "er', '17', \"du gibst bj's?\", 'ich habe das nie getan', 'ist es\n",
            "schwer?', 'nur saugen Schwanz', 'ich fühle mich dumm ich habe nicht\n",
            "viel widersprüchliche Sachen', 'das ist ok', 'ich wünschte ich tat',\n",
            "'ich kann helfen, u zu lehren lol', 'du ernst?', 'ja', 'als u hatte\n",
            "sex wo hat er cum', 'auf meinem Bauch', 'kühle', 'was r u trägt',\n",
            "'jetzt schreiben?', 'Ja', 'nur einige schwitzen ein a tee', 'wha ur\n",
            "Name?', 'Chrom', 'im brooke', 'wha u doin', 'Sie verlassen?', 'Nein',\n",
            "'u buzy', 'Ya i gtg bbl', 'kk', 'hey, wenn du das nächste Mal ankommen\n",
            "schlage mich auf kk']\n",
            "\n",
            "True label: predator\n",
            "\n",
            "Predicted label: 0\n"
          ]
        }
      ]
    },
    {
      "cell_type": "code",
      "source": [
        "len(preds_ger)"
      ],
      "metadata": {
        "colab": {
          "base_uri": "https://localhost:8080/"
        },
        "id": "UNUEISN6dazu",
        "outputId": "b38861d7-29e1-4086-e833-da5921b51024"
      },
      "execution_count": null,
      "outputs": [
        {
          "output_type": "execute_result",
          "data": {
            "text/plain": [
              "15329"
            ]
          },
          "metadata": {},
          "execution_count": 25
        }
      ]
    },
    {
      "cell_type": "code",
      "source": [
        "#example from the test data and its true and predicted labels\n",
        "idx = 729\n",
        "review_text = ger_testset['messages_de'][idx]\n",
        "true_sentiment = y_test_ger[idx]\n",
        "pred_df = pd.DataFrame({\n",
        "  'class_names': class_names,\n",
        "  'values': preds_ger[idx]\n",
        "}) \n",
        "print(\"\\n\".join(wrap(review_text)))\n",
        "print()\n",
        "print(f'True label: {class_names[true_sentiment]}')\n",
        "print()\n",
        "print(f'Predicted label: {preds_ger[idx]}')\n"
      ],
      "metadata": {
        "colab": {
          "base_uri": "https://localhost:8080/"
        },
        "id": "jPSAojo7RJfc",
        "outputId": "d40650b9-90e4-4ba6-aba4-2455a1f7e833"
      },
      "execution_count": null,
      "outputs": [
        {
          "output_type": "stream",
          "name": "stdout",
          "text": [
            "['hiiii', 'hey', 'wie bist du', 'u horny', 'Gutes', 'Nein', 'Gutes',\n",
            "'was ist ur asl', 'jeder ist lol', 'lol I kno', '18/f/ny', 'oh cool',\n",
            "'ich kam hier für Rat kann du helfen', 'sicher', 'ok ich brauche\n",
            "jemanden, um mir etwas herauszufinden', 'ok', 'es geht um meinen\n",
            "Bruder', 'ok', 'etwas geschah und es ist wirklich seltsam, wenn das ok\n",
            "ist', 'ja', 'Ich weiß nicht so viel über Jungs, aber ich kann dir\n",
            "sagen, was passiert ist', 'ok', 'im 14 also habe ich noch keine bf',\n",
            "'ok', 'ok so hier ist was passiert ist', 'ok', 'meine Mutter und ich\n",
            "schauten Fernsehen und mein Bruder kam in er ist 16', 'ok', 'so kam er\n",
            "hinein und sagte, dass er schmerzte und meine Mutter war wie wo und er\n",
            "würde nicht sagen', 'dann zeigte er schließlich wie auf seine Müll',\n",
            "'so sagte mir meine Mutter, zum Bett zu gehen', 'ok', 'so beobachtete\n",
            "ich aus dem anderen Raum, weil ich wie wtf war', 'ok, das würde ich\n",
            "tun', 'meine Mutter sagte ihm, sie würden ins Krankenhaus gehen und er\n",
            "war wie zu weinen und zu sagen, nein', 'so sagte sie dann gut, zeige\n",
            "mir einfach', 'ok, weitergehen', 'er nahm seine Strumpfhose ab und es\n",
            "war wie gerade heraus, was war rly seltsam', 'ok', 'da ich ihn vorher\n",
            "nackt gesehen habe und es ist nicht so', 'ist er ok', 'ok dann meine\n",
            "Mutter sagt ich werde es aufheben und schauen. und er sagt ok', 'ok',\n",
            "'sobald sie es tat, obwohl diese weiße Sache begann auszuspritzen',\n",
            "'und ich denke sie war verrückt', 'omg lol wow', 'ich denke er ist ok\n",
            "ja', 'ich bin nicht sicher', 'so was ist das', 'sein Samen (Sperm)',\n",
            "'ok', 'ja, ich denke er war aufgeregt', 'nein er schien nicht\n",
            "aufgeregt zu sein', 'Das ist seltsam, hat er jemals Sex gehabt?', 'ich\n",
            "glaube nicht so', 'es kann ein nasses Traum gewesen sein lol', 'ich\n",
            "denke, es war schmerzhaft, weil meine Mutter sagte, es war groß oder\n",
            "so etwas', 'der Schwanz oder das Sperma', 'beides denke ich', 'plus\n",
            "ich denke, dass das Sperma brennt oder etwas vielleicht']\n",
            "\n",
            "True label: non predator\n",
            "\n",
            "Predicted label: 1\n"
          ]
        }
      ]
    },
    {
      "cell_type": "code",
      "source": [
        "#example from the test data and its true and predicted labels\n",
        "idx = 157\n",
        "review_text = ger_testset['messages_de'][idx]\n",
        "true_sentiment = y_test_ger[idx]\n",
        "pred_df = pd.DataFrame({\n",
        "  'class_names': class_names,\n",
        "  'values': preds_ger[idx]\n",
        "}) \n",
        "print(\"\\n\".join(wrap(review_text)))\n",
        "print()\n",
        "print(f'True label: {class_names[true_sentiment]}')\n",
        "print()\n",
        "print(f'Predicted label: {preds_ger[idx]}')\n",
        "\n",
        "     "
      ],
      "metadata": {
        "colab": {
          "base_uri": "https://localhost:8080/"
        },
        "id": "xxAJDQ-MW5oG",
        "outputId": "60d17d07-680a-468c-891d-16a4802930ad"
      },
      "execution_count": null,
      "outputs": [
        {
          "output_type": "stream",
          "name": "stdout",
          "text": [
            "['Hallo da', 'Hallo', 'Asl', '40 Lansing', 'Sie', 'Oh', '14 f se mi',\n",
            "'k', 'ur kinda Schnitt aussehen', 'niedlich*', 'zugleich', 'Sie haben\n",
            "ein Bild?', 'Myspace', 'Links auf meinem yaho Profil', 'tut mir leid\n",
            "falsch Fenster', 'hm?', 'wenn du nicht wünschst du sage so k', 'Lass\n",
            "mich nicht so hängen', 'ich habe das falsche im Fenster eingegeben',\n",
            "'kümmern sich um Jungs auf Cam zu sehen?', \"Don 't Mattr zu mir\", 'du\n",
            "bist da oder willst du nicht mit mir reden?']\n",
            "\n",
            "True label: predator\n",
            "\n",
            "Predicted label: 0\n"
          ]
        }
      ]
    },
    {
      "cell_type": "code",
      "source": [
        "#example from the test data and its true and predicted labels\n",
        "idx = 150\n",
        "review_text = ger_testset['messages_de'][idx]\n",
        "true_sentiment = y_test_ger[idx]\n",
        "pred_df = pd.DataFrame({\n",
        "  'class_names': class_names,\n",
        "  'values': preds_ger[idx]\n",
        "}) \n",
        "print(\"\\n\".join(wrap(review_text)))\n",
        "print()\n",
        "print(f'True label: {class_names[true_sentiment]}')\n",
        "print()\n",
        "print(f'Predicted label: {preds_ger[idx]}')\n"
      ],
      "metadata": {
        "id": "4IkMCbo_Nliy",
        "colab": {
          "base_uri": "https://localhost:8080/"
        },
        "outputId": "f8209d63-ee8a-4864-a2b4-3a79183e1991"
      },
      "execution_count": null,
      "outputs": [
        {
          "output_type": "stream",
          "name": "stdout",
          "text": [
            "['hey', 'wie ist meine sexy kleine Schlampe?', 'Gutes', 'hpw r u',\n",
            "'horny', 'hehe u immer r', 'Ich wünschte, ich könnte dich jetzt in den\n",
            "Arsch ficken', 'hehe', 'wollen Bilder mit dir in Rocks mit meinem\n",
            "Sperma aus deinen Löchern laufen machen', 'ob ich?', 'ja', 'würden Sie\n",
            "das gerne?', 'ja', 'Tropfen aus deiner Muschi und Arsch?', 'hehe ja',\n",
            "'Fingern beide Löcher nach in den Bildern zu, dann licken sie sauber',\n",
            "'ur so ein schlechter Junge :D', 'Sie würden das gerne in Bildern und\n",
            "auf Film machen', 'wit u i woudl', 'hast du jemals deinen Arsch\n",
            "gefingert?', 'Ich habe am anderen Abend ein Lil getan, als du mir\n",
            "gesagt hast', 'es war ein bisschen gut', 'hast du nass?', 'ein Lil',\n",
            "'glaubst du, du könntest von ihm cum?', 'Nah', 'u beschäftigt', 'nein.\n",
            "was hast du vor dir?', 'nuttin gerade wundern', 'ur kinda quiet', 'was\n",
            "würdest du wünschen, dass ich dir jetzt getan hätte?', 'macht mich ur\n",
            "Sklave', 'Sie sogar vergewaltigt?', 'ja', 'ficken Sie zu Tränen?',\n",
            "'ich werde nicht weinen', 'Ich denke, du könntest, wenn ich in deinem\n",
            "Arsch bin', 'nuh uh', 'nicht ich :)', 'denken Sie vielleicht, ich\n",
            "werde es einfach alles in', 'haha gut sehen', 'die lustige Weise',\n",
            "'hopefullty somday', 'Ich würde so hart cum, wenn du auf meinem\n",
            "Schwanz weintest', 'du willst, dass ich weine', 'ja', 'ich werde, wenn\n",
            "es dich glücklich machen wird', 'Ich werde die Scheiße aus dir ficken,\n",
            "um sicherzustellen, dass die Tränen echt sind', 'ur ein schlechter\n",
            "Junge', 'und du bist mein schmutziges Mädchen', 'hehe', 'nicht ich',\n",
            "'O:-)', 'du weißt du bist schlampe', 'hehe', 'sagen Sie es', 'ich bin\n",
            "ur schmutziges kleines Mädchen', 'meine sexy kleine cumdump', ':)',\n",
            "'wahrscheinlich enden Preggy', 'ich kümmere mich nicht mehr', 'warum\n",
            "ist das?', 'einfach nicht', 'das mädchen hm?', 'ich denke', 'Ich\n",
            "denke, es ist, was Sie wollen', 'ich will nur u', 'Ich sehe', 'was\n",
            "werden Sie tun, wenn Sie Preg erhalten?', 'ich weiß nicht', 'Oh', 'Y',\n",
            "'weil du wahrscheinlich sein wirst', 'du willst, dass ich', 'Art von',\n",
            "'gut suppers bereit ich gehe zu essen gehen', 'prolly wieder auf\n",
            "später sein', 'ok']\n",
            "\n",
            "True label: predator\n",
            "\n",
            "Predicted label: 1\n"
          ]
        }
      ]
    },
    {
      "cell_type": "markdown",
      "source": [
        "**Testing on French test data**"
      ],
      "metadata": {
        "id": "DWp0SzaMrw67"
      }
    },
    {
      "cell_type": "code",
      "source": [
        "#get prediction from German test data \n",
        "predictions = trainer.predict(test_dataset_fr)\n",
        "preds_fr = np.argmax(predictions.predictions, axis=-1)"
      ],
      "metadata": {
        "colab": {
          "base_uri": "https://localhost:8080/",
          "height": 17
        },
        "id": "UAWSKQigUb7m",
        "outputId": "8840380f-9854-4b96-927c-62a0801e769a"
      },
      "execution_count": 29,
      "outputs": [
        {
          "output_type": "display_data",
          "data": {
            "text/plain": [
              "<IPython.core.display.HTML object>"
            ],
            "text/html": []
          },
          "metadata": {}
        }
      ]
    },
    {
      "cell_type": "code",
      "source": [
        "# macro f1 on test French data \n",
        "metric = evaluate.load(\"f1\")\n",
        "metric.compute(predictions=preds_fr, references=y_test_fr,  average=\"macro\")"
      ],
      "metadata": {
        "colab": {
          "base_uri": "https://localhost:8080/",
          "height": 66,
          "referenced_widgets": [
            "889aba29f15a4e30b0570625638325a4",
            "8590bc8fd175401b94ed4d92471fc47c",
            "5d185702010c43fc9f0743c9bb6b36ad",
            "8c0571f70b4e402fb90478a08c2defa0",
            "b1e877bbe17e444f876f75f6739a990b",
            "089bdb97e67a4f8698137d823352b59c",
            "0286b4ebedb545a6b338f3b78366e2a3",
            "9d4ab6959369473cae1a0ea1589d6155",
            "3a5e133fdf8445d6b7ee4571434389ea",
            "e293226776604311ae4338d587c881e6",
            "283883539e314f2bae4ab8a771c5c32e"
          ]
        },
        "id": "5whnOeS9Ub_j",
        "outputId": "5bdb7c40-711c-48e2-9d79-645dc3b680fc"
      },
      "execution_count": 30,
      "outputs": [
        {
          "output_type": "display_data",
          "data": {
            "text/plain": [
              "Downloading builder script:   0%|          | 0.00/6.77k [00:00<?, ?B/s]"
            ],
            "application/vnd.jupyter.widget-view+json": {
              "version_major": 2,
              "version_minor": 0,
              "model_id": "889aba29f15a4e30b0570625638325a4"
            }
          },
          "metadata": {}
        },
        {
          "output_type": "execute_result",
          "data": {
            "text/plain": [
              "{'f1': 0.9634842613797864}"
            ]
          },
          "metadata": {},
          "execution_count": 30
        }
      ]
    },
    {
      "cell_type": "code",
      "source": [
        "#classification report\n",
        "\n",
        "print(classification_report(y_test_fr, preds_fr, target_names=class_names))"
      ],
      "metadata": {
        "colab": {
          "base_uri": "https://localhost:8080/"
        },
        "id": "6ytExmCQUcDi",
        "outputId": "6eda1ecd-63e5-49a0-e5ab-6586e4a33f42"
      },
      "execution_count": 31,
      "outputs": [
        {
          "output_type": "stream",
          "name": "stdout",
          "text": [
            "              precision    recall  f1-score   support\n",
            "\n",
            "non predator       0.99      0.99      0.99     13863\n",
            "    predator       0.94      0.93      0.93      1466\n",
            "\n",
            "    accuracy                           0.99     15329\n",
            "   macro avg       0.97      0.96      0.96     15329\n",
            "weighted avg       0.99      0.99      0.99     15329\n",
            "\n"
          ]
        }
      ]
    },
    {
      "cell_type": "code",
      "source": [
        "#confusion matrix \n",
        "def show_confusion_matrix(confusion_matrix):\n",
        "  hmap = sns.heatmap(confusion_matrix, annot=True, fmt=\"d\", cmap=\"Blues\")\n",
        "  hmap.yaxis.set_ticklabels(hmap.yaxis.get_ticklabels(), rotation=0, ha='right')\n",
        "  hmap.xaxis.set_ticklabels(hmap.xaxis.get_ticklabels(), rotation=30, ha='right')\n",
        "  plt.ylabel('True label')\n",
        "  plt.xlabel('Predicted label');\n",
        "cm = confusion_matrix(y_test_fr, preds_fr)\n",
        "df_cm = pd.DataFrame(cm, index=class_names, columns=class_names)\n",
        "show_confusion_matrix(df_cm)"
      ],
      "metadata": {
        "colab": {
          "base_uri": "https://localhost:8080/",
          "height": 493
        },
        "id": "e2k7itirwoNF",
        "outputId": "bdd6bce4-ebf1-4397-9e61-46101dc0b115"
      },
      "execution_count": 32,
      "outputs": [
        {
          "output_type": "display_data",
          "data": {
            "text/plain": [
              "<Figure size 640x480 with 2 Axes>"
            ],
            "image/png": "[encoded data removed]"
          },
          "metadata": {}
        }
      ]
    },
    {
      "cell_type": "code",
      "source": [
        "metrics.plot_roc_curve(model, X_test, y_test) \n",
        "plt.show()"
      ],
      "metadata": {
        "id": "Yial67Mg2iUy"
      },
      "execution_count": null,
      "outputs": []
    },
    {
      "cell_type": "code",
      "source": [
        "#AUC\n",
        "fpr, tpr, threshold = roc_curve(y_test_fr, preds_fr)\n",
        "auc = auc(fpr, tpr)\n",
        "\n",
        "plt.figure(figsize=(5, 5), dpi=100)\n",
        "plt.plot(fpr, tpr, marker='.', label='Model (auc = %0.3f)' % auc)\n",
        "\n",
        "plt.xlabel('False Positive Rate -->')\n",
        "plt.ylabel('True Positive Rate -->')\n",
        "\n",
        "plt.legend()\n",
        "\n",
        "plt.show()"
      ],
      "metadata": {
        "colab": {
          "base_uri": "https://localhost:8080/",
          "height": 235
        },
        "id": "zVgMrpndwoWS",
        "outputId": "d1217a84-ddbf-4e68-8221-ee3504c0776d"
      },
      "execution_count": 33,
      "outputs": [
        {
          "output_type": "error",
          "ename": "TypeError",
          "evalue": "ignored",
          "traceback": [
            "\u001b[0;31m---------------------------------------------------------------------------\u001b[0m",
            "\u001b[0;31mTypeError\u001b[0m                                 Traceback (most recent call last)",
            "\u001b[0;32m<ipython-input-33-d058da32cee5>\u001b[0m in \u001b[0;36m<cell line: 3>\u001b[0;34m()\u001b[0m\n\u001b[1;32m      1\u001b[0m \u001b[0;31m#AUC\u001b[0m\u001b[0;34m\u001b[0m\u001b[0;34m\u001b[0m\u001b[0m\n\u001b[1;32m      2\u001b[0m \u001b[0mfpr\u001b[0m\u001b[0;34m,\u001b[0m \u001b[0mtpr\u001b[0m\u001b[0;34m,\u001b[0m \u001b[0mthreshold\u001b[0m \u001b[0;34m=\u001b[0m \u001b[0mroc_curve\u001b[0m\u001b[0;34m(\u001b[0m\u001b[0my_test_fr\u001b[0m\u001b[0;34m,\u001b[0m \u001b[0mpreds_fr\u001b[0m\u001b[0;34m)\u001b[0m\u001b[0;34m\u001b[0m\u001b[0;34m\u001b[0m\u001b[0m\n\u001b[0;32m----> 3\u001b[0;31m \u001b[0mauc\u001b[0m \u001b[0;34m=\u001b[0m \u001b[0mauc\u001b[0m\u001b[0;34m(\u001b[0m\u001b[0mfpr\u001b[0m\u001b[0;34m,\u001b[0m \u001b[0mtpr\u001b[0m\u001b[0;34m)\u001b[0m\u001b[0;34m\u001b[0m\u001b[0;34m\u001b[0m\u001b[0m\n\u001b[0m\u001b[1;32m      4\u001b[0m \u001b[0;34m\u001b[0m\u001b[0m\n\u001b[1;32m      5\u001b[0m \u001b[0mplt\u001b[0m\u001b[0;34m.\u001b[0m\u001b[0mfigure\u001b[0m\u001b[0;34m(\u001b[0m\u001b[0mfigsize\u001b[0m\u001b[0;34m=\u001b[0m\u001b[0;34m(\u001b[0m\u001b[0;36m5\u001b[0m\u001b[0;34m,\u001b[0m \u001b[0;36m5\u001b[0m\u001b[0;34m)\u001b[0m\u001b[0;34m,\u001b[0m \u001b[0mdpi\u001b[0m\u001b[0;34m=\u001b[0m\u001b[0;36m100\u001b[0m\u001b[0;34m)\u001b[0m\u001b[0;34m\u001b[0m\u001b[0;34m\u001b[0m\u001b[0m\n",
            "\u001b[0;31mTypeError\u001b[0m: 'numpy.float64' object is not callable"
          ]
        }
      ]
    },
    {
      "cell_type": "markdown",
      "source": [
        "**Testing on Dutch test data**"
      ],
      "metadata": {
        "id": "U5jmSvvhrxRx"
      }
    },
    {
      "cell_type": "code",
      "source": [
        "#get prediction from German test data \n",
        "predictions = trainer.predict(test_dataset_nl)\n",
        "preds_nl = np.argmax(predictions.predictions, axis=-1)"
      ],
      "metadata": {
        "colab": {
          "base_uri": "https://localhost:8080/",
          "height": 17
        },
        "id": "kasfhSi7wx8I",
        "outputId": "3545ffaa-d8b5-4179-e971-f41a5a5b4bb3"
      },
      "execution_count": 42,
      "outputs": [
        {
          "output_type": "display_data",
          "data": {
            "text/plain": [
              "<IPython.core.display.HTML object>"
            ],
            "text/html": []
          },
          "metadata": {}
        }
      ]
    },
    {
      "cell_type": "code",
      "source": [
        "# macro f1 on test German data \n",
        "metric = evaluate.load(\"f1\")\n",
        "metric.compute(predictions=preds_nl, references=y_test_nl,  average=\"macro\")"
      ],
      "metadata": {
        "colab": {
          "base_uri": "https://localhost:8080/"
        },
        "id": "is4ylyL3w02j",
        "outputId": "17afb067-5c89-4ffb-994f-52a27c8f3b41"
      },
      "execution_count": 43,
      "outputs": [
        {
          "output_type": "execute_result",
          "data": {
            "text/plain": [
              "{'f1': 0.9665262555656733}"
            ]
          },
          "metadata": {},
          "execution_count": 43
        }
      ]
    },
    {
      "cell_type": "code",
      "source": [
        "#classification report\n",
        "\n",
        "print(classification_report(y_test_nl, preds_nl, target_names=class_names))"
      ],
      "metadata": {
        "colab": {
          "base_uri": "https://localhost:8080/"
        },
        "id": "YprtJ_neUc2P",
        "outputId": "2d885df1-1b9f-41c9-8eca-87bf75778cde"
      },
      "execution_count": 44,
      "outputs": [
        {
          "output_type": "stream",
          "name": "stdout",
          "text": [
            "              precision    recall  f1-score   support\n",
            "\n",
            "non predator       0.99      0.99      0.99     13863\n",
            "    predator       0.95      0.93      0.94      1466\n",
            "\n",
            "    accuracy                           0.99     15329\n",
            "   macro avg       0.97      0.96      0.97     15329\n",
            "weighted avg       0.99      0.99      0.99     15329\n",
            "\n"
          ]
        }
      ]
    },
    {
      "cell_type": "code",
      "source": [
        "#confusion matrix \n",
        "def show_confusion_matrix(confusion_matrix):\n",
        "  hmap = sns.heatmap(confusion_matrix, annot=True, fmt=\"d\", cmap=\"Blues\")\n",
        "  hmap.yaxis.set_ticklabels(hmap.yaxis.get_ticklabels(), rotation=0, ha='right')\n",
        "  hmap.xaxis.set_ticklabels(hmap.xaxis.get_ticklabels(), rotation=30, ha='right')\n",
        "  plt.ylabel('True label')\n",
        "  plt.xlabel('Predicted label');\n",
        "cm = confusion_matrix(y_test_nl, preds_nl)\n",
        "df_cm = pd.DataFrame(cm, index=class_names, columns=class_names)\n",
        "show_confusion_matrix(df_cm)"
      ],
      "metadata": {
        "colab": {
          "base_uri": "https://localhost:8080/",
          "height": 493
        },
        "id": "t_ltFDzcUc6C",
        "outputId": "fb5cc21d-6fca-4e3c-e3d8-61e258917706"
      },
      "execution_count": 45,
      "outputs": [
        {
          "output_type": "display_data",
          "data": {
            "text/plain": [
              "<Figure size 640x480 with 2 Axes>"
            ],
            "image/png": "[encoded data removed]"
          },
          "metadata": {}
        }
      ]
    },
    {
      "cell_type": "code",
      "source": [
        "#AUC\n",
        "fpr, tpr, threshold = roc_curve(y_test_nl, preds_nl )\n",
        "auc_fr = auc(fpr, tpr)\n",
        "\n",
        "plt.figure(figsize=(5, 5), dpi=100)\n",
        "plt.plot(fpr, tpr, marker='.', label='Model (auc = %0.3f)' % auc_fr)\n",
        "\n",
        "plt.xlabel('False Positive Rate -->')\n",
        "plt.ylabel('True Positive Rate -->')\n",
        "\n",
        "plt.legend()\n",
        "\n",
        "plt.show()"
      ],
      "metadata": {
        "colab": {
          "base_uri": "https://localhost:8080/",
          "height": 235
        },
        "id": "WDfpRvXoUdPA",
        "outputId": "b8ddd62f-c943-44f3-aa9b-3e7541a08dd7"
      },
      "execution_count": 48,
      "outputs": [
        {
          "output_type": "error",
          "ename": "TypeError",
          "evalue": "ignored",
          "traceback": [
            "\u001b[0;31m---------------------------------------------------------------------------\u001b[0m",
            "\u001b[0;31mTypeError\u001b[0m                                 Traceback (most recent call last)",
            "\u001b[0;32m<ipython-input-48-f8c1cb6fa291>\u001b[0m in \u001b[0;36m<cell line: 3>\u001b[0;34m()\u001b[0m\n\u001b[1;32m      1\u001b[0m \u001b[0;31m#AUC\u001b[0m\u001b[0;34m\u001b[0m\u001b[0;34m\u001b[0m\u001b[0m\n\u001b[1;32m      2\u001b[0m \u001b[0mfpr\u001b[0m\u001b[0;34m,\u001b[0m \u001b[0mtpr\u001b[0m\u001b[0;34m,\u001b[0m \u001b[0mthreshold\u001b[0m \u001b[0;34m=\u001b[0m \u001b[0mroc_curve\u001b[0m\u001b[0;34m(\u001b[0m\u001b[0my_test_nl\u001b[0m\u001b[0;34m,\u001b[0m \u001b[0mpreds_nl\u001b[0m \u001b[0;34m)\u001b[0m\u001b[0;34m\u001b[0m\u001b[0;34m\u001b[0m\u001b[0m\n\u001b[0;32m----> 3\u001b[0;31m \u001b[0mauc_fr\u001b[0m \u001b[0;34m=\u001b[0m \u001b[0mauc\u001b[0m\u001b[0;34m(\u001b[0m\u001b[0mfpr\u001b[0m\u001b[0;34m,\u001b[0m \u001b[0mtpr\u001b[0m\u001b[0;34m)\u001b[0m\u001b[0;34m\u001b[0m\u001b[0;34m\u001b[0m\u001b[0m\n\u001b[0m\u001b[1;32m      4\u001b[0m \u001b[0;34m\u001b[0m\u001b[0m\n\u001b[1;32m      5\u001b[0m \u001b[0mplt\u001b[0m\u001b[0;34m.\u001b[0m\u001b[0mfigure\u001b[0m\u001b[0;34m(\u001b[0m\u001b[0mfigsize\u001b[0m\u001b[0;34m=\u001b[0m\u001b[0;34m(\u001b[0m\u001b[0;36m5\u001b[0m\u001b[0;34m,\u001b[0m \u001b[0;36m5\u001b[0m\u001b[0;34m)\u001b[0m\u001b[0;34m,\u001b[0m \u001b[0mdpi\u001b[0m\u001b[0;34m=\u001b[0m\u001b[0;36m100\u001b[0m\u001b[0;34m)\u001b[0m\u001b[0;34m\u001b[0m\u001b[0;34m\u001b[0m\u001b[0m\n",
            "\u001b[0;31mTypeError\u001b[0m: 'numpy.float64' object is not callable"
          ]
        }
      ]
    },
    {
      "cell_type": "markdown",
      "source": [
        "**Testing on raw text**"
      ],
      "metadata": {
        "id": "GeBrBb5grm-Q"
      }
    },
    {
      "cell_type": "code",
      "source": [
        "#load model \n",
        "from transformers import AutoTokenizer, AutoModelForSequenceClassification\n",
        "\n",
        "tokenizer_r = AutoTokenizer.from_pretrained(\"Constien/xmlRoberta_all_lang\")\n",
        "\n",
        "model_r = AutoModelForSequenceClassification.from_pretrained(\"Constien/xmlRoberta_all_lang\")"
      ],
      "metadata": {
        "id": "b22HCJ20KALd"
      },
      "execution_count": 47,
      "outputs": []
    },
    {
      "cell_type": "code",
      "source": [
        "#Test on raw text \n",
        "text = ['Hi , hi, iam 40, male, you? i am 13, female from new york. do you like older guys? i dont know, never met anyone so old! oh dont worry darling, i will take care of you! are he still mad at me? no, but he wont let me go to school, my unlce. why dont you come visist me when your parents away?what city are you from? will tell you anothzer time. why not today?becasue you are much older. Iam 13 and you are 40. whats the rpoblem?']\n",
        "pipe = pipeline(\"text-classification\", model=model_r, tokenizer=tokenizer_r, device=0)\n",
        "pipe(text)"
      ],
      "metadata": {
        "colab": {
          "base_uri": "https://localhost:8080/"
        },
        "id": "W-i0jeHYJFof",
        "outputId": "002a3716-41b5-4f71-8297-44fc425845d0"
      },
      "execution_count": 49,
      "outputs": [
        {
          "output_type": "execute_result",
          "data": {
            "text/plain": [
              "[{'label': 'LABEL_0', 'score': 0.9985464215278625}]"
            ]
          },
          "metadata": {},
          "execution_count": 49
        }
      ]
    }
  ]
}
