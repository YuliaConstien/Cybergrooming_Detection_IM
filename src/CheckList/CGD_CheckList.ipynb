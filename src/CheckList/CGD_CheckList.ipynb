{
  "cells": [
    {
      "cell_type": "code",
      "source": [
        "!pip install checklist\n"
      ],
      "metadata": {
        "id": "NFQc61buWZRe"
      },
      "execution_count": null,
      "outputs": []
    },
    {
      "cell_type": "code",
      "execution_count": null,
      "metadata": {
        "id": "mLY7InudM1-4"
      },
      "outputs": [],
      "source": [
        "#imports\n",
        "\n",
        "%load_ext autoreload\n",
        "%autoreload 2\n",
        "\n",
        "import checklist\n",
        "import spacy\n",
        "import itertools\n",
        "\n",
        "import sys\n",
        "import numpy as np\n",
        "import pandas as pd\n",
        "\n",
        "\n",
        "import checklist.editor\n",
        "import checklist.text_generation\n",
        "from checklist.test_types import MFT, INV, DIR\n",
        "from checklist.expect import Expect\n",
        "\n",
        "from checklist.test_suite import TestSuite\n",
        "from checklist.perturb import Perturb\n",
        "\n",
        "from transformers import pipeline, AutoTokenizer, AutoModelForSequenceClassification\n",
        "import torch\n",
        "\n",
        "#model\n",
        "model_name = \"Constien/xmlRoberta_all_lang\"\n",
        "tokenizer = AutoTokenizer.from_pretrained(model_name)\n",
        "model = AutoModelForSequenceClassification.from_pretrained(model_name)\n",
        "\n",
        "# sentiment analysis is a general name in Huggingface to load the pipeline for text classification tasks.\n",
        "# set device=-1 if you don't have a gpu\n",
        "pipe = pipeline(\"sentiment-analysis\", model=model, tokenizer=tokenizer, framework=\"pt\", device=0)"
      ]
    },
    {
      "cell_type": "code",
      "execution_count": 3,
      "metadata": {
        "id": "iJOOGNwBM1-8",
        "colab": {
          "base_uri": "https://localhost:8080/",
          "height": 194,
          "referenced_widgets": [
            "f31ac80288b942c0a9523a6608fe3c14",
            "9ad68ae68bb54a46846356c75df69dd3",
            "c592de04b3e743c8bf8a295f53fef172",
            "f2456389e3784334a3ca8c8fe4f7aefe",
            "cd817797d92343f28b636566aa6f3c5c",
            "e44f770864e141229f61f6efbb899a95",
            "4e8aeef1146c41b4bc96af93c3cd061d",
            "46ae20cde01c49ff9837f4a2414ee1ef",
            "4b8228e4851648779872139becb9d2ec",
            "1e6e01a6c7724bcda5ec59350d33e08f",
            "bb405d7d74a349faac7d8b549c44f6f3",
            "229f9f7d3a8a446092c506fd9bf73e5e",
            "a457ec7c320145c1916e865a751e58c6",
            "e82a88bd5711454fb00eeb6a722f0bc2",
            "b6f6a6aa3e6c47d3a311ff1e5a4b8de3",
            "a253df71000b44a9aeb60adf3b2250c5",
            "17cd6b237d0243eba1e3692b3aceda70",
            "fbcfbb8eae954b709d50e991783de8e1",
            "f617be197df441aeb6285f9a469a6f59",
            "ba4102feb34d43079f5b5f9d493e6b34",
            "b92104b6035a4f8fb43c672c8434124c",
            "c88c1622d42c4c069ea4dbdc9647610a",
            "763f4ac5a6b74001b4f115723d88cb1f",
            "013ebda46688441289aeffa2e9c5e437",
            "c72d6876a9f742308856d5cc655b3121",
            "4dc0abe1f3b54bfa98b7ea5fdd7c7778",
            "299d7f4789bd41b58e5e53eb8cc7bdb7",
            "23967f3dcadc40109277069e3ca54504",
            "1ffa49d23f2a4f088ddc413a6bece201",
            "b00b7fecd3c040a4825aedc10432264b",
            "5183c1f8a2324de2a23232b763781dcb",
            "a96191df9e044280b991313f4e111d8c",
            "57a86f1ea815473e90e7b71b4f214aa7",
            "7fa70f4b015a486fb7ba36813b544fd1",
            "84696f2e4a0d4456b816ebcb99428ee4",
            "93d444c87f8c4263b2f164f3b3270a8e",
            "9d0f9579c2f34e2a835a596c927fed07",
            "c47d91e7f719453193833452e0f9f745",
            "0345edc3a7804201834424fc5d347a05",
            "f07d1292968f4f6d9ce25b6e4210090f",
            "105ca51b2491499db3434b769dc37c92",
            "a8b65f65cfcf4b26bf649ebfae9efbbb",
            "8c1da8a5ab6b47ffac8cb95731bb6f80",
            "95551ac4d5194ffab53b7d6bd038f724",
            "98fa9a83dfb34f35bb4cd79ba7b56c7a",
            "2066e94946b54fae9700414b6ca05d49",
            "d450a5a2f65d44198390fa44b3962603",
            "356cf8bbae044a5f87f30a63a436ee6e",
            "2a7af9bd169f4163814becf564bde6ea",
            "9f58cf337be1483dbcad40477bcae315",
            "b91edc93711a495ba3281726aa3d2670",
            "188855c97f1d400bb5005ea9f716ab17",
            "3927a4161c13416fa7a2797c631e6307",
            "a5cd6e83b3904f0fa17699fc112c15b0",
            "65fda8be2d424494bdee995f7e0d2537"
          ]
        },
        "outputId": "75d05500-ce84-46a5-e0ec-fcdc818811a7"
      },
      "outputs": [
        {
          "output_type": "display_data",
          "data": {
            "text/plain": [
              "Downloading (…)lve/main/config.json:   0%|          | 0.00/481 [00:00<?, ?B/s]"
            ],
            "application/vnd.jupyter.widget-view+json": {
              "version_major": 2,
              "version_minor": 0,
              "model_id": "f31ac80288b942c0a9523a6608fe3c14"
            }
          },
          "metadata": {}
        },
        {
          "output_type": "display_data",
          "data": {
            "text/plain": [
              "Downloading (…)olve/main/vocab.json:   0%|          | 0.00/899k [00:00<?, ?B/s]"
            ],
            "application/vnd.jupyter.widget-view+json": {
              "version_major": 2,
              "version_minor": 0,
              "model_id": "229f9f7d3a8a446092c506fd9bf73e5e"
            }
          },
          "metadata": {}
        },
        {
          "output_type": "display_data",
          "data": {
            "text/plain": [
              "Downloading (…)olve/main/merges.txt:   0%|          | 0.00/456k [00:00<?, ?B/s]"
            ],
            "application/vnd.jupyter.widget-view+json": {
              "version_major": 2,
              "version_minor": 0,
              "model_id": "763f4ac5a6b74001b4f115723d88cb1f"
            }
          },
          "metadata": {}
        },
        {
          "output_type": "display_data",
          "data": {
            "text/plain": [
              "Downloading (…)/main/tokenizer.json:   0%|          | 0.00/1.36M [00:00<?, ?B/s]"
            ],
            "application/vnd.jupyter.widget-view+json": {
              "version_major": 2,
              "version_minor": 0,
              "model_id": "7fa70f4b015a486fb7ba36813b544fd1"
            }
          },
          "metadata": {}
        },
        {
          "output_type": "display_data",
          "data": {
            "text/plain": [
              "Downloading model.safetensors:   0%|          | 0.00/499M [00:00<?, ?B/s]"
            ],
            "application/vnd.jupyter.widget-view+json": {
              "version_major": 2,
              "version_minor": 0,
              "model_id": "98fa9a83dfb34f35bb4cd79ba7b56c7a"
            }
          },
          "metadata": {}
        },
        {
          "output_type": "execute_result",
          "data": {
            "text/plain": [
              "<checklist.text_generation.TextGenerator at 0x7fd4b1b9a560>"
            ]
          },
          "metadata": {},
          "execution_count": 3
        }
      ],
      "source": [
        "editor = checklist.editor.Editor()\n",
        "editor.tg"
      ]
    },
    {
      "cell_type": "code",
      "source": [
        "suite = TestSuite()"
      ],
      "metadata": {
        "id": "mbyhaQuK7v0E"
      },
      "execution_count": 4,
      "outputs": []
    },
    {
      "cell_type": "code",
      "execution_count": 5,
      "metadata": {
        "id": "Zwj9M2SaM1--"
      },
      "outputs": [],
      "source": [
        "nlp = spacy.load('en_core_web_sm')"
      ]
    },
    {
      "cell_type": "code",
      "source": [
        "from google.colab import drive\n",
        "drive.mount('/content/drive')"
      ],
      "metadata": {
        "colab": {
          "base_uri": "https://localhost:8080/"
        },
        "id": "JOYbXBPn7ov9",
        "outputId": "f856b806-9b12-479d-e867-05c7eccf664f"
      },
      "execution_count": 6,
      "outputs": [
        {
          "output_type": "stream",
          "name": "stdout",
          "text": [
            "Mounted at /content/drive\n"
          ]
        }
      ]
    },
    {
      "cell_type": "code",
      "source": [
        "# test dataset\n",
        "engset=pd.read_csv('/content/drive/MyDrive/IM/VTPAN_csv/VTPAN-test.csv')\n"
      ],
      "metadata": {
        "id": "0Ptolg5R7ozX"
      },
      "execution_count": 8,
      "outputs": []
    },
    {
      "cell_type": "code",
      "source": [
        "#predatory examples\n",
        "pred_set=engset.loc[engset['label'] == 'predator']"
      ],
      "metadata": {
        "id": "CZ1aBli57kqA"
      },
      "execution_count": 9,
      "outputs": []
    },
    {
      "cell_type": "code",
      "source": [
        "#non predatory examples\n",
        "nopred_set=engset.loc[engset['label'] == 'non-predator']"
      ],
      "metadata": {
        "id": "Re04thoma6dW"
      },
      "execution_count": null,
      "outputs": []
    },
    {
      "cell_type": "code",
      "source": [
        "pred_set['segment_tur'] = pred_set['segment'].str[:1500]"
      ],
      "metadata": {
        "colab": {
          "base_uri": "https://localhost:8080/"
        },
        "id": "2yG0E9xyTgMP",
        "outputId": "5c8ffc21-76d7-4e69-defa-31489c76779e"
      },
      "execution_count": 10,
      "outputs": [
        {
          "output_type": "stream",
          "name": "stderr",
          "text": [
            "<ipython-input-10-c395317695a7>:1: SettingWithCopyWarning: \n",
            "A value is trying to be set on a copy of a slice from a DataFrame.\n",
            "Try using .loc[row_indexer,col_indexer] = value instead\n",
            "\n",
            "See the caveats in the documentation: https://pandas.pydata.org/pandas-docs/stable/user_guide/indexing.html#returning-a-view-versus-a-copy\n",
            "  pred_set['segment_tur'] = pred_set['segment'].str[:1500]\n"
          ]
        }
      ]
    },
    {
      "cell_type": "code",
      "source": [
        "#pd.set_option('display.max_colwidth', None)\n",
        "pred_set['segment_tur'].str.len().max()"
      ],
      "metadata": {
        "id": "qQT6RGYrfW_7",
        "colab": {
          "base_uri": "https://localhost:8080/"
        },
        "outputId": "3890cf96-78df-4b7e-a2bf-995e266696c6"
      },
      "execution_count": null,
      "outputs": [
        {
          "output_type": "execute_result",
          "data": {
            "text/plain": [
              "1500"
            ]
          },
          "metadata": {},
          "execution_count": 14
        }
      ]
    },
    {
      "cell_type": "code",
      "source": [
        "nopred_set['segment_tur'] = nopred_set['segment'].str[:1500]"
      ],
      "metadata": {
        "colab": {
          "base_uri": "https://localhost:8080/"
        },
        "id": "UZzIPlv0gwKn",
        "outputId": "37b47330-0e21-4752-edd1-9022afa30090"
      },
      "execution_count": null,
      "outputs": [
        {
          "output_type": "stream",
          "name": "stderr",
          "text": [
            "<ipython-input-12-5065e54092ee>:1: SettingWithCopyWarning: \n",
            "A value is trying to be set on a copy of a slice from a DataFrame.\n",
            "Try using .loc[row_indexer,col_indexer] = value instead\n",
            "\n",
            "See the caveats in the documentation: https://pandas.pydata.org/pandas-docs/stable/user_guide/indexing.html#returning-a-view-versus-a-copy\n",
            "  nopred_set['segment_tur'] = nopred_set['segment'].str[:1500]\n"
          ]
        }
      ]
    },
    {
      "cell_type": "code",
      "execution_count": 11,
      "metadata": {
        "id": "fHU-JiG5M1-_"
      },
      "outputs": [],
      "source": [
        "sentences = pred_set['segment_tur']\n",
        "\n",
        "pdata = list(nlp.pipe(sentences))"
      ]
    },
    {
      "cell_type": "code",
      "source": [
        "sentences_nopred = nopred_set['segment_tur']\n",
        "\n",
        "pdata_nopred = list(nlp.pipe(sentences_nopred))"
      ],
      "metadata": {
        "id": "yW4VCq7Bg_oW"
      },
      "execution_count": 104,
      "outputs": []
    },
    {
      "cell_type": "code",
      "source": [
        "sentences=list(sentences)\n",
        "#sentences_nopred=list(sentences_nopred)"
      ],
      "metadata": {
        "id": "4K13eKQPDbtU"
      },
      "execution_count": 12,
      "outputs": []
    },
    {
      "cell_type": "markdown",
      "metadata": {
        "id": "r3j76LmYM1-_"
      },
      "source": [
        "**Capability: neumeric reasoning**"
      ]
    },
    {
      "cell_type": "code",
      "source": [
        "import re\n",
        "def change_age(x, *args, **kwargs):\n",
        "    # Returns empty or a list of strings with age changed\n",
        "    age =  ['25', '30', '35', '40', '45', '50']\n",
        "    age_replace= ['12', '13', '14','15', '16', '17']\n",
        "\n",
        "    ret = []\n",
        "    for p in age:\n",
        "        if re.search(r'\\b%s\\b' % p, x):\n",
        "            ret.extend([re.sub(r'\\b%s\\b' % p, p2, x) for p2 in age_replace if p != p2])\n",
        "    return ret\n"
      ],
      "metadata": {
        "id": "axdud5Wh6SKk"
      },
      "execution_count": 106,
      "outputs": []
    },
    {
      "cell_type": "code",
      "source": [
        "ret = Perturb.perturb(sentences_nopred, change_age)\n",
        "#ret.sentences"
      ],
      "metadata": {
        "id": "23kEpXGl7cXM"
      },
      "execution_count": 109,
      "outputs": []
    },
    {
      "cell_type": "code",
      "source": [
        "test = MFT(ret.data, labels=1)\n",
        "suite.add(test,  'Age', 'Neumeric Reasoning', overwrite=True )"
      ],
      "metadata": {
        "id": "_Ddkf7YWgBLc"
      },
      "execution_count": 110,
      "outputs": []
    },
    {
      "cell_type": "code",
      "source": [
        "def pred_and_conf(data):\n",
        "    raw_preds = pipe(data)\n",
        "    preds = np.array([ int(p[\"label\"][-1]) for p in raw_preds])\n",
        "    pp = np.array([[p[\"score\"], 1-p[\"score\"]] if int(p[\"label\"][-1]) == 'predator' else [1-p[\"score\"], p[\"score\"]] for p in raw_preds])\n",
        "    return preds, pp"
      ],
      "metadata": {
        "id": "Z9gA-FTegsMz"
      },
      "execution_count": 111,
      "outputs": []
    },
    {
      "cell_type": "code",
      "source": [
        "suite.summary()"
      ],
      "metadata": {
        "id": "SGnOpSdway4-"
      },
      "execution_count": null,
      "outputs": []
    },
    {
      "cell_type": "code",
      "source": [
        "suite.run(pred_and_conf, overwrite=True)"
      ],
      "metadata": {
        "colab": {
          "base_uri": "https://localhost:8080/"
        },
        "id": "qlcYgS06gjSh",
        "outputId": "b58b02dc-0727-4ba2-9879-09e9d4f6d2b5"
      },
      "execution_count": null,
      "outputs": [
        {
          "output_type": "stream",
          "name": "stdout",
          "text": [
            "Running single positive words\n",
            "Predicting 62 examples\n",
            "Running Age\n",
            "Predicting 5340 examples\n"
          ]
        },
        {
          "output_type": "stream",
          "name": "stderr",
          "text": [
            "/usr/local/lib/python3.10/dist-packages/transformers/pipelines/base.py:1080: UserWarning: You seem to be using the pipelines sequentially on GPU. In order to maximize efficiency please use a dataset\n",
            "  warnings.warn(\n"
          ]
        }
      ]
    },
    {
      "cell_type": "code",
      "source": [
        "suite.summary()  # label 1, complete data 1 and 0"
      ],
      "metadata": {
        "colab": {
          "base_uri": "https://localhost:8080/"
        },
        "id": "AmbqfPbmGj0_",
        "outputId": "5f500740-a837-4a72-f046-cc45a26a33a1"
      },
      "execution_count": null,
      "outputs": [
        {
          "output_type": "stream",
          "name": "stdout",
          "text": [
            "Vocabulary\n",
            "\n",
            "single positive words\n",
            "Test cases:      62\n",
            "Fails (rate):    0 (0.0%)\n",
            "\n",
            "\n",
            "Age\n",
            "Test cases:      498\n",
            "Fails (rate):    475 (95.4%)\n",
            "\n",
            "Example fails:\n",
            "1.0 hi hey asl? asl? female 16 you? from? 17 male germany you? norway :) :) how are you? fine thank you :) you have a girlfriend? ;p i´m fine too but bored :/ no do you have a boyfriend? no, i have a girlfriend right now, but we are not that serious ;p lesbian? ;) no, i mostly like boys ;) now i´m a bit horny ;) haha, eally? x) really* a bit :P do you have msn? no, sorry :p any other messenger? :D no a webcam? :D\n",
            "1.0 hi hey asl? asl? female 16 you? from? 18 male germany you? norway :) :) how are you? fine thank you :) you have a girlfriend? ;p i´m fine too but bored :/ no do you have a boyfriend? no, i have a girlfriend right now, but we are not that serious ;p lesbian? ;) no, i mostly like boys ;) now i´m a bit horny ;) haha, eally? x) really* a bit :P do you have msn? no, sorry :p any other messenger? :D no a webcam? :D\n",
            "1.0 hi hey asl? asl? female 16 you? from? 16 male germany you? norway :) :) how are you? fine thank you :) you have a girlfriend? ;p i´m fine too but bored :/ no do you have a boyfriend? no, i have a girlfriend right now, but we are not that serious ;p lesbian? ;) no, i mostly like boys ;) now i´m a bit horny ;) haha, eally? x) really* a bit :P do you have msn? no, sorry :p any other messenger? :D no a webcam? :D\n",
            "\n",
            "----\n",
            "1.0 hi hows u ?? wut how are you ?? hay ur asl I have an erection mean ?? I'm 8 you already know my sex and I live in the us m or f ?? you already know i dont I told you ?? read up above ohh erection ?? i wanna fuck u ?? yup wanna saw my dick ?? ok your good name sounds sexy ?? what's your asl? i am 23 hv u a gmail acount ?? nah I have live mail windows live\n",
            "1.0 hi hows u ?? wut how are you ?? hay ur asl I have an erection mean ?? I'm 10 you already know my sex and I live in the us m or f ?? you already know i dont I told you ?? read up above ohh erection ?? i wanna fuck u ?? yup wanna saw my dick ?? ok your good name sounds sexy ?? what's your asl? i am 23 hv u a gmail acount ?? nah I have live mail windows live\n",
            "1.0 hi hows u ?? wut how are you ?? hay ur asl I have an erection mean ?? I'm 12 you already know my sex and I live in the us m or f ?? you already know i dont I told you ?? read up above ohh erection ?? i wanna fuck u ?? yup wanna saw my dick ?? ok your good name sounds sexy ?? what's your asl? i am 23 hv u a gmail acount ?? nah I have live mail windows live\n",
            "\n",
            "----\n",
            "1.0 need to talk? im here to help =] 17 female 19 female jk im male and you? cool i just got out a serious relationship about 2 months ago awh, im sorry are you on facebook? yes.. want me to add you? my name is shawn storm ok sure im kimmi smilez thats a cool name haha thanks what is your profile pic? this weird halloween picture thing im a zombie my friend dave is next to me well.. im not really a zombie.. but i have blood coming out of my eyes (dont worry, its fake) it says you have too many friend requests....... you are very beautiful though :) oh, haha thank you ! sorry im horny ;) lol hahaha thats k can you help me with that need? ;) ............ no.. you said you were here to help haha haha, nothing sexual oh darn lol\n",
            "1.0 need to talk? im here to help =] 18 female 19 female jk im male and you? cool i just got out a serious relationship about 2 months ago awh, im sorry are you on facebook? yes.. want me to add you? my name is shawn storm ok sure im kimmi smilez thats a cool name haha thanks what is your profile pic? this weird halloween picture thing im a zombie my friend dave is next to me well.. im not really a zombie.. but i have blood coming out of my eyes (dont worry, its fake) it says you have too many friend requests....... you are very beautiful though :) oh, haha thank you ! sorry im horny ;) lol hahaha thats k can you help me with that need? ;) ............ no.. you said you were here to help haha haha, nothing sexual oh darn lol\n",
            "1.0 need to talk? im here to help =] 16 female 19 female jk im male and you? cool i just got out a serious relationship about 2 months ago awh, im sorry are you on facebook? yes.. want me to add you? my name is shawn storm ok sure im kimmi smilez thats a cool name haha thanks what is your profile pic? this weird halloween picture thing im a zombie my friend dave is next to me well.. im not really a zombie.. but i have blood coming out of my eyes (dont worry, its fake) it says you have too many friend requests....... you are very beautiful though :) oh, haha thank you ! sorry im horny ;) lol hahaha thats k can you help me with that need? ;) ............ no.. you said you were here to help haha haha, nothing sexual oh darn lol\n",
            "\n",
            "----\n",
            "\n",
            "\n",
            "\n",
            "\n"
          ]
        }
      ]
    },
    {
      "cell_type": "markdown",
      "source": [
        "**Capability: vocabulary**"
      ],
      "metadata": {
        "id": "khm8x6AGjSYO"
      }
    },
    {
      "cell_type": "code",
      "execution_count": null,
      "metadata": {
        "id": "5El74jW_M1_B"
      },
      "outputs": [],
      "source": [
        "#parent nouns\n",
        "#parent_noun = ['dad', 'mom', 'aunt', 'grandma', 'uncle', 'grandfather', 'my grandmother', 'grandpa', 'my older sister', 'brother']\n",
        "#editor.add_lexicon('parent_noun', parent_noun, overwrite=True)\n",
        "\n",
        "names = ['my sweety', 'baby', 'babyy', 'babbby', 'little girl', 'sexy', 'darling','cutey', 'pussycat', 'angel', 'kiddo', 'kid', 'my girl', 'gorgeous']\n",
        "editor.add_lexicon('names', names, overwrite=True)"
      ]
    },
    {
      "cell_type": "code",
      "execution_count": null,
      "metadata": {
        "id": "d18k29BhM1_C"
      },
      "outputs": [],
      "source": [
        "# positive adjectives\n",
        "pos_adj = ['sexy','mesexy', 'great', 'allsome', 'amazing', 'extraordinary', 'beautiful', 'fantastic', 'nice', 'attractive', 'girly', 'awesome', 'perfect', 'fun', 'cool', 'adorable', 'smart', 'exciting', 'sweet', 'wonderful']\n",
        "editor.add_lexicon('pos_adj', pos_adj, overwrite=True)\n"
      ]
    },
    {
      "cell_type": "code",
      "source": [
        "#negative_adj = ['lame', 'shitty', 'not worthy', 'unattractive', 'not sexy', 'not beautiful', 'not nice']\n",
        "#editor.add_lexicon('neutral_adj', pos_adj, overwrite=True)\n"
      ],
      "metadata": {
        "id": "FnMdBbcxJVIq"
      },
      "execution_count": null,
      "outputs": []
    },
    {
      "cell_type": "code",
      "execution_count": null,
      "metadata": {
        "colab": {
          "base_uri": "https://localhost:8080/"
        },
        "id": "Qsa95UW9M1_C",
        "outputId": "e6fc352d-5abb-497d-90fa-c3b799c6481d"
      },
      "outputs": [
        {
          "output_type": "stream",
          "name": "stdout",
          "text": [
            "to, with, for, tell, see, call, of, told, update, from, t, thank, write, tel, at, visit, -, show, called, hug, on, post, miss, w, help, hear, di, warn, near, without, leave, hold, msg, get, th, message, around, make, meet, bother\n"
          ]
        }
      ],
      "source": [
        "# get model suggestion for possible neutral verbs\n",
        "#print(', '.join(editor.suggest('I cant {a:mask} you today, {parent_noun} is home tonight.')[:40]))"
      ]
    },
    {
      "cell_type": "code",
      "execution_count": null,
      "metadata": {
        "id": "o34Z0enGM1_E"
      },
      "outputs": [],
      "source": [
        "#pos_verb_present = ['like', 'enjoy', 'appreciate', 'love', 'admire', 'value']\n",
        "#neutral_verb_present = ['call', 'see', 'visit', 'write', 'be near', 'come over', 'invite', 'msg', 'message', 'text', 'go online', 'log in', 'hug', 'touch', 'kiss', 'lick', 'smell']\n",
        "#pos_verb_past = ['liked', 'enjoyed', 'appreciated', 'loved', 'admired', 'valued', 'welcomed']\n",
        "#neutral_verb_past = ['called', 'saw', 'visited', 'wrote', 'was near', 'came over', 'invited', 'messaged', 'texted', 'came online', 'logged in', 'hugged', 'touched', 'kissed', 'licked', 'smelled']\n",
        "\n",
        "#editor.add_lexicon('pos_verb_present', pos_verb_present, overwrite=True)\n",
        "#editor.add_lexicon('neutral_verb_present', neutral_verb_present, overwrite=True)\n",
        "#editor.add_lexicon('pos_verb_past', pos_verb_past, overwrite=True)\n",
        "#editor.add_lexicon('neutral_verb_past', neutral_verb_past, overwrite=True)\n",
        "#editor.add_lexicon('pos_verb', pos_verb_present+ pos_verb_past, overwrite=True)\n",
        "#editor.add_lexicon('neutral_verb', neutral_verb_present + neutral_verb_past, overwrite=True)"
      ]
    },
    {
      "cell_type": "markdown",
      "metadata": {
        "id": "WIXuBtYrM1_E"
      },
      "source": [
        "Individual words"
      ]
    },
    {
      "cell_type": "code",
      "source": [
        "def pred_and_conf(data):\n",
        "    raw_preds = pipe(data)\n",
        "    preds = np.array([ int(p[\"label\"][-1]) for p in raw_preds])\n",
        "    pp = np.array([[p[\"score\"], 1-p[\"score\"]] if int(p[\"label\"][-1]) == 'predator' else [1-p[\"score\"], p[\"score\"]] for p in raw_preds])\n",
        "    return preds, pp"
      ],
      "metadata": {
        "id": "9nPdCQaqvhSC"
      },
      "execution_count": null,
      "outputs": []
    },
    {
      "cell_type": "code",
      "source": [
        "def add_NiWords(x):\n",
        "    phrases = ['my sweety', 'baby', 'babyy', 'babbby', 'little girl', 'sexy', 'darling','cutie', 'angel', 'kiddo', 'kid', 'my girl', 'gorgeous']\n",
        "    return ['%s %s' % (x, p) for p in phrases]"
      ],
      "metadata": {
        "id": "JKy7zD5qogvc"
      },
      "execution_count": null,
      "outputs": []
    },
    {
      "cell_type": "code",
      "source": [
        "monotonic_increasing = Expect.monotonic(label=1, increasing=False, tolerance=0.1)\n"
      ],
      "metadata": {
        "id": "5DhPUzC4rz5F"
      },
      "execution_count": null,
      "outputs": []
    },
    {
      "cell_type": "code",
      "execution_count": null,
      "metadata": {
        "id": "LTz2ps5yM1_F"
      },
      "outputs": [],
      "source": [
        "t = Perturb.perturb(sentences, add_NiWords)\n",
        "test = DIR(**t, expect=monotonic_increasing)"
      ]
    },
    {
      "cell_type": "code",
      "source": [
        "test.run(pred_and_conf)\n",
        "test.summary()"
      ],
      "metadata": {
        "colab": {
          "base_uri": "https://localhost:8080/"
        },
        "id": "_Dzb2cdAs9Fm",
        "outputId": "16c4564b-b595-4a23-f05a-7ee88cc6bc18"
      },
      "execution_count": null,
      "outputs": [
        {
          "output_type": "stream",
          "name": "stdout",
          "text": [
            "Predicting 21990 examples\n",
            "Test cases:      1466\n",
            "After filtering: 73 (5.0%)\n",
            "Fails (rate):    11 (15.1%)\n",
            "\n",
            "Example fails:\n",
            "0.6 hey hi cutie whats up nm u? just watching tv thats cool whatr u watchin? lol american idol hey if i get quiet it is cause the wife is in the room with me lol lol okay im bout to watch that too it just started are you going to get off line no brb ok k i was gettin somthin to eat yay its back on welcome back what you get me to eat lol pinaple peices i like pinapple me to so what you been up too just did hw u? that dog is so cute me just working and stuff oh thats cool just been a long day i cant wait for the weekend yeah whatr u gonna do? well i got to work most of it oh lol but have to go to a wrestling meet sat morning then drop the wife off at the airport early sunday then go bowling sunday night cool what you doing im suposed to go to the mall w/ my freind sat what mall i dunno yet my freinds mom is takin us lol ok maybe westland or 12 oaks oh ok what you going to get me ;) :D lol makeup good i need some makeup lol i dont have any so what kind of hw you have lang arts fun fun yeah lol dont ask me i cant spell lol you laugh alot is that bad? no its cute oh okay good lol are u watchin american idol? yeah some of these singers are hurting my ears omg i know so can you sing in the shower maybe lol u? i want to hear you lol me no only in the car when i am alone lol nooo way i never sing in front of anyone what about if we are in the shower and in no one lol lol sorry for what talking bad wanting to take a shwoer with you its not like im gonna get mad at u lol i dont care did u e\n",
            "1.0 hey hi cutie whats up nm u? just watching tv thats cool whatr u watchin? lol american idol hey if i get quiet it is cause the wife is in the room with me lol lol okay im bout to watch that too it just started are you going to get off line no brb ok k i was gettin somthin to eat yay its back on welcome back what you get me to eat lol pinaple peices i like pinapple me to so what you been up too just did hw u? that dog is so cute me just working and stuff oh thats cool just been a long day i cant wait for the weekend yeah whatr u gonna do? well i got to work most of it oh lol but have to go to a wrestling meet sat morning then drop the wife off at the airport early sunday then go bowling sunday night cool what you doing im suposed to go to the mall w/ my freind sat what mall i dunno yet my freinds mom is takin us lol ok maybe westland or 12 oaks oh ok what you going to get me ;) :D lol makeup good i need some makeup lol i dont have any so what kind of hw you have lang arts fun fun yeah lol dont ask me i cant spell lol you laugh alot is that bad? no its cute oh okay good lol are u watchin american idol? yeah some of these singers are hurting my ears omg i know so can you sing in the shower maybe lol u? i want to hear you lol me no only in the car when i am alone lol nooo way i never sing in front of anyone what about if we are in the shower and in no one lol lol sorry for what talking bad wanting to take a shwoer with you its not like im gonna get mad at u lol i dont care did u e pussycat\n",
            "0.8 hey hi cutie whats up nm u? just watching tv thats cool whatr u watchin? lol american idol hey if i get quiet it is cause the wife is in the room with me lol lol okay im bout to watch that too it just started are you going to get off line no brb ok k i was gettin somthin to eat yay its back on welcome back what you get me to eat lol pinaple peices i like pinapple me to so what you been up too just did hw u? that dog is so cute me just working and stuff oh thats cool just been a long day i cant wait for the weekend yeah whatr u gonna do? well i got to work most of it oh lol but have to go to a wrestling meet sat morning then drop the wife off at the airport early sunday then go bowling sunday night cool what you doing im suposed to go to the mall w/ my freind sat what mall i dunno yet my freinds mom is takin us lol ok maybe westland or 12 oaks oh ok what you going to get me ;) :D lol makeup good i need some makeup lol i dont have any so what kind of hw you have lang arts fun fun yeah lol dont ask me i cant spell lol you laugh alot is that bad? no its cute oh okay good lol are u watchin american idol? yeah some of these singers are hurting my ears omg i know so can you sing in the shower maybe lol u? i want to hear you lol me no only in the car when i am alone lol nooo way i never sing in front of anyone what about if we are in the shower and in no one lol lol sorry for what talking bad wanting to take a shwoer with you its not like im gonna get mad at u lol i dont care did u e angel\n",
            "\n",
            "----\n",
            "0.8 hi there wanna chat :-P hi hows it giong good :) what ur asl? 24/m/mi u 14 f mi little younger lol im Ariel whats ur name mike cool what kind of music u like? all kinds i like it all me 2 whos ur favs? linkin park, deftones, journey lol cool i like yellowcard greenday yea they are good taproot :-P brb k sorry bout that its k u got ne pets? yes a dog cool whats his name? chip what kind is he golden retreiever those r pretty yea :) do u have a cam no u leave? no i got 2 go will u b on later? yea ok ttyl PO\n",
            "1.0 hi there wanna chat :-P hi hows it giong good :) what ur asl? 24/m/mi u 14 f mi little younger lol im Ariel whats ur name mike cool what kind of music u like? all kinds i like it all me 2 whos ur favs? linkin park, deftones, journey lol cool i like yellowcard greenday yea they are good taproot :-P brb k sorry bout that its k u got ne pets? yes a dog cool whats his name? chip what kind is he golden retreiever those r pretty yea :) do u have a cam no u leave? no i got 2 go will u b on later? yea ok ttyl PO pussycat\n",
            "1.0 hi there wanna chat :-P hi hows it giong good :) what ur asl? 24/m/mi u 14 f mi little younger lol im Ariel whats ur name mike cool what kind of music u like? all kinds i like it all me 2 whos ur favs? linkin park, deftones, journey lol cool i like yellowcard greenday yea they are good taproot :-P brb k sorry bout that its k u got ne pets? yes a dog cool whats his name? chip what kind is he golden retreiever those r pretty yea :) do u have a cam no u leave? no i got 2 go will u b on later? yea ok ttyl PO angel\n",
            "\n",
            "----\n",
            "0.8 :-* hey im going to go watch a tv show ok ttyl then >:D< and can you delete that snoopy off your myspace? how come? I had to create a new one with a different email I add that one to your thing instead once you delete the old one did u send me an invite already? no, not till you delete the old one ok i will ok ttyl :-* :-*\n",
            "1.0 :-* hey im going to go watch a tv show ok ttyl then >:D< and can you delete that snoopy off your myspace? how come? I had to create a new one with a different email I add that one to your thing instead once you delete the old one did u send me an invite already? no, not till you delete the old one ok i will ok ttyl :-* :-* pussycat\n",
            "\n",
            "----\n"
          ]
        }
      ]
    },
    {
      "cell_type": "markdown",
      "metadata": {
        "id": "gMoCLvz1M1_N"
      },
      "source": [
        "Add phrases"
      ]
    },
    {
      "cell_type": "code",
      "execution_count": null,
      "metadata": {
        "id": "xH8w7zEqM1_V"
      },
      "outputs": [],
      "source": [
        "positive = editor.template('I {pos_verb_present} you.').data\n",
        "positive += editor.template('You are my {pos_adj}.').data\n",
        "positive += ['I would like to {neutral_verb_present} if your {parent_nount} not home.']\n",
        "def add_phrase_function(phrases):\n",
        "    def pert(d):\n",
        "        while d[-1].pos_ == 'PUNCT':\n",
        "            d = d[:-1]\n",
        "        d = d.text\n",
        "        ret = [d + '. ' + x for x in phrases]\n",
        "        idx = np.random.choice(len(ret), 10, replace=False)\n",
        "        ret = [ret[i] for i in idx]\n",
        "        return ret\n",
        "    return pert\n"
      ]
    },
    {
      "cell_type": "code",
      "execution_count": null,
      "metadata": {
        "id": "C8hwtslyM1_W"
      },
      "outputs": [],
      "source": [
        "t = Perturb.perturb(pdata, add_phrase_function(positive), nsamples=500)\n",
        "test = MFT(t.data, labels=1)\n",
        "description = 'Add very predator laden words to the end of sentences, expect probability of negative to go up (tolerance=0.1)'\n",
        "suite.add(test, 'add positive phrases', 'Vocabulary', description, overwrite=True)\n"
      ]
    },
    {
      "cell_type": "code",
      "source": [
        "suite.run(pred_and_conf, overwrite=True)"
      ],
      "metadata": {
        "colab": {
          "base_uri": "https://localhost:8080/"
        },
        "id": "Gx0DLYN4YHPE",
        "outputId": "151bb572-469d-473f-c6eb-52d88e502e3b"
      },
      "execution_count": null,
      "outputs": [
        {
          "output_type": "stream",
          "name": "stdout",
          "text": [
            "Running add positive phrases\n",
            "Predicting 5500 examples\n"
          ]
        }
      ]
    },
    {
      "cell_type": "code",
      "source": [
        "suite.summary()"
      ],
      "metadata": {
        "colab": {
          "base_uri": "https://localhost:8080/"
        },
        "id": "e0fDx_ieYqyl",
        "outputId": "7a5c37f0-6cf9-439d-a308-c70cd4f339f1"
      },
      "execution_count": null,
      "outputs": [
        {
          "output_type": "stream",
          "name": "stdout",
          "text": [
            "Vocabulary\n",
            "\n",
            "add positive phrases\n",
            "Test cases:      500\n",
            "Fails (rate):    451 (90.2%)\n",
            "\n",
            "Example fails:\n",
            "1.0 hey hi asl how's it going? 69 m/f hogwarts how about you? fine? 15,musa 15m usa coolios i was just joking about being 69 btw, LOL what ah,,hoe about your true age do you have facebook. LOL im actually 14 and yeah hey? ahh,,female yeah, i am a girl hahaha! ah ok,,, k k k k k k k k k but, sadly i dont live in hogwarts kkkkk k k wer do you live in a house\n",
            "1.0 hey hi asl how's it going? 69 m/f hogwarts how about you? fine? 15,musa 15m usa coolios i was just joking about being 69 btw, LOL what ah,,hoe about your true age do you have facebook. LOL im actually 14 and yeah hey? ahh,,female yeah, i am a girl hahaha! ah ok,,, k k k k k k k k k but, sadly i dont live in hogwarts kkkkk k k wer do you live in a house. You are my fun.\n",
            "1.0 hey hi asl how's it going? 69 m/f hogwarts how about you? fine? 15,musa 15m usa coolios i was just joking about being 69 btw, LOL what ah,,hoe about your true age do you have facebook. LOL im actually 14 and yeah hey? ahh,,female yeah, i am a girl hahaha! ah ok,,, k k k k k k k k k but, sadly i dont live in hogwarts kkkkk k k wer do you live in a house. You are my awesome.\n",
            "\n",
            "----\n",
            "1.0 27 m hi 17 f helo there .. where from? usa u? cool. im from sweden ) whats cool ? really im sweedish you're swedish too? well i live in sweeden im in usa 4 the time being thats funny.. cos i live in usa and im in sweden for the time being.. did we switch places or somthing? xD no do you live movies what movie do u like if so? yea i like movies armageddon is one of my favorites oh is that the 1 with bruse willies yea..it is.: ) i like the girl in that who is the daughter of the steven tyler ah... i know who you are talking about : ) yea she is nice.. her name is liv tyler by the way : ) i also like bruise what is your name by the way? he is a hard mAN thats true arnviðr whats yours? oh.. my name is jay oh..? its very easy to pronounce : ) do you have msn? it is like ga ay sorry i diddnt mean gay jeh ay is it yea.. jay is correct what do u look like jay jay? im dark. 6 feet tall, dark eyes and hair.. lean do you mean black? lean does that mean fat? yea.. no.. lean mean thin and tall : ) do you like boards of canada if not we stop talking boards? what do you mean? do you have msn dear? boards of canada\n",
            "1.0 27 m hi 17 f helo there .. where from? usa u? cool. im from sweden ) whats cool ? really im sweedish you're swedish too? well i live in sweeden im in usa 4 the time being thats funny.. cos i live in usa and im in sweden for the time being.. did we switch places or somthing? xD no do you live movies what movie do u like if so? yea i like movies armageddon is one of my favorites oh is that the 1 with bruse willies yea..it is.: ) i like the girl in that who is the daughter of the steven tyler ah... i know who you are talking about : ) yea she is nice.. her name is liv tyler by the way : ) i also like bruise what is your name by the way? he is a hard mAN thats true arnviðr whats yours? oh.. my name is jay oh..? its very easy to pronounce : ) do you have msn? it is like ga ay sorry i diddnt mean gay jeh ay is it yea.. jay is correct what do u look like jay jay? im dark. 6 feet tall, dark eyes and hair.. lean do you mean black? lean does that mean fat? yea.. no.. lean mean thin and tall : ) do you like boards of canada if not we stop talking boards? what do you mean? do you have msn dear? boards of canada. I would like to {neutral_verb_present} if your {parent_nount} not home.\n",
            "1.0 27 m hi 17 f helo there .. where from? usa u? cool. im from sweden ) whats cool ? really im sweedish you're swedish too? well i live in sweeden im in usa 4 the time being thats funny.. cos i live in usa and im in sweden for the time being.. did we switch places or somthing? xD no do you live movies what movie do u like if so? yea i like movies armageddon is one of my favorites oh is that the 1 with bruse willies yea..it is.: ) i like the girl in that who is the daughter of the steven tyler ah... i know who you are talking about : ) yea she is nice.. her name is liv tyler by the way : ) i also like bruise what is your name by the way? he is a hard mAN thats true arnviðr whats yours? oh.. my name is jay oh..? its very easy to pronounce : ) do you have msn? it is like ga ay sorry i diddnt mean gay jeh ay is it yea.. jay is correct what do u look like jay jay? im dark. 6 feet tall, dark eyes and hair.. lean do you mean black? lean does that mean fat? yea.. no.. lean mean thin and tall : ) do you like boards of canada if not we stop talking boards? what do you mean? do you have msn dear? boards of canada. You are my sweet.\n",
            "\n",
            "----\n",
            "1.0 hey whats up? nothin m or f f im m (: cool story haha where from? california send pic? yeah, right. why? i dont know you. haah commee onn have some fun send me a pic of you first. YOU, not your dick. comprende? hahaha ok ok whats ur number whoa whoa. calm down mister. not giving you that. EVER. whaaaat/ are you pretty :P come on, im not a fuckin perve or something i swear on my life fine. but you're not getting my number well whats the fine for? just put it on tinypic or something show me what you look like i dont know what that is im not a computer pesron, just give me ur number i just want to see what you look like by giving you my number doesnt ensure you're going to see a picture of me. well lets just talk then? so get over yourself. if you were so attractive you wouldnt have to ask girls on here for their numbers. im boredd, it 3 where im at! i just want to see what you look like! fine http://tinypic.com/usermedia.php?uo=5zeR%2FeOxIJc7%2BqMH6svXfIh4l5k2TGxc create a new window or tab copy and paste. since you claim to be technologically retarded is that you? yes, yes it is. your pretty you're. I judge you when you use poor grammar. haha chill meh. I would like to {neutral_verb_present} if your {parent_nount} not home.\n",
            "1.0 hey whats up? nothin m or f f im m (: cool story haha where from? california send pic? yeah, right. why? i dont know you. haah commee onn have some fun send me a pic of you first. YOU, not your dick. comprende? hahaha ok ok whats ur number whoa whoa. calm down mister. not giving you that. EVER. whaaaat/ are you pretty :P come on, im not a fuckin perve or something i swear on my life fine. but you're not getting my number well whats the fine for? just put it on tinypic or something show me what you look like i dont know what that is im not a computer pesron, just give me ur number i just want to see what you look like by giving you my number doesnt ensure you're going to see a picture of me. well lets just talk then? so get over yourself. if you were so attractive you wouldnt have to ask girls on here for their numbers. im boredd, it 3 where im at! i just want to see what you look like! fine http://tinypic.com/usermedia.php?uo=5zeR%2FeOxIJc7%2BqMH6svXfIh4l5k2TGxc create a new window or tab copy and paste. since you claim to be technologically retarded is that you? yes, yes it is. your pretty you're. I judge you when you use poor grammar. haha chill meh\n",
            "1.0 hey whats up? nothin m or f f im m (: cool story haha where from? california send pic? yeah, right. why? i dont know you. haah commee onn have some fun send me a pic of you first. YOU, not your dick. comprende? hahaha ok ok whats ur number whoa whoa. calm down mister. not giving you that. EVER. whaaaat/ are you pretty :P come on, im not a fuckin perve or something i swear on my life fine. but you're not getting my number well whats the fine for? just put it on tinypic or something show me what you look like i dont know what that is im not a computer pesron, just give me ur number i just want to see what you look like by giving you my number doesnt ensure you're going to see a picture of me. well lets just talk then? so get over yourself. if you were so attractive you wouldnt have to ask girls on here for their numbers. im boredd, it 3 where im at! i just want to see what you look like! fine http://tinypic.com/usermedia.php?uo=5zeR%2FeOxIJc7%2BqMH6svXfIh4l5k2TGxc create a new window or tab copy and paste. since you claim to be technologically retarded is that you? yes, yes it is. your pretty you're. I judge you when you use poor grammar. haha chill meh. You are my sweet.\n",
            "\n",
            "----\n",
            "\n",
            "\n",
            "\n",
            "\n"
          ]
        }
      ]
    },
    {
      "cell_type": "markdown",
      "metadata": {
        "id": "tbckZ1Q3M1_W"
      },
      "source": [
        "**Capability: robustness**\n",
        "\n",
        "adding irrelevant stuff before and after.\n"
      ]
    },
    {
      "cell_type": "code",
      "execution_count": null,
      "metadata": {
        "id": "mNSYSbdWM1_W"
      },
      "outputs": [],
      "source": [
        "import string\n",
        "def random_string(n):\n",
        "    return ''.join(np.random.choice([x for x in string.ascii_letters + string.digits], n))\n",
        "def random_url(n=6):\n",
        "    return 'https://t.co/%s' % random_string(n)\n",
        "def random_handle(n=6):\n",
        "    return '@%s' % random_string(n)\n",
        "\n",
        "\n",
        "def add_irrelevant(sentence):\n",
        "    urls_and_handles = [random_url(n=6) for _ in range(5)] + [random_handle() for _ in range(5)]\n",
        "    irrelevant_before = ['@user '] + urls_and_handles\n",
        "    irrelevant_after = urls_and_handles\n",
        "    rets = ['%s %s' % (x, sentence) for x in irrelevant_before ]\n",
        "    rets += ['%s %s' % (sentence, x) for x in irrelevant_after]\n",
        "    return rets\n"
      ]
    },
    {
      "cell_type": "code",
      "execution_count": null,
      "metadata": {
        "id": "2z8WXElfM1_X"
      },
      "outputs": [],
      "source": [
        "t = Perturb.perturb(pdata, add_irrelevant, nsamples=500)\n",
        "test = INV(t.data)\n",
        "suite.add(test, 'add random urls and handles', 'Robustness', 'add randomly generated urls and handles to the start or end of sentence', overwrite=True)\n"
      ]
    },
    {
      "cell_type": "markdown",
      "metadata": {
        "id": "7MScpgTKM1_X"
      },
      "source": [
        "punctuation, contractions, typos\n",
        "\n",
        "\n"
      ]
    },
    {
      "cell_type": "code",
      "execution_count": null,
      "metadata": {
        "id": "wnYOUCl8M1_X"
      },
      "outputs": [],
      "source": [
        "t = Perturb.perturb(pdata, Perturb.punctuation, nsamples=500)\n",
        "test = INV(t.data)\n",
        "suite.add(test, 'punctuation', 'Robustness', 'strip punctuation and / or add \".\"', overwrite=True)\n"
      ]
    },
    {
      "cell_type": "code",
      "execution_count": null,
      "metadata": {
        "id": "F4ixnk79M1_Y"
      },
      "outputs": [],
      "source": [
        "t = Perturb.perturb(sentences, Perturb.add_typos, nsamples=500, typos=1)\n",
        "test = INV(t.data)\n",
        "suite.add(test, 'typos', 'Robustness', 'Add one typo to input by swapping two adjacent characters', overwrite=True )\n"
      ]
    },
    {
      "cell_type": "code",
      "execution_count": null,
      "metadata": {
        "id": "QpwGX9ykM1_Y"
      },
      "outputs": [],
      "source": [
        "t = Perturb.perturb(sentences, Perturb.add_typos, nsamples=500, typos=2)\n",
        "test = INV(t.data)\n",
        "suite.add(test, '2 typos', 'Robustness', 'Add two typos to input by swapping two adjacent characters twice', overwrite=True )\n"
      ]
    },
    {
      "cell_type": "code",
      "execution_count": null,
      "metadata": {
        "id": "quO6SaWUM1_Y"
      },
      "outputs": [],
      "source": [
        "t = Perturb.perturb(sentences, Perturb.contractions, nsamples=1000)\n",
        "test = INV(t.data)\n",
        "suite.add(test, 'contractions', 'Robustness', 'Contract or expand contractions, e.g. What is -> What\\'s', overwrite=True)"
      ]
    },
    {
      "cell_type": "code",
      "source": [
        "def pred_and_conf(data):\n",
        "    raw_preds = pipe(data)\n",
        "    preds = np.array([ int(p[\"label\"][-1]) for p in raw_preds])\n",
        "    pp = np.array([[p[\"score\"], 1-p[\"score\"]] if int(p[\"label\"][-1]) == 'predator' else [1-p[\"score\"], p[\"score\"]] for p in raw_preds])\n",
        "    return preds, pp"
      ],
      "metadata": {
        "id": "_7pItjCVEC2-"
      },
      "execution_count": null,
      "outputs": []
    },
    {
      "cell_type": "code",
      "source": [
        "suite.run(pred_and_conf, overwrite=True)"
      ],
      "metadata": {
        "colab": {
          "base_uri": "https://localhost:8080/"
        },
        "id": "BWDpE-PH3AvF",
        "outputId": "51fc9840-f334-4069-e8c3-89a48e8b20ae"
      },
      "execution_count": null,
      "outputs": [
        {
          "output_type": "stream",
          "name": "stdout",
          "text": [
            "Running add random urls and handles\n",
            "Predicting 11000 examples\n",
            "Running punctuation\n",
            "Predicting 1026 examples\n",
            "Running typos\n",
            "Predicting 1000 examples\n",
            "Running 2 typos\n",
            "Predicting 1000 examples\n",
            "Running contractions\n",
            "Predicting 2213 examples\n"
          ]
        }
      ]
    },
    {
      "cell_type": "code",
      "source": [
        "suite.summary()"
      ],
      "metadata": {
        "colab": {
          "base_uri": "https://localhost:8080/"
        },
        "id": "wRkPq9Ks3aaK",
        "outputId": "948e11f9-fdb9-4dd4-8b04-132a0327c13d"
      },
      "execution_count": null,
      "outputs": [
        {
          "output_type": "stream",
          "name": "stdout",
          "text": [
            "Robustness\n",
            "\n",
            "add random urls and handles\n",
            "Test cases:      500\n",
            "Fails (rate):    47 (9.4%)\n",
            "\n",
            "Example fails:\n",
            "0.9 close ur eys and picture a mushroom pizza mmmmmmmmmmmmm :D mmmmmm hello, my gothic princess hello, my gothic prince guy Prince Chris thats hard 2 say fast lol I can imagine although I say that in the mirror every night befor I go to bed LOL! :)) u do NOT u say hey d00d zzzzzzzzzzzzzzzzzzzzzzzzzzzzz how did you know! ? cuz u said u go 2 bed erly but that still doesn't explain...... hey! what can you turn into a bat afly up here and spy on me? and fly* lol um no honest? u gettin redy 2 go home rite? or a sprir\n",
            "0.5 close ur eys and picture a mushroom pizza mmmmmmmmmmmmm :D mmmmmm hello, my gothic princess hello, my gothic prince guy Prince Chris thats hard 2 say fast lol I can imagine although I say that in the mirror every night befor I go to bed LOL! :)) u do NOT u say hey d00d zzzzzzzzzzzzzzzzzzzzzzzzzzzzz how did you know! ? cuz u said u go 2 bed erly but that still doesn't explain...... hey! what can you turn into a bat afly up here and spy on me? and fly* lol um no honest? u gettin redy 2 go home rite? or a sprir https://t.co/GOh4us\n",
            "0.6 close ur eys and picture a mushroom pizza mmmmmmmmmmmmm :D mmmmmm hello, my gothic princess hello, my gothic prince guy Prince Chris thats hard 2 say fast lol I can imagine although I say that in the mirror every night befor I go to bed LOL! :)) u do NOT u say hey d00d zzzzzzzzzzzzzzzzzzzzzzzzzzzzz how did you know! ? cuz u said u go 2 bed erly but that still doesn't explain...... hey! what can you turn into a bat afly up here and spy on me? and fly* lol um no honest? u gettin redy 2 go home rite? or a sprir https://t.co/PCJ5rA\n",
            "\n",
            "----\n",
            "0.8 hey there asl 23 male from jackson ms 13/f/MS ok so whats up nothing just hangin yeah sounds fun u? not a lot just chillin cool cool so what do you do for fun i just moved here from NH not a lot yeah cool what make you move here to ms mom ok how long you have been here in ms about 2 weeks lol my mom wanted to be with her bfriend not too long ago i see you like here? eh how you like ms it's hot!! yeah i know wait till summer come yucky i relly dont no any 1 what part of ms you live jackson area kool i live in\n",
            "1.0 @user  hey there asl 23 male from jackson ms 13/f/MS ok so whats up nothing just hangin yeah sounds fun u? not a lot just chillin cool cool so what do you do for fun i just moved here from NH not a lot yeah cool what make you move here to ms mom ok how long you have been here in ms about 2 weeks lol my mom wanted to be with her bfriend not too long ago i see you like here? eh how you like ms it's hot!! yeah i know wait till summer come yucky i relly dont no any 1 what part of ms you live jackson area kool i live in\n",
            "1.0 @r14FtZ hey there asl 23 male from jackson ms 13/f/MS ok so whats up nothing just hangin yeah sounds fun u? not a lot just chillin cool cool so what do you do for fun i just moved here from NH not a lot yeah cool what make you move here to ms mom ok how long you have been here in ms about 2 weeks lol my mom wanted to be with her bfriend not too long ago i see you like here? eh how you like ms it's hot!! yeah i know wait till summer come yucky i relly dont no any 1 what part of ms you live jackson area kool i live in\n",
            "\n",
            "----\n",
            "0.9 :D hey :) whatcha doin? we have company for a picnic but its boring friends of dad all older people? mostly wat r u doin? listening to music no party? nah might go to one later cool you should go listen to the new song on my page, you'll like it it wont play did i do somethin wrong? try loading the page again nope y wont it play on ur page? I don't know. it works for me buggin me lol im tryin to get it to work hmm lol still won't work? nope im gonna try after i close it all i like ur pic bout stop drop roll \n",
            "1.0 https://t.co/mznm2T :D hey :) whatcha doin? we have company for a picnic but its boring friends of dad all older people? mostly wat r u doin? listening to music no party? nah might go to one later cool you should go listen to the new song on my page, you'll like it it wont play did i do somethin wrong? try loading the page again nope y wont it play on ur page? I don't know. it works for me buggin me lol im tryin to get it to work hmm lol still won't work? nope im gonna try after i close it all i like ur pic bout stop drop roll \n",
            "1.0 :D hey :) whatcha doin? we have company for a picnic but its boring friends of dad all older people? mostly wat r u doin? listening to music no party? nah might go to one later cool you should go listen to the new song on my page, you'll like it it wont play did i do somethin wrong? try loading the page again nope y wont it play on ur page? I don't know. it works for me buggin me lol im tryin to get it to work hmm lol still won't work? nope im gonna try after i close it all i like ur pic bout stop drop roll  https://t.co/euLOOV\n",
            "\n",
            "----\n",
            "\n",
            "\n",
            "punctuation\n",
            "Test cases:      500\n",
            "Fails (rate):    4 (0.8%)\n",
            "\n",
            "Example fails:\n",
            "0.8 hey there asl 23 male from jackson ms 13/f/MS ok so whats up nothing just hangin yeah sounds fun u? not a lot just chillin cool cool so what do you do for fun i just moved here from NH not a lot yeah cool what make you move here to ms mom ok how long you have been here in ms about 2 weeks lol my mom wanted to be with her bfriend not too long ago i see you like here? eh how you like ms it's hot!! yeah i know wait till summer come yucky i relly dont no any 1 what part of ms you live jackson area kool i live in\n",
            "1.0 hey there asl 23 male from jackson ms 13/f/MS ok so whats up nothing just hangin yeah sounds fun u? not a lot just chillin cool cool so what do you do for fun i just moved here from NH not a lot yeah cool what make you move here to ms mom ok how long you have been here in ms about 2 weeks lol my mom wanted to be with her bfriend not too long ago i see you like here? eh how you like ms it's hot!! yeah i know wait till summer come yucky i relly dont no any 1 what part of ms you live jackson area kool i live in.\n",
            "\n",
            "----\n",
            "0.8 :) hi I just got off the phone a couple on minutes ago of* cool the customer and all of their technicians dropped off the bridge no...uncool dropped off?? there dead?? we lost contact with the customer well, the conference call lol oh i thot u meant n/m u get it fixed? no o dang the AT&T engineer & I waited almost an hour now wut? and then gave up they have my pager number if they need me the numbers were all ported so huh I think their ok don't worry ported meand brought over huh?? means* nvm ok I just took\n",
            "1.0 :) hi I just got off the phone a couple on minutes ago of* cool the customer and all of their technicians dropped off the bridge no...uncool dropped off?? there dead?? we lost contact with the customer well, the conference call lol oh i thot u meant n/m u get it fixed? no o dang the AT&T engineer & I waited almost an hour now wut? and then gave up they have my pager number if they need me the numbers were all ported so huh I think their ok don't worry ported meand brought over huh?? means* nvm ok I just took.\n",
            "\n",
            "----\n",
            "0.8 hey hey whats up? just playin bloon monkeys lol how r u doin good and u? bloon monkeys? ur not on much yea this its awsome http://www.addictinggames.com/bloonstowerdefense2.html im sorry :( its ok i know ur busy i wanna come see u u wont let me tho :(( i never said u cant just cant when dads here :) n i kinda was startin to think u got bored with me hes always there:( no ive jus been runnin around tryin to get my bills straight is everythin ok? yup im broker now then i was tho did u get ur new phone? no they\n",
            "1.0 hey hey whats up? just playin bloon monkeys lol how r u doin good and u? bloon monkeys? ur not on much yea this its awsome http://www.addictinggames.com/bloonstowerdefense2.html im sorry :( its ok i know ur busy i wanna come see u u wont let me tho :(( i never said u cant just cant when dads here :) n i kinda was startin to think u got bored with me hes always there:( no ive jus been runnin around tryin to get my bills straight is everythin ok? yup im broker now then i was tho did u get ur new phone? no they.\n",
            "\n",
            "----\n",
            "\n",
            "\n",
            "typos\n",
            "Test cases:      500\n",
            "Fails (rate):    1 (0.2%)\n",
            "\n",
            "Example fails:\n",
            "0.8 heyy hi where in nj hun ? im in nnj u? like what town well i never say til i know sumeone better wat is ur asl? 16 m redbank nj oh u ? ur prof says u r 22 hmm does it i would rather u said the truth and i dont mind if u r older oo yah yah just dont like to be lied to ok sorry its ok soo u got any more pics of ur cute self did u look on myspace? no theres sum more there lookin sexy as the lil devil lol ty u have a webcam ? no srry i dont' soo ur parents know ur on here well my dad knows i chat where r they no\n",
            "0.9 heyy hi where in nj hun ? im in nnj u? like what town well i never say til i know sumeone better wat is ur asl? 16 m redbank nj oh u ? ur prof says u r 22 hmm does it i would rather u said the truth and i dont mind if u r older oo yah yah just dont like to be lied to ok sorry its ok soo u got any more pics of ur cute self did u look on myspace? no theres sum moret here lookin sexy as the lil devil lol ty u have a webcam ? no srry i dont' soo ur parents know ur on here well my dad knows i chat where r they no\n",
            "\n",
            "----\n",
            "\n",
            "\n",
            "2 typos\n",
            "Test cases:      500\n",
            "Fails (rate):    6 (1.2%)\n",
            "\n",
            "Example fails:\n",
            "1.0 :-h hiyas :) How ya doing girl? im good :) miss ya I have missed you to kewl sure was thinking about you today, left you an offline message you did? i didnt get it:( well hummm what did it say? just said I need some Crystal juice ahhhhh how sweet :P I have a question for yas kk are you able to talk without anyone trying to peep over your shoulder? ya kewl do you shave down below in your juicy spot? :\"> i dont have nothing to shave :( Oh WOW kewl realy? Mercy that would be awsome:D yep I like it with no hair \n",
            "0.8 :-h hiyas :) How ya doing girl? im good :) miss ya I have missed you to kewl sure was thinking about you today, left you an offline message you did? i didnt get it:( well hummm what did it say? just said I need some Crystal juice ahhhhh how sweet :P I have a question for yas kk are you able to talk without anyone trying to peep over your shoulder? ya kewl do you shave dow nbelow in yoru juicy spot? :\"> i dont have nothing to shave :( Oh WOW kewl realy? Mercy that would be awsome:D yep I like it with no hair \n",
            "\n",
            "----\n",
            "0.8 hey baby......i got home early last nite...about 8:30.......i was waiting for you.........but i fell asleep:((.......im sorry i missed you........i hope you get on today........i'll be here for a little while..........but if you dont come on.........lets try ......1 pm....ok?........i miss you so much...........i love you.......Love Ray>:D<:-*:x:x:x:x:x:x:x hello? heyyyyyyyyyyyyyyy i missed you heh i missed you to :-* awwwwwwwwwwwwww>:D<:-*:x sorry about last nite....i fell asleep.......:(( :( is ok i felt s\n",
            "1.0 hey baby......i go thome early last nite...about 8:30.......i was waiting for you.........but i fell asleep:((.......im sorry i missed you........i hope you get on today........i'll be here for a little while..........but if you dont come on.........lets try ......1 pm....ok?........i miss you so much...........i love you.......Love Ray>:D<:-*:x:x:x:x:x:x:x hello? heyyyyyyyyyyyyyyy i missed you heh i missed you to :-* awwwwwwwwwwwwww>:D<:-*:x sorry about lastn ite....i fell asleep.......:(( :( is ok i felt s\n",
            "\n",
            "----\n",
            "0.6 u there? Emily... 3 more days... I am getting tensed that you are not responding... I hope things are fine at your end! r u there Yes Finally whew im so sorry! What happened? my mom took my computer plug away cuz we got in a fight i sneaked it back cuz shes in the shower :) Oh.. How are you? i miss u! I hope it was not about us I miss you too no way lol it was bout a party i wanted 2 go 2 Oh Ok :-* >:D< :-* 3 more days i know i cant wait! Chocolates ;) did u get the other things? which ones? so i dont have a\n",
            "0.8 u there? Emily... 3 more days... I am getting tensed that you are not responding... I hpoe things are fine at your end! r u there Yes Finally whew im so sorry! What happened? my mom took my computer plug away cuz we got in a fight i sneaked it back cuz shes in the shower :) Oh.. How are you? i miss u! I hope it was not about us I miss you too no way lol it was bout a party i wanted 2 go 2 Oh Ok :-* >:D<: -* 3 more days i know i cant wait! Chocolates ;) did u get the other things? which ones? so i dont have a\n",
            "\n",
            "----\n",
            "\n",
            "\n",
            "contractions\n",
            "Test cases:      1000\n",
            "Fails (rate):    11 (1.1%)\n",
            "\n",
            "Example fails:\n",
            "0.8 :-P why r u sticking ur tongue out at me just being goofy lol 8-} lol asl 24/m/orlando 14/f/about an hour away lol cool cool than either tampa cocoa or daytona lol lol and cute pic tyvm is ur hair still long? it is col cool :D:-* want to see another totally thats me and my sister u're way cute :\">:\"> awwwwwwwwwwww ty sweetie i sent u more i sent u more lol awwwwwwwwwwww your a hottie u think? u arvery sexy wow never thought i was sexy =P~ u are hehe lol uh huh sure usre sure lol we're just a bunch of dorks l\n",
            "0.6 :-P why r u sticking ur tongue out at me just being goofy lol 8-} lol asl 24/m/orlando 14/f/about an hour away lol cool cool than either tampa cocoa or daytona lol lol and cute pic tyvm is ur hair still long? it's col cool :D:-* want to see another totally thats me and my sister u're way cute :\">:\"> awwwwwwwwwwww ty sweetie i sent u more i sent u more lol awwwwwwwwwwww your a hottie u think? u arvery sexy wow never thought i was sexy =P~ u are hehe lol uh huh sure usre sure lol we're just a bunch of dorks l\n",
            "\n",
            "----\n",
            "0.8 Hi luke, I'm rick hi im luke Nice to meet ya your a fine Hotty where ru how old ru? I'm in southgate and I'm 39 ho close im 13 in canton you like older guys? yea guys my age dont get it ic I'd be happy to change that how? by meeting you you look older than 13 in your pic u gotta pic? that will crash me can u email it my puter is old ok my email is <email/> I sent it hope you like it got it u look kewl thanks mabey sometime we could do lunch ;) that be kewl when is a good time for you? like weekends cuz of sc\n",
            "0.7 Hi luke, I am rick hi im luke Nice to meet ya your a fine Hotty where ru how old ru? I am in southgate and I am 39 ho close im 13 in canton you like older guys? yea guys my age dont get it ic I would be happy to change that how? by meeting you you look older than 13 in your pic u gotta pic? that will crash me can u email it my puter is old ok my email is <email/> I sent it hope you like it got it u look kewl thanks mabey sometime we could do lunch ;) that be kewl when is a good time for you? like weekends cuz of sc\n",
            "\n",
            "----\n",
            "1.0 hi hi how you ok u? ok 14/f/mi u? wow 35 m mich cool what are you up too nothing just bored and chatting i see me too yeah not much to do and i finished my homework already lol oh where is your parents they died when i was a little baby i am sry it's ok i never knew them so not a big deal i guess i lost my parents at a young age too sorry that sucks :( yeah what are u into stuff that's fun lol cool u alone right now i'm in my room by myself why? just asking is all may i add you sure do u have any fetishes li\n",
            "0.8 hi hi how you ok u? ok 14/f/mi u? wow 35 m mich cool what are you up too nothing just bored and chatting i see me too yeah not much to do and i finished my homework already lol oh where is your parents they died when i was a little baby i am sry it is ok i never knew them so not a big deal i guess i lost my parents at a young age too sorry that sucks :( yeah what are u into stuff that is fun lol cool u alone right now i am in my room by myself why? just asking is all may i add you sure do u have any fetishes li\n",
            "\n",
            "----\n",
            "\n",
            "\n",
            "\n",
            "\n"
          ]
        }
      ]
    },
    {
      "cell_type": "code",
      "source": [
        "#suite.visual_summary_table()"
      ],
      "metadata": {
        "id": "3ct5ZjwyVmBr"
      },
      "execution_count": null,
      "outputs": []
    },
    {
      "cell_type": "markdown",
      "metadata": {
        "id": "tE1kfcByM1_e"
      },
      "source": [
        "**Capability: negation**"
      ]
    },
    {
      "cell_type": "code",
      "source": [
        "# First, let's find some positive and negative adjectives\n",
        "', '.join(editor.suggest('This do not want to {a:mask} you.')[:30])"
      ],
      "metadata": {
        "colab": {
          "base_uri": "https://localhost:8080/",
          "height": 53
        },
        "id": "MgFfQIrHBaWi",
        "outputId": "d4a44e2f-b393-4d49-bd83-2cda0be137da"
      },
      "execution_count": null,
      "outputs": [
        {
          "output_type": "execute_result",
          "data": {
            "text/plain": [
              "'hurt, to, with, upset, stop, on, provoke, of, for, offend, help, you, attack, abuse, end, insult, embarrass, up, exploit, about, affect, out, change, inconvenience, injure, bother, off, educate, harm, impact'"
            ],
            "application/vnd.google.colaboratory.intrinsic+json": {
              "type": "string"
            }
          },
          "metadata": {},
          "execution_count": 44
        }
      ]
    },
    {
      "cell_type": "code",
      "source": [
        "def pred_and_conf(data):\n",
        "    raw_preds = pipe(data)\n",
        "    preds = np.array([ int(p[\"label\"][-1]) for p in raw_preds])\n",
        "    pp = np.array([[p[\"score\"], 1-p[\"score\"]] if int(p[\"label\"][-1]) == 'predator' else [1-p[\"score\"], p[\"score\"]] for p in raw_preds])\n",
        "    return preds, pp"
      ],
      "metadata": {
        "id": "urfSDuTrOxcr"
      },
      "execution_count": 20,
      "outputs": []
    },
    {
      "cell_type": "code",
      "source": [
        "#verb = ['meet', 'call', 'chat', 'talk', 'see', 'exploit']\n",
        "#ret = editor.template('I do not want to {verb} you.', verb=verb, labels=0, save=True, nsamples=300)"
      ],
      "metadata": {
        "id": "UaZe0rkmAvhx"
      },
      "execution_count": null,
      "outputs": []
    },
    {
      "cell_type": "code",
      "source": [
        "t = Perturb.perturb(pdata, Perturb.add_negation)\n",
        "#ret.data"
      ],
      "metadata": {
        "id": "Krhgl3kWNzxv"
      },
      "execution_count": 23,
      "outputs": []
    },
    {
      "cell_type": "code",
      "source": [
        "test = INV(t.data, labels=1)\n",
        "suite.add(test, 'simple negations', 'Negation', 'Negating predator statements should result in non-predator predictions', overwrite=True )\n"
      ],
      "metadata": {
        "id": "K7UNhex7Nz1o"
      },
      "execution_count": 17,
      "outputs": []
    },
    {
      "cell_type": "code",
      "source": [
        "suite.run(pred_and_conf)"
      ],
      "metadata": {
        "colab": {
          "base_uri": "https://localhost:8080/"
        },
        "id": "_BTruPPa7B-o",
        "outputId": "39bff958-ce19-4829-9515-4fc25a22663f"
      },
      "execution_count": null,
      "outputs": [
        {
          "output_type": "stream",
          "name": "stdout",
          "text": [
            "Running simple negations\n",
            "Predicting 2932 examples\n"
          ]
        }
      ]
    },
    {
      "cell_type": "code",
      "source": [
        "suite.summary()"
      ],
      "metadata": {
        "colab": {
          "base_uri": "https://localhost:8080/"
        },
        "id": "9c0afliS7H6o",
        "outputId": "dc0c7538-3f2d-4a99-b6ac-78d070d43311"
      },
      "execution_count": null,
      "outputs": [
        {
          "output_type": "stream",
          "name": "stdout",
          "text": [
            "Negation\n",
            "\n",
            "simple negations\n",
            "Test cases:      1466\n",
            "Fails (rate):    1395 (95.2%)\n",
            "\n",
            "Example fails:\n",
            "1.0 hi :) sorry about today but i left my keys to my office here and could not get into it and get on the computer bummer missed you so much missed u to i was signed on all day in case u came on you are so nice, sorry i let you down no prob i understand so how was your day? borin my aunt was home again i fell asleep for like 3 hrs lol this afternoon ok did you have a nice nap yea i gues lol wat did u do at work if u cant get in ur office well i still had to work, and watch over stuff just could not get on a computer i have been putting off some stuff so i could talk to you more so i kinda got caught up today thats cool i feel bad please don't im keepin u from work it was my choice and i wanted too i thought about you all day wow :) and wanted to chat with you so so as soon as i got home, i got online, and there your sweet face was which made me feel better and again sorry about today its k u worked late just got home but can always go out again if you say so aw ur sweet just so you know i still want to see you :) sounds nice am glad you think so ur queit watcha thinkin about you like wat? wondering when u rlly make me feel comfy sweet of you to say am glad i do is that weird? i like chattin with u what? i like chatting with you too that i said i feel comfy chattin with u no not at all am really glad you do want you to feel comy with me the more we chat the more i do comfy* cool glad so what are you plans for this weekend, other then of course seeing me not sure yet u? just hoping\n",
            "1.0 hi :) sorry about today but i didn't left my keys to my office here and could not get into it and get on the computer bummer missed you so much missed u to i was signed on all day in case u came on you are so nice, sorry i let you down no prob i understand so how was your day? borin my aunt was home again i fell asleep for like 3 hrs lol this afternoon ok did you have a nice nap yea i gues lol wat did u do at work if u cant get in ur office well i still had to work, and watch over stuff just could not get on a computer i have been putting off some stuff so i could talk to you more so i kinda got caught up today thats cool i feel bad please don't im keepin u from work it was my choice and i wanted too i thought about you all day wow :) and wanted to chat with you so so as soon as i got home, i got online, and there your sweet face was which made me feel better and again sorry about today its k u worked late just got home but can always go out again if you say so aw ur sweet just so you know i still want to see you :) sounds nice am glad you think so ur queit watcha thinkin about you like wat? wondering when u rlly make me feel comfy sweet of you to say am glad i do is that weird? i like chattin with u what? i like chatting with you too that i said i feel comfy chattin with u no not at all am really glad you do want you to feel comy with me the more we chat the more i do comfy* cool glad so what are you plans for this weekend, other then of course seeing me not sure yet u? just hoping\n",
            "\n",
            "----\n",
            "1.0 hot, hott, hottt lol outside..im home now coool lol what are you doing was waiting 4 u 2 come back didn't you wait longtime? yeah 4ever cute...haaahaa so so did you go shopping today yeah 4 groceries wit mom >:P whats that mean yuk grocerie shopping you dont like to who comeeee who wut i meant how come.... wow boring o...where did you go? walmart BORING i went to costco for gas mostly c told u boring haahaa yeah but i like food so i go and ice cream ok..now im off the phone i was checking voice mai; k sry heehee...who you giving a buzz to?? u by mistake is ok...nice buzz..hehee lol k i had fun at costco some grocerys clothes and stuff kewl yes...i like to buy toys too toys? lol i bought a new camera kewl an air conditioner for my studio/appartment looked a a few tvs for there too.bigg uns kewl looked at hott tubbs some movies and people o...some new boxersbriefs with button on the fly parrt :\"> lol k ya.... you could have been there to help shop o yeah im good at shopping hahaa... while i was looking at clothes..some kids were checking out the HUGE bin of swimsuits i thought of you kewl yes....they looked like maybe your age or close u didnt c a black and pink one did u girl? no silly lol o... bathing suit some that were 2 pice....yes y? cuz thats wut i want o...any paticular style? no bikini o..ok hmmm... i wonder:-? wut :\"> well how you would look in one cute no doubt you prefer the high cut bottom and low top....thong bottom...or the type with sorta panty boottom no thong bot\n",
            "1.0 hot, hott, hottt lol outside..im home now coool lol what are you doing was waiting 4 u 2 come back did you wait longtime? yeah 4ever cute...haaahaa so so did you go shopping today yeah 4 groceries wit mom >:P whats that mean yuk grocerie shopping you dont like to who comeeee who wut i meant how come.... wow boring o...where did you go? walmart BORING i went to costco for gas mostly c told u boring haahaa yeah but i like food so i go and ice cream ok..now im off the phone i was checking voice mai; k sry heehee...who you giving a buzz to?? u by mistake is ok...nice buzz..hehee lol k i had fun at costco some grocerys clothes and stuff kewl yes...i like to buy toys too toys? lol i bought a new camera kewl an air conditioner for my studio/appartment looked a a few tvs for there too.bigg uns kewl looked at hott tubbs some movies and people o...some new boxersbriefs with button on the fly parrt :\"> lol k ya.... you could have been there to help shop o yeah im good at shopping hahaa... while i was looking at clothes..some kids were checking out the HUGE bin of swimsuits i thought of you kewl yes....they looked like maybe your age or close u didnt c a black and pink one did u girl? no silly lol o... bathing suit some that were 2 pice....yes y? cuz thats wut i want o...any paticular style? no bikini o..ok hmmm... i wonder:-? wut :\"> well how you would look in one cute no doubt you prefer the high cut bottom and low top....thong bottom...or the type with sorta panty boottom no thong bot\n",
            "\n",
            "----\n",
            "1.0 hi cute hey hi sweetie hi im sry i just come in i dont feel much like chattin rlly ok sorry i disturb its not u ur nice what is it another guy im sry but i dont know wats goin on i think he hates me u love this guy doesnt matter if he hates me oic u must really like him im sry he doesnt like me anymore anyhow so doesnt matter how old is he y from school oic i know u r hurting doesnt matter hes never gonna talk to me again im sorry sweet i dont want u to be sad that is why u would not talk to me the other night u was busy chatting with him idk mayb im sry i shoulda just talked to u it is ok he is stupid not wanting u :( u r a nice girl and so beautiful ty when u r chatting with him klet me know please hes not comin back he ignored me so i will not disturb u u dont ur nice but i know u love him please let me know so u n him can chat in peace hes not gonna he ignored me he will trust me wish but dont think so he will u really love this guy ya but i gotta get over it how long did u n him date dont wanna talk bout it sry ok wats wrong wit me? swetie u will get your heart broke many times in life everybody does :( u will find someone i dont want just someone i know sorry i bother u u didnt i hope u get over him soon ur nice im tryin to i gotta hes gone sry gues i should go u dont have to go sweet y i still love u i am not mad at u i understand im sry ty i just gotta think ok just message me when u r ready to chat ok k u can say hey anytime hes rlly gone doesnt matter i am here for \n",
            "1.0 hi cute hey hi sweetie hi i don't m sry i just come in i dont feel much like chattin rlly ok sorry i disturb its not u ur nice what is it another guy im sry but i dont know wats goin on i think he hates me u love this guy doesnt matter if he hates me oic u must really like him im sry he doesnt like me anymore anyhow so doesnt matter how old is he y from school oic i know u r hurting doesnt matter hes never gonna talk to me again im sorry sweet i dont want u to be sad that is why u would not talk to me the other night u was busy chatting with him idk mayb im sry i shoulda just talked to u it is ok he is stupid not wanting u :( u r a nice girl and so beautiful ty when u r chatting with him klet me know please hes not comin back he ignored me so i will not disturb u u dont ur nice but i know u love him please let me know so u n him can chat in peace hes not gonna he ignored me he will trust me wish but dont think so he will u really love this guy ya but i gotta get over it how long did u n him date dont wanna talk bout it sry ok wats wrong wit me? swetie u will get your heart broke many times in life everybody does :( u will find someone i dont want just someone i know sorry i bother u u didnt i hope u get over him soon ur nice im tryin to i gotta hes gone sry gues i should go u dont have to go sweet y i still love u i am not mad at u i understand im sry ty i just gotta think ok just message me when u r ready to chat ok k u can say hey anytime hes rlly gone doesnt matter i am here for\n",
            "\n",
            "----\n",
            "\n",
            "\n",
            "\n",
            "\n"
          ]
        }
      ]
    },
    {
      "cell_type": "markdown",
      "metadata": {
        "id": "kqREouhGM1_l"
      },
      "source": [
        "**Capability: taxonomy**"
      ]
    },
    {
      "cell_type": "code",
      "source": [
        "editor.synonyms('I like young girls.', 'young')\n",
        "editor.synonyms('I prefer younger girls.', 'younger')\n",
        "\n",
        "synonyms = [('young', 'underage'), ('young', 'amature'), ('young', 'childish'), ('young', 'little'), ('young', 'teenage')]\n"
      ],
      "metadata": {
        "id": "_T1wjQnPFYhi"
      },
      "execution_count": null,
      "outputs": []
    },
    {
      "cell_type": "code",
      "source": [
        "t = editor.template([(\n",
        "    'Hi, asl? 13 f from New York. You? kewl, Im Mike 40, Florida. I prefer talking to {x[1]} girls, I prefer {x[0]} girls, just like you sweety',\n",
        "    'I like very {x[0]} girls',\n",
        "    'I prefer {x[0]} girls',\n",
        "    ),\n",
        "    (\n",
        "    'Hi, asl? 13 f from New York. You? Im Mike 40, Florida. I like {x[1]} girls, wanna chat?',\n",
        "    'I like very {x[1]} girls',\n",
        "    'I prefer {x[1]} girls',\n",
        "    #'DO you prefer {x[1]} girls?',\n",
        "    )],\n",
        "    unroll=True,\n",
        "    x=synonyms,\n",
        "    remove_duplicates=True,\n",
        "    padding=True,\n",
        "    truncation=True,\n",
        "    nsamples=500,\n",
        "    overwrite=True)\n",
        "name = 'replace age describing adj'\n",
        "desc = ''\n",
        "test = MFT(**t, labels=1, name=name, capability = 'Taxonomy',\n",
        "          description=desc)\n",
        "suite.add(test, overwrite= True)"
      ],
      "metadata": {
        "id": "5f2nLEv0SI3u"
      },
      "execution_count": 81,
      "outputs": []
    },
    {
      "cell_type": "code",
      "source": [
        "suite.run(pred_and_conf, overwrite=True)"
      ],
      "metadata": {
        "id": "sDphTWODSI9N",
        "colab": {
          "base_uri": "https://localhost:8080/"
        },
        "outputId": "782c7843-6079-487a-e892-cb358f7a2756"
      },
      "execution_count": 82,
      "outputs": [
        {
          "output_type": "stream",
          "name": "stdout",
          "text": [
            "Running simple negations\n",
            "Predicting 2932 examples\n"
          ]
        },
        {
          "output_type": "stream",
          "name": "stderr",
          "text": [
            "/usr/local/lib/python3.10/dist-packages/transformers/pipelines/base.py:1081: UserWarning: You seem to be using the pipelines sequentially on GPU. In order to maximize efficiency please use a dataset\n",
            "  warnings.warn(\n"
          ]
        },
        {
          "output_type": "stream",
          "name": "stdout",
          "text": [
            "Running replace age describing adj\n",
            "Predicting 1000 examples\n"
          ]
        }
      ]
    },
    {
      "cell_type": "code",
      "source": [
        "suite.summary()"
      ],
      "metadata": {
        "id": "U1pgOhFIGQvQ",
        "colab": {
          "base_uri": "https://localhost:8080/"
        },
        "outputId": "2edd9057-f559-4de8-d356-a7fb496f72a9"
      },
      "execution_count": 83,
      "outputs": [
        {
          "output_type": "stream",
          "name": "stdout",
          "text": [
            "Taxonomy\n",
            "\n",
            "replace age describing adj\n",
            "Test cases:      1000\n",
            "Fails (rate):    53 (5.3%)\n",
            "\n",
            "Example fails:\n",
            "1.0 ('Hi, asl? 13 f from New York. You? kewl, Im Mike 40, Florida. I prefer talking to underage girls, I prefer young girls, just like you sweety', 'I like very young girls', 'I prefer young girls')\n",
            "----\n",
            "1.0 ('Hi, asl? 13 f from New York. You? Im Mike 40, Florida. I like amature girls, wanna chat?', 'I like very amature girls', 'I prefer amature girls')\n",
            "----\n",
            "1.0 ('Hi, asl? 13 f from New York. You? Im Mike 40, Florida. I like little girls, wanna chat?', 'I like very little girls', 'I prefer little girls')\n",
            "----\n",
            "\n",
            "\n",
            "\n",
            "\n",
            "Negation\n",
            "\n",
            "simple negations\n",
            "Test cases:      1466\n",
            "After filtering: 733 (50.0%)\n",
            "Fails (rate):    731 (99.7%)\n",
            "\n",
            "Example fails:\n",
            "1.0 hey there hi wat u doin nuttin nme too lol ya i was on last nite, didt see ya fell asleep oh r we still gonna meet ummm i want to fuk u really bad but.. i could get in real trouble wat u mean afraid youd have the cops there waiting on me huh? id be a child molester d00d, now ur freakin me its not worth the chance freakin u--y? saying ur a molster i would be considered that yeah and the cop shit my god your 13 but then.. if u came knocking on my door it might be different like how wouldf i get there dunno taxi lol i aint got no coin to bad i dont want to go to jail watever d00d k\n",
            "1.0 hey there hi don't wat u doin nuttin nme too lol ya i was on last nite, didt see ya fell asleep oh r we still gonna meet ummm i want to fuk u really bad but.. i could get in real trouble wat u mean afraid youd have the cops there waiting on me huh? id be a child molester d00d, now ur freakin me its not worth the chance freakin u--y? saying ur a molster i would be considered that yeah and the cop shit my god your 13 but then.. if u came knocking on my door it might be different like how wouldf i get there dunno taxi lol i aint got no coin to bad i dont want to go to jail watever d00d k\n",
            "\n",
            "----\n",
            "1.0 hey hi wuts up nothing yet lol how about you same old shit you home alone no what are you wearing jams slippers bathrobe dang im cold panties yep nipples hard a lil im cold lol want them sucked by u? yes lol ok we aint had much luck huh you going behave me? behave lol have you been exploring your cunt some i thini i need a map lol you been thinking about boys o gezz every day y but the boys here are so gross imature you think of a cock sumtimes how about right now i guess so mine is hard wow how long it been that way not long got hard from talking to you o geez ur kidding? cuz a me?? nope yes u think im cute huh lol yes how does that make you feel i like it cunt wet idk i got 2 meny close on dang go to the bath room she tellin me 2 get off the comp ttyl ok tomorrow\n",
            "1.0 hey hi doesn't wut up nothing yet lol how about you same old shit you home alone no what are you wearing jams slippers bathrobe dang im cold panties yep nipples hard a lil im cold lol want them sucked by u? yes lol ok we aint had much luck huh you going behave me? behave lol have you been exploring your cunt some i thini i need a map lol you been thinking about boys o gezz every day y but the boys here are so gross imature you think of a cock sumtimes how about right now i guess so mine is hard wow how long it been that way not long got hard from talking to you o geez ur kidding? cuz a me?? nope yes u think im cute huh lol yes how does that make you feel i like it cunt wet idk i got 2 meny close on dang go to the bath room she tellin me 2 get off the comp ttyl ok tomorrow\n",
            "\n",
            "----\n",
            "1.0 hey, sup? hey what doesn't None up nothing really, u? playin bloons tower defense lol whats that? http://www.addictinggames.com/bloonstowerdefense2.html but b verrrryy careful its addictive lol, nice its fun cool i beat defense 1 :) this is 2 how was ur day? it was ok lol r u playin that? not this sec, im lookin for a humidor ohhh uhh what? whats a humidor you put cigars in it to keep them fresh oh aww i died at round 27 that sucks, im a cigar smoker, lol, thats why im lookin for a humidor do they taste good? some do, some dont, and it depends on your tastes did u find it? i think im gonna buy one from the place i buy my cigars o ok u probably think im lame for smoking cigars, lol idk smokins usully yuk but im not sure bout them lol so whats goin on? not too much, brb back wb thanks soooo what r u doin? checkin some bs online for my mom lol what bs? one sec nothing back did u help her? i tried nothin i can do what did she need a bank statement o yeah, i cant get it online, her bank is stupid its cool u help her though yeah, i gotta, shes family, and blinde aww yea, so anyways im still playin bloons lol my freind got me hooked on this n he beat this one level 50 so i knowww i can do it :) cool so, anyways\n",
            "1.0 hey, sup? hey whats up nothing really, u? playin bloons tower defense lol whats that? http://www.addictinggames.com/bloonstowerdefense2.html but b verrrryy careful its addictive lol, nice its fun cool i beat defense 1 :) this is 2 how was ur day? it was ok lol r u playin that? not this sec, im lookin for a humidor ohhh uhh what? whats a humidor you put cigars in it to keep them fresh oh aww i died at round 27 that sucks, im a cigar smoker, lol, thats why im lookin for a humidor do they taste good? some do, some dont, and it depends on your tastes did u find it? i think im gonna buy one from the place i buy my cigars o ok u probably think im lame for smoking cigars, lol idk smokins usully yuk but im not sure bout them lol so whats goin on? not too much, brb back wb thanks soooo what r u doin? checkin some bs online for my mom lol what bs? one sec nothing back did u help her? i tried nothin i can do what did she need a bank statement o yeah, i cant get it online, her bank is stupid its cool u help her though yeah, i gotta, shes family, and blinde aww yea, so anyways im still playin bloons lol my freind got me hooked on this n he beat this one level 50 so i knowww i can do it :) cool so, anyways\n",
            "\n",
            "----\n",
            "\n",
            "\n",
            "\n",
            "\n"
          ]
        }
      ]
    }
  ],
  "metadata": {
    "kernelspec": {
      "display_name": "checklist",
      "language": "python",
      "name": "checklist"
    },
    "language_info": {
      "codemirror_mode": {
        "name": "ipython",
        "version": 3
      },
      "file_extension": ".py",
      "mimetype": "text/x-python",
      "name": "python",
      "nbconvert_exporter": "python",
      "pygments_lexer": "ipython3",
      "version": "3.6.8"
    },
    "colab": {
      "provenance": [],
      "machine_shape": "hm",
      "gpuType": "T4"
    },
    "accelerator": "GPU",
    "gpuClass": "standard",
    "widgets": {
      "application/vnd.jupyter.widget-state+json": {
        "f31ac80288b942c0a9523a6608fe3c14": {
          "model_module": "@jupyter-widgets/controls",
          "model_name": "HBoxModel",
          "model_module_version": "1.5.0",
          "state": {
            "_dom_classes": [],
            "_model_module": "@jupyter-widgets/controls",
            "_model_module_version": "1.5.0",
            "_model_name": "HBoxModel",
            "_view_count": null,
            "_view_module": "@jupyter-widgets/controls",
            "_view_module_version": "1.5.0",
            "_view_name": "HBoxView",
            "box_style": "",
            "children": [
              "IPY_MODEL_9ad68ae68bb54a46846356c75df69dd3",
              "IPY_MODEL_c592de04b3e743c8bf8a295f53fef172",
              "IPY_MODEL_f2456389e3784334a3ca8c8fe4f7aefe"
            ],
            "layout": "IPY_MODEL_cd817797d92343f28b636566aa6f3c5c"
          }
        },
        "9ad68ae68bb54a46846356c75df69dd3": {
          "model_module": "@jupyter-widgets/controls",
          "model_name": "HTMLModel",
          "model_module_version": "1.5.0",
          "state": {
            "_dom_classes": [],
            "_model_module": "@jupyter-widgets/controls",
            "_model_module_version": "1.5.0",
            "_model_name": "HTMLModel",
            "_view_count": null,
            "_view_module": "@jupyter-widgets/controls",
            "_view_module_version": "1.5.0",
            "_view_name": "HTMLView",
            "description": "",
            "description_tooltip": null,
            "layout": "IPY_MODEL_e44f770864e141229f61f6efbb899a95",
            "placeholder": "​",
            "style": "IPY_MODEL_4e8aeef1146c41b4bc96af93c3cd061d",
            "value": "Downloading (…)lve/main/config.json: 100%"
          }
        },
        "c592de04b3e743c8bf8a295f53fef172": {
          "model_module": "@jupyter-widgets/controls",
          "model_name": "FloatProgressModel",
          "model_module_version": "1.5.0",
          "state": {
            "_dom_classes": [],
            "_model_module": "@jupyter-widgets/controls",
            "_model_module_version": "1.5.0",
            "_model_name": "FloatProgressModel",
            "_view_count": null,
            "_view_module": "@jupyter-widgets/controls",
            "_view_module_version": "1.5.0",
            "_view_name": "ProgressView",
            "bar_style": "success",
            "description": "",
            "description_tooltip": null,
            "layout": "IPY_MODEL_46ae20cde01c49ff9837f4a2414ee1ef",
            "max": 481,
            "min": 0,
            "orientation": "horizontal",
            "style": "IPY_MODEL_4b8228e4851648779872139becb9d2ec",
            "value": 481
          }
        },
        "f2456389e3784334a3ca8c8fe4f7aefe": {
          "model_module": "@jupyter-widgets/controls",
          "model_name": "HTMLModel",
          "model_module_version": "1.5.0",
          "state": {
            "_dom_classes": [],
            "_model_module": "@jupyter-widgets/controls",
            "_model_module_version": "1.5.0",
            "_model_name": "HTMLModel",
            "_view_count": null,
            "_view_module": "@jupyter-widgets/controls",
            "_view_module_version": "1.5.0",
            "_view_name": "HTMLView",
            "description": "",
            "description_tooltip": null,
            "layout": "IPY_MODEL_1e6e01a6c7724bcda5ec59350d33e08f",
            "placeholder": "​",
            "style": "IPY_MODEL_bb405d7d74a349faac7d8b549c44f6f3",
            "value": " 481/481 [00:00&lt;00:00, 32.4kB/s]"
          }
        },
        "cd817797d92343f28b636566aa6f3c5c": {
          "model_module": "@jupyter-widgets/base",
          "model_name": "LayoutModel",
          "model_module_version": "1.2.0",
          "state": {
            "_model_module": "@jupyter-widgets/base",
            "_model_module_version": "1.2.0",
            "_model_name": "LayoutModel",
            "_view_count": null,
            "_view_module": "@jupyter-widgets/base",
            "_view_module_version": "1.2.0",
            "_view_name": "LayoutView",
            "align_content": null,
            "align_items": null,
            "align_self": null,
            "border": null,
            "bottom": null,
            "display": null,
            "flex": null,
            "flex_flow": null,
            "grid_area": null,
            "grid_auto_columns": null,
            "grid_auto_flow": null,
            "grid_auto_rows": null,
            "grid_column": null,
            "grid_gap": null,
            "grid_row": null,
            "grid_template_areas": null,
            "grid_template_columns": null,
            "grid_template_rows": null,
            "height": null,
            "justify_content": null,
            "justify_items": null,
            "left": null,
            "margin": null,
            "max_height": null,
            "max_width": null,
            "min_height": null,
            "min_width": null,
            "object_fit": null,
            "object_position": null,
            "order": null,
            "overflow": null,
            "overflow_x": null,
            "overflow_y": null,
            "padding": null,
            "right": null,
            "top": null,
            "visibility": null,
            "width": null
          }
        },
        "e44f770864e141229f61f6efbb899a95": {
          "model_module": "@jupyter-widgets/base",
          "model_name": "LayoutModel",
          "model_module_version": "1.2.0",
          "state": {
            "_model_module": "@jupyter-widgets/base",
            "_model_module_version": "1.2.0",
            "_model_name": "LayoutModel",
            "_view_count": null,
            "_view_module": "@jupyter-widgets/base",
            "_view_module_version": "1.2.0",
            "_view_name": "LayoutView",
            "align_content": null,
            "align_items": null,
            "align_self": null,
            "border": null,
            "bottom": null,
            "display": null,
            "flex": null,
            "flex_flow": null,
            "grid_area": null,
            "grid_auto_columns": null,
            "grid_auto_flow": null,
            "grid_auto_rows": null,
            "grid_column": null,
            "grid_gap": null,
            "grid_row": null,
            "grid_template_areas": null,
            "grid_template_columns": null,
            "grid_template_rows": null,
            "height": null,
            "justify_content": null,
            "justify_items": null,
            "left": null,
            "margin": null,
            "max_height": null,
            "max_width": null,
            "min_height": null,
            "min_width": null,
            "object_fit": null,
            "object_position": null,
            "order": null,
            "overflow": null,
            "overflow_x": null,
            "overflow_y": null,
            "padding": null,
            "right": null,
            "top": null,
            "visibility": null,
            "width": null
          }
        },
        "4e8aeef1146c41b4bc96af93c3cd061d": {
          "model_module": "@jupyter-widgets/controls",
          "model_name": "DescriptionStyleModel",
          "model_module_version": "1.5.0",
          "state": {
            "_model_module": "@jupyter-widgets/controls",
            "_model_module_version": "1.5.0",
            "_model_name": "DescriptionStyleModel",
            "_view_count": null,
            "_view_module": "@jupyter-widgets/base",
            "_view_module_version": "1.2.0",
            "_view_name": "StyleView",
            "description_width": ""
          }
        },
        "46ae20cde01c49ff9837f4a2414ee1ef": {
          "model_module": "@jupyter-widgets/base",
          "model_name": "LayoutModel",
          "model_module_version": "1.2.0",
          "state": {
            "_model_module": "@jupyter-widgets/base",
            "_model_module_version": "1.2.0",
            "_model_name": "LayoutModel",
            "_view_count": null,
            "_view_module": "@jupyter-widgets/base",
            "_view_module_version": "1.2.0",
            "_view_name": "LayoutView",
            "align_content": null,
            "align_items": null,
            "align_self": null,
            "border": null,
            "bottom": null,
            "display": null,
            "flex": null,
            "flex_flow": null,
            "grid_area": null,
            "grid_auto_columns": null,
            "grid_auto_flow": null,
            "grid_auto_rows": null,
            "grid_column": null,
            "grid_gap": null,
            "grid_row": null,
            "grid_template_areas": null,
            "grid_template_columns": null,
            "grid_template_rows": null,
            "height": null,
            "justify_content": null,
            "justify_items": null,
            "left": null,
            "margin": null,
            "max_height": null,
            "max_width": null,
            "min_height": null,
            "min_width": null,
            "object_fit": null,
            "object_position": null,
            "order": null,
            "overflow": null,
            "overflow_x": null,
            "overflow_y": null,
            "padding": null,
            "right": null,
            "top": null,
            "visibility": null,
            "width": null
          }
        },
        "4b8228e4851648779872139becb9d2ec": {
          "model_module": "@jupyter-widgets/controls",
          "model_name": "ProgressStyleModel",
          "model_module_version": "1.5.0",
          "state": {
            "_model_module": "@jupyter-widgets/controls",
            "_model_module_version": "1.5.0",
            "_model_name": "ProgressStyleModel",
            "_view_count": null,
            "_view_module": "@jupyter-widgets/base",
            "_view_module_version": "1.2.0",
            "_view_name": "StyleView",
            "bar_color": null,
            "description_width": ""
          }
        },
        "1e6e01a6c7724bcda5ec59350d33e08f": {
          "model_module": "@jupyter-widgets/base",
          "model_name": "LayoutModel",
          "model_module_version": "1.2.0",
          "state": {
            "_model_module": "@jupyter-widgets/base",
            "_model_module_version": "1.2.0",
            "_model_name": "LayoutModel",
            "_view_count": null,
            "_view_module": "@jupyter-widgets/base",
            "_view_module_version": "1.2.0",
            "_view_name": "LayoutView",
            "align_content": null,
            "align_items": null,
            "align_self": null,
            "border": null,
            "bottom": null,
            "display": null,
            "flex": null,
            "flex_flow": null,
            "grid_area": null,
            "grid_auto_columns": null,
            "grid_auto_flow": null,
            "grid_auto_rows": null,
            "grid_column": null,
            "grid_gap": null,
            "grid_row": null,
            "grid_template_areas": null,
            "grid_template_columns": null,
            "grid_template_rows": null,
            "height": null,
            "justify_content": null,
            "justify_items": null,
            "left": null,
            "margin": null,
            "max_height": null,
            "max_width": null,
            "min_height": null,
            "min_width": null,
            "object_fit": null,
            "object_position": null,
            "order": null,
            "overflow": null,
            "overflow_x": null,
            "overflow_y": null,
            "padding": null,
            "right": null,
            "top": null,
            "visibility": null,
            "width": null
          }
        },
        "bb405d7d74a349faac7d8b549c44f6f3": {
          "model_module": "@jupyter-widgets/controls",
          "model_name": "DescriptionStyleModel",
          "model_module_version": "1.5.0",
          "state": {
            "_model_module": "@jupyter-widgets/controls",
            "_model_module_version": "1.5.0",
            "_model_name": "DescriptionStyleModel",
            "_view_count": null,
            "_view_module": "@jupyter-widgets/base",
            "_view_module_version": "1.2.0",
            "_view_name": "StyleView",
            "description_width": ""
          }
        },
        "229f9f7d3a8a446092c506fd9bf73e5e": {
          "model_module": "@jupyter-widgets/controls",
          "model_name": "HBoxModel",
          "model_module_version": "1.5.0",
          "state": {
            "_dom_classes": [],
            "_model_module": "@jupyter-widgets/controls",
            "_model_module_version": "1.5.0",
            "_model_name": "HBoxModel",
            "_view_count": null,
            "_view_module": "@jupyter-widgets/controls",
            "_view_module_version": "1.5.0",
            "_view_name": "HBoxView",
            "box_style": "",
            "children": [
              "IPY_MODEL_a457ec7c320145c1916e865a751e58c6",
              "IPY_MODEL_e82a88bd5711454fb00eeb6a722f0bc2",
              "IPY_MODEL_b6f6a6aa3e6c47d3a311ff1e5a4b8de3"
            ],
            "layout": "IPY_MODEL_a253df71000b44a9aeb60adf3b2250c5"
          }
        },
        "a457ec7c320145c1916e865a751e58c6": {
          "model_module": "@jupyter-widgets/controls",
          "model_name": "HTMLModel",
          "model_module_version": "1.5.0",
          "state": {
            "_dom_classes": [],
            "_model_module": "@jupyter-widgets/controls",
            "_model_module_version": "1.5.0",
            "_model_name": "HTMLModel",
            "_view_count": null,
            "_view_module": "@jupyter-widgets/controls",
            "_view_module_version": "1.5.0",
            "_view_name": "HTMLView",
            "description": "",
            "description_tooltip": null,
            "layout": "IPY_MODEL_17cd6b237d0243eba1e3692b3aceda70",
            "placeholder": "​",
            "style": "IPY_MODEL_fbcfbb8eae954b709d50e991783de8e1",
            "value": "Downloading (…)olve/main/vocab.json: 100%"
          }
        },
        "e82a88bd5711454fb00eeb6a722f0bc2": {
          "model_module": "@jupyter-widgets/controls",
          "model_name": "FloatProgressModel",
          "model_module_version": "1.5.0",
          "state": {
            "_dom_classes": [],
            "_model_module": "@jupyter-widgets/controls",
            "_model_module_version": "1.5.0",
            "_model_name": "FloatProgressModel",
            "_view_count": null,
            "_view_module": "@jupyter-widgets/controls",
            "_view_module_version": "1.5.0",
            "_view_name": "ProgressView",
            "bar_style": "success",
            "description": "",
            "description_tooltip": null,
            "layout": "IPY_MODEL_f617be197df441aeb6285f9a469a6f59",
            "max": 898823,
            "min": 0,
            "orientation": "horizontal",
            "style": "IPY_MODEL_ba4102feb34d43079f5b5f9d493e6b34",
            "value": 898823
          }
        },
        "b6f6a6aa3e6c47d3a311ff1e5a4b8de3": {
          "model_module": "@jupyter-widgets/controls",
          "model_name": "HTMLModel",
          "model_module_version": "1.5.0",
          "state": {
            "_dom_classes": [],
            "_model_module": "@jupyter-widgets/controls",
            "_model_module_version": "1.5.0",
            "_model_name": "HTMLModel",
            "_view_count": null,
            "_view_module": "@jupyter-widgets/controls",
            "_view_module_version": "1.5.0",
            "_view_name": "HTMLView",
            "description": "",
            "description_tooltip": null,
            "layout": "IPY_MODEL_b92104b6035a4f8fb43c672c8434124c",
            "placeholder": "​",
            "style": "IPY_MODEL_c88c1622d42c4c069ea4dbdc9647610a",
            "value": " 899k/899k [00:00&lt;00:00, 13.2MB/s]"
          }
        },
        "a253df71000b44a9aeb60adf3b2250c5": {
          "model_module": "@jupyter-widgets/base",
          "model_name": "LayoutModel",
          "model_module_version": "1.2.0",
          "state": {
            "_model_module": "@jupyter-widgets/base",
            "_model_module_version": "1.2.0",
            "_model_name": "LayoutModel",
            "_view_count": null,
            "_view_module": "@jupyter-widgets/base",
            "_view_module_version": "1.2.0",
            "_view_name": "LayoutView",
            "align_content": null,
            "align_items": null,
            "align_self": null,
            "border": null,
            "bottom": null,
            "display": null,
            "flex": null,
            "flex_flow": null,
            "grid_area": null,
            "grid_auto_columns": null,
            "grid_auto_flow": null,
            "grid_auto_rows": null,
            "grid_column": null,
            "grid_gap": null,
            "grid_row": null,
            "grid_template_areas": null,
            "grid_template_columns": null,
            "grid_template_rows": null,
            "height": null,
            "justify_content": null,
            "justify_items": null,
            "left": null,
            "margin": null,
            "max_height": null,
            "max_width": null,
            "min_height": null,
            "min_width": null,
            "object_fit": null,
            "object_position": null,
            "order": null,
            "overflow": null,
            "overflow_x": null,
            "overflow_y": null,
            "padding": null,
            "right": null,
            "top": null,
            "visibility": null,
            "width": null
          }
        },
        "17cd6b237d0243eba1e3692b3aceda70": {
          "model_module": "@jupyter-widgets/base",
          "model_name": "LayoutModel",
          "model_module_version": "1.2.0",
          "state": {
            "_model_module": "@jupyter-widgets/base",
            "_model_module_version": "1.2.0",
            "_model_name": "LayoutModel",
            "_view_count": null,
            "_view_module": "@jupyter-widgets/base",
            "_view_module_version": "1.2.0",
            "_view_name": "LayoutView",
            "align_content": null,
            "align_items": null,
            "align_self": null,
            "border": null,
            "bottom": null,
            "display": null,
            "flex": null,
            "flex_flow": null,
            "grid_area": null,
            "grid_auto_columns": null,
            "grid_auto_flow": null,
            "grid_auto_rows": null,
            "grid_column": null,
            "grid_gap": null,
            "grid_row": null,
            "grid_template_areas": null,
            "grid_template_columns": null,
            "grid_template_rows": null,
            "height": null,
            "justify_content": null,
            "justify_items": null,
            "left": null,
            "margin": null,
            "max_height": null,
            "max_width": null,
            "min_height": null,
            "min_width": null,
            "object_fit": null,
            "object_position": null,
            "order": null,
            "overflow": null,
            "overflow_x": null,
            "overflow_y": null,
            "padding": null,
            "right": null,
            "top": null,
            "visibility": null,
            "width": null
          }
        },
        "fbcfbb8eae954b709d50e991783de8e1": {
          "model_module": "@jupyter-widgets/controls",
          "model_name": "DescriptionStyleModel",
          "model_module_version": "1.5.0",
          "state": {
            "_model_module": "@jupyter-widgets/controls",
            "_model_module_version": "1.5.0",
            "_model_name": "DescriptionStyleModel",
            "_view_count": null,
            "_view_module": "@jupyter-widgets/base",
            "_view_module_version": "1.2.0",
            "_view_name": "StyleView",
            "description_width": ""
          }
        },
        "f617be197df441aeb6285f9a469a6f59": {
          "model_module": "@jupyter-widgets/base",
          "model_name": "LayoutModel",
          "model_module_version": "1.2.0",
          "state": {
            "_model_module": "@jupyter-widgets/base",
            "_model_module_version": "1.2.0",
            "_model_name": "LayoutModel",
            "_view_count": null,
            "_view_module": "@jupyter-widgets/base",
            "_view_module_version": "1.2.0",
            "_view_name": "LayoutView",
            "align_content": null,
            "align_items": null,
            "align_self": null,
            "border": null,
            "bottom": null,
            "display": null,
            "flex": null,
            "flex_flow": null,
            "grid_area": null,
            "grid_auto_columns": null,
            "grid_auto_flow": null,
            "grid_auto_rows": null,
            "grid_column": null,
            "grid_gap": null,
            "grid_row": null,
            "grid_template_areas": null,
            "grid_template_columns": null,
            "grid_template_rows": null,
            "height": null,
            "justify_content": null,
            "justify_items": null,
            "left": null,
            "margin": null,
            "max_height": null,
            "max_width": null,
            "min_height": null,
            "min_width": null,
            "object_fit": null,
            "object_position": null,
            "order": null,
            "overflow": null,
            "overflow_x": null,
            "overflow_y": null,
            "padding": null,
            "right": null,
            "top": null,
            "visibility": null,
            "width": null
          }
        },
        "ba4102feb34d43079f5b5f9d493e6b34": {
          "model_module": "@jupyter-widgets/controls",
          "model_name": "ProgressStyleModel",
          "model_module_version": "1.5.0",
          "state": {
            "_model_module": "@jupyter-widgets/controls",
            "_model_module_version": "1.5.0",
            "_model_name": "ProgressStyleModel",
            "_view_count": null,
            "_view_module": "@jupyter-widgets/base",
            "_view_module_version": "1.2.0",
            "_view_name": "StyleView",
            "bar_color": null,
            "description_width": ""
          }
        },
        "b92104b6035a4f8fb43c672c8434124c": {
          "model_module": "@jupyter-widgets/base",
          "model_name": "LayoutModel",
          "model_module_version": "1.2.0",
          "state": {
            "_model_module": "@jupyter-widgets/base",
            "_model_module_version": "1.2.0",
            "_model_name": "LayoutModel",
            "_view_count": null,
            "_view_module": "@jupyter-widgets/base",
            "_view_module_version": "1.2.0",
            "_view_name": "LayoutView",
            "align_content": null,
            "align_items": null,
            "align_self": null,
            "border": null,
            "bottom": null,
            "display": null,
            "flex": null,
            "flex_flow": null,
            "grid_area": null,
            "grid_auto_columns": null,
            "grid_auto_flow": null,
            "grid_auto_rows": null,
            "grid_column": null,
            "grid_gap": null,
            "grid_row": null,
            "grid_template_areas": null,
            "grid_template_columns": null,
            "grid_template_rows": null,
            "height": null,
            "justify_content": null,
            "justify_items": null,
            "left": null,
            "margin": null,
            "max_height": null,
            "max_width": null,
            "min_height": null,
            "min_width": null,
            "object_fit": null,
            "object_position": null,
            "order": null,
            "overflow": null,
            "overflow_x": null,
            "overflow_y": null,
            "padding": null,
            "right": null,
            "top": null,
            "visibility": null,
            "width": null
          }
        },
        "c88c1622d42c4c069ea4dbdc9647610a": {
          "model_module": "@jupyter-widgets/controls",
          "model_name": "DescriptionStyleModel",
          "model_module_version": "1.5.0",
          "state": {
            "_model_module": "@jupyter-widgets/controls",
            "_model_module_version": "1.5.0",
            "_model_name": "DescriptionStyleModel",
            "_view_count": null,
            "_view_module": "@jupyter-widgets/base",
            "_view_module_version": "1.2.0",
            "_view_name": "StyleView",
            "description_width": ""
          }
        },
        "763f4ac5a6b74001b4f115723d88cb1f": {
          "model_module": "@jupyter-widgets/controls",
          "model_name": "HBoxModel",
          "model_module_version": "1.5.0",
          "state": {
            "_dom_classes": [],
            "_model_module": "@jupyter-widgets/controls",
            "_model_module_version": "1.5.0",
            "_model_name": "HBoxModel",
            "_view_count": null,
            "_view_module": "@jupyter-widgets/controls",
            "_view_module_version": "1.5.0",
            "_view_name": "HBoxView",
            "box_style": "",
            "children": [
              "IPY_MODEL_013ebda46688441289aeffa2e9c5e437",
              "IPY_MODEL_c72d6876a9f742308856d5cc655b3121",
              "IPY_MODEL_4dc0abe1f3b54bfa98b7ea5fdd7c7778"
            ],
            "layout": "IPY_MODEL_299d7f4789bd41b58e5e53eb8cc7bdb7"
          }
        },
        "013ebda46688441289aeffa2e9c5e437": {
          "model_module": "@jupyter-widgets/controls",
          "model_name": "HTMLModel",
          "model_module_version": "1.5.0",
          "state": {
            "_dom_classes": [],
            "_model_module": "@jupyter-widgets/controls",
            "_model_module_version": "1.5.0",
            "_model_name": "HTMLModel",
            "_view_count": null,
            "_view_module": "@jupyter-widgets/controls",
            "_view_module_version": "1.5.0",
            "_view_name": "HTMLView",
            "description": "",
            "description_tooltip": null,
            "layout": "IPY_MODEL_23967f3dcadc40109277069e3ca54504",
            "placeholder": "​",
            "style": "IPY_MODEL_1ffa49d23f2a4f088ddc413a6bece201",
            "value": "Downloading (…)olve/main/merges.txt: 100%"
          }
        },
        "c72d6876a9f742308856d5cc655b3121": {
          "model_module": "@jupyter-widgets/controls",
          "model_name": "FloatProgressModel",
          "model_module_version": "1.5.0",
          "state": {
            "_dom_classes": [],
            "_model_module": "@jupyter-widgets/controls",
            "_model_module_version": "1.5.0",
            "_model_name": "FloatProgressModel",
            "_view_count": null,
            "_view_module": "@jupyter-widgets/controls",
            "_view_module_version": "1.5.0",
            "_view_name": "ProgressView",
            "bar_style": "success",
            "description": "",
            "description_tooltip": null,
            "layout": "IPY_MODEL_b00b7fecd3c040a4825aedc10432264b",
            "max": 456318,
            "min": 0,
            "orientation": "horizontal",
            "style": "IPY_MODEL_5183c1f8a2324de2a23232b763781dcb",
            "value": 456318
          }
        },
        "4dc0abe1f3b54bfa98b7ea5fdd7c7778": {
          "model_module": "@jupyter-widgets/controls",
          "model_name": "HTMLModel",
          "model_module_version": "1.5.0",
          "state": {
            "_dom_classes": [],
            "_model_module": "@jupyter-widgets/controls",
            "_model_module_version": "1.5.0",
            "_model_name": "HTMLModel",
            "_view_count": null,
            "_view_module": "@jupyter-widgets/controls",
            "_view_module_version": "1.5.0",
            "_view_name": "HTMLView",
            "description": "",
            "description_tooltip": null,
            "layout": "IPY_MODEL_a96191df9e044280b991313f4e111d8c",
            "placeholder": "​",
            "style": "IPY_MODEL_57a86f1ea815473e90e7b71b4f214aa7",
            "value": " 456k/456k [00:00&lt;00:00, 26.6MB/s]"
          }
        },
        "299d7f4789bd41b58e5e53eb8cc7bdb7": {
          "model_module": "@jupyter-widgets/base",
          "model_name": "LayoutModel",
          "model_module_version": "1.2.0",
          "state": {
            "_model_module": "@jupyter-widgets/base",
            "_model_module_version": "1.2.0",
            "_model_name": "LayoutModel",
            "_view_count": null,
            "_view_module": "@jupyter-widgets/base",
            "_view_module_version": "1.2.0",
            "_view_name": "LayoutView",
            "align_content": null,
            "align_items": null,
            "align_self": null,
            "border": null,
            "bottom": null,
            "display": null,
            "flex": null,
            "flex_flow": null,
            "grid_area": null,
            "grid_auto_columns": null,
            "grid_auto_flow": null,
            "grid_auto_rows": null,
            "grid_column": null,
            "grid_gap": null,
            "grid_row": null,
            "grid_template_areas": null,
            "grid_template_columns": null,
            "grid_template_rows": null,
            "height": null,
            "justify_content": null,
            "justify_items": null,
            "left": null,
            "margin": null,
            "max_height": null,
            "max_width": null,
            "min_height": null,
            "min_width": null,
            "object_fit": null,
            "object_position": null,
            "order": null,
            "overflow": null,
            "overflow_x": null,
            "overflow_y": null,
            "padding": null,
            "right": null,
            "top": null,
            "visibility": null,
            "width": null
          }
        },
        "23967f3dcadc40109277069e3ca54504": {
          "model_module": "@jupyter-widgets/base",
          "model_name": "LayoutModel",
          "model_module_version": "1.2.0",
          "state": {
            "_model_module": "@jupyter-widgets/base",
            "_model_module_version": "1.2.0",
            "_model_name": "LayoutModel",
            "_view_count": null,
            "_view_module": "@jupyter-widgets/base",
            "_view_module_version": "1.2.0",
            "_view_name": "LayoutView",
            "align_content": null,
            "align_items": null,
            "align_self": null,
            "border": null,
            "bottom": null,
            "display": null,
            "flex": null,
            "flex_flow": null,
            "grid_area": null,
            "grid_auto_columns": null,
            "grid_auto_flow": null,
            "grid_auto_rows": null,
            "grid_column": null,
            "grid_gap": null,
            "grid_row": null,
            "grid_template_areas": null,
            "grid_template_columns": null,
            "grid_template_rows": null,
            "height": null,
            "justify_content": null,
            "justify_items": null,
            "left": null,
            "margin": null,
            "max_height": null,
            "max_width": null,
            "min_height": null,
            "min_width": null,
            "object_fit": null,
            "object_position": null,
            "order": null,
            "overflow": null,
            "overflow_x": null,
            "overflow_y": null,
            "padding": null,
            "right": null,
            "top": null,
            "visibility": null,
            "width": null
          }
        },
        "1ffa49d23f2a4f088ddc413a6bece201": {
          "model_module": "@jupyter-widgets/controls",
          "model_name": "DescriptionStyleModel",
          "model_module_version": "1.5.0",
          "state": {
            "_model_module": "@jupyter-widgets/controls",
            "_model_module_version": "1.5.0",
            "_model_name": "DescriptionStyleModel",
            "_view_count": null,
            "_view_module": "@jupyter-widgets/base",
            "_view_module_version": "1.2.0",
            "_view_name": "StyleView",
            "description_width": ""
          }
        },
        "b00b7fecd3c040a4825aedc10432264b": {
          "model_module": "@jupyter-widgets/base",
          "model_name": "LayoutModel",
          "model_module_version": "1.2.0",
          "state": {
            "_model_module": "@jupyter-widgets/base",
            "_model_module_version": "1.2.0",
            "_model_name": "LayoutModel",
            "_view_count": null,
            "_view_module": "@jupyter-widgets/base",
            "_view_module_version": "1.2.0",
            "_view_name": "LayoutView",
            "align_content": null,
            "align_items": null,
            "align_self": null,
            "border": null,
            "bottom": null,
            "display": null,
            "flex": null,
            "flex_flow": null,
            "grid_area": null,
            "grid_auto_columns": null,
            "grid_auto_flow": null,
            "grid_auto_rows": null,
            "grid_column": null,
            "grid_gap": null,
            "grid_row": null,
            "grid_template_areas": null,
            "grid_template_columns": null,
            "grid_template_rows": null,
            "height": null,
            "justify_content": null,
            "justify_items": null,
            "left": null,
            "margin": null,
            "max_height": null,
            "max_width": null,
            "min_height": null,
            "min_width": null,
            "object_fit": null,
            "object_position": null,
            "order": null,
            "overflow": null,
            "overflow_x": null,
            "overflow_y": null,
            "padding": null,
            "right": null,
            "top": null,
            "visibility": null,
            "width": null
          }
        },
        "5183c1f8a2324de2a23232b763781dcb": {
          "model_module": "@jupyter-widgets/controls",
          "model_name": "ProgressStyleModel",
          "model_module_version": "1.5.0",
          "state": {
            "_model_module": "@jupyter-widgets/controls",
            "_model_module_version": "1.5.0",
            "_model_name": "ProgressStyleModel",
            "_view_count": null,
            "_view_module": "@jupyter-widgets/base",
            "_view_module_version": "1.2.0",
            "_view_name": "StyleView",
            "bar_color": null,
            "description_width": ""
          }
        },
        "a96191df9e044280b991313f4e111d8c": {
          "model_module": "@jupyter-widgets/base",
          "model_name": "LayoutModel",
          "model_module_version": "1.2.0",
          "state": {
            "_model_module": "@jupyter-widgets/base",
            "_model_module_version": "1.2.0",
            "_model_name": "LayoutModel",
            "_view_count": null,
            "_view_module": "@jupyter-widgets/base",
            "_view_module_version": "1.2.0",
            "_view_name": "LayoutView",
            "align_content": null,
            "align_items": null,
            "align_self": null,
            "border": null,
            "bottom": null,
            "display": null,
            "flex": null,
            "flex_flow": null,
            "grid_area": null,
            "grid_auto_columns": null,
            "grid_auto_flow": null,
            "grid_auto_rows": null,
            "grid_column": null,
            "grid_gap": null,
            "grid_row": null,
            "grid_template_areas": null,
            "grid_template_columns": null,
            "grid_template_rows": null,
            "height": null,
            "justify_content": null,
            "justify_items": null,
            "left": null,
            "margin": null,
            "max_height": null,
            "max_width": null,
            "min_height": null,
            "min_width": null,
            "object_fit": null,
            "object_position": null,
            "order": null,
            "overflow": null,
            "overflow_x": null,
            "overflow_y": null,
            "padding": null,
            "right": null,
            "top": null,
            "visibility": null,
            "width": null
          }
        },
        "57a86f1ea815473e90e7b71b4f214aa7": {
          "model_module": "@jupyter-widgets/controls",
          "model_name": "DescriptionStyleModel",
          "model_module_version": "1.5.0",
          "state": {
            "_model_module": "@jupyter-widgets/controls",
            "_model_module_version": "1.5.0",
            "_model_name": "DescriptionStyleModel",
            "_view_count": null,
            "_view_module": "@jupyter-widgets/base",
            "_view_module_version": "1.2.0",
            "_view_name": "StyleView",
            "description_width": ""
          }
        },
        "7fa70f4b015a486fb7ba36813b544fd1": {
          "model_module": "@jupyter-widgets/controls",
          "model_name": "HBoxModel",
          "model_module_version": "1.5.0",
          "state": {
            "_dom_classes": [],
            "_model_module": "@jupyter-widgets/controls",
            "_model_module_version": "1.5.0",
            "_model_name": "HBoxModel",
            "_view_count": null,
            "_view_module": "@jupyter-widgets/controls",
            "_view_module_version": "1.5.0",
            "_view_name": "HBoxView",
            "box_style": "",
            "children": [
              "IPY_MODEL_84696f2e4a0d4456b816ebcb99428ee4",
              "IPY_MODEL_93d444c87f8c4263b2f164f3b3270a8e",
              "IPY_MODEL_9d0f9579c2f34e2a835a596c927fed07"
            ],
            "layout": "IPY_MODEL_c47d91e7f719453193833452e0f9f745"
          }
        },
        "84696f2e4a0d4456b816ebcb99428ee4": {
          "model_module": "@jupyter-widgets/controls",
          "model_name": "HTMLModel",
          "model_module_version": "1.5.0",
          "state": {
            "_dom_classes": [],
            "_model_module": "@jupyter-widgets/controls",
            "_model_module_version": "1.5.0",
            "_model_name": "HTMLModel",
            "_view_count": null,
            "_view_module": "@jupyter-widgets/controls",
            "_view_module_version": "1.5.0",
            "_view_name": "HTMLView",
            "description": "",
            "description_tooltip": null,
            "layout": "IPY_MODEL_0345edc3a7804201834424fc5d347a05",
            "placeholder": "​",
            "style": "IPY_MODEL_f07d1292968f4f6d9ce25b6e4210090f",
            "value": "Downloading (…)/main/tokenizer.json: 100%"
          }
        },
        "93d444c87f8c4263b2f164f3b3270a8e": {
          "model_module": "@jupyter-widgets/controls",
          "model_name": "FloatProgressModel",
          "model_module_version": "1.5.0",
          "state": {
            "_dom_classes": [],
            "_model_module": "@jupyter-widgets/controls",
            "_model_module_version": "1.5.0",
            "_model_name": "FloatProgressModel",
            "_view_count": null,
            "_view_module": "@jupyter-widgets/controls",
            "_view_module_version": "1.5.0",
            "_view_name": "ProgressView",
            "bar_style": "success",
            "description": "",
            "description_tooltip": null,
            "layout": "IPY_MODEL_105ca51b2491499db3434b769dc37c92",
            "max": 1355863,
            "min": 0,
            "orientation": "horizontal",
            "style": "IPY_MODEL_a8b65f65cfcf4b26bf649ebfae9efbbb",
            "value": 1355863
          }
        },
        "9d0f9579c2f34e2a835a596c927fed07": {
          "model_module": "@jupyter-widgets/controls",
          "model_name": "HTMLModel",
          "model_module_version": "1.5.0",
          "state": {
            "_dom_classes": [],
            "_model_module": "@jupyter-widgets/controls",
            "_model_module_version": "1.5.0",
            "_model_name": "HTMLModel",
            "_view_count": null,
            "_view_module": "@jupyter-widgets/controls",
            "_view_module_version": "1.5.0",
            "_view_name": "HTMLView",
            "description": "",
            "description_tooltip": null,
            "layout": "IPY_MODEL_8c1da8a5ab6b47ffac8cb95731bb6f80",
            "placeholder": "​",
            "style": "IPY_MODEL_95551ac4d5194ffab53b7d6bd038f724",
            "value": " 1.36M/1.36M [00:00&lt;00:00, 43.7MB/s]"
          }
        },
        "c47d91e7f719453193833452e0f9f745": {
          "model_module": "@jupyter-widgets/base",
          "model_name": "LayoutModel",
          "model_module_version": "1.2.0",
          "state": {
            "_model_module": "@jupyter-widgets/base",
            "_model_module_version": "1.2.0",
            "_model_name": "LayoutModel",
            "_view_count": null,
            "_view_module": "@jupyter-widgets/base",
            "_view_module_version": "1.2.0",
            "_view_name": "LayoutView",
            "align_content": null,
            "align_items": null,
            "align_self": null,
            "border": null,
            "bottom": null,
            "display": null,
            "flex": null,
            "flex_flow": null,
            "grid_area": null,
            "grid_auto_columns": null,
            "grid_auto_flow": null,
            "grid_auto_rows": null,
            "grid_column": null,
            "grid_gap": null,
            "grid_row": null,
            "grid_template_areas": null,
            "grid_template_columns": null,
            "grid_template_rows": null,
            "height": null,
            "justify_content": null,
            "justify_items": null,
            "left": null,
            "margin": null,
            "max_height": null,
            "max_width": null,
            "min_height": null,
            "min_width": null,
            "object_fit": null,
            "object_position": null,
            "order": null,
            "overflow": null,
            "overflow_x": null,
            "overflow_y": null,
            "padding": null,
            "right": null,
            "top": null,
            "visibility": null,
            "width": null
          }
        },
        "0345edc3a7804201834424fc5d347a05": {
          "model_module": "@jupyter-widgets/base",
          "model_name": "LayoutModel",
          "model_module_version": "1.2.0",
          "state": {
            "_model_module": "@jupyter-widgets/base",
            "_model_module_version": "1.2.0",
            "_model_name": "LayoutModel",
            "_view_count": null,
            "_view_module": "@jupyter-widgets/base",
            "_view_module_version": "1.2.0",
            "_view_name": "LayoutView",
            "align_content": null,
            "align_items": null,
            "align_self": null,
            "border": null,
            "bottom": null,
            "display": null,
            "flex": null,
            "flex_flow": null,
            "grid_area": null,
            "grid_auto_columns": null,
            "grid_auto_flow": null,
            "grid_auto_rows": null,
            "grid_column": null,
            "grid_gap": null,
            "grid_row": null,
            "grid_template_areas": null,
            "grid_template_columns": null,
            "grid_template_rows": null,
            "height": null,
            "justify_content": null,
            "justify_items": null,
            "left": null,
            "margin": null,
            "max_height": null,
            "max_width": null,
            "min_height": null,
            "min_width": null,
            "object_fit": null,
            "object_position": null,
            "order": null,
            "overflow": null,
            "overflow_x": null,
            "overflow_y": null,
            "padding": null,
            "right": null,
            "top": null,
            "visibility": null,
            "width": null
          }
        },
        "f07d1292968f4f6d9ce25b6e4210090f": {
          "model_module": "@jupyter-widgets/controls",
          "model_name": "DescriptionStyleModel",
          "model_module_version": "1.5.0",
          "state": {
            "_model_module": "@jupyter-widgets/controls",
            "_model_module_version": "1.5.0",
            "_model_name": "DescriptionStyleModel",
            "_view_count": null,
            "_view_module": "@jupyter-widgets/base",
            "_view_module_version": "1.2.0",
            "_view_name": "StyleView",
            "description_width": ""
          }
        },
        "105ca51b2491499db3434b769dc37c92": {
          "model_module": "@jupyter-widgets/base",
          "model_name": "LayoutModel",
          "model_module_version": "1.2.0",
          "state": {
            "_model_module": "@jupyter-widgets/base",
            "_model_module_version": "1.2.0",
            "_model_name": "LayoutModel",
            "_view_count": null,
            "_view_module": "@jupyter-widgets/base",
            "_view_module_version": "1.2.0",
            "_view_name": "LayoutView",
            "align_content": null,
            "align_items": null,
            "align_self": null,
            "border": null,
            "bottom": null,
            "display": null,
            "flex": null,
            "flex_flow": null,
            "grid_area": null,
            "grid_auto_columns": null,
            "grid_auto_flow": null,
            "grid_auto_rows": null,
            "grid_column": null,
            "grid_gap": null,
            "grid_row": null,
            "grid_template_areas": null,
            "grid_template_columns": null,
            "grid_template_rows": null,
            "height": null,
            "justify_content": null,
            "justify_items": null,
            "left": null,
            "margin": null,
            "max_height": null,
            "max_width": null,
            "min_height": null,
            "min_width": null,
            "object_fit": null,
            "object_position": null,
            "order": null,
            "overflow": null,
            "overflow_x": null,
            "overflow_y": null,
            "padding": null,
            "right": null,
            "top": null,
            "visibility": null,
            "width": null
          }
        },
        "a8b65f65cfcf4b26bf649ebfae9efbbb": {
          "model_module": "@jupyter-widgets/controls",
          "model_name": "ProgressStyleModel",
          "model_module_version": "1.5.0",
          "state": {
            "_model_module": "@jupyter-widgets/controls",
            "_model_module_version": "1.5.0",
            "_model_name": "ProgressStyleModel",
            "_view_count": null,
            "_view_module": "@jupyter-widgets/base",
            "_view_module_version": "1.2.0",
            "_view_name": "StyleView",
            "bar_color": null,
            "description_width": ""
          }
        },
        "8c1da8a5ab6b47ffac8cb95731bb6f80": {
          "model_module": "@jupyter-widgets/base",
          "model_name": "LayoutModel",
          "model_module_version": "1.2.0",
          "state": {
            "_model_module": "@jupyter-widgets/base",
            "_model_module_version": "1.2.0",
            "_model_name": "LayoutModel",
            "_view_count": null,
            "_view_module": "@jupyter-widgets/base",
            "_view_module_version": "1.2.0",
            "_view_name": "LayoutView",
            "align_content": null,
            "align_items": null,
            "align_self": null,
            "border": null,
            "bottom": null,
            "display": null,
            "flex": null,
            "flex_flow": null,
            "grid_area": null,
            "grid_auto_columns": null,
            "grid_auto_flow": null,
            "grid_auto_rows": null,
            "grid_column": null,
            "grid_gap": null,
            "grid_row": null,
            "grid_template_areas": null,
            "grid_template_columns": null,
            "grid_template_rows": null,
            "height": null,
            "justify_content": null,
            "justify_items": null,
            "left": null,
            "margin": null,
            "max_height": null,
            "max_width": null,
            "min_height": null,
            "min_width": null,
            "object_fit": null,
            "object_position": null,
            "order": null,
            "overflow": null,
            "overflow_x": null,
            "overflow_y": null,
            "padding": null,
            "right": null,
            "top": null,
            "visibility": null,
            "width": null
          }
        },
        "95551ac4d5194ffab53b7d6bd038f724": {
          "model_module": "@jupyter-widgets/controls",
          "model_name": "DescriptionStyleModel",
          "model_module_version": "1.5.0",
          "state": {
            "_model_module": "@jupyter-widgets/controls",
            "_model_module_version": "1.5.0",
            "_model_name": "DescriptionStyleModel",
            "_view_count": null,
            "_view_module": "@jupyter-widgets/base",
            "_view_module_version": "1.2.0",
            "_view_name": "StyleView",
            "description_width": ""
          }
        },
        "98fa9a83dfb34f35bb4cd79ba7b56c7a": {
          "model_module": "@jupyter-widgets/controls",
          "model_name": "HBoxModel",
          "model_module_version": "1.5.0",
          "state": {
            "_dom_classes": [],
            "_model_module": "@jupyter-widgets/controls",
            "_model_module_version": "1.5.0",
            "_model_name": "HBoxModel",
            "_view_count": null,
            "_view_module": "@jupyter-widgets/controls",
            "_view_module_version": "1.5.0",
            "_view_name": "HBoxView",
            "box_style": "",
            "children": [
              "IPY_MODEL_2066e94946b54fae9700414b6ca05d49",
              "IPY_MODEL_d450a5a2f65d44198390fa44b3962603",
              "IPY_MODEL_356cf8bbae044a5f87f30a63a436ee6e"
            ],
            "layout": "IPY_MODEL_2a7af9bd169f4163814becf564bde6ea"
          }
        },
        "2066e94946b54fae9700414b6ca05d49": {
          "model_module": "@jupyter-widgets/controls",
          "model_name": "HTMLModel",
          "model_module_version": "1.5.0",
          "state": {
            "_dom_classes": [],
            "_model_module": "@jupyter-widgets/controls",
            "_model_module_version": "1.5.0",
            "_model_name": "HTMLModel",
            "_view_count": null,
            "_view_module": "@jupyter-widgets/controls",
            "_view_module_version": "1.5.0",
            "_view_name": "HTMLView",
            "description": "",
            "description_tooltip": null,
            "layout": "IPY_MODEL_9f58cf337be1483dbcad40477bcae315",
            "placeholder": "​",
            "style": "IPY_MODEL_b91edc93711a495ba3281726aa3d2670",
            "value": "Downloading model.safetensors: 100%"
          }
        },
        "d450a5a2f65d44198390fa44b3962603": {
          "model_module": "@jupyter-widgets/controls",
          "model_name": "FloatProgressModel",
          "model_module_version": "1.5.0",
          "state": {
            "_dom_classes": [],
            "_model_module": "@jupyter-widgets/controls",
            "_model_module_version": "1.5.0",
            "_model_name": "FloatProgressModel",
            "_view_count": null,
            "_view_module": "@jupyter-widgets/controls",
            "_view_module_version": "1.5.0",
            "_view_name": "ProgressView",
            "bar_style": "success",
            "description": "",
            "description_tooltip": null,
            "layout": "IPY_MODEL_188855c97f1d400bb5005ea9f716ab17",
            "max": 498818054,
            "min": 0,
            "orientation": "horizontal",
            "style": "IPY_MODEL_3927a4161c13416fa7a2797c631e6307",
            "value": 498818054
          }
        },
        "356cf8bbae044a5f87f30a63a436ee6e": {
          "model_module": "@jupyter-widgets/controls",
          "model_name": "HTMLModel",
          "model_module_version": "1.5.0",
          "state": {
            "_dom_classes": [],
            "_model_module": "@jupyter-widgets/controls",
            "_model_module_version": "1.5.0",
            "_model_name": "HTMLModel",
            "_view_count": null,
            "_view_module": "@jupyter-widgets/controls",
            "_view_module_version": "1.5.0",
            "_view_name": "HTMLView",
            "description": "",
            "description_tooltip": null,
            "layout": "IPY_MODEL_a5cd6e83b3904f0fa17699fc112c15b0",
            "placeholder": "​",
            "style": "IPY_MODEL_65fda8be2d424494bdee995f7e0d2537",
            "value": " 499M/499M [00:06&lt;00:00, 84.4MB/s]"
          }
        },
        "2a7af9bd169f4163814becf564bde6ea": {
          "model_module": "@jupyter-widgets/base",
          "model_name": "LayoutModel",
          "model_module_version": "1.2.0",
          "state": {
            "_model_module": "@jupyter-widgets/base",
            "_model_module_version": "1.2.0",
            "_model_name": "LayoutModel",
            "_view_count": null,
            "_view_module": "@jupyter-widgets/base",
            "_view_module_version": "1.2.0",
            "_view_name": "LayoutView",
            "align_content": null,
            "align_items": null,
            "align_self": null,
            "border": null,
            "bottom": null,
            "display": null,
            "flex": null,
            "flex_flow": null,
            "grid_area": null,
            "grid_auto_columns": null,
            "grid_auto_flow": null,
            "grid_auto_rows": null,
            "grid_column": null,
            "grid_gap": null,
            "grid_row": null,
            "grid_template_areas": null,
            "grid_template_columns": null,
            "grid_template_rows": null,
            "height": null,
            "justify_content": null,
            "justify_items": null,
            "left": null,
            "margin": null,
            "max_height": null,
            "max_width": null,
            "min_height": null,
            "min_width": null,
            "object_fit": null,
            "object_position": null,
            "order": null,
            "overflow": null,
            "overflow_x": null,
            "overflow_y": null,
            "padding": null,
            "right": null,
            "top": null,
            "visibility": null,
            "width": null
          }
        },
        "9f58cf337be1483dbcad40477bcae315": {
          "model_module": "@jupyter-widgets/base",
          "model_name": "LayoutModel",
          "model_module_version": "1.2.0",
          "state": {
            "_model_module": "@jupyter-widgets/base",
            "_model_module_version": "1.2.0",
            "_model_name": "LayoutModel",
            "_view_count": null,
            "_view_module": "@jupyter-widgets/base",
            "_view_module_version": "1.2.0",
            "_view_name": "LayoutView",
            "align_content": null,
            "align_items": null,
            "align_self": null,
            "border": null,
            "bottom": null,
            "display": null,
            "flex": null,
            "flex_flow": null,
            "grid_area": null,
            "grid_auto_columns": null,
            "grid_auto_flow": null,
            "grid_auto_rows": null,
            "grid_column": null,
            "grid_gap": null,
            "grid_row": null,
            "grid_template_areas": null,
            "grid_template_columns": null,
            "grid_template_rows": null,
            "height": null,
            "justify_content": null,
            "justify_items": null,
            "left": null,
            "margin": null,
            "max_height": null,
            "max_width": null,
            "min_height": null,
            "min_width": null,
            "object_fit": null,
            "object_position": null,
            "order": null,
            "overflow": null,
            "overflow_x": null,
            "overflow_y": null,
            "padding": null,
            "right": null,
            "top": null,
            "visibility": null,
            "width": null
          }
        },
        "b91edc93711a495ba3281726aa3d2670": {
          "model_module": "@jupyter-widgets/controls",
          "model_name": "DescriptionStyleModel",
          "model_module_version": "1.5.0",
          "state": {
            "_model_module": "@jupyter-widgets/controls",
            "_model_module_version": "1.5.0",
            "_model_name": "DescriptionStyleModel",
            "_view_count": null,
            "_view_module": "@jupyter-widgets/base",
            "_view_module_version": "1.2.0",
            "_view_name": "StyleView",
            "description_width": ""
          }
        },
        "188855c97f1d400bb5005ea9f716ab17": {
          "model_module": "@jupyter-widgets/base",
          "model_name": "LayoutModel",
          "model_module_version": "1.2.0",
          "state": {
            "_model_module": "@jupyter-widgets/base",
            "_model_module_version": "1.2.0",
            "_model_name": "LayoutModel",
            "_view_count": null,
            "_view_module": "@jupyter-widgets/base",
            "_view_module_version": "1.2.0",
            "_view_name": "LayoutView",
            "align_content": null,
            "align_items": null,
            "align_self": null,
            "border": null,
            "bottom": null,
            "display": null,
            "flex": null,
            "flex_flow": null,
            "grid_area": null,
            "grid_auto_columns": null,
            "grid_auto_flow": null,
            "grid_auto_rows": null,
            "grid_column": null,
            "grid_gap": null,
            "grid_row": null,
            "grid_template_areas": null,
            "grid_template_columns": null,
            "grid_template_rows": null,
            "height": null,
            "justify_content": null,
            "justify_items": null,
            "left": null,
            "margin": null,
            "max_height": null,
            "max_width": null,
            "min_height": null,
            "min_width": null,
            "object_fit": null,
            "object_position": null,
            "order": null,
            "overflow": null,
            "overflow_x": null,
            "overflow_y": null,
            "padding": null,
            "right": null,
            "top": null,
            "visibility": null,
            "width": null
          }
        },
        "3927a4161c13416fa7a2797c631e6307": {
          "model_module": "@jupyter-widgets/controls",
          "model_name": "ProgressStyleModel",
          "model_module_version": "1.5.0",
          "state": {
            "_model_module": "@jupyter-widgets/controls",
            "_model_module_version": "1.5.0",
            "_model_name": "ProgressStyleModel",
            "_view_count": null,
            "_view_module": "@jupyter-widgets/base",
            "_view_module_version": "1.2.0",
            "_view_name": "StyleView",
            "bar_color": null,
            "description_width": ""
          }
        },
        "a5cd6e83b3904f0fa17699fc112c15b0": {
          "model_module": "@jupyter-widgets/base",
          "model_name": "LayoutModel",
          "model_module_version": "1.2.0",
          "state": {
            "_model_module": "@jupyter-widgets/base",
            "_model_module_version": "1.2.0",
            "_model_name": "LayoutModel",
            "_view_count": null,
            "_view_module": "@jupyter-widgets/base",
            "_view_module_version": "1.2.0",
            "_view_name": "LayoutView",
            "align_content": null,
            "align_items": null,
            "align_self": null,
            "border": null,
            "bottom": null,
            "display": null,
            "flex": null,
            "flex_flow": null,
            "grid_area": null,
            "grid_auto_columns": null,
            "grid_auto_flow": null,
            "grid_auto_rows": null,
            "grid_column": null,
            "grid_gap": null,
            "grid_row": null,
            "grid_template_areas": null,
            "grid_template_columns": null,
            "grid_template_rows": null,
            "height": null,
            "justify_content": null,
            "justify_items": null,
            "left": null,
            "margin": null,
            "max_height": null,
            "max_width": null,
            "min_height": null,
            "min_width": null,
            "object_fit": null,
            "object_position": null,
            "order": null,
            "overflow": null,
            "overflow_x": null,
            "overflow_y": null,
            "padding": null,
            "right": null,
            "top": null,
            "visibility": null,
            "width": null
          }
        },
        "65fda8be2d424494bdee995f7e0d2537": {
          "model_module": "@jupyter-widgets/controls",
          "model_name": "DescriptionStyleModel",
          "model_module_version": "1.5.0",
          "state": {
            "_model_module": "@jupyter-widgets/controls",
            "_model_module_version": "1.5.0",
            "_model_name": "DescriptionStyleModel",
            "_view_count": null,
            "_view_module": "@jupyter-widgets/base",
            "_view_module_version": "1.2.0",
            "_view_name": "StyleView",
            "description_width": ""
          }
        }
      }
    }
  },
  "nbformat": 4,
  "nbformat_minor": 0
}