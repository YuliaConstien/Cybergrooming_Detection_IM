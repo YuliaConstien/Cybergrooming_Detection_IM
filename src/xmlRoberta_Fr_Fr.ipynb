{
  "cells": [
    {
      "cell_type": "code",
      "execution_count": null,
      "metadata": {
        "id": "Ye8ghrnBMlJr"
      },
      "outputs": [],
      "source": [
        "!pip install transformers\n"
      ]
    },
    {
      "cell_type": "code",
      "execution_count": null,
      "metadata": {
        "id": "nxVg07LLMx7i"
      },
      "outputs": [],
      "source": [
        "#install hugging face evaluate \n",
        "!pip install evaluate"
      ]
    },
    {
      "cell_type": "code",
      "execution_count": 4,
      "metadata": {
        "id": "onEKulDDMx_L"
      },
      "outputs": [],
      "source": [
        "# imports \n",
        "import pandas as pd\n",
        "import seaborn as sns\n",
        "import matplotlib.pyplot as plt\n",
        "import numpy as np \n",
        "\n",
        "import torch\n",
        "\n",
        "from transformers import AutoTokenizer, AutoModelForSequenceClassification\n",
        "\n",
        "from transformers import pipeline\n",
        "\n",
        "#from datasets import load_dataset\n",
        "from transformers import TrainingArguments, Trainer\n",
        "from huggingface_hub import notebook_login\n",
        "from textwrap import wrap\n",
        "\n",
        "\n",
        "import evaluate\n",
        "\n",
        "\n",
        "from sklearn.metrics import confusion_matrix, classification_report  \n"
      ]
    },
    {
      "cell_type": "code",
      "execution_count": 5,
      "metadata": {
        "colab": {
          "base_uri": "https://localhost:8080/"
        },
        "id": "5StjMTPRMyBv",
        "outputId": "de3d9038-8ca2-4a07-e156-c8f22a568345"
      },
      "outputs": [
        {
          "output_type": "stream",
          "name": "stdout",
          "text": [
            "Mounted at /content/drive\n"
          ]
        }
      ],
      "source": [
        "#mount google drive\n",
        "from google.colab import drive\n",
        "drive.mount('/content/drive')\n",
        "     "
      ]
    },
    {
      "cell_type": "code",
      "execution_count": 6,
      "metadata": {
        "id": "WHdjLuOFMyFZ"
      },
      "outputs": [],
      "source": [
        "# Data\n",
        "\n",
        "# French trainset/valset \n",
        "fr_trainset= pd.read_csv(\"/content/drive/MyDrive/IM/VTPAN_PAN12_Translated /train_french.csv\") \n",
        "fr_valset= pd.read_csv(\"/content/drive/MyDrive/IM/VTPAN_PAN12_Translated /val_french.csv\") \n",
        "\n",
        "# Dutch trainset/valset \n",
        "\n",
        "##nl_trainset= pd.read_csv(\"/content/drive/MyDrive/IM/VTPAN_PAN12_Translated /train_dutch.csv\") \n",
        "##nl_valset= pd.read_csv(\"/content/drive/MyDrive/IM/VTPAN_PAN12_Translated /val_dutch.csv\") "
      ]
    },
    {
      "cell_type": "code",
      "execution_count": null,
      "metadata": {
        "colab": {
          "base_uri": "https://localhost:8080/",
          "height": 424
        },
        "id": "zFHzjE4jZQtJ",
        "outputId": "ee317c32-59cd-4cc1-8b57-87595b01c848"
      },
      "outputs": [
        {
          "data": {
            "text/html": [
              "\n",
              "  <div id=\"df-126e9f6b-e7b9-4a19-96fa-bfdb84ca83a7\">\n",
              "    <div class=\"colab-df-container\">\n",
              "      <div>\n",
              "<style scoped>\n",
              "    .dataframe tbody tr th:only-of-type {\n",
              "        vertical-align: middle;\n",
              "    }\n",
              "\n",
              "    .dataframe tbody tr th {\n",
              "        vertical-align: top;\n",
              "    }\n",
              "\n",
              "    .dataframe thead th {\n",
              "        text-align: right;\n",
              "    }\n",
              "</style>\n",
              "<table border=\"1\" class=\"dataframe\">\n",
              "  <thead>\n",
              "    <tr style=\"text-align: right;\">\n",
              "      <th></th>\n",
              "      <th>messages_fr</th>\n",
              "      <th>label</th>\n",
              "    </tr>\n",
              "  </thead>\n",
              "  <tbody>\n",
              "    <tr>\n",
              "      <th>0</th>\n",
              "      <td>['Hey, que se passe-t-il?', ' hey', 'Comment ç...</td>\n",
              "      <td>1</td>\n",
              "    </tr>\n",
              "    <tr>\n",
              "      <th>1</th>\n",
              "      <td>['Asl', 'Je suis un homme de 18 ans, cherchant...</td>\n",
              "      <td>0</td>\n",
              "    </tr>\n",
              "    <tr>\n",
              "      <th>2</th>\n",
              "      <td>['Bonjour', 'Hi owo', 'Je dois faire des poupé...</td>\n",
              "      <td>0</td>\n",
              "    </tr>\n",
              "    <tr>\n",
              "      <th>3</th>\n",
              "      <td>['Bonjour', \"j'obtiens toujours ceci: release\\...</td>\n",
              "      <td>0</td>\n",
              "    </tr>\n",
              "    <tr>\n",
              "      <th>4</th>\n",
              "      <td>['Bonjour', 'Hey there (en anglais seulement)'...</td>\n",
              "      <td>0</td>\n",
              "    </tr>\n",
              "    <tr>\n",
              "      <th>...</th>\n",
              "      <td>...</td>\n",
              "      <td>...</td>\n",
              "    </tr>\n",
              "    <tr>\n",
              "      <th>5265</th>\n",
              "      <td>['Bonjour', \"besoin d'un outil pour migrer les...</td>\n",
              "      <td>0</td>\n",
              "    </tr>\n",
              "    <tr>\n",
              "      <th>5266</th>\n",
              "      <td>[\"Qu'est-ce que tu fais beau?\", 'rechercher de...</td>\n",
              "      <td>1</td>\n",
              "    </tr>\n",
              "    <tr>\n",
              "      <th>5267</th>\n",
              "      <td>['ANNEXE', 'Asl', 'Hey :D', 'haha omg.. quicky...</td>\n",
              "      <td>0</td>\n",
              "    </tr>\n",
              "    <tr>\n",
              "      <th>5268</th>\n",
              "      <td>[\"C'est un peu comme ça, c'est un peu comme ça...</td>\n",
              "      <td>0</td>\n",
              "    </tr>\n",
              "    <tr>\n",
              "      <th>5269</th>\n",
              "      <td>['Bonjour', 'Asl?', 'm/28/Pays-Bas', 'hhhhhhhh...</td>\n",
              "      <td>0</td>\n",
              "    </tr>\n",
              "  </tbody>\n",
              "</table>\n",
              "<p>5270 rows × 2 columns</p>\n",
              "</div>\n",
              "      <button class=\"colab-df-convert\" onclick=\"convertToInteractive('df-126e9f6b-e7b9-4a19-96fa-bfdb84ca83a7')\"\n",
              "              title=\"Convert this dataframe to an interactive table.\"\n",
              "              style=\"display:none;\">\n",
              "        \n",
              "  <svg xmlns=\"http://www.w3.org/2000/svg\" height=\"24px\"viewBox=\"0 0 24 24\"\n",
              "       width=\"24px\">\n",
              "    <path d=\"M0 0h24v24H0V0z\" fill=\"none\"/>\n",
              "    <path d=\"M18.56 5.44l.94 2.06.94-2.06 2.06-.94-2.06-.94-.94-2.06-.94 2.06-2.06.94zm-11 1L8.5 8.5l.94-2.06 2.06-.94-2.06-.94L8.5 2.5l-.94 2.06-2.06.94zm10 10l.94 2.06.94-2.06 2.06-.94-2.06-.94-.94-2.06-.94 2.06-2.06.94z\"/><path d=\"M17.41 7.96l-1.37-1.37c-.4-.4-.92-.59-1.43-.59-.52 0-1.04.2-1.43.59L10.3 9.45l-7.72 7.72c-.78.78-.78 2.05 0 2.83L4 21.41c.39.39.9.59 1.41.59.51 0 1.02-.2 1.41-.59l7.78-7.78 2.81-2.81c.8-.78.8-2.07 0-2.86zM5.41 20L4 18.59l7.72-7.72 1.47 1.35L5.41 20z\"/>\n",
              "  </svg>\n",
              "      </button>\n",
              "      \n",
              "  <style>\n",
              "    .colab-df-container {\n",
              "      display:flex;\n",
              "      flex-wrap:wrap;\n",
              "      gap: 12px;\n",
              "    }\n",
              "\n",
              "    .colab-df-convert {\n",
              "      background-color: #E8F0FE;\n",
              "      border: none;\n",
              "      border-radius: 50%;\n",
              "      cursor: pointer;\n",
              "      display: none;\n",
              "      fill: #1967D2;\n",
              "      height: 32px;\n",
              "      padding: 0 0 0 0;\n",
              "      width: 32px;\n",
              "    }\n",
              "\n",
              "    .colab-df-convert:hover {\n",
              "      background-color: #E2EBFA;\n",
              "      box-shadow: 0px 1px 2px rgba(60, 64, 67, 0.3), 0px 1px 3px 1px rgba(60, 64, 67, 0.15);\n",
              "      fill: #174EA6;\n",
              "    }\n",
              "\n",
              "    [theme=dark] .colab-df-convert {\n",
              "      background-color: #3B4455;\n",
              "      fill: #D2E3FC;\n",
              "    }\n",
              "\n",
              "    [theme=dark] .colab-df-convert:hover {\n",
              "      background-color: #434B5C;\n",
              "      box-shadow: 0px 1px 3px 1px rgba(0, 0, 0, 0.15);\n",
              "      filter: drop-shadow(0px 1px 2px rgba(0, 0, 0, 0.3));\n",
              "      fill: #FFFFFF;\n",
              "    }\n",
              "  </style>\n",
              "\n",
              "      <script>\n",
              "        const buttonEl =\n",
              "          document.querySelector('#df-126e9f6b-e7b9-4a19-96fa-bfdb84ca83a7 button.colab-df-convert');\n",
              "        buttonEl.style.display =\n",
              "          google.colab.kernel.accessAllowed ? 'block' : 'none';\n",
              "\n",
              "        async function convertToInteractive(key) {\n",
              "          const element = document.querySelector('#df-126e9f6b-e7b9-4a19-96fa-bfdb84ca83a7');\n",
              "          const dataTable =\n",
              "            await google.colab.kernel.invokeFunction('convertToInteractive',\n",
              "                                                     [key], {});\n",
              "          if (!dataTable) return;\n",
              "\n",
              "          const docLinkHtml = 'Like what you see? Visit the ' +\n",
              "            '<a target=\"_blank\" href=https://colab.research.google.com/notebooks/data_table.ipynb>data table notebook</a>'\n",
              "            + ' to learn more about interactive tables.';\n",
              "          element.innerHTML = '';\n",
              "          dataTable['output_type'] = 'display_data';\n",
              "          await google.colab.output.renderOutput(dataTable, element);\n",
              "          const docLink = document.createElement('div');\n",
              "          docLink.innerHTML = docLinkHtml;\n",
              "          element.appendChild(docLink);\n",
              "        }\n",
              "      </script>\n",
              "    </div>\n",
              "  </div>\n",
              "  "
            ],
            "text/plain": [
              "                                            messages_fr  label\n",
              "0     ['Hey, que se passe-t-il?', ' hey', 'Comment ç...      1\n",
              "1     ['Asl', 'Je suis un homme de 18 ans, cherchant...      0\n",
              "2     ['Bonjour', 'Hi owo', 'Je dois faire des poupé...      0\n",
              "3     ['Bonjour', \"j'obtiens toujours ceci: release\\...      0\n",
              "4     ['Bonjour', 'Hey there (en anglais seulement)'...      0\n",
              "...                                                 ...    ...\n",
              "5265  ['Bonjour', \"besoin d'un outil pour migrer les...      0\n",
              "5266  [\"Qu'est-ce que tu fais beau?\", 'rechercher de...      1\n",
              "5267  ['ANNEXE', 'Asl', 'Hey :D', 'haha omg.. quicky...      0\n",
              "5268  [\"C'est un peu comme ça, c'est un peu comme ça...      0\n",
              "5269  ['Bonjour', 'Asl?', 'm/28/Pays-Bas', 'hhhhhhhh...      0\n",
              "\n",
              "[5270 rows x 2 columns]"
            ]
          },
          "execution_count": 6,
          "metadata": {},
          "output_type": "execute_result"
        }
      ],
      "source": [
        "fr_trainset"
      ]
    },
    {
      "cell_type": "code",
      "execution_count": 7,
      "metadata": {
        "id": "Qw7bTcueSf0O"
      },
      "outputs": [],
      "source": [
        "#French test set \n",
        "fr_testset= pd.read_csv('/content/drive/MyDrive/IM/VTPAN_PAN12_Translated /test_french.csv')\n",
        "\n",
        "#Dutch test set \n",
        "#nl_testset=pd.read_csv('/content/drive/MyDrive/IM/VTPAN_PAN12_Translated /test_dutch.csv')"
      ]
    },
    {
      "cell_type": "code",
      "execution_count": null,
      "metadata": {
        "colab": {
          "base_uri": "https://localhost:8080/",
          "height": 1000
        },
        "id": "tZ3Frwijchku",
        "outputId": "37898292-aa6a-45d2-e271-0ad634946dbd"
      },
      "outputs": [
        {
          "data": {
            "text/html": [
              "\n",
              "  <div id=\"df-44be5459-0348-41bc-9cc5-143eedcc46c3\">\n",
              "    <div class=\"colab-df-container\">\n",
              "      <div>\n",
              "<style scoped>\n",
              "    .dataframe tbody tr th:only-of-type {\n",
              "        vertical-align: middle;\n",
              "    }\n",
              "\n",
              "    .dataframe tbody tr th {\n",
              "        vertical-align: top;\n",
              "    }\n",
              "\n",
              "    .dataframe thead th {\n",
              "        text-align: right;\n",
              "    }\n",
              "</style>\n",
              "<table border=\"1\" class=\"dataframe\">\n",
              "  <thead>\n",
              "    <tr style=\"text-align: right;\">\n",
              "      <th></th>\n",
              "      <th>id</th>\n",
              "      <th>isCybergrooming</th>\n",
              "      <th>authors</th>\n",
              "      <th>messages</th>\n",
              "      <th>messages_de</th>\n",
              "      <th>label</th>\n",
              "    </tr>\n",
              "  </thead>\n",
              "  <tbody>\n",
              "    <tr>\n",
              "      <th>0</th>\n",
              "      <td>de15188e9fd515ed817a0b34546be902</td>\n",
              "      <td>True</td>\n",
              "      <td>[{'id': 'b6fe182274453b707870b16e5d2ad562', 'i...</td>\n",
              "      <td>[{'author': 'b6fe182274453b707870b16e5d2ad562'...</td>\n",
              "      <td>[\"de l'arrière\", 'ok baby', \"ce qui s'est pass...</td>\n",
              "      <td>1</td>\n",
              "    </tr>\n",
              "    <tr>\n",
              "      <th>1</th>\n",
              "      <td>17784c5a093477c1706b1a68cea7c802</td>\n",
              "      <td>False</td>\n",
              "      <td>[{'id': 'fcfda042c76436b97eca32b6c0490d1d', 'i...</td>\n",
              "      <td>[{'author': '713349f3afa2dbe352d2abe4d3f01a12'...</td>\n",
              "      <td>['Bonjour', 'Les garçons sont de la mer', 'qu’...</td>\n",
              "      <td>0</td>\n",
              "    </tr>\n",
              "    <tr>\n",
              "      <th>2</th>\n",
              "      <td>15a38614944f5aa8bbb59d4153ecc12a</td>\n",
              "      <td>False</td>\n",
              "      <td>[{'id': '454addae11c0b90c0f36a98b77aa07a6', 'i...</td>\n",
              "      <td>[{'author': 'ee792e8acb278ddd16cc46020c694b0b'...</td>\n",
              "      <td>['Bonjour', '19 m usa horny, u?', '2+2*2', '2+...</td>\n",
              "      <td>0</td>\n",
              "    </tr>\n",
              "    <tr>\n",
              "      <th>3</th>\n",
              "      <td>ee0aba2365c16a30cb36d1057a390b16</td>\n",
              "      <td>False</td>\n",
              "      <td>[{'id': '471970f323f46dc39b5f07c6aa344686', 'i...</td>\n",
              "      <td>[{'author': 'bb2a120ae4ec93ef7c15f284b9b46544'...</td>\n",
              "      <td>['f/m?', 'Bonjour', 'de l’eau', 'f) Évaluation...</td>\n",
              "      <td>0</td>\n",
              "    </tr>\n",
              "    <tr>\n",
              "      <th>4</th>\n",
              "      <td>ca1b963746e368a4cec38ab4be3fdcf7</td>\n",
              "      <td>False</td>\n",
              "      <td>[{'id': 'ed6658e6f22583ed66fb5e5e735b9e63', 'i...</td>\n",
              "      <td>[{'author': 'ed6658e6f22583ed66fb5e5e735b9e63'...</td>\n",
              "      <td>['Merci, je suis maintenant de retour.', 'Je v...</td>\n",
              "      <td>0</td>\n",
              "    </tr>\n",
              "    <tr>\n",
              "      <th>...</th>\n",
              "      <td>...</td>\n",
              "      <td>...</td>\n",
              "      <td>...</td>\n",
              "      <td>...</td>\n",
              "      <td>...</td>\n",
              "      <td>...</td>\n",
              "    </tr>\n",
              "    <tr>\n",
              "      <th>15324</th>\n",
              "      <td>85e044706ceca109b1adf6c744a4126c</td>\n",
              "      <td>False</td>\n",
              "      <td>[{'id': 'f8eb7d3ae7f27896e571109636a043e0', 'i...</td>\n",
              "      <td>[{'author': 'f8eb7d3ae7f27896e571109636a043e0'...</td>\n",
              "      <td>['J’aimerais vous remercier', 'Bonjour', 'Hey....</td>\n",
              "      <td>0</td>\n",
              "    </tr>\n",
              "    <tr>\n",
              "      <th>15325</th>\n",
              "      <td>ec391a65097a955029afaedc23d5fa81</td>\n",
              "      <td>True</td>\n",
              "      <td>[{'id': '2e0d170f2addfb0048f9424a2daa5a73', 'i...</td>\n",
              "      <td>[{'author': '2e0d170f2addfb0048f9424a2daa5a73'...</td>\n",
              "      <td>['Bonjour', 'Asl?', 'Heya, que se passe-t-il?'...</td>\n",
              "      <td>1</td>\n",
              "    </tr>\n",
              "    <tr>\n",
              "      <th>15326</th>\n",
              "      <td>82add2c9da3c267a98b3981375b6c238</td>\n",
              "      <td>True</td>\n",
              "      <td>[{'id': 'c5502c7c9bb5e28508a3e19ec869f6d2', 'i...</td>\n",
              "      <td>[{'author': 'c5502c7c9bb5e28508a3e19ec869f6d2'...</td>\n",
              "      <td>['Bonjour, comment est-ce?', \"J'aimerais vous ...</td>\n",
              "      <td>1</td>\n",
              "    </tr>\n",
              "    <tr>\n",
              "      <th>15327</th>\n",
              "      <td>e2bc24141a2855dd6825d8b3132bfa11</td>\n",
              "      <td>False</td>\n",
              "      <td>[{'id': 'e46825dc4ec1ff89f6bb078ce5589357', 'i...</td>\n",
              "      <td>[{'author': 'bced152c52f046adc88110ad1e8b3e83'...</td>\n",
              "      <td>['Bonjour', 'm ou f', 'Bonjour', 'f) Évaluatio...</td>\n",
              "      <td>0</td>\n",
              "    </tr>\n",
              "    <tr>\n",
              "      <th>15328</th>\n",
              "      <td>8deed7c66340728e6863f3d931d4cca7</td>\n",
              "      <td>False</td>\n",
              "      <td>[{'id': 'c3771abaa4e03712cd05a81c58bed44c', 'i...</td>\n",
              "      <td>[{'author': '48a4fba2c4916bbc8aae694a3877dca3'...</td>\n",
              "      <td>['un cheval un cheval', 'puits supérieurs', 'N...</td>\n",
              "      <td>0</td>\n",
              "    </tr>\n",
              "  </tbody>\n",
              "</table>\n",
              "<p>15329 rows × 6 columns</p>\n",
              "</div>\n",
              "      <button class=\"colab-df-convert\" onclick=\"convertToInteractive('df-44be5459-0348-41bc-9cc5-143eedcc46c3')\"\n",
              "              title=\"Convert this dataframe to an interactive table.\"\n",
              "              style=\"display:none;\">\n",
              "        \n",
              "  <svg xmlns=\"http://www.w3.org/2000/svg\" height=\"24px\"viewBox=\"0 0 24 24\"\n",
              "       width=\"24px\">\n",
              "    <path d=\"M0 0h24v24H0V0z\" fill=\"none\"/>\n",
              "    <path d=\"M18.56 5.44l.94 2.06.94-2.06 2.06-.94-2.06-.94-.94-2.06-.94 2.06-2.06.94zm-11 1L8.5 8.5l.94-2.06 2.06-.94-2.06-.94L8.5 2.5l-.94 2.06-2.06.94zm10 10l.94 2.06.94-2.06 2.06-.94-2.06-.94-.94-2.06-.94 2.06-2.06.94z\"/><path d=\"M17.41 7.96l-1.37-1.37c-.4-.4-.92-.59-1.43-.59-.52 0-1.04.2-1.43.59L10.3 9.45l-7.72 7.72c-.78.78-.78 2.05 0 2.83L4 21.41c.39.39.9.59 1.41.59.51 0 1.02-.2 1.41-.59l7.78-7.78 2.81-2.81c.8-.78.8-2.07 0-2.86zM5.41 20L4 18.59l7.72-7.72 1.47 1.35L5.41 20z\"/>\n",
              "  </svg>\n",
              "      </button>\n",
              "      \n",
              "  <style>\n",
              "    .colab-df-container {\n",
              "      display:flex;\n",
              "      flex-wrap:wrap;\n",
              "      gap: 12px;\n",
              "    }\n",
              "\n",
              "    .colab-df-convert {\n",
              "      background-color: #E8F0FE;\n",
              "      border: none;\n",
              "      border-radius: 50%;\n",
              "      cursor: pointer;\n",
              "      display: none;\n",
              "      fill: #1967D2;\n",
              "      height: 32px;\n",
              "      padding: 0 0 0 0;\n",
              "      width: 32px;\n",
              "    }\n",
              "\n",
              "    .colab-df-convert:hover {\n",
              "      background-color: #E2EBFA;\n",
              "      box-shadow: 0px 1px 2px rgba(60, 64, 67, 0.3), 0px 1px 3px 1px rgba(60, 64, 67, 0.15);\n",
              "      fill: #174EA6;\n",
              "    }\n",
              "\n",
              "    [theme=dark] .colab-df-convert {\n",
              "      background-color: #3B4455;\n",
              "      fill: #D2E3FC;\n",
              "    }\n",
              "\n",
              "    [theme=dark] .colab-df-convert:hover {\n",
              "      background-color: #434B5C;\n",
              "      box-shadow: 0px 1px 3px 1px rgba(0, 0, 0, 0.15);\n",
              "      filter: drop-shadow(0px 1px 2px rgba(0, 0, 0, 0.3));\n",
              "      fill: #FFFFFF;\n",
              "    }\n",
              "  </style>\n",
              "\n",
              "      <script>\n",
              "        const buttonEl =\n",
              "          document.querySelector('#df-44be5459-0348-41bc-9cc5-143eedcc46c3 button.colab-df-convert');\n",
              "        buttonEl.style.display =\n",
              "          google.colab.kernel.accessAllowed ? 'block' : 'none';\n",
              "\n",
              "        async function convertToInteractive(key) {\n",
              "          const element = document.querySelector('#df-44be5459-0348-41bc-9cc5-143eedcc46c3');\n",
              "          const dataTable =\n",
              "            await google.colab.kernel.invokeFunction('convertToInteractive',\n",
              "                                                     [key], {});\n",
              "          if (!dataTable) return;\n",
              "\n",
              "          const docLinkHtml = 'Like what you see? Visit the ' +\n",
              "            '<a target=\"_blank\" href=https://colab.research.google.com/notebooks/data_table.ipynb>data table notebook</a>'\n",
              "            + ' to learn more about interactive tables.';\n",
              "          element.innerHTML = '';\n",
              "          dataTable['output_type'] = 'display_data';\n",
              "          await google.colab.output.renderOutput(dataTable, element);\n",
              "          const docLink = document.createElement('div');\n",
              "          docLink.innerHTML = docLinkHtml;\n",
              "          element.appendChild(docLink);\n",
              "        }\n",
              "      </script>\n",
              "    </div>\n",
              "  </div>\n",
              "  "
            ],
            "text/plain": [
              "                                     id  isCybergrooming  \\\n",
              "0      de15188e9fd515ed817a0b34546be902             True   \n",
              "1      17784c5a093477c1706b1a68cea7c802            False   \n",
              "2      15a38614944f5aa8bbb59d4153ecc12a            False   \n",
              "3      ee0aba2365c16a30cb36d1057a390b16            False   \n",
              "4      ca1b963746e368a4cec38ab4be3fdcf7            False   \n",
              "...                                 ...              ...   \n",
              "15324  85e044706ceca109b1adf6c744a4126c            False   \n",
              "15325  ec391a65097a955029afaedc23d5fa81             True   \n",
              "15326  82add2c9da3c267a98b3981375b6c238             True   \n",
              "15327  e2bc24141a2855dd6825d8b3132bfa11            False   \n",
              "15328  8deed7c66340728e6863f3d931d4cca7            False   \n",
              "\n",
              "                                                 authors  \\\n",
              "0      [{'id': 'b6fe182274453b707870b16e5d2ad562', 'i...   \n",
              "1      [{'id': 'fcfda042c76436b97eca32b6c0490d1d', 'i...   \n",
              "2      [{'id': '454addae11c0b90c0f36a98b77aa07a6', 'i...   \n",
              "3      [{'id': '471970f323f46dc39b5f07c6aa344686', 'i...   \n",
              "4      [{'id': 'ed6658e6f22583ed66fb5e5e735b9e63', 'i...   \n",
              "...                                                  ...   \n",
              "15324  [{'id': 'f8eb7d3ae7f27896e571109636a043e0', 'i...   \n",
              "15325  [{'id': '2e0d170f2addfb0048f9424a2daa5a73', 'i...   \n",
              "15326  [{'id': 'c5502c7c9bb5e28508a3e19ec869f6d2', 'i...   \n",
              "15327  [{'id': 'e46825dc4ec1ff89f6bb078ce5589357', 'i...   \n",
              "15328  [{'id': 'c3771abaa4e03712cd05a81c58bed44c', 'i...   \n",
              "\n",
              "                                                messages  \\\n",
              "0      [{'author': 'b6fe182274453b707870b16e5d2ad562'...   \n",
              "1      [{'author': '713349f3afa2dbe352d2abe4d3f01a12'...   \n",
              "2      [{'author': 'ee792e8acb278ddd16cc46020c694b0b'...   \n",
              "3      [{'author': 'bb2a120ae4ec93ef7c15f284b9b46544'...   \n",
              "4      [{'author': 'ed6658e6f22583ed66fb5e5e735b9e63'...   \n",
              "...                                                  ...   \n",
              "15324  [{'author': 'f8eb7d3ae7f27896e571109636a043e0'...   \n",
              "15325  [{'author': '2e0d170f2addfb0048f9424a2daa5a73'...   \n",
              "15326  [{'author': 'c5502c7c9bb5e28508a3e19ec869f6d2'...   \n",
              "15327  [{'author': 'bced152c52f046adc88110ad1e8b3e83'...   \n",
              "15328  [{'author': '48a4fba2c4916bbc8aae694a3877dca3'...   \n",
              "\n",
              "                                             messages_de  label  \n",
              "0      [\"de l'arrière\", 'ok baby', \"ce qui s'est pass...      1  \n",
              "1      ['Bonjour', 'Les garçons sont de la mer', 'qu’...      0  \n",
              "2      ['Bonjour', '19 m usa horny, u?', '2+2*2', '2+...      0  \n",
              "3      ['f/m?', 'Bonjour', 'de l’eau', 'f) Évaluation...      0  \n",
              "4      ['Merci, je suis maintenant de retour.', 'Je v...      0  \n",
              "...                                                  ...    ...  \n",
              "15324  ['J’aimerais vous remercier', 'Bonjour', 'Hey....      0  \n",
              "15325  ['Bonjour', 'Asl?', 'Heya, que se passe-t-il?'...      1  \n",
              "15326  ['Bonjour, comment est-ce?', \"J'aimerais vous ...      1  \n",
              "15327  ['Bonjour', 'm ou f', 'Bonjour', 'f) Évaluatio...      0  \n",
              "15328  ['un cheval un cheval', 'puits supérieurs', 'N...      0  \n",
              "\n",
              "[15329 rows x 6 columns]"
            ]
          },
          "execution_count": 8,
          "metadata": {},
          "output_type": "execute_result"
        }
      ],
      "source": [
        "fr_testset"
      ]
    },
    {
      "cell_type": "markdown",
      "metadata": {
        "id": "iYykcCKP41br"
      },
      "source": [
        "# **Model**"
      ]
    },
    {
      "cell_type": "code",
      "execution_count": null,
      "metadata": {
        "id": "X0h_eN0RMyMD"
      },
      "outputs": [],
      "source": [
        "#load model \n",
        "model= AutoModelForSequenceClassification.from_pretrained(\"xlm-roberta-base\")\n",
        "\n",
        "tokenizer = AutoTokenizer.from_pretrained('xlm-roberta-base')"
      ]
    },
    {
      "cell_type": "code",
      "execution_count": 9,
      "metadata": {
        "id": "Lwo100AVMyOx"
      },
      "outputs": [],
      "source": [
        "#data to list\n",
        "X_train = list(fr_trainset[\"messages_fr\"])\n",
        "y_train = list(fr_trainset[\"label\"])\n",
        "X_val = list(fr_valset[\"messages_fr\"])\n",
        "y_val = list(fr_valset[\"label\"])\n",
        "   "
      ]
    },
    {
      "cell_type": "code",
      "execution_count": 10,
      "metadata": {
        "id": "6X0fHYm4aemb"
      },
      "outputs": [],
      "source": [
        "#French testset\n",
        "X_test_fr = list(fr_testset[\"messages_de\"])\n",
        "y_test_fr = list(fr_testset[\"label\"])\n",
        "\n",
        "#Dutch testset \n",
        "##X_test_nl = list(nl_testset[\"messages_de\"])\n",
        "##y_test_nl = list(nl_testset[\"label\"])"
      ]
    },
    {
      "cell_type": "code",
      "execution_count": 11,
      "metadata": {
        "id": "-9pzKwhBMySE"
      },
      "outputs": [],
      "source": [
        "#tokenize train/val data \n",
        "train_encodings = tokenizer(X_train, truncation=True, padding=True, max_length=512)\n",
        "val_encodings = tokenizer(X_val, truncation=True, padding=True, max_length=512)\n"
      ]
    },
    {
      "cell_type": "code",
      "execution_count": 12,
      "metadata": {
        "id": "47QLpHFfdSlq"
      },
      "outputs": [],
      "source": [
        "#tokenize test data\n",
        "\n",
        "test_encodings_fr = tokenizer(X_test_fr, truncation=True, padding=True, max_length=512)\n",
        "#test_encodings_nl = tokenizer(X_test_nl, truncation=True, padding=True, max_length=512)"
      ]
    },
    {
      "cell_type": "code",
      "execution_count": 13,
      "metadata": {
        "id": "Y2Y2JRdYMyVJ"
      },
      "outputs": [],
      "source": [
        "# Create torch dataset\n",
        "class Dataset(torch.utils.data.Dataset):\n",
        "    def __init__(self, encodings, labels=None):\n",
        "        self.encodings = encodings\n",
        "        self.labels = labels\n",
        "\n",
        "    def __getitem__(self, idx):\n",
        "        item = {key: torch.tensor(val[idx]) for key, val in self.encodings.items()}\n",
        "        if self.labels:\n",
        "            item[\"labels\"] = torch.tensor(self.labels[idx])\n",
        "        return item\n",
        "\n",
        "    def __len__(self):\n",
        "        return len(self.encodings[\"input_ids\"])\n",
        "     "
      ]
    },
    {
      "cell_type": "code",
      "execution_count": 14,
      "metadata": {
        "id": "3RqHED1VMyYT"
      },
      "outputs": [],
      "source": [
        "#load the 3 datase\n",
        "train_dataset = Dataset(train_encodings, y_train)\n",
        "val_dataset = Dataset(val_encodings, y_val)\n",
        "\n",
        "#test_dataset_eng = Dataset(test_encodings_eng, y_test_eng)\n",
        "test_dataset_fr = Dataset(test_encodings_fr, y_test_fr)\n"
      ]
    },
    {
      "cell_type": "markdown",
      "metadata": {
        "id": "4w2P09oWkYdY"
      },
      "source": [
        "# **Model training on German**"
      ]
    },
    {
      "cell_type": "code",
      "execution_count": 15,
      "metadata": {
        "id": "5I7ib-UkMyd2"
      },
      "outputs": [],
      "source": [
        "# Define Trainer\n",
        "args = TrainingArguments(\n",
        "    output_dir=\"xmlRoberta_Fr\",\n",
        "    num_train_epochs=3,\n",
        "    per_device_train_batch_size=16\n",
        "\n",
        ")\n",
        "trainer = Trainer(\n",
        "    model=model,\n",
        "    args=args,\n",
        "    tokenizer=tokenizer,\n",
        "    train_dataset=train_dataset,\n",
        "    eval_dataset=val_dataset)"
      ]
    },
    {
      "cell_type": "code",
      "execution_count": 16,
      "metadata": {
        "colab": {
          "base_uri": "https://localhost:8080/",
          "height": 214
        },
        "id": "YQmI66erMye1",
        "outputId": "0e0b1c29-2be7-4d72-bf86-bd35ca13fd4c"
      },
      "outputs": [
        {
          "output_type": "stream",
          "name": "stderr",
          "text": [
            "/usr/local/lib/python3.10/dist-packages/transformers/optimization.py:391: FutureWarning: This implementation of AdamW is deprecated and will be removed in a future version. Use the PyTorch implementation torch.optim.AdamW instead, or set `no_deprecation_warning=True` to disable this warning\n",
            "  warnings.warn(\n",
            "You're using a XLMRobertaTokenizerFast tokenizer. Please note that with a fast tokenizer, using the `__call__` method is faster than using a method to encode the text followed by a call to the `pad` method to get a padded encoding.\n"
          ]
        },
        {
          "output_type": "display_data",
          "data": {
            "text/plain": [
              "<IPython.core.display.HTML object>"
            ],
            "text/html": [
              "\n",
              "    <div>\n",
              "      \n",
              "      <progress value='990' max='990' style='width:300px; height:20px; vertical-align: middle;'></progress>\n",
              "      [990/990 27:26, Epoch 3/3]\n",
              "    </div>\n",
              "    <table border=\"1\" class=\"dataframe\">\n",
              "  <thead>\n",
              " <tr style=\"text-align: left;\">\n",
              "      <th>Step</th>\n",
              "      <th>Training Loss</th>\n",
              "    </tr>\n",
              "  </thead>\n",
              "  <tbody>\n",
              "    <tr>\n",
              "      <td>500</td>\n",
              "      <td>0.262100</td>\n",
              "    </tr>\n",
              "  </tbody>\n",
              "</table><p>"
            ]
          },
          "metadata": {}
        },
        {
          "output_type": "execute_result",
          "data": {
            "text/plain": [
              "TrainOutput(global_step=990, training_loss=0.18666982939749052, metrics={'train_runtime': 1651.0585, 'train_samples_per_second': 9.576, 'train_steps_per_second': 0.6, 'total_flos': 4159785785241600.0, 'train_loss': 0.18666982939749052, 'epoch': 3.0})"
            ]
          },
          "metadata": {},
          "execution_count": 16
        }
      ],
      "source": [
        "#train\n",
        "trainer.train()"
      ]
    },
    {
      "cell_type": "code",
      "execution_count": null,
      "metadata": {
        "colab": {
          "base_uri": "https://localhost:8080/",
          "height": 359
        },
        "id": "fMLWqVEpMykV",
        "outputId": "fd0cac07-14f1-48b7-c704-7ec9d04ffe7d"
      },
      "outputs": [
        {
          "name": "stdout",
          "output_type": "stream",
          "text": [
            "Token is valid.\n",
            "Your token has been saved in your configured git credential helpers (store).\n",
            "Your token has been saved to /root/.cache/huggingface/token\n",
            "Login successful\n"
          ]
        }
      ],
      "source": [
        "notebook_login()\n"
      ]
    },
    {
      "cell_type": "code",
      "execution_count": null,
      "metadata": {
        "id": "D5gyxAKmMylL"
      },
      "outputs": [],
      "source": [
        "#push model to hub\n",
        "trainer.push_to_hub()"
      ]
    },
    {
      "cell_type": "markdown",
      "metadata": {
        "id": "Rv3ZAdAbsDkL"
      },
      "source": [
        "# **Test XML-Roberta on French test data**"
      ]
    },
    {
      "cell_type": "code",
      "execution_count": 17,
      "metadata": {
        "colab": {
          "base_uri": "https://localhost:8080/",
          "height": 17
        },
        "id": "P6sc54WeMyrl",
        "outputId": "ddf3ad1b-be27-4a79-dfbb-77be108184ee"
      },
      "outputs": [
        {
          "output_type": "display_data",
          "data": {
            "text/plain": [
              "<IPython.core.display.HTML object>"
            ],
            "text/html": []
          },
          "metadata": {}
        }
      ],
      "source": [
        "#get prediction from French test data \n",
        "predictions = trainer.predict(test_dataset_fr)\n",
        "preds_fr = np.argmax(predictions.predictions, axis=-1)\n",
        "     "
      ]
    },
    {
      "cell_type": "code",
      "execution_count": 18,
      "metadata": {
        "colab": {
          "base_uri": "https://localhost:8080/",
          "height": 66,
          "referenced_widgets": [
            "632aa55085ff4386ab89ff229839701d",
            "3fb9a0ca0deb4f46882864d661b1b21d",
            "31bd8d030d1140feb5157e59f6bf2657",
            "3f9c5a0243e1472fba33d1977d934d69",
            "f499d34691e14532b214795f5db2bbb8",
            "c8322ec66eeb46cf8f6f2b0d7742fef5",
            "d82ed65828414a1f978dc5faf6f97812",
            "3fab9d3a18e64173a87f61e8bc230f31",
            "abaf9ef99e0244d28adb68ec1ffc52e1",
            "beb0660857804b7dbd150ddb3e5db778",
            "d7cc66f6af2f4a5389864b2cc37bfe62"
          ]
        },
        "id": "9B7iAPr5NlOy",
        "outputId": "6d1f4126-2422-4b01-cac1-6f554433972f"
      },
      "outputs": [
        {
          "output_type": "display_data",
          "data": {
            "text/plain": [
              "Downloading builder script:   0%|          | 0.00/6.77k [00:00<?, ?B/s]"
            ],
            "application/vnd.jupyter.widget-view+json": {
              "version_major": 2,
              "version_minor": 0,
              "model_id": "632aa55085ff4386ab89ff229839701d"
            }
          },
          "metadata": {}
        },
        {
          "output_type": "execute_result",
          "data": {
            "text/plain": [
              "{'f1': 0.9491182144851288}"
            ]
          },
          "metadata": {},
          "execution_count": 18
        }
      ],
      "source": [
        "# macro f1 on test French data \n",
        "metric = evaluate.load(\"f1\")\n",
        "metric.compute(predictions=preds_fr, references=y_test_fr,  average=\"macro\")\n",
        "     "
      ]
    },
    {
      "cell_type": "code",
      "execution_count": 19,
      "metadata": {
        "id": "dAbA3_pxNlSH"
      },
      "outputs": [],
      "source": [
        "class_names = [ 'non predator', 'predator']\n",
        "     "
      ]
    },
    {
      "cell_type": "code",
      "execution_count": 20,
      "metadata": {
        "colab": {
          "base_uri": "https://localhost:8080/"
        },
        "id": "G0eksuGhGnHj",
        "outputId": "9bd54aa3-e4d4-4de5-c616-fa7adeab1a17"
      },
      "outputs": [
        {
          "output_type": "stream",
          "name": "stdout",
          "text": [
            "              precision    recall  f1-score   support\n",
            "\n",
            "non predator       1.00      0.98      0.99     13863\n",
            "    predator       0.86      0.96      0.91      1466\n",
            "\n",
            "    accuracy                           0.98     15329\n",
            "   macro avg       0.93      0.97      0.95     15329\n",
            "weighted avg       0.98      0.98      0.98     15329\n",
            "\n"
          ]
        }
      ],
      "source": [
        "#classification report\n",
        "\n",
        "print(classification_report(y_test_fr, preds_fr, target_names=class_names))"
      ]
    },
    {
      "cell_type": "code",
      "execution_count": 21,
      "metadata": {
        "colab": {
          "base_uri": "https://localhost:8080/",
          "height": 493
        },
        "id": "PnXr3YMGGsO9",
        "outputId": "89c14d2a-1a63-4fe0-8270-a6766cf6c361"
      },
      "outputs": [
        {
          "output_type": "display_data",
          "data": {
            "text/plain": [
              "<Figure size 640x480 with 2 Axes>"
            ],
            "image/png": "[encoded data removed]"
          },
          "metadata": {}
        }
      ],
      "source": [
        "#confusion matrix \n",
        "def show_confusion_matrix(confusion_matrix):\n",
        "  hmap = sns.heatmap(confusion_matrix, annot=True, fmt=\"d\", cmap=\"Blues\")\n",
        "  hmap.yaxis.set_ticklabels(hmap.yaxis.get_ticklabels(), rotation=0, ha='right')\n",
        "  hmap.xaxis.set_ticklabels(hmap.xaxis.get_ticklabels(), rotation=30, ha='right')\n",
        "  plt.ylabel('True label')\n",
        "  plt.xlabel('Predicted label');\n",
        "cm = confusion_matrix(y_test_fr, preds_fr)\n",
        "df_cm = pd.DataFrame(cm, index=class_names, columns=class_names)\n",
        "show_confusion_matrix(df_cm)\n",
        "     "
      ]
    },
    {
      "cell_type": "code",
      "execution_count": 22,
      "metadata": {
        "colab": {
          "base_uri": "https://localhost:8080/",
          "height": 465
        },
        "id": "a7nj9rFcGO_C",
        "outputId": "54b173b2-556d-4882-df2a-d2b15514ae18"
      },
      "outputs": [
        {
          "output_type": "display_data",
          "data": {
            "text/plain": [
              "<Figure size 500x500 with 1 Axes>"
            ],
            "image/png": "[encoded data removed]"
          },
          "metadata": {}
        }
      ],
      "source": [
        "from sklearn.metrics import roc_curve, auc\n",
        "\n",
        "fpr, tpr, threshold = roc_curve(y_test_fr, preds_fr)\n",
        "auc = auc(fpr, tpr)\n",
        "\n",
        "#svm_fpr, svm_tpr, threshold = roc_curve(y_test, y_pred_svm)\n",
        "#auc_svm = auc(svm_fpr, svm_tpr)\n",
        "\n",
        "plt.figure(figsize=(5, 5), dpi=100)\n",
        "#plt.plot(svm_fpr, svm_tpr, linestyle='-', label='SVM (auc = %0.3f)' % auc_svm)\n",
        "plt.plot(fpr, tpr, marker='.', label='Model (auc = %0.3f)' % auc)\n",
        "\n",
        "plt.xlabel('False Positive Rate -->')\n",
        "plt.ylabel('True Positive Rate -->')\n",
        "\n",
        "plt.legend()\n",
        "\n",
        "plt.show()"
      ]
    },
    {
      "cell_type": "code",
      "execution_count": 23,
      "metadata": {
        "colab": {
          "base_uri": "https://localhost:8080/"
        },
        "id": "AfSHa6EKGUMW",
        "outputId": "78e6124e-d26b-4ea4-cdca-931d443f386c"
      },
      "outputs": [
        {
          "output_type": "stream",
          "name": "stdout",
          "text": [
            "(array([   41,    75,    85,   157,   211,   284,   287,   342,   365,\n",
            "         435,   465,   723,   729,   734,   863,   886,   929,  1051,\n",
            "        1052,  1074,  1104,  1115,  1157,  1180,  1203,  1205,  1259,\n",
            "        1285,  1374,  1501,  1514,  1524,  1557,  1576,  1600,  1609,\n",
            "        1723,  1744,  1781,  1783,  1827,  1958,  2021,  2076,  2087,\n",
            "        2221,  2298,  2312,  2366,  2389,  2454,  2551,  2563,  2576,\n",
            "        2683,  2732,  2752,  2757,  2793,  2816,  2821,  2835,  2853,\n",
            "        2873,  2944,  3118,  3222,  3266,  3276,  3340,  3428,  3434,\n",
            "        3779,  3861,  3959,  4063,  4127,  4244,  4304,  4402,  4455,\n",
            "        4483,  4515,  4660,  4677,  4884,  4971,  5035,  5043,  5062,\n",
            "        5200,  5201,  5264,  5321,  5346,  5352,  5371,  5383,  5429,\n",
            "        5434,  5535,  5568,  5633,  5666,  5677,  5697,  5748,  5762,\n",
            "        5767,  5892,  5902,  5910,  5928,  5956,  6027,  6054,  6173,\n",
            "        6236,  6289,  6356,  6372,  6459,  6502,  6599,  6632,  6714,\n",
            "        6850,  6938,  6952,  6976,  7058,  7065,  7080,  7094,  7175,\n",
            "        7304,  7347,  7462,  7481,  7504,  7507,  7600,  7614,  7645,\n",
            "        7680,  7689,  7735,  7816,  7850,  7856,  7877,  7881,  7983,\n",
            "        8169,  8182,  8183,  8354,  8377,  8403,  8478,  8567,  8704,\n",
            "        8977,  9072,  9223,  9380,  9417,  9437,  9663,  9667,  9684,\n",
            "        9700,  9720,  9755,  9756,  9815,  9818,  9902, 10015, 10063,\n",
            "       10087, 10126, 10134, 10178, 10187, 10197, 10339, 10397, 10447,\n",
            "       10649, 10659, 10719, 10765, 10897, 10911, 10945, 10967, 11077,\n",
            "       11092, 11108, 11146, 11229, 11362, 11386, 11404, 11446, 11462,\n",
            "       11491, 11550, 11608, 11717, 11762, 11800, 11903, 11930, 11972,\n",
            "       12007, 12023, 12024, 12060, 12072, 12127, 12188, 12346, 12407,\n",
            "       12501, 12607, 12628, 12690, 12697, 12925, 12946, 12986, 13074,\n",
            "       13137, 13145, 13147, 13193, 13261, 13375, 13379, 13404, 13445,\n",
            "       13524, 13605, 13631, 13713, 13715, 13850, 13886, 13904, 13921,\n",
            "       13933, 13938, 13944, 13977, 14029, 14113, 14153, 14184, 14187,\n",
            "       14241, 14340, 14406, 14444, 14587, 14698, 14755, 14758, 14760,\n",
            "       14777, 14835, 14864, 14874, 14876, 14885, 14923, 15022, 15033,\n",
            "       15125, 15228, 15235, 15325]),)\n"
          ]
        }
      ],
      "source": [
        "#missclassified examples \n",
        "misclassified = np.where(preds_fr != y_test_fr)\n",
        "print(misclassified)"
      ]
    },
    {
      "cell_type": "code",
      "execution_count": 25,
      "metadata": {
        "colab": {
          "base_uri": "https://localhost:8080/"
        },
        "id": "1b5KD6cxGei7",
        "outputId": "9bf78d2a-b715-4281-b5f7-2066858ad59e"
      },
      "outputs": [
        {
          "output_type": "stream",
          "name": "stdout",
          "text": [
            "['Asl', '13 f sud du portland u?', 'Bonjour', 'comme les plus âgés?',\n",
            "'sable oui', '21m', 'refroidissement', \"Il n'y a pas d'autre chose à\n",
            "faire.\", 'sur mon métier', \"j'ai 1\", 'très joli', 'État de\n",
            "répartition', 'Oui', 'TÉLÉCOPIEUR', 'u a une photo', 'Ya (en anglais\n",
            "seulement)', 'connectez-vous avec moi', 'huh', 'Cliquez sur le bouton\n",
            "qui affiche les photos', 'en haut de la page', 'Il ne fonctionnera\n",
            "pas', 'envoyer par e-mail', 'quelle est votre adresse électronique',\n",
            "'L’objectif est d’améliorer la qualité de vie des Canadiens et des\n",
            "Canadiennes et d’améliorer l’accès à l’information.', 'k h/o', 'kk',\n",
            "'envoi', 'kk', \"je l'ai retenue\", 'omg ur cute', 'de l’eau potable',\n",
            "'où vous habitez', 'Scarborough (Québec)', 'est-ce près de moi?', 'où\n",
            "vous habitez', 'Territoires du Nord-Ouest', 'Ville voisine', \"Je viens\n",
            "de m'installer ici en nov.\", 'd’où', 'Michigan', 'o refroidissement',\n",
            "'Wha u like 2 do for fun (en anglais seulement)', 'de se détendre',\n",
            "'u?', 'la fête lol', 'haha', 'Si vous avez plus de photos de vous',\n",
            "'oui lol', 'Puis-je me faire parvenir quelques', 'kk attendez-vous',\n",
            "'Édition', \"Il n'y a rien\", \"kk laissez-moi l'envoyer par courriel\",\n",
            "'vingt-cinq ans', \"J'ai tout juste envoyé un courriel à vous\",\n",
            "'simplement réagir à cela', 'kk', \"Je ne sais pas ce que c'est mal.\n",
            "Qu'est-ce que notre courriel ami je ne peux pas revenir dans mon\n",
            "yahoo\", \"mon nom d'écran @yahoo.com\", 'kk Je vais vous envoyer un\n",
            "couple ok', 'ANNEXE', 'OK envoyé', '.......', 'oui', 'très joli',\n",
            "\"c'est vrai\", 'Oui', 'très chaude', 'wow thanx (en anglais\n",
            "seulement)', 'Est-ce que tu es célibataire?', 'pas lol r u?',\n",
            "'Aucune', \"Combien de poulet tu l'ai perdu?\", \"L'été dernier,\", \"Je\n",
            "l'ai fait trois fois.\", 'refroidissement', \"qu'il était âgé\", '17',\n",
            "\"Vous donnez à bj's?\", \"Je n'ai jamais fait cela.\", 'est-ce\n",
            "difficile?', 'seulement sauter du poit', 'Je me sens stupide, je ne\n",
            "fais pas beaucoup de choses divergentes.', \"c'est ok\", 'Je\n",
            "souhaiterais que je le fasse.', 'Je peux vous aider à l’enseigner\n",
            "lol', \"c'est vrai?\", 'Oui', \"Quand j'ai eu du sexe où il a cumé\", 'sur\n",
            "mon ventre', 'refroidissement', 'qu’est-ce que vous portez?', 'écrire\n",
            "maintenant?', 'Ya (en anglais seulement)', 'Un peu de sueur et un a\n",
            "tee', 'Quel est votre nom?', 'chris', 'Imbrooke (anglais seulement)',\n",
            "'Wha u doin', 'Vous quittez?', 'Non', 'u élégante', 'Si vous avez\n",
            "besoin de renseignements supplémentaires, veuillez communiquer avec le\n",
            "Secrétariat du Conseil du Trésor.', 'kk', \"hey quand j'arriverai la\n",
            "prochaine fois battez-moi kk\"]\n",
            "\n",
            "True label: predator\n",
            "\n",
            "Predicted label: 0\n"
          ]
        }
      ],
      "source": [
        "#example from the test data and its true and predicted labels\n",
        "idx = 1827\n",
        "review_text = fr_testset['messages_de'][idx]\n",
        "true_sentiment = y_test_fr[idx]\n",
        "pred_df = pd.DataFrame({\n",
        "  'class_names': class_names,\n",
        "  'values': preds_fr[idx]\n",
        "}) \n",
        "print(\"\\n\".join(wrap(review_text)))\n",
        "print()\n",
        "print(f'True label: {class_names[true_sentiment]}')\n",
        "print()\n",
        "print(f'Predicted label: {preds_fr[idx]}')\n"
      ]
    },
    {
      "cell_type": "code",
      "execution_count": 26,
      "metadata": {
        "colab": {
          "base_uri": "https://localhost:8080/"
        },
        "id": "UNUEISN6dazu",
        "outputId": "5b196551-393f-4988-f2ac-d1f35fa8a9ab"
      },
      "outputs": [
        {
          "output_type": "execute_result",
          "data": {
            "text/plain": [
              "15329"
            ]
          },
          "metadata": {},
          "execution_count": 26
        }
      ],
      "source": [
        "#len(preds_fr)"
      ]
    },
    {
      "cell_type": "code",
      "execution_count": null,
      "metadata": {
        "id": "b22HCJ20KALd"
      },
      "outputs": [],
      "source": [
        "#from transformers import AutoTokenizer, AutoModelForSequenceClassification\n",
        "\n",
        "#tokenizer_r = AutoTokenizer.from_pretrained(\"Constien/xmlRoberta_Fr\")\n",
        "#model_r = AutoModelForSequenceClassification.from_pretrained(\"Constien/xmlRoberta_Fr\")"
      ]
    }
  ],
  "metadata": {
    "accelerator": "GPU",
    "colab": {
      "machine_shape": "hm",
      "provenance": [],
      "authorship_tag": "ABX9TyMruKEzzOAZjCJlwEIMJfhj"
    },
    "gpuClass": "standard",
    "kernelspec": {
      "display_name": "Python 3",
      "name": "python3"
    },
    "language_info": {
      "name": "python"
    },
    "widgets": {
      "application/vnd.jupyter.widget-state+json": {
        "632aa55085ff4386ab89ff229839701d": {
          "model_module": "@jupyter-widgets/controls",
          "model_name": "HBoxModel",
          "model_module_version": "1.5.0",
          "state": {
            "_dom_classes": [],
            "_model_module": "@jupyter-widgets/controls",
            "_model_module_version": "1.5.0",
            "_model_name": "HBoxModel",
            "_view_count": null,
            "_view_module": "@jupyter-widgets/controls",
            "_view_module_version": "1.5.0",
            "_view_name": "HBoxView",
            "box_style": "",
            "children": [
              "IPY_MODEL_3fb9a0ca0deb4f46882864d661b1b21d",
              "IPY_MODEL_31bd8d030d1140feb5157e59f6bf2657",
              "IPY_MODEL_3f9c5a0243e1472fba33d1977d934d69"
            ],
            "layout": "IPY_MODEL_f499d34691e14532b214795f5db2bbb8"
          }
        },
        "3fb9a0ca0deb4f46882864d661b1b21d": {
          "model_module": "@jupyter-widgets/controls",
          "model_name": "HTMLModel",
          "model_module_version": "1.5.0",
          "state": {
            "_dom_classes": [],
            "_model_module": "@jupyter-widgets/controls",
            "_model_module_version": "1.5.0",
            "_model_name": "HTMLModel",
            "_view_count": null,
            "_view_module": "@jupyter-widgets/controls",
            "_view_module_version": "1.5.0",
            "_view_name": "HTMLView",
            "description": "",
            "description_tooltip": null,
            "layout": "IPY_MODEL_c8322ec66eeb46cf8f6f2b0d7742fef5",
            "placeholder": "​",
            "style": "IPY_MODEL_d82ed65828414a1f978dc5faf6f97812",
            "value": "Downloading builder script: 100%"
          }
        },
        "31bd8d030d1140feb5157e59f6bf2657": {
          "model_module": "@jupyter-widgets/controls",
          "model_name": "FloatProgressModel",
          "model_module_version": "1.5.0",
          "state": {
            "_dom_classes": [],
            "_model_module": "@jupyter-widgets/controls",
            "_model_module_version": "1.5.0",
            "_model_name": "FloatProgressModel",
            "_view_count": null,
            "_view_module": "@jupyter-widgets/controls",
            "_view_module_version": "1.5.0",
            "_view_name": "ProgressView",
            "bar_style": "success",
            "description": "",
            "description_tooltip": null,
            "layout": "IPY_MODEL_3fab9d3a18e64173a87f61e8bc230f31",
            "max": 6771,
            "min": 0,
            "orientation": "horizontal",
            "style": "IPY_MODEL_abaf9ef99e0244d28adb68ec1ffc52e1",
            "value": 6771
          }
        },
        "3f9c5a0243e1472fba33d1977d934d69": {
          "model_module": "@jupyter-widgets/controls",
          "model_name": "HTMLModel",
          "model_module_version": "1.5.0",
          "state": {
            "_dom_classes": [],
            "_model_module": "@jupyter-widgets/controls",
            "_model_module_version": "1.5.0",
            "_model_name": "HTMLModel",
            "_view_count": null,
            "_view_module": "@jupyter-widgets/controls",
            "_view_module_version": "1.5.0",
            "_view_name": "HTMLView",
            "description": "",
            "description_tooltip": null,
            "layout": "IPY_MODEL_beb0660857804b7dbd150ddb3e5db778",
            "placeholder": "​",
            "style": "IPY_MODEL_d7cc66f6af2f4a5389864b2cc37bfe62",
            "value": " 6.77k/6.77k [00:00&lt;00:00, 341kB/s]"
          }
        },
        "f499d34691e14532b214795f5db2bbb8": {
          "model_module": "@jupyter-widgets/base",
          "model_name": "LayoutModel",
          "model_module_version": "1.2.0",
          "state": {
            "_model_module": "@jupyter-widgets/base",
            "_model_module_version": "1.2.0",
            "_model_name": "LayoutModel",
            "_view_count": null,
            "_view_module": "@jupyter-widgets/base",
            "_view_module_version": "1.2.0",
            "_view_name": "LayoutView",
            "align_content": null,
            "align_items": null,
            "align_self": null,
            "border": null,
            "bottom": null,
            "display": null,
            "flex": null,
            "flex_flow": null,
            "grid_area": null,
            "grid_auto_columns": null,
            "grid_auto_flow": null,
            "grid_auto_rows": null,
            "grid_column": null,
            "grid_gap": null,
            "grid_row": null,
            "grid_template_areas": null,
            "grid_template_columns": null,
            "grid_template_rows": null,
            "height": null,
            "justify_content": null,
            "justify_items": null,
            "left": null,
            "margin": null,
            "max_height": null,
            "max_width": null,
            "min_height": null,
            "min_width": null,
            "object_fit": null,
            "object_position": null,
            "order": null,
            "overflow": null,
            "overflow_x": null,
            "overflow_y": null,
            "padding": null,
            "right": null,
            "top": null,
            "visibility": null,
            "width": null
          }
        },
        "c8322ec66eeb46cf8f6f2b0d7742fef5": {
          "model_module": "@jupyter-widgets/base",
          "model_name": "LayoutModel",
          "model_module_version": "1.2.0",
          "state": {
            "_model_module": "@jupyter-widgets/base",
            "_model_module_version": "1.2.0",
            "_model_name": "LayoutModel",
            "_view_count": null,
            "_view_module": "@jupyter-widgets/base",
            "_view_module_version": "1.2.0",
            "_view_name": "LayoutView",
            "align_content": null,
            "align_items": null,
            "align_self": null,
            "border": null,
            "bottom": null,
            "display": null,
            "flex": null,
            "flex_flow": null,
            "grid_area": null,
            "grid_auto_columns": null,
            "grid_auto_flow": null,
            "grid_auto_rows": null,
            "grid_column": null,
            "grid_gap": null,
            "grid_row": null,
            "grid_template_areas": null,
            "grid_template_columns": null,
            "grid_template_rows": null,
            "height": null,
            "justify_content": null,
            "justify_items": null,
            "left": null,
            "margin": null,
            "max_height": null,
            "max_width": null,
            "min_height": null,
            "min_width": null,
            "object_fit": null,
            "object_position": null,
            "order": null,
            "overflow": null,
            "overflow_x": null,
            "overflow_y": null,
            "padding": null,
            "right": null,
            "top": null,
            "visibility": null,
            "width": null
          }
        },
        "d82ed65828414a1f978dc5faf6f97812": {
          "model_module": "@jupyter-widgets/controls",
          "model_name": "DescriptionStyleModel",
          "model_module_version": "1.5.0",
          "state": {
            "_model_module": "@jupyter-widgets/controls",
            "_model_module_version": "1.5.0",
            "_model_name": "DescriptionStyleModel",
            "_view_count": null,
            "_view_module": "@jupyter-widgets/base",
            "_view_module_version": "1.2.0",
            "_view_name": "StyleView",
            "description_width": ""
          }
        },
        "3fab9d3a18e64173a87f61e8bc230f31": {
          "model_module": "@jupyter-widgets/base",
          "model_name": "LayoutModel",
          "model_module_version": "1.2.0",
          "state": {
            "_model_module": "@jupyter-widgets/base",
            "_model_module_version": "1.2.0",
            "_model_name": "LayoutModel",
            "_view_count": null,
            "_view_module": "@jupyter-widgets/base",
            "_view_module_version": "1.2.0",
            "_view_name": "LayoutView",
            "align_content": null,
            "align_items": null,
            "align_self": null,
            "border": null,
            "bottom": null,
            "display": null,
            "flex": null,
            "flex_flow": null,
            "grid_area": null,
            "grid_auto_columns": null,
            "grid_auto_flow": null,
            "grid_auto_rows": null,
            "grid_column": null,
            "grid_gap": null,
            "grid_row": null,
            "grid_template_areas": null,
            "grid_template_columns": null,
            "grid_template_rows": null,
            "height": null,
            "justify_content": null,
            "justify_items": null,
            "left": null,
            "margin": null,
            "max_height": null,
            "max_width": null,
            "min_height": null,
            "min_width": null,
            "object_fit": null,
            "object_position": null,
            "order": null,
            "overflow": null,
            "overflow_x": null,
            "overflow_y": null,
            "padding": null,
            "right": null,
            "top": null,
            "visibility": null,
            "width": null
          }
        },
        "abaf9ef99e0244d28adb68ec1ffc52e1": {
          "model_module": "@jupyter-widgets/controls",
          "model_name": "ProgressStyleModel",
          "model_module_version": "1.5.0",
          "state": {
            "_model_module": "@jupyter-widgets/controls",
            "_model_module_version": "1.5.0",
            "_model_name": "ProgressStyleModel",
            "_view_count": null,
            "_view_module": "@jupyter-widgets/base",
            "_view_module_version": "1.2.0",
            "_view_name": "StyleView",
            "bar_color": null,
            "description_width": ""
          }
        },
        "beb0660857804b7dbd150ddb3e5db778": {
          "model_module": "@jupyter-widgets/base",
          "model_name": "LayoutModel",
          "model_module_version": "1.2.0",
          "state": {
            "_model_module": "@jupyter-widgets/base",
            "_model_module_version": "1.2.0",
            "_model_name": "LayoutModel",
            "_view_count": null,
            "_view_module": "@jupyter-widgets/base",
            "_view_module_version": "1.2.0",
            "_view_name": "LayoutView",
            "align_content": null,
            "align_items": null,
            "align_self": null,
            "border": null,
            "bottom": null,
            "display": null,
            "flex": null,
            "flex_flow": null,
            "grid_area": null,
            "grid_auto_columns": null,
            "grid_auto_flow": null,
            "grid_auto_rows": null,
            "grid_column": null,
            "grid_gap": null,
            "grid_row": null,
            "grid_template_areas": null,
            "grid_template_columns": null,
            "grid_template_rows": null,
            "height": null,
            "justify_content": null,
            "justify_items": null,
            "left": null,
            "margin": null,
            "max_height": null,
            "max_width": null,
            "min_height": null,
            "min_width": null,
            "object_fit": null,
            "object_position": null,
            "order": null,
            "overflow": null,
            "overflow_x": null,
            "overflow_y": null,
            "padding": null,
            "right": null,
            "top": null,
            "visibility": null,
            "width": null
          }
        },
        "d7cc66f6af2f4a5389864b2cc37bfe62": {
          "model_module": "@jupyter-widgets/controls",
          "model_name": "DescriptionStyleModel",
          "model_module_version": "1.5.0",
          "state": {
            "_model_module": "@jupyter-widgets/controls",
            "_model_module_version": "1.5.0",
            "_model_name": "DescriptionStyleModel",
            "_view_count": null,
            "_view_module": "@jupyter-widgets/base",
            "_view_module_version": "1.2.0",
            "_view_name": "StyleView",
            "description_width": ""
          }
        }
      }
    }
  },
  "nbformat": 4,
  "nbformat_minor": 0
}