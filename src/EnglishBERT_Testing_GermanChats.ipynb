{
  "cells": [
    {
      "cell_type": "markdown",
      "metadata": {
        "id": "view-in-github",
        "colab_type": "text"
      },
      "source": [
        "<a href=\"https://colab.research.google.com/github/YuliaConstien/Cybergrooming_Detection_IM/blob/main/src/EnglishBERT_Testing_GermanChats.ipynb\" target=\"_parent\"><img src=\"https://colab.research.google.com/assets/colab-badge.svg\" alt=\"Open In Colab\"/></a>"
      ]
    },
    {
      "cell_type": "code",
      "execution_count": null,
      "metadata": {
        "id": "HJEM9ykSN_Ty"
      },
      "outputs": [],
      "source": [
        "#install hugging face evaluate \n",
        "!pip install evaluate "
      ]
    },
    {
      "cell_type": "code",
      "execution_count": null,
      "metadata": {
        "id": "oXxdc8fpN6W-"
      },
      "outputs": [],
      "source": [
        "# install transformers \n",
        "!pip install transformers"
      ]
    },
    {
      "cell_type": "code",
      "execution_count": 4,
      "metadata": {
        "id": "xp_jA2KKAN0X"
      },
      "outputs": [],
      "source": [
        "#imports \n",
        "\n",
        "import pandas as pd\n",
        "import numpy as np\n",
        "\n",
        "from textwrap import wrap\n",
        "\n",
        "\n",
        "from sklearn.model_selection import train_test_split\n",
        "\n",
        "import torch\n",
        "from torch import nn, optim\n",
        "from torch.utils.data import Dataset, DataLoader\n",
        "\n",
        "\n",
        "import transformers\n",
        "\n",
        "import seaborn as sns\n",
        "import matplotlib.pyplot as plt\n",
        "\n",
        "from transformers import TrainingArguments, Trainer\n",
        "from transformers import AutoTokenizer, AutoModelForSequenceClassification\n",
        "\n",
        "from transformers import TextClassificationPipeline\n",
        "from transformers import pipeline\n",
        "\n",
        "import evaluate\n",
        "\n",
        "from sklearn.metrics import accuracy_score, recall_score, precision_score, f1_score  \n",
        "\n",
        "from sklearn.metrics import confusion_matrix, classification_report  \n",
        "%matplotlib inline\n"
      ]
    },
    {
      "cell_type": "code",
      "execution_count": 3,
      "metadata": {
        "colab": {
          "base_uri": "https://localhost:8080/"
        },
        "id": "r8R7wZREaEeJ",
        "outputId": "4fd161e6-2489-47ca-ceba-fface8dd66e9"
      },
      "outputs": [
        {
          "output_type": "stream",
          "name": "stdout",
          "text": [
            "Mounted at /content/drive\n"
          ]
        }
      ],
      "source": [
        "#mount google drive\n",
        "from google.colab import drive\n",
        "drive.mount('/content/drive')"
      ]
    },
    {
      "cell_type": "code",
      "execution_count": null,
      "metadata": {
        "id": "hQebwhFV6hhM"
      },
      "outputs": [],
      "source": [
        "#load model\n",
        "#tokenizer = AutoTokenizer.from_pretrained(\"Constien/IM_Model\")\n",
        "\n",
        "#model = AutoModelForSequenceClassification.from_pretrained(\"Constien/IM_Model\")"
      ]
    },
    {
      "cell_type": "code",
      "execution_count": 26,
      "metadata": {
        "id": "HQ8LZXmvNmOL"
      },
      "outputs": [],
      "source": [
        "# German Testset\n",
        "\n",
        "train_seg = pd.read_csv('/content/drive/MyDrive/IM/VTPAN_csv/train_seg.csv')\n",
        "val_seg = pd.read_csv('/content/drive/MyDrive/IM/VTPAN_csv/val_seg.csv')\n",
        "\n",
        "ger_testset=pd.read_csv(\"/content/drive/MyDrive/IM/VTPAN_PAN12_Translated /test_german.csv\")\n"
      ]
    },
    {
      "cell_type": "code",
      "source": [
        "print(f'test dataset', ger_testset.shape)"
      ],
      "metadata": {
        "colab": {
          "base_uri": "https://localhost:8080/"
        },
        "id": "gZx5dfSiY6Da",
        "outputId": "bc8a4c63-6c74-4b17-adf6-e71092e0844d"
      },
      "execution_count": 59,
      "outputs": [
        {
          "output_type": "stream",
          "name": "stdout",
          "text": [
            "test dataset (15329, 6)\n"
          ]
        }
      ]
    },
    {
      "cell_type": "code",
      "source": [
        "#one-hot encoding the labels \n",
        "def to_sentiment(label):\n",
        "  if label == True:\n",
        "    return 1\n",
        "  elif label == False:\n",
        "    return 0\n",
        "\n",
        "ger_testset['label'] = ger_testset['label'].apply(to_sentiment)"
      ],
      "metadata": {
        "id": "r2gijonR3zTt"
      },
      "execution_count": 27,
      "outputs": []
    },
    {
      "cell_type": "code",
      "execution_count": 28,
      "metadata": {
        "colab": {
          "base_uri": "https://localhost:8080/",
          "height": 835
        },
        "id": "ZQdrHij-N4ke",
        "outputId": "d6455cb7-fb1c-4457-8113-932dc1cd6364"
      },
      "outputs": [
        {
          "output_type": "execute_result",
          "data": {
            "text/plain": [
              "                                   id  isCybergrooming  \\\n",
              "0    de15188e9fd515ed817a0b34546be902             True   \n",
              "1    17784c5a093477c1706b1a68cea7c802            False   \n",
              "2    15a38614944f5aa8bbb59d4153ecc12a            False   \n",
              "3    ee0aba2365c16a30cb36d1057a390b16            False   \n",
              "4    ca1b963746e368a4cec38ab4be3fdcf7            False   \n",
              "..                                ...              ...   \n",
              "147  31dce06eff712b0115cdbee96658457e            False   \n",
              "148  1a23bfbcb909c043cc6d99fd8335f769            False   \n",
              "149  49e99a177200e93d53cc2e55cfcce4c3            False   \n",
              "150  9723ee787c4a2ae853a514fc1cffb2cc             True   \n",
              "151  78186794530b76ba4ac0f59e96a6e29b            False   \n",
              "\n",
              "                                               authors  \\\n",
              "0    [{'id': 'b6fe182274453b707870b16e5d2ad562', 'i...   \n",
              "1    [{'id': 'fcfda042c76436b97eca32b6c0490d1d', 'i...   \n",
              "2    [{'id': '454addae11c0b90c0f36a98b77aa07a6', 'i...   \n",
              "3    [{'id': '471970f323f46dc39b5f07c6aa344686', 'i...   \n",
              "4    [{'id': 'ed6658e6f22583ed66fb5e5e735b9e63', 'i...   \n",
              "..                                                 ...   \n",
              "147  [{'id': 'd6c6208000043b6af62339da6f037a55', 'i...   \n",
              "148  [{'id': '577ecaeaa448e7aba6d2859d58ae37e2', 'i...   \n",
              "149  [{'id': 'e34c85accdea0132e3d8c3530f00df50', 'i...   \n",
              "150  [{'id': '9d2f75377ac0ab991d40c91fd27e52fd', 'i...   \n",
              "151  [{'id': 'c7b9653749d6ce597ca8b54d9662cb0e', 'i...   \n",
              "\n",
              "                                              messages  \\\n",
              "0    [{'author': 'b6fe182274453b707870b16e5d2ad562'...   \n",
              "1    [{'author': '713349f3afa2dbe352d2abe4d3f01a12'...   \n",
              "2    [{'author': 'ee792e8acb278ddd16cc46020c694b0b'...   \n",
              "3    [{'author': 'bb2a120ae4ec93ef7c15f284b9b46544'...   \n",
              "4    [{'author': 'ed6658e6f22583ed66fb5e5e735b9e63'...   \n",
              "..                                                 ...   \n",
              "147  [{'author': 'd6c6208000043b6af62339da6f037a55'...   \n",
              "148  [{'author': '577ecaeaa448e7aba6d2859d58ae37e2'...   \n",
              "149  [{'author': 'e34c85accdea0132e3d8c3530f00df50'...   \n",
              "150  [{'author': '9d2f75377ac0ab991d40c91fd27e52fd'...   \n",
              "151  [{'author': 'c7b9653749d6ce597ca8b54d9662cb0e'...   \n",
              "\n",
              "                                           messages_de  label  \n",
              "0    ['Rückseite', 'ok baby', 'was passiert Baby', ...      1  \n",
              "1    ['Hallo', 'Jungs sind Scheiß', 'dass sie', 'Ha...      0  \n",
              "2    ['Hallo', '19 m USA horny, u?', '2+2*2', '2+2*...      0  \n",
              "3    ['f/m?', 'Hallo', 'da', 'f', 'u?', 'Hallo', 'm...      0  \n",
              "4    ['tut mir leid, ich bin jetzt wieder.', 'und f...      0  \n",
              "..                                                 ...    ...  \n",
              "147  ['?', '??', 'hallo~~~~~~~~~~~~~~~~~~~~~~~', 'H...      0  \n",
              "148  ['Penis?', 'Hallo', 'ja', 'u?', 'Sind Sie Homo...      0  \n",
              "149  ['hey', 'Hallo', 'Asi', '19', 'hey hey', 'f', ...      0  \n",
              "150  ['hey', 'wie ist meine sexy kleine Schlampe?',...      1  \n",
              "151  ['wo kann ich die neueste Version von Audio hq...      0  \n",
              "\n",
              "[152 rows x 6 columns]"
            ],
            "text/html": [
              "\n",
              "  <div id=\"df-8cb5e0b1-df4c-4f86-b085-adf2672de41d\">\n",
              "    <div class=\"colab-df-container\">\n",
              "      <div>\n",
              "<style scoped>\n",
              "    .dataframe tbody tr th:only-of-type {\n",
              "        vertical-align: middle;\n",
              "    }\n",
              "\n",
              "    .dataframe tbody tr th {\n",
              "        vertical-align: top;\n",
              "    }\n",
              "\n",
              "    .dataframe thead th {\n",
              "        text-align: right;\n",
              "    }\n",
              "</style>\n",
              "<table border=\"1\" class=\"dataframe\">\n",
              "  <thead>\n",
              "    <tr style=\"text-align: right;\">\n",
              "      <th></th>\n",
              "      <th>id</th>\n",
              "      <th>isCybergrooming</th>\n",
              "      <th>authors</th>\n",
              "      <th>messages</th>\n",
              "      <th>messages_de</th>\n",
              "      <th>label</th>\n",
              "    </tr>\n",
              "  </thead>\n",
              "  <tbody>\n",
              "    <tr>\n",
              "      <th>0</th>\n",
              "      <td>de15188e9fd515ed817a0b34546be902</td>\n",
              "      <td>True</td>\n",
              "      <td>[{'id': 'b6fe182274453b707870b16e5d2ad562', 'i...</td>\n",
              "      <td>[{'author': 'b6fe182274453b707870b16e5d2ad562'...</td>\n",
              "      <td>['Rückseite', 'ok baby', 'was passiert Baby', ...</td>\n",
              "      <td>1</td>\n",
              "    </tr>\n",
              "    <tr>\n",
              "      <th>1</th>\n",
              "      <td>17784c5a093477c1706b1a68cea7c802</td>\n",
              "      <td>False</td>\n",
              "      <td>[{'id': 'fcfda042c76436b97eca32b6c0490d1d', 'i...</td>\n",
              "      <td>[{'author': '713349f3afa2dbe352d2abe4d3f01a12'...</td>\n",
              "      <td>['Hallo', 'Jungs sind Scheiß', 'dass sie', 'Ha...</td>\n",
              "      <td>0</td>\n",
              "    </tr>\n",
              "    <tr>\n",
              "      <th>2</th>\n",
              "      <td>15a38614944f5aa8bbb59d4153ecc12a</td>\n",
              "      <td>False</td>\n",
              "      <td>[{'id': '454addae11c0b90c0f36a98b77aa07a6', 'i...</td>\n",
              "      <td>[{'author': 'ee792e8acb278ddd16cc46020c694b0b'...</td>\n",
              "      <td>['Hallo', '19 m USA horny, u?', '2+2*2', '2+2*...</td>\n",
              "      <td>0</td>\n",
              "    </tr>\n",
              "    <tr>\n",
              "      <th>3</th>\n",
              "      <td>ee0aba2365c16a30cb36d1057a390b16</td>\n",
              "      <td>False</td>\n",
              "      <td>[{'id': '471970f323f46dc39b5f07c6aa344686', 'i...</td>\n",
              "      <td>[{'author': 'bb2a120ae4ec93ef7c15f284b9b46544'...</td>\n",
              "      <td>['f/m?', 'Hallo', 'da', 'f', 'u?', 'Hallo', 'm...</td>\n",
              "      <td>0</td>\n",
              "    </tr>\n",
              "    <tr>\n",
              "      <th>4</th>\n",
              "      <td>ca1b963746e368a4cec38ab4be3fdcf7</td>\n",
              "      <td>False</td>\n",
              "      <td>[{'id': 'ed6658e6f22583ed66fb5e5e735b9e63', 'i...</td>\n",
              "      <td>[{'author': 'ed6658e6f22583ed66fb5e5e735b9e63'...</td>\n",
              "      <td>['tut mir leid, ich bin jetzt wieder.', 'und f...</td>\n",
              "      <td>0</td>\n",
              "    </tr>\n",
              "    <tr>\n",
              "      <th>...</th>\n",
              "      <td>...</td>\n",
              "      <td>...</td>\n",
              "      <td>...</td>\n",
              "      <td>...</td>\n",
              "      <td>...</td>\n",
              "      <td>...</td>\n",
              "    </tr>\n",
              "    <tr>\n",
              "      <th>147</th>\n",
              "      <td>31dce06eff712b0115cdbee96658457e</td>\n",
              "      <td>False</td>\n",
              "      <td>[{'id': 'd6c6208000043b6af62339da6f037a55', 'i...</td>\n",
              "      <td>[{'author': 'd6c6208000043b6af62339da6f037a55'...</td>\n",
              "      <td>['?', '??', 'hallo~~~~~~~~~~~~~~~~~~~~~~~', 'H...</td>\n",
              "      <td>0</td>\n",
              "    </tr>\n",
              "    <tr>\n",
              "      <th>148</th>\n",
              "      <td>1a23bfbcb909c043cc6d99fd8335f769</td>\n",
              "      <td>False</td>\n",
              "      <td>[{'id': '577ecaeaa448e7aba6d2859d58ae37e2', 'i...</td>\n",
              "      <td>[{'author': '577ecaeaa448e7aba6d2859d58ae37e2'...</td>\n",
              "      <td>['Penis?', 'Hallo', 'ja', 'u?', 'Sind Sie Homo...</td>\n",
              "      <td>0</td>\n",
              "    </tr>\n",
              "    <tr>\n",
              "      <th>149</th>\n",
              "      <td>49e99a177200e93d53cc2e55cfcce4c3</td>\n",
              "      <td>False</td>\n",
              "      <td>[{'id': 'e34c85accdea0132e3d8c3530f00df50', 'i...</td>\n",
              "      <td>[{'author': 'e34c85accdea0132e3d8c3530f00df50'...</td>\n",
              "      <td>['hey', 'Hallo', 'Asi', '19', 'hey hey', 'f', ...</td>\n",
              "      <td>0</td>\n",
              "    </tr>\n",
              "    <tr>\n",
              "      <th>150</th>\n",
              "      <td>9723ee787c4a2ae853a514fc1cffb2cc</td>\n",
              "      <td>True</td>\n",
              "      <td>[{'id': '9d2f75377ac0ab991d40c91fd27e52fd', 'i...</td>\n",
              "      <td>[{'author': '9d2f75377ac0ab991d40c91fd27e52fd'...</td>\n",
              "      <td>['hey', 'wie ist meine sexy kleine Schlampe?',...</td>\n",
              "      <td>1</td>\n",
              "    </tr>\n",
              "    <tr>\n",
              "      <th>151</th>\n",
              "      <td>78186794530b76ba4ac0f59e96a6e29b</td>\n",
              "      <td>False</td>\n",
              "      <td>[{'id': 'c7b9653749d6ce597ca8b54d9662cb0e', 'i...</td>\n",
              "      <td>[{'author': 'c7b9653749d6ce597ca8b54d9662cb0e'...</td>\n",
              "      <td>['wo kann ich die neueste Version von Audio hq...</td>\n",
              "      <td>0</td>\n",
              "    </tr>\n",
              "  </tbody>\n",
              "</table>\n",
              "<p>152 rows × 6 columns</p>\n",
              "</div>\n",
              "      <button class=\"colab-df-convert\" onclick=\"convertToInteractive('df-8cb5e0b1-df4c-4f86-b085-adf2672de41d')\"\n",
              "              title=\"Convert this dataframe to an interactive table.\"\n",
              "              style=\"display:none;\">\n",
              "        \n",
              "  <svg xmlns=\"http://www.w3.org/2000/svg\" height=\"24px\"viewBox=\"0 0 24 24\"\n",
              "       width=\"24px\">\n",
              "    <path d=\"M0 0h24v24H0V0z\" fill=\"none\"/>\n",
              "    <path d=\"M18.56 5.44l.94 2.06.94-2.06 2.06-.94-2.06-.94-.94-2.06-.94 2.06-2.06.94zm-11 1L8.5 8.5l.94-2.06 2.06-.94-2.06-.94L8.5 2.5l-.94 2.06-2.06.94zm10 10l.94 2.06.94-2.06 2.06-.94-2.06-.94-.94-2.06-.94 2.06-2.06.94z\"/><path d=\"M17.41 7.96l-1.37-1.37c-.4-.4-.92-.59-1.43-.59-.52 0-1.04.2-1.43.59L10.3 9.45l-7.72 7.72c-.78.78-.78 2.05 0 2.83L4 21.41c.39.39.9.59 1.41.59.51 0 1.02-.2 1.41-.59l7.78-7.78 2.81-2.81c.8-.78.8-2.07 0-2.86zM5.41 20L4 18.59l7.72-7.72 1.47 1.35L5.41 20z\"/>\n",
              "  </svg>\n",
              "      </button>\n",
              "      \n",
              "  <style>\n",
              "    .colab-df-container {\n",
              "      display:flex;\n",
              "      flex-wrap:wrap;\n",
              "      gap: 12px;\n",
              "    }\n",
              "\n",
              "    .colab-df-convert {\n",
              "      background-color: #E8F0FE;\n",
              "      border: none;\n",
              "      border-radius: 50%;\n",
              "      cursor: pointer;\n",
              "      display: none;\n",
              "      fill: #1967D2;\n",
              "      height: 32px;\n",
              "      padding: 0 0 0 0;\n",
              "      width: 32px;\n",
              "    }\n",
              "\n",
              "    .colab-df-convert:hover {\n",
              "      background-color: #E2EBFA;\n",
              "      box-shadow: 0px 1px 2px rgba(60, 64, 67, 0.3), 0px 1px 3px 1px rgba(60, 64, 67, 0.15);\n",
              "      fill: #174EA6;\n",
              "    }\n",
              "\n",
              "    [theme=dark] .colab-df-convert {\n",
              "      background-color: #3B4455;\n",
              "      fill: #D2E3FC;\n",
              "    }\n",
              "\n",
              "    [theme=dark] .colab-df-convert:hover {\n",
              "      background-color: #434B5C;\n",
              "      box-shadow: 0px 1px 3px 1px rgba(0, 0, 0, 0.15);\n",
              "      filter: drop-shadow(0px 1px 2px rgba(0, 0, 0, 0.3));\n",
              "      fill: #FFFFFF;\n",
              "    }\n",
              "  </style>\n",
              "\n",
              "      <script>\n",
              "        const buttonEl =\n",
              "          document.querySelector('#df-8cb5e0b1-df4c-4f86-b085-adf2672de41d button.colab-df-convert');\n",
              "        buttonEl.style.display =\n",
              "          google.colab.kernel.accessAllowed ? 'block' : 'none';\n",
              "\n",
              "        async function convertToInteractive(key) {\n",
              "          const element = document.querySelector('#df-8cb5e0b1-df4c-4f86-b085-adf2672de41d');\n",
              "          const dataTable =\n",
              "            await google.colab.kernel.invokeFunction('convertToInteractive',\n",
              "                                                     [key], {});\n",
              "          if (!dataTable) return;\n",
              "\n",
              "          const docLinkHtml = 'Like what you see? Visit the ' +\n",
              "            '<a target=\"_blank\" href=https://colab.research.google.com/notebooks/data_table.ipynb>data table notebook</a>'\n",
              "            + ' to learn more about interactive tables.';\n",
              "          element.innerHTML = '';\n",
              "          dataTable['output_type'] = 'display_data';\n",
              "          await google.colab.output.renderOutput(dataTable, element);\n",
              "          const docLink = document.createElement('div');\n",
              "          docLink.innerHTML = docLinkHtml;\n",
              "          element.appendChild(docLink);\n",
              "        }\n",
              "      </script>\n",
              "    </div>\n",
              "  </div>\n",
              "  "
            ]
          },
          "metadata": {},
          "execution_count": 28
        }
      ],
      "source": [
        "ger_testset.head(152)"
      ]
    },
    {
      "cell_type": "code",
      "execution_count": 29,
      "metadata": {
        "id": "C9WKQNeUZndH"
      },
      "outputs": [],
      "source": [
        "#data to list\n",
        "\n",
        "X_train = list(train_seg[\"segment\"])\n",
        "y_train = list(train_seg[\"label\"])\n",
        "X_val = list(val_seg[\"segment\"])\n",
        "y_val = list(val_seg[\"label\"])\n",
        "\n",
        "X_test= list(ger_testset['messages_de'])\n",
        "y_test = list(ger_testset[\"label\"])\n"
      ]
    },
    {
      "cell_type": "code",
      "execution_count": 30,
      "metadata": {
        "id": "MsJo_gaOX72I"
      },
      "outputs": [],
      "source": [
        "#tokenize \n",
        "train_encodings = tokenizer(X_train, truncation=True, padding=True, max_length=512)\n",
        "val_encodings = tokenizer(X_val, truncation=True, padding=True, max_length=512)\n",
        "\n",
        "test_encodings = tokenizer(X_test, truncation=True, padding=True, max_length=512)\n"
      ]
    },
    {
      "cell_type": "code",
      "execution_count": 17,
      "metadata": {
        "id": "EerSFcj2X8BV"
      },
      "outputs": [],
      "source": [
        "# Create torch dataset\n",
        "class Dataset(torch.utils.data.Dataset):\n",
        "    def __init__(self, encodings, labels=None):\n",
        "        self.encodings = encodings\n",
        "        self.labels = labels\n",
        "\n",
        "    def __getitem__(self, idx):\n",
        "        item = {key: torch.tensor(val[idx]) for key, val in self.encodings.items()}\n",
        "        if self.labels:\n",
        "            item[\"labels\"] = torch.tensor(self.labels[idx])\n",
        "        return item\n",
        "\n",
        "    def __len__(self):\n",
        "        return len(self.encodings[\"input_ids\"])"
      ]
    },
    {
      "cell_type": "code",
      "execution_count": 31,
      "metadata": {
        "id": "h39abYTKX8Eq"
      },
      "outputs": [],
      "source": [
        "#load dataset\n",
        "train_dataset_S = Dataset(train_encodings, y_train)\n",
        "val_dataset_S = Dataset(val_encodings, y_val)\n",
        "\n",
        "test_dataset_ger = Dataset(test_encodings, y_test)"
      ]
    },
    {
      "cell_type": "code",
      "source": [
        "# Define Trainer\n",
        "args = TrainingArguments(\n",
        "    output_dir=\"IM_seg\",\n",
        "    num_train_epochs=3,\n",
        "    per_device_train_batch_size=16\n",
        "\n",
        ")\n",
        "trainer = Trainer(\n",
        "    model=model,\n",
        "    args=args,\n",
        "    tokenizer=tokenizer,\n",
        "    train_dataset=train_dataset_S,\n",
        "    eval_dataset=val_dataset_S)"
      ],
      "metadata": {
        "id": "IaWE7vA2dGKv"
      },
      "execution_count": 19,
      "outputs": []
    },
    {
      "cell_type": "code",
      "source": [
        "#train\n",
        "#trainer.train()"
      ],
      "metadata": {
        "id": "MOkmehc-DZeq"
      },
      "execution_count": null,
      "outputs": []
    },
    {
      "cell_type": "markdown",
      "source": [
        "**Testing monolingual EnglishBERT on German test data**"
      ],
      "metadata": {
        "id": "2Ms0mS1Hag66"
      }
    },
    {
      "cell_type": "code",
      "execution_count": 32,
      "metadata": {
        "colab": {
          "base_uri": "https://localhost:8080/",
          "height": 17
        },
        "id": "yMV9suxtmjUp",
        "outputId": "cb0e3c68-9818-44c0-940f-1359bc7f8ea5"
      },
      "outputs": [
        {
          "output_type": "display_data",
          "data": {
            "text/plain": [
              "<IPython.core.display.HTML object>"
            ],
            "text/html": []
          },
          "metadata": {}
        }
      ],
      "source": [
        "#get prediction from test data \n",
        "predictions = trainer.predict(test_dataset_ger)\n",
        "preds = np.argmax(predictions.predictions, axis=-1)"
      ]
    },
    {
      "cell_type": "code",
      "execution_count": 33,
      "metadata": {
        "colab": {
          "base_uri": "https://localhost:8080/",
          "height": 66,
          "referenced_widgets": [
            "2e9baa45fdeb4be3bd41a8e77573a231",
            "4ee6a14fbdc44711b936901af06a1577",
            "11acd47de32b42319166f511ca0006a4",
            "ab46658b806e4d6fb601d9980bf7c7ca",
            "9775942248ed4776be50f3eb79ccaed8",
            "cd78e46a2d00446f8de10eb73882cf7b",
            "9aec79e867514ee69cc0d5ba5bd1a232",
            "b880615c063b45569d023f290a6d4acf",
            "85555f0bebd948258e9b809bb607de29",
            "f3782578e7284664a1b075c1b6af22a1",
            "62c0c590803d48bc9dffdc0fa573b880"
          ]
        },
        "id": "hHaHIzO4mqRP",
        "outputId": "67d32108-7c3c-4bdf-fd27-0b97ba437015"
      },
      "outputs": [
        {
          "output_type": "display_data",
          "data": {
            "text/plain": [
              "Downloading builder script:   0%|          | 0.00/6.77k [00:00<?, ?B/s]"
            ],
            "application/vnd.jupyter.widget-view+json": {
              "version_major": 2,
              "version_minor": 0,
              "model_id": "2e9baa45fdeb4be3bd41a8e77573a231"
            }
          },
          "metadata": {}
        },
        {
          "output_type": "execute_result",
          "data": {
            "text/plain": [
              "{'f1': 0.47489038092628116}"
            ]
          },
          "metadata": {},
          "execution_count": 33
        }
      ],
      "source": [
        "# macro f1 on test data \n",
        "metric = evaluate.load(\"f1\")\n",
        "metric.compute(predictions=preds, references=y_test,  average=\"macro\")"
      ]
    },
    {
      "cell_type": "code",
      "execution_count": 42,
      "metadata": {
        "id": "g4idi3JnnyVB"
      },
      "outputs": [],
      "source": [
        "class_names = [ 'non_predator', 'Predator']"
      ]
    },
    {
      "cell_type": "code",
      "source": [
        "#classification report\n",
        "\n",
        "print(classification_report(y_test, preds, target_names=class_names))"
      ],
      "metadata": {
        "colab": {
          "base_uri": "https://localhost:8080/"
        },
        "id": "UYmgyviCLcPj",
        "outputId": "12b250fb-b65d-45c3-e0bd-1a4289411f9e"
      },
      "execution_count": 43,
      "outputs": [
        {
          "output_type": "stream",
          "name": "stdout",
          "text": [
            "              precision    recall  f1-score   support\n",
            "\n",
            "non_predator       0.90      1.00      0.95     13863\n",
            "    Predator       0.00      0.00      0.00      1466\n",
            "\n",
            "    accuracy                           0.90     15329\n",
            "   macro avg       0.45      0.50      0.47     15329\n",
            "weighted avg       0.82      0.90      0.86     15329\n",
            "\n"
          ]
        },
        {
          "output_type": "stream",
          "name": "stderr",
          "text": [
            "/usr/local/lib/python3.9/dist-packages/sklearn/metrics/_classification.py:1344: UndefinedMetricWarning: Precision and F-score are ill-defined and being set to 0.0 in labels with no predicted samples. Use `zero_division` parameter to control this behavior.\n",
            "  _warn_prf(average, modifier, msg_start, len(result))\n",
            "/usr/local/lib/python3.9/dist-packages/sklearn/metrics/_classification.py:1344: UndefinedMetricWarning: Precision and F-score are ill-defined and being set to 0.0 in labels with no predicted samples. Use `zero_division` parameter to control this behavior.\n",
            "  _warn_prf(average, modifier, msg_start, len(result))\n",
            "/usr/local/lib/python3.9/dist-packages/sklearn/metrics/_classification.py:1344: UndefinedMetricWarning: Precision and F-score are ill-defined and being set to 0.0 in labels with no predicted samples. Use `zero_division` parameter to control this behavior.\n",
            "  _warn_prf(average, modifier, msg_start, len(result))\n"
          ]
        }
      ]
    },
    {
      "cell_type": "code",
      "source": [
        "#confusion matrix \n",
        "def show_confusion_matrix(confusion_matrix):\n",
        "  hmap = sns.heatmap(confusion_matrix, annot=True, fmt=\"d\", cmap=\"Blues\")\n",
        "  hmap.yaxis.set_ticklabels(hmap.yaxis.get_ticklabels(), rotation=0, ha='right')\n",
        "  hmap.xaxis.set_ticklabels(hmap.xaxis.get_ticklabels(), rotation=30, ha='right')\n",
        "  plt.ylabel('True label')\n",
        "  plt.xlabel('Predicted label');\n",
        "cm = confusion_matrix(y_test, preds)\n",
        "df_cm = pd.DataFrame(cm, index=class_names, columns=class_names)\n",
        "show_confusion_matrix(df_cm)"
      ],
      "metadata": {
        "colab": {
          "base_uri": "https://localhost:8080/",
          "height": 312
        },
        "id": "8UOHdkchLW4w",
        "outputId": "00708060-6a06-4180-cbaa-9dfcf2fb2597"
      },
      "execution_count": 44,
      "outputs": [
        {
          "output_type": "display_data",
          "data": {
            "text/plain": [
              "<Figure size 432x288 with 2 Axes>"
            ],
            "image/png": "[encoded data removed]"
          },
          "metadata": {
            "needs_background": "light"
          }
        }
      ]
    },
    {
      "cell_type": "code",
      "execution_count": 58,
      "metadata": {
        "id": "8r5ub2ZDm-jw",
        "colab": {
          "base_uri": "https://localhost:8080/"
        },
        "outputId": "bc634bfd-734a-44e8-a032-070e4ef21223"
      },
      "outputs": [
        {
          "output_type": "stream",
          "name": "stdout",
          "text": [
            "['Rückseite', 'ok baby', 'was passiert Baby', 'Hund wollte heraus n\n",
            "dann zog sie ab laufend die Straße hinunter', 'Oh Mann ich hasse das\n",
            "was für eine Art von Gott?', 'Drahthund', 'ic ich habe einen Pitbull\n",
            "er ist ein süßes Herz', 'kühle', 'er denkt, er sei ein kleiner Hund',\n",
            "'lol', 'mag er 2 sit n ur lap?', 'wenn er seinen Weg hatte, würde er\n",
            "es tun, aber er wird sich ausstrecken und die Couch übernehmen',\n",
            "'lol', 'wollen seine Baby-Fotos sehen', 'AWWWWW', 'hes SOOOOO\n",
            "niedlich!!', 'eine geöffnet', 'die anderen 2 nicht', 'ok', 'er ist so\n",
            "klein', 'ja, aber nicht mehr', 'was machst du?', 'wo wo u wo und tun\n",
            "Baby', 'Ich bin hier', ':) ok', '>:D<', '>:D<;;):-*', 'Sie wissen, was\n",
            "Baby Ihr sssoooo allsome', 'Danke!', 'Scotland', 'Haben Sie Abendessen\n",
            "noch gegessen?', 'ja ich bestellte papjohns pizza und u baby', 'werde\n",
            "jetzt gehen essen', 'wird u b in später?', 'ok babby was du essest?',\n",
            "'Hühner', 'mmm', 'bbl', ':-*', 'PO', 'ok', ':-*']\n",
            "\n",
            "True label: Predator\n",
            "\n",
            "Predicted label: 0\n"
          ]
        }
      ],
      "source": [
        "#example from the test data and its true and predicted labels\n",
        "idx = 0\n",
        "review_text = X_test[idx]\n",
        "true_sentiment = y_test[idx]\n",
        "pred_df = pd.DataFrame({\n",
        "  'class_names': class_names,\n",
        "  'values': preds[idx]\n",
        "}) \n",
        "print(\"\\n\".join(wrap(review_text)))\n",
        "print()\n",
        "print(f'True label: {class_names[true_sentiment]}')\n",
        "print()\n",
        "print(f'Predicted label: {preds[idx]}')\n"
      ]
    }
  ],
  "metadata": {
    "colab": {
      "provenance": [],
      "authorship_tag": "ABX9TyOdR9fDT6Nh/c+5/+KQWWqg",
      "include_colab_link": true
    },
    "gpuClass": "standard",
    "kernelspec": {
      "display_name": "Python 3",
      "name": "python3"
    },
    "language_info": {
      "name": "python"
    },
    "widgets": {
      "application/vnd.jupyter.widget-state+json": {
        "2e9baa45fdeb4be3bd41a8e77573a231": {
          "model_module": "@jupyter-widgets/controls",
          "model_name": "HBoxModel",
          "model_module_version": "1.5.0",
          "state": {
            "_dom_classes": [],
            "_model_module": "@jupyter-widgets/controls",
            "_model_module_version": "1.5.0",
            "_model_name": "HBoxModel",
            "_view_count": null,
            "_view_module": "@jupyter-widgets/controls",
            "_view_module_version": "1.5.0",
            "_view_name": "HBoxView",
            "box_style": "",
            "children": [
              "IPY_MODEL_4ee6a14fbdc44711b936901af06a1577",
              "IPY_MODEL_11acd47de32b42319166f511ca0006a4",
              "IPY_MODEL_ab46658b806e4d6fb601d9980bf7c7ca"
            ],
            "layout": "IPY_MODEL_9775942248ed4776be50f3eb79ccaed8"
          }
        },
        "4ee6a14fbdc44711b936901af06a1577": {
          "model_module": "@jupyter-widgets/controls",
          "model_name": "HTMLModel",
          "model_module_version": "1.5.0",
          "state": {
            "_dom_classes": [],
            "_model_module": "@jupyter-widgets/controls",
            "_model_module_version": "1.5.0",
            "_model_name": "HTMLModel",
            "_view_count": null,
            "_view_module": "@jupyter-widgets/controls",
            "_view_module_version": "1.5.0",
            "_view_name": "HTMLView",
            "description": "",
            "description_tooltip": null,
            "layout": "IPY_MODEL_cd78e46a2d00446f8de10eb73882cf7b",
            "placeholder": "​",
            "style": "IPY_MODEL_9aec79e867514ee69cc0d5ba5bd1a232",
            "value": "Downloading builder script: 100%"
          }
        },
        "11acd47de32b42319166f511ca0006a4": {
          "model_module": "@jupyter-widgets/controls",
          "model_name": "FloatProgressModel",
          "model_module_version": "1.5.0",
          "state": {
            "_dom_classes": [],
            "_model_module": "@jupyter-widgets/controls",
            "_model_module_version": "1.5.0",
            "_model_name": "FloatProgressModel",
            "_view_count": null,
            "_view_module": "@jupyter-widgets/controls",
            "_view_module_version": "1.5.0",
            "_view_name": "ProgressView",
            "bar_style": "success",
            "description": "",
            "description_tooltip": null,
            "layout": "IPY_MODEL_b880615c063b45569d023f290a6d4acf",
            "max": 6771,
            "min": 0,
            "orientation": "horizontal",
            "style": "IPY_MODEL_85555f0bebd948258e9b809bb607de29",
            "value": 6771
          }
        },
        "ab46658b806e4d6fb601d9980bf7c7ca": {
          "model_module": "@jupyter-widgets/controls",
          "model_name": "HTMLModel",
          "model_module_version": "1.5.0",
          "state": {
            "_dom_classes": [],
            "_model_module": "@jupyter-widgets/controls",
            "_model_module_version": "1.5.0",
            "_model_name": "HTMLModel",
            "_view_count": null,
            "_view_module": "@jupyter-widgets/controls",
            "_view_module_version": "1.5.0",
            "_view_name": "HTMLView",
            "description": "",
            "description_tooltip": null,
            "layout": "IPY_MODEL_f3782578e7284664a1b075c1b6af22a1",
            "placeholder": "​",
            "style": "IPY_MODEL_62c0c590803d48bc9dffdc0fa573b880",
            "value": " 6.77k/6.77k [00:00&lt;00:00, 404kB/s]"
          }
        },
        "9775942248ed4776be50f3eb79ccaed8": {
          "model_module": "@jupyter-widgets/base",
          "model_name": "LayoutModel",
          "model_module_version": "1.2.0",
          "state": {
            "_model_module": "@jupyter-widgets/base",
            "_model_module_version": "1.2.0",
            "_model_name": "LayoutModel",
            "_view_count": null,
            "_view_module": "@jupyter-widgets/base",
            "_view_module_version": "1.2.0",
            "_view_name": "LayoutView",
            "align_content": null,
            "align_items": null,
            "align_self": null,
            "border": null,
            "bottom": null,
            "display": null,
            "flex": null,
            "flex_flow": null,
            "grid_area": null,
            "grid_auto_columns": null,
            "grid_auto_flow": null,
            "grid_auto_rows": null,
            "grid_column": null,
            "grid_gap": null,
            "grid_row": null,
            "grid_template_areas": null,
            "grid_template_columns": null,
            "grid_template_rows": null,
            "height": null,
            "justify_content": null,
            "justify_items": null,
            "left": null,
            "margin": null,
            "max_height": null,
            "max_width": null,
            "min_height": null,
            "min_width": null,
            "object_fit": null,
            "object_position": null,
            "order": null,
            "overflow": null,
            "overflow_x": null,
            "overflow_y": null,
            "padding": null,
            "right": null,
            "top": null,
            "visibility": null,
            "width": null
          }
        },
        "cd78e46a2d00446f8de10eb73882cf7b": {
          "model_module": "@jupyter-widgets/base",
          "model_name": "LayoutModel",
          "model_module_version": "1.2.0",
          "state": {
            "_model_module": "@jupyter-widgets/base",
            "_model_module_version": "1.2.0",
            "_model_name": "LayoutModel",
            "_view_count": null,
            "_view_module": "@jupyter-widgets/base",
            "_view_module_version": "1.2.0",
            "_view_name": "LayoutView",
            "align_content": null,
            "align_items": null,
            "align_self": null,
            "border": null,
            "bottom": null,
            "display": null,
            "flex": null,
            "flex_flow": null,
            "grid_area": null,
            "grid_auto_columns": null,
            "grid_auto_flow": null,
            "grid_auto_rows": null,
            "grid_column": null,
            "grid_gap": null,
            "grid_row": null,
            "grid_template_areas": null,
            "grid_template_columns": null,
            "grid_template_rows": null,
            "height": null,
            "justify_content": null,
            "justify_items": null,
            "left": null,
            "margin": null,
            "max_height": null,
            "max_width": null,
            "min_height": null,
            "min_width": null,
            "object_fit": null,
            "object_position": null,
            "order": null,
            "overflow": null,
            "overflow_x": null,
            "overflow_y": null,
            "padding": null,
            "right": null,
            "top": null,
            "visibility": null,
            "width": null
          }
        },
        "9aec79e867514ee69cc0d5ba5bd1a232": {
          "model_module": "@jupyter-widgets/controls",
          "model_name": "DescriptionStyleModel",
          "model_module_version": "1.5.0",
          "state": {
            "_model_module": "@jupyter-widgets/controls",
            "_model_module_version": "1.5.0",
            "_model_name": "DescriptionStyleModel",
            "_view_count": null,
            "_view_module": "@jupyter-widgets/base",
            "_view_module_version": "1.2.0",
            "_view_name": "StyleView",
            "description_width": ""
          }
        },
        "b880615c063b45569d023f290a6d4acf": {
          "model_module": "@jupyter-widgets/base",
          "model_name": "LayoutModel",
          "model_module_version": "1.2.0",
          "state": {
            "_model_module": "@jupyter-widgets/base",
            "_model_module_version": "1.2.0",
            "_model_name": "LayoutModel",
            "_view_count": null,
            "_view_module": "@jupyter-widgets/base",
            "_view_module_version": "1.2.0",
            "_view_name": "LayoutView",
            "align_content": null,
            "align_items": null,
            "align_self": null,
            "border": null,
            "bottom": null,
            "display": null,
            "flex": null,
            "flex_flow": null,
            "grid_area": null,
            "grid_auto_columns": null,
            "grid_auto_flow": null,
            "grid_auto_rows": null,
            "grid_column": null,
            "grid_gap": null,
            "grid_row": null,
            "grid_template_areas": null,
            "grid_template_columns": null,
            "grid_template_rows": null,
            "height": null,
            "justify_content": null,
            "justify_items": null,
            "left": null,
            "margin": null,
            "max_height": null,
            "max_width": null,
            "min_height": null,
            "min_width": null,
            "object_fit": null,
            "object_position": null,
            "order": null,
            "overflow": null,
            "overflow_x": null,
            "overflow_y": null,
            "padding": null,
            "right": null,
            "top": null,
            "visibility": null,
            "width": null
          }
        },
        "85555f0bebd948258e9b809bb607de29": {
          "model_module": "@jupyter-widgets/controls",
          "model_name": "ProgressStyleModel",
          "model_module_version": "1.5.0",
          "state": {
            "_model_module": "@jupyter-widgets/controls",
            "_model_module_version": "1.5.0",
            "_model_name": "ProgressStyleModel",
            "_view_count": null,
            "_view_module": "@jupyter-widgets/base",
            "_view_module_version": "1.2.0",
            "_view_name": "StyleView",
            "bar_color": null,
            "description_width": ""
          }
        },
        "f3782578e7284664a1b075c1b6af22a1": {
          "model_module": "@jupyter-widgets/base",
          "model_name": "LayoutModel",
          "model_module_version": "1.2.0",
          "state": {
            "_model_module": "@jupyter-widgets/base",
            "_model_module_version": "1.2.0",
            "_model_name": "LayoutModel",
            "_view_count": null,
            "_view_module": "@jupyter-widgets/base",
            "_view_module_version": "1.2.0",
            "_view_name": "LayoutView",
            "align_content": null,
            "align_items": null,
            "align_self": null,
            "border": null,
            "bottom": null,
            "display": null,
            "flex": null,
            "flex_flow": null,
            "grid_area": null,
            "grid_auto_columns": null,
            "grid_auto_flow": null,
            "grid_auto_rows": null,
            "grid_column": null,
            "grid_gap": null,
            "grid_row": null,
            "grid_template_areas": null,
            "grid_template_columns": null,
            "grid_template_rows": null,
            "height": null,
            "justify_content": null,
            "justify_items": null,
            "left": null,
            "margin": null,
            "max_height": null,
            "max_width": null,
            "min_height": null,
            "min_width": null,
            "object_fit": null,
            "object_position": null,
            "order": null,
            "overflow": null,
            "overflow_x": null,
            "overflow_y": null,
            "padding": null,
            "right": null,
            "top": null,
            "visibility": null,
            "width": null
          }
        },
        "62c0c590803d48bc9dffdc0fa573b880": {
          "model_module": "@jupyter-widgets/controls",
          "model_name": "DescriptionStyleModel",
          "model_module_version": "1.5.0",
          "state": {
            "_model_module": "@jupyter-widgets/controls",
            "_model_module_version": "1.5.0",
            "_model_name": "DescriptionStyleModel",
            "_view_count": null,
            "_view_module": "@jupyter-widgets/base",
            "_view_module_version": "1.2.0",
            "_view_name": "StyleView",
            "description_width": ""
          }
        }
      }
    },
    "accelerator": "GPU"
  },
  "nbformat": 4,
  "nbformat_minor": 0
}